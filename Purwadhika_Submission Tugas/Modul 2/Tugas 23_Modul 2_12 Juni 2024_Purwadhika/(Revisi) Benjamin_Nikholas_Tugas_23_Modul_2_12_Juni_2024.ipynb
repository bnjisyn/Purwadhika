{
 "cells": [
  {
   "cell_type": "markdown",
   "metadata": {},
   "source": [
    "> Benjamin Nikholas\n",
    "\n",
    "> Data Science / JCSDOL-014\n",
    "\n",
    "> Modul 2 - Tugas 23\n",
    "\n",
    "> 12 Juni 2024\n",
    "---\n",
    "---"
   ]
  },
  {
   "cell_type": "code",
   "execution_count": 1,
   "metadata": {},
   "outputs": [],
   "source": [
    "import numpy as np\n",
    "import pandas as pd\n",
    "import matplotlib.pyplot as plt\n",
    "import seaborn as sns"
   ]
  },
  {
   "cell_type": "markdown",
   "metadata": {},
   "source": [
    "1. Load dataset all_cars.csv yang telah Anda buat, simpan dalam variabel bernama ‘df_car’. \n",
    "* Jika ada kolom bernama 'Unnamed: 0', ubah nama kolom tersebut menjadi 'id'! \n",
    "* Jika tidak ada, lakukan reset index. Kemudian kolom paling kiri bernama 'index' ubah menjadi \n",
    "'id'! "
   ]
  },
  {
   "cell_type": "code",
   "execution_count": 2,
   "metadata": {},
   "outputs": [
    {
     "data": {
      "text/html": [
       "<div>\n",
       "<style scoped>\n",
       "    .dataframe tbody tr th:only-of-type {\n",
       "        vertical-align: middle;\n",
       "    }\n",
       "\n",
       "    .dataframe tbody tr th {\n",
       "        vertical-align: top;\n",
       "    }\n",
       "\n",
       "    .dataframe thead th {\n",
       "        text-align: right;\n",
       "    }\n",
       "</style>\n",
       "<table border=\"1\" class=\"dataframe\">\n",
       "  <thead>\n",
       "    <tr style=\"text-align: right;\">\n",
       "      <th></th>\n",
       "      <th>Unnamed: 0</th>\n",
       "      <th>model</th>\n",
       "      <th>year</th>\n",
       "      <th>price</th>\n",
       "      <th>transmission</th>\n",
       "      <th>mileage</th>\n",
       "      <th>fuelType</th>\n",
       "      <th>tax</th>\n",
       "      <th>mpg</th>\n",
       "      <th>engineSize</th>\n",
       "      <th>Brand</th>\n",
       "    </tr>\n",
       "  </thead>\n",
       "  <tbody>\n",
       "    <tr>\n",
       "      <th>0</th>\n",
       "      <td>0</td>\n",
       "      <td>A1</td>\n",
       "      <td>2017</td>\n",
       "      <td>12500</td>\n",
       "      <td>Manual</td>\n",
       "      <td>15735</td>\n",
       "      <td>Petrol</td>\n",
       "      <td>150</td>\n",
       "      <td>55.4</td>\n",
       "      <td>1.4</td>\n",
       "      <td>Audi</td>\n",
       "    </tr>\n",
       "    <tr>\n",
       "      <th>1</th>\n",
       "      <td>1</td>\n",
       "      <td>A6</td>\n",
       "      <td>2016</td>\n",
       "      <td>16500</td>\n",
       "      <td>Automatic</td>\n",
       "      <td>36203</td>\n",
       "      <td>Diesel</td>\n",
       "      <td>20</td>\n",
       "      <td>64.2</td>\n",
       "      <td>2.0</td>\n",
       "      <td>Audi</td>\n",
       "    </tr>\n",
       "    <tr>\n",
       "      <th>2</th>\n",
       "      <td>2</td>\n",
       "      <td>A1</td>\n",
       "      <td>2016</td>\n",
       "      <td>11000</td>\n",
       "      <td>Manual</td>\n",
       "      <td>29946</td>\n",
       "      <td>Petrol</td>\n",
       "      <td>30</td>\n",
       "      <td>55.4</td>\n",
       "      <td>1.4</td>\n",
       "      <td>Audi</td>\n",
       "    </tr>\n",
       "    <tr>\n",
       "      <th>3</th>\n",
       "      <td>3</td>\n",
       "      <td>A4</td>\n",
       "      <td>2017</td>\n",
       "      <td>16800</td>\n",
       "      <td>Automatic</td>\n",
       "      <td>25952</td>\n",
       "      <td>Diesel</td>\n",
       "      <td>145</td>\n",
       "      <td>67.3</td>\n",
       "      <td>2.0</td>\n",
       "      <td>Audi</td>\n",
       "    </tr>\n",
       "    <tr>\n",
       "      <th>4</th>\n",
       "      <td>4</td>\n",
       "      <td>A3</td>\n",
       "      <td>2019</td>\n",
       "      <td>17300</td>\n",
       "      <td>Manual</td>\n",
       "      <td>1998</td>\n",
       "      <td>Petrol</td>\n",
       "      <td>145</td>\n",
       "      <td>49.6</td>\n",
       "      <td>1.0</td>\n",
       "      <td>Audi</td>\n",
       "    </tr>\n",
       "  </tbody>\n",
       "</table>\n",
       "</div>"
      ],
      "text/plain": [
       "   Unnamed: 0 model  year  price transmission  mileage fuelType  tax   mpg  \\\n",
       "0           0    A1  2017  12500       Manual    15735   Petrol  150  55.4   \n",
       "1           1    A6  2016  16500    Automatic    36203   Diesel   20  64.2   \n",
       "2           2    A1  2016  11000       Manual    29946   Petrol   30  55.4   \n",
       "3           3    A4  2017  16800    Automatic    25952   Diesel  145  67.3   \n",
       "4           4    A3  2019  17300       Manual     1998   Petrol  145  49.6   \n",
       "\n",
       "   engineSize Brand  \n",
       "0         1.4  Audi  \n",
       "1         2.0  Audi  \n",
       "2         1.4  Audi  \n",
       "3         2.0  Audi  \n",
       "4         1.0  Audi  "
      ]
     },
     "execution_count": 2,
     "metadata": {},
     "output_type": "execute_result"
    }
   ],
   "source": [
    "df_car = pd.read_csv('all_cars.csv')\n",
    "df_car.head()"
   ]
  },
  {
   "cell_type": "code",
   "execution_count": 3,
   "metadata": {},
   "outputs": [
    {
     "data": {
      "text/html": [
       "<div>\n",
       "<style scoped>\n",
       "    .dataframe tbody tr th:only-of-type {\n",
       "        vertical-align: middle;\n",
       "    }\n",
       "\n",
       "    .dataframe tbody tr th {\n",
       "        vertical-align: top;\n",
       "    }\n",
       "\n",
       "    .dataframe thead th {\n",
       "        text-align: right;\n",
       "    }\n",
       "</style>\n",
       "<table border=\"1\" class=\"dataframe\">\n",
       "  <thead>\n",
       "    <tr style=\"text-align: right;\">\n",
       "      <th></th>\n",
       "      <th>id</th>\n",
       "      <th>model</th>\n",
       "      <th>year</th>\n",
       "      <th>price</th>\n",
       "      <th>transmission</th>\n",
       "      <th>mileage</th>\n",
       "      <th>fuelType</th>\n",
       "      <th>tax</th>\n",
       "      <th>mpg</th>\n",
       "      <th>engineSize</th>\n",
       "      <th>Brand</th>\n",
       "    </tr>\n",
       "  </thead>\n",
       "  <tbody>\n",
       "    <tr>\n",
       "      <th>0</th>\n",
       "      <td>0</td>\n",
       "      <td>A1</td>\n",
       "      <td>2017</td>\n",
       "      <td>12500</td>\n",
       "      <td>Manual</td>\n",
       "      <td>15735</td>\n",
       "      <td>Petrol</td>\n",
       "      <td>150</td>\n",
       "      <td>55.4</td>\n",
       "      <td>1.4</td>\n",
       "      <td>Audi</td>\n",
       "    </tr>\n",
       "    <tr>\n",
       "      <th>1</th>\n",
       "      <td>1</td>\n",
       "      <td>A6</td>\n",
       "      <td>2016</td>\n",
       "      <td>16500</td>\n",
       "      <td>Automatic</td>\n",
       "      <td>36203</td>\n",
       "      <td>Diesel</td>\n",
       "      <td>20</td>\n",
       "      <td>64.2</td>\n",
       "      <td>2.0</td>\n",
       "      <td>Audi</td>\n",
       "    </tr>\n",
       "    <tr>\n",
       "      <th>2</th>\n",
       "      <td>2</td>\n",
       "      <td>A1</td>\n",
       "      <td>2016</td>\n",
       "      <td>11000</td>\n",
       "      <td>Manual</td>\n",
       "      <td>29946</td>\n",
       "      <td>Petrol</td>\n",
       "      <td>30</td>\n",
       "      <td>55.4</td>\n",
       "      <td>1.4</td>\n",
       "      <td>Audi</td>\n",
       "    </tr>\n",
       "    <tr>\n",
       "      <th>3</th>\n",
       "      <td>3</td>\n",
       "      <td>A4</td>\n",
       "      <td>2017</td>\n",
       "      <td>16800</td>\n",
       "      <td>Automatic</td>\n",
       "      <td>25952</td>\n",
       "      <td>Diesel</td>\n",
       "      <td>145</td>\n",
       "      <td>67.3</td>\n",
       "      <td>2.0</td>\n",
       "      <td>Audi</td>\n",
       "    </tr>\n",
       "    <tr>\n",
       "      <th>4</th>\n",
       "      <td>4</td>\n",
       "      <td>A3</td>\n",
       "      <td>2019</td>\n",
       "      <td>17300</td>\n",
       "      <td>Manual</td>\n",
       "      <td>1998</td>\n",
       "      <td>Petrol</td>\n",
       "      <td>145</td>\n",
       "      <td>49.6</td>\n",
       "      <td>1.0</td>\n",
       "      <td>Audi</td>\n",
       "    </tr>\n",
       "  </tbody>\n",
       "</table>\n",
       "</div>"
      ],
      "text/plain": [
       "   id model  year  price transmission  mileage fuelType  tax   mpg  \\\n",
       "0   0    A1  2017  12500       Manual    15735   Petrol  150  55.4   \n",
       "1   1    A6  2016  16500    Automatic    36203   Diesel   20  64.2   \n",
       "2   2    A1  2016  11000       Manual    29946   Petrol   30  55.4   \n",
       "3   3    A4  2017  16800    Automatic    25952   Diesel  145  67.3   \n",
       "4   4    A3  2019  17300       Manual     1998   Petrol  145  49.6   \n",
       "\n",
       "   engineSize Brand  \n",
       "0         1.4  Audi  \n",
       "1         2.0  Audi  \n",
       "2         1.4  Audi  \n",
       "3         2.0  Audi  \n",
       "4         1.0  Audi  "
      ]
     },
     "execution_count": 3,
     "metadata": {},
     "output_type": "execute_result"
    }
   ],
   "source": [
    "df_car.rename(columns = {'Unnamed: 0': 'id'},\n",
    "              inplace = True)\n",
    "df_car.head()"
   ]
  },
  {
   "cell_type": "markdown",
   "metadata": {},
   "source": [
    "2. Tampilkan deskripsi statistik dari dataset df_car. "
   ]
  },
  {
   "cell_type": "code",
   "execution_count": 4,
   "metadata": {},
   "outputs": [
    {
     "data": {
      "text/html": [
       "<div>\n",
       "<style scoped>\n",
       "    .dataframe tbody tr th:only-of-type {\n",
       "        vertical-align: middle;\n",
       "    }\n",
       "\n",
       "    .dataframe tbody tr th {\n",
       "        vertical-align: top;\n",
       "    }\n",
       "\n",
       "    .dataframe thead th {\n",
       "        text-align: right;\n",
       "    }\n",
       "</style>\n",
       "<table border=\"1\" class=\"dataframe\">\n",
       "  <thead>\n",
       "    <tr style=\"text-align: right;\">\n",
       "      <th></th>\n",
       "      <th>id</th>\n",
       "      <th>year</th>\n",
       "      <th>price</th>\n",
       "      <th>mileage</th>\n",
       "      <th>tax</th>\n",
       "      <th>mpg</th>\n",
       "      <th>engineSize</th>\n",
       "    </tr>\n",
       "  </thead>\n",
       "  <tbody>\n",
       "    <tr>\n",
       "      <th>count</th>\n",
       "      <td>22266.000000</td>\n",
       "      <td>22266.000000</td>\n",
       "      <td>22266.000000</td>\n",
       "      <td>22266.000000</td>\n",
       "      <td>22266.000000</td>\n",
       "      <td>22266.000000</td>\n",
       "      <td>22266.000000</td>\n",
       "    </tr>\n",
       "    <tr>\n",
       "      <th>mean</th>\n",
       "      <td>11132.500000</td>\n",
       "      <td>2016.995509</td>\n",
       "      <td>17542.591575</td>\n",
       "      <td>23501.863604</td>\n",
       "      <td>115.473592</td>\n",
       "      <td>55.151181</td>\n",
       "      <td>1.688489</td>\n",
       "    </tr>\n",
       "    <tr>\n",
       "      <th>std</th>\n",
       "      <td>6427.784883</td>\n",
       "      <td>2.133576</td>\n",
       "      <td>10589.835312</td>\n",
       "      <td>21111.157417</td>\n",
       "      <td>68.835239</td>\n",
       "      <td>14.834181</td>\n",
       "      <td>0.566379</td>\n",
       "    </tr>\n",
       "    <tr>\n",
       "      <th>min</th>\n",
       "      <td>0.000000</td>\n",
       "      <td>1997.000000</td>\n",
       "      <td>850.000000</td>\n",
       "      <td>1.000000</td>\n",
       "      <td>0.000000</td>\n",
       "      <td>1.100000</td>\n",
       "      <td>0.000000</td>\n",
       "    </tr>\n",
       "    <tr>\n",
       "      <th>25%</th>\n",
       "      <td>5566.250000</td>\n",
       "      <td>2016.000000</td>\n",
       "      <td>9999.000000</td>\n",
       "      <td>7200.000000</td>\n",
       "      <td>30.000000</td>\n",
       "      <td>44.800000</td>\n",
       "      <td>1.400000</td>\n",
       "    </tr>\n",
       "    <tr>\n",
       "      <th>50%</th>\n",
       "      <td>11132.500000</td>\n",
       "      <td>2017.000000</td>\n",
       "      <td>14999.000000</td>\n",
       "      <td>18354.000000</td>\n",
       "      <td>145.000000</td>\n",
       "      <td>55.400000</td>\n",
       "      <td>1.600000</td>\n",
       "    </tr>\n",
       "    <tr>\n",
       "      <th>75%</th>\n",
       "      <td>16698.750000</td>\n",
       "      <td>2019.000000</td>\n",
       "      <td>21991.000000</td>\n",
       "      <td>33100.750000</td>\n",
       "      <td>145.000000</td>\n",
       "      <td>62.800000</td>\n",
       "      <td>2.000000</td>\n",
       "    </tr>\n",
       "    <tr>\n",
       "      <th>max</th>\n",
       "      <td>22265.000000</td>\n",
       "      <td>2020.000000</td>\n",
       "      <td>145000.000000</td>\n",
       "      <td>323000.000000</td>\n",
       "      <td>580.000000</td>\n",
       "      <td>256.800000</td>\n",
       "      <td>6.300000</td>\n",
       "    </tr>\n",
       "  </tbody>\n",
       "</table>\n",
       "</div>"
      ],
      "text/plain": [
       "                 id          year          price        mileage           tax  \\\n",
       "count  22266.000000  22266.000000   22266.000000   22266.000000  22266.000000   \n",
       "mean   11132.500000   2016.995509   17542.591575   23501.863604    115.473592   \n",
       "std     6427.784883      2.133576   10589.835312   21111.157417     68.835239   \n",
       "min        0.000000   1997.000000     850.000000       1.000000      0.000000   \n",
       "25%     5566.250000   2016.000000    9999.000000    7200.000000     30.000000   \n",
       "50%    11132.500000   2017.000000   14999.000000   18354.000000    145.000000   \n",
       "75%    16698.750000   2019.000000   21991.000000   33100.750000    145.000000   \n",
       "max    22265.000000   2020.000000  145000.000000  323000.000000    580.000000   \n",
       "\n",
       "                mpg    engineSize  \n",
       "count  22266.000000  22266.000000  \n",
       "mean      55.151181      1.688489  \n",
       "std       14.834181      0.566379  \n",
       "min        1.100000      0.000000  \n",
       "25%       44.800000      1.400000  \n",
       "50%       55.400000      1.600000  \n",
       "75%       62.800000      2.000000  \n",
       "max      256.800000      6.300000  "
      ]
     },
     "execution_count": 4,
     "metadata": {},
     "output_type": "execute_result"
    }
   ],
   "source": [
    "df_car.describe()"
   ]
  },
  {
   "cell_type": "code",
   "execution_count": 5,
   "metadata": {},
   "outputs": [
    {
     "name": "stdout",
     "output_type": "stream",
     "text": [
      "<class 'pandas.core.frame.DataFrame'>\n",
      "RangeIndex: 22266 entries, 0 to 22265\n",
      "Data columns (total 11 columns):\n",
      " #   Column        Non-Null Count  Dtype  \n",
      "---  ------        --------------  -----  \n",
      " 0   id            22266 non-null  int64  \n",
      " 1   model         22266 non-null  object \n",
      " 2   year          22266 non-null  int64  \n",
      " 3   price         22266 non-null  int64  \n",
      " 4   transmission  22266 non-null  object \n",
      " 5   mileage       22266 non-null  int64  \n",
      " 6   fuelType      22266 non-null  object \n",
      " 7   tax           22266 non-null  int64  \n",
      " 8   mpg           22266 non-null  float64\n",
      " 9   engineSize    22266 non-null  float64\n",
      " 10  Brand         22266 non-null  object \n",
      "dtypes: float64(2), int64(5), object(4)\n",
      "memory usage: 1.9+ MB\n"
     ]
    }
   ],
   "source": [
    "df_car.info()"
   ]
  },
  {
   "cell_type": "markdown",
   "metadata": {},
   "source": [
    "3. Kita mengenal bahwa Variabel dibagi menjadi 2, yaitu variabel Kualitatif dan Kuantitatif. \n",
    "* Var. Kualitatif dibagi menjadi 2, yaitu: Nominal dan Ordinal \n",
    "* Var. Kualitatif dibagi menjadi 2, yaitu: Continue dan Discrete \n",
    "* Kolom mana saja yang menurut Anda merupakan var. kualitatif? Mana yang Nominal dan \n",
    "Ordinal? \n",
    "* Kolom mana saja yang menurut Anda merupakan var. kuantitatif? Mana yang Continue dan\n",
    "Discrete?"
   ]
  },
  {
   "cell_type": "code",
   "execution_count": 19,
   "metadata": {},
   "outputs": [
    {
     "name": "stdout",
     "output_type": "stream",
     "text": [
      "Kolom kualitatif : ['model' 'transmission' 'fuelType' 'Brand']\n",
      "Kolom kuantitatif : ['id' 'year' 'price' 'mileage' 'tax' 'mpg' 'engineSize']\n",
      "Kolom Nominal : Brand, model, transmission, fuelType\n",
      "Kolom Ordinal : -\n",
      "Kolom Kontinu : year, mileage, mpg, engineSize\n",
      "Kolom Diskrit : price, tax\n"
     ]
    }
   ],
   "source": [
    "quantitative = df_car.select_dtypes(include = [int, float]).columns.values\n",
    "qualitative = df_car.select_dtypes(exclude = [int, float]).columns.values\n",
    "\n",
    "print(f'Kolom kualitatif : {qualitative}')\n",
    "print(f'Kolom kuantitatif : {quantitative}')\n",
    "\n",
    "print(f'Kolom Nominal : Brand, model, transmission, fuelType')\n",
    "print(f'Kolom Ordinal : -')\n",
    "print(f'Kolom Kontinu : year, mileage, mpg, engineSize')\n",
    "print(f'Kolom Diskrit : price, tax')"
   ]
  },
  {
   "cell_type": "markdown",
   "metadata": {},
   "source": [
    "4. Apa yg dimaksud dengan Measure of Central Tendency? Tampilkan Measure of Central Tendency dari \n",
    "kolom 'model' dan 'price'! Central Tendency apa yang cocok untuk kolom 'model' dan 'price'? "
   ]
  },
  {
   "cell_type": "code",
   "execution_count": 34,
   "metadata": {},
   "outputs": [
    {
     "name": "stdout",
     "output_type": "stream",
     "text": [
      "Modulus kolom model     : Yaris\n",
      "Rata - rata kolom price : 17542.591574598042\n"
     ]
    }
   ],
   "source": [
    "# Model : mode\n",
    "print(f'Modulus kolom model     : {df_car.model.mode().values[0]}')\n",
    "\n",
    "# Price : mean\n",
    "print(f'Rata - rata kolom price : {df_car.price.mean()}')"
   ]
  },
  {
   "cell_type": "markdown",
   "metadata": {},
   "source": [
    "5. Apa yang dimaksud dengan Measure of Spread? Tampilkan Measure of Spread dari kolom 'price'!"
   ]
  },
  {
   "cell_type": "code",
   "execution_count": 28,
   "metadata": {},
   "outputs": [
    {
     "data": {
      "text/plain": [
       "112144611.93109271"
      ]
     },
     "execution_count": 28,
     "metadata": {},
     "output_type": "execute_result"
    }
   ],
   "source": [
    "df_car.price.var()"
   ]
  },
  {
   "cell_type": "markdown",
   "metadata": {},
   "source": [
    "6. Apakah ada Outlier pada kolom 'price'? Kalau ada, berapa banyak data yang merupakan outliers?"
   ]
  },
  {
   "cell_type": "code",
   "execution_count": 30,
   "metadata": {},
   "outputs": [
    {
     "name": "stdout",
     "output_type": "stream",
     "text": [
      "Banyak data outliers pada kolom price : 808\n"
     ]
    }
   ],
   "source": [
    "Q1 = df_car.price.quantile(0.25)\n",
    "Q3 = df_car.price.quantile(0.75)\n",
    "IQR = Q3 - Q1\n",
    "\n",
    "lower_bound = Q1 - 1.5 * IQR\n",
    "upper_bound = Q3 + 1.5 * IQR\n",
    "\n",
    "outliers = df_car.price[((df_car.price < lower_bound) | (df_car.price > upper_bound))]\n",
    "\n",
    "print(f'Banyak data outliers pada kolom price : {len(outliers)}')"
   ]
  },
  {
   "cell_type": "markdown",
   "metadata": {},
   "source": [
    "7. Variabel/kolom apa saja yang memiliki distribusi skewed ke kanan? "
   ]
  },
  {
   "cell_type": "code",
   "execution_count": 42,
   "metadata": {},
   "outputs": [
    {
     "name": "stdout",
     "output_type": "stream",
     "text": [
      "Kolom yang memiliki distribusi skewed ke kanan: ['price' 'mileage' 'tax' 'mpg' 'engineSize']\n"
     ]
    }
   ],
   "source": [
    "num_cols = df_car.select_dtypes(include=['int', 'float']).columns.tolist()\n",
    "skewness = df_car[num_cols].skew()\n",
    "\n",
    "skewed_right_columns = skewness[skewness > 0].index.tolist()\n",
    "\n",
    "print(f'Kolom yang memiliki distribusi skewed ke kanan: {np.array(skewed_right_columns).flatten()}')"
   ]
  },
  {
   "cell_type": "markdown",
   "metadata": {},
   "source": [
    "8. Grafik apa yang cocok untuk menampilkan visualisasi: \n",
    "* brand vs price \n",
    "* price vs mileage \n",
    "* frequency distribution of mileage "
   ]
  },
  {
   "cell_type": "code",
   "execution_count": 20,
   "metadata": {},
   "outputs": [
    {
     "data": {
      "image/png": "[encoded data removed]",
      "text/plain": [
       "<Figure size 720x432 with 1 Axes>"
      ]
     },
     "metadata": {
      "needs_background": "light"
     },
     "output_type": "display_data"
    }
   ],
   "source": [
    "# Brand vs Price : Bar Plot\n",
    "\n",
    "plt.figure(figsize=(10, 6))\n",
    "sns.barplot(x = 'Brand', y = 'price', \n",
    "            data = df_car)\n",
    "plt.title('Brand and Price Graphic')\n",
    "plt.xlabel('Brand')\n",
    "plt.ylabel('Price')\n",
    "plt.show()"
   ]
  },
  {
   "cell_type": "code",
   "execution_count": 51,
   "metadata": {},
   "outputs": [
    {
     "data": {
      "image/png": "[encoded data removed]",
      "text/plain": [
       "<Figure size 576x432 with 1 Axes>"
      ]
     },
     "metadata": {
      "needs_background": "light"
     },
     "output_type": "display_data"
    }
   ],
   "source": [
    "# Price vs Mileage Graphic : Scatter Plot\n",
    "\n",
    "plt.figure(figsize=(8, 6))\n",
    "sns.scatterplot(x = 'price', y = 'mileage', \n",
    "                data = df_car)\n",
    "plt.title('Price and Mileage Graphic')\n",
    "plt.xlabel('Price')\n",
    "plt.ylabel('Mileage')\n",
    "plt.show()"
   ]
  },
  {
   "cell_type": "code",
   "execution_count": 61,
   "metadata": {},
   "outputs": [
    {
     "data": {
      "image/png": "[encoded data removed]",
      "text/plain": [
       "<Figure size 576x432 with 1 Axes>"
      ]
     },
     "metadata": {
      "needs_background": "light"
     },
     "output_type": "display_data"
    }
   ],
   "source": [
    "# Frequency Distribution of Mileage : Histogram\n",
    "\n",
    "plt.figure(figsize=(8, 6))\n",
    "plt.hist(df_car.mileage, bins = 5)\n",
    "plt.title('Frequency Distribution of Mileage')\n",
    "plt.xlabel('Mileage')\n",
    "plt.ylabel('Frequency')\n",
    "plt.show()"
   ]
  }
 ],
 "metadata": {
  "kernelspec": {
   "display_name": "Python 3 (ipykernel)",
   "language": "python",
   "name": "python3"
  },
  "language_info": {
   "codemirror_mode": {
    "name": "ipython",
    "version": 3
   },
   "file_extension": ".py",
   "mimetype": "text/x-python",
   "name": "python",
   "nbconvert_exporter": "python",
   "pygments_lexer": "ipython3",
   "version": "3.10.11"
  },
  "vscode": {
   "interpreter": {
    "hash": "26d83cb9ebc769f8a392797c85547e3220df367d4f886ed011b3f771d6a84444"
   }
  }
 },
 "nbformat": 4,
 "nbformat_minor": 4
}
