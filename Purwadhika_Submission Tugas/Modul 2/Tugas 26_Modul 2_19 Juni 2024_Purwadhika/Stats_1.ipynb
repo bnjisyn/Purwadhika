{
 "cells": [
  {
   "cell_type": "markdown",
   "id": "bf75023e-fa9d-4faf-8b17-ac1e0b6b25bb",
   "metadata": {},
   "source": [
    "## Korelasi\n",
    " Range : -1 -- 1\n",
    " + (+): A & B Berarti Berkorelasi Positif ==> Jika nilai A naik, nilai B juga naik, jika nilai A turun, nilai B juga turun\n",
    " - (-): C & D Berarti berkorelasi Negatif ==> Berbanding terbalik ==> Jika nilai A naik, nilai B turun gitu juga sebaliknya\n",
    " \n",
    " Pearson ==> Parametrik ==> distribusi normal\n",
    " \n",
    " Spearman ==> Non Parametrik ==> Distribusi tidak normal\n",
    " \n",
    " \n",
    " ## Cara Pake\n",
    " df.corr('spearman')\n",
    " df.corr('pearson')"
   ]
  },
  {
   "cell_type": "code",
   "execution_count": 1,
   "id": "3283217c-5b7f-4f6f-bdd4-b97b7086bd06",
   "metadata": {
    "tags": []
   },
   "outputs": [],
   "source": [
    "import numpy as np\n",
    "import pandas as pd"
   ]
  },
  {
   "cell_type": "code",
   "execution_count": 2,
   "id": "4e059665-6c43-49a5-8adf-07bd792b8e83",
   "metadata": {
    "tags": []
   },
   "outputs": [],
   "source": [
    "df = pd.read_csv('digimon.csv')"
   ]
  },
  {
   "cell_type": "code",
   "execution_count": 3,
   "id": "23101102-25ef-43fd-b178-0950c21c6332",
   "metadata": {
    "tags": []
   },
   "outputs": [
    {
     "data": {
      "text/html": [
       "<div>\n",
       "<style scoped>\n",
       "    .dataframe tbody tr th:only-of-type {\n",
       "        vertical-align: middle;\n",
       "    }\n",
       "\n",
       "    .dataframe tbody tr th {\n",
       "        vertical-align: top;\n",
       "    }\n",
       "\n",
       "    .dataframe thead th {\n",
       "        text-align: right;\n",
       "    }\n",
       "</style>\n",
       "<table border=\"1\" class=\"dataframe\">\n",
       "  <thead>\n",
       "    <tr style=\"text-align: right;\">\n",
       "      <th></th>\n",
       "      <th>#</th>\n",
       "      <th>Digimon</th>\n",
       "      <th>Stage</th>\n",
       "      <th>Type</th>\n",
       "      <th>Attribute</th>\n",
       "      <th>Memory</th>\n",
       "      <th>Equip Slots</th>\n",
       "      <th>HP</th>\n",
       "      <th>SP</th>\n",
       "      <th>Atk</th>\n",
       "      <th>Def</th>\n",
       "      <th>Int</th>\n",
       "      <th>Spd</th>\n",
       "    </tr>\n",
       "  </thead>\n",
       "  <tbody>\n",
       "    <tr>\n",
       "      <th>0</th>\n",
       "      <td>1</td>\n",
       "      <td>Kuramon</td>\n",
       "      <td>Baby</td>\n",
       "      <td>Free</td>\n",
       "      <td>Neutral</td>\n",
       "      <td>2</td>\n",
       "      <td>0</td>\n",
       "      <td>590</td>\n",
       "      <td>77</td>\n",
       "      <td>79</td>\n",
       "      <td>69</td>\n",
       "      <td>68</td>\n",
       "      <td>95</td>\n",
       "    </tr>\n",
       "    <tr>\n",
       "      <th>1</th>\n",
       "      <td>2</td>\n",
       "      <td>Pabumon</td>\n",
       "      <td>Baby</td>\n",
       "      <td>Free</td>\n",
       "      <td>Neutral</td>\n",
       "      <td>2</td>\n",
       "      <td>0</td>\n",
       "      <td>950</td>\n",
       "      <td>62</td>\n",
       "      <td>76</td>\n",
       "      <td>76</td>\n",
       "      <td>69</td>\n",
       "      <td>68</td>\n",
       "    </tr>\n",
       "    <tr>\n",
       "      <th>2</th>\n",
       "      <td>3</td>\n",
       "      <td>Punimon</td>\n",
       "      <td>Baby</td>\n",
       "      <td>Free</td>\n",
       "      <td>Neutral</td>\n",
       "      <td>2</td>\n",
       "      <td>0</td>\n",
       "      <td>870</td>\n",
       "      <td>50</td>\n",
       "      <td>97</td>\n",
       "      <td>87</td>\n",
       "      <td>50</td>\n",
       "      <td>75</td>\n",
       "    </tr>\n",
       "    <tr>\n",
       "      <th>3</th>\n",
       "      <td>4</td>\n",
       "      <td>Botamon</td>\n",
       "      <td>Baby</td>\n",
       "      <td>Free</td>\n",
       "      <td>Neutral</td>\n",
       "      <td>2</td>\n",
       "      <td>0</td>\n",
       "      <td>690</td>\n",
       "      <td>68</td>\n",
       "      <td>77</td>\n",
       "      <td>95</td>\n",
       "      <td>76</td>\n",
       "      <td>61</td>\n",
       "    </tr>\n",
       "    <tr>\n",
       "      <th>4</th>\n",
       "      <td>5</td>\n",
       "      <td>Poyomon</td>\n",
       "      <td>Baby</td>\n",
       "      <td>Free</td>\n",
       "      <td>Neutral</td>\n",
       "      <td>2</td>\n",
       "      <td>0</td>\n",
       "      <td>540</td>\n",
       "      <td>98</td>\n",
       "      <td>54</td>\n",
       "      <td>59</td>\n",
       "      <td>95</td>\n",
       "      <td>86</td>\n",
       "    </tr>\n",
       "  </tbody>\n",
       "</table>\n",
       "</div>"
      ],
      "text/plain": [
       "   #  Digimon Stage  Type Attribute  Memory  Equip Slots   HP  SP  Atk  Def  \\\n",
       "0  1  Kuramon  Baby  Free   Neutral       2            0  590  77   79   69   \n",
       "1  2  Pabumon  Baby  Free   Neutral       2            0  950  62   76   76   \n",
       "2  3  Punimon  Baby  Free   Neutral       2            0  870  50   97   87   \n",
       "3  4  Botamon  Baby  Free   Neutral       2            0  690  68   77   95   \n",
       "4  5  Poyomon  Baby  Free   Neutral       2            0  540  98   54   59   \n",
       "\n",
       "   Int  Spd  \n",
       "0   68   95  \n",
       "1   69   68  \n",
       "2   50   75  \n",
       "3   76   61  \n",
       "4   95   86  "
      ]
     },
     "execution_count": 3,
     "metadata": {},
     "output_type": "execute_result"
    }
   ],
   "source": [
    "df.head()"
   ]
  },
  {
   "cell_type": "code",
   "execution_count": 4,
   "id": "5a8aff69-20d9-4d6e-9993-7016f8e38cb1",
   "metadata": {
    "tags": []
   },
   "outputs": [],
   "source": [
    "## Korelasi"
   ]
  },
  {
   "cell_type": "code",
   "execution_count": 7,
   "id": "81528a62-50ff-462b-8384-f3b108aad11c",
   "metadata": {
    "tags": []
   },
   "outputs": [
    {
     "data": {
      "text/html": [
       "<div>\n",
       "<style scoped>\n",
       "    .dataframe tbody tr th:only-of-type {\n",
       "        vertical-align: middle;\n",
       "    }\n",
       "\n",
       "    .dataframe tbody tr th {\n",
       "        vertical-align: top;\n",
       "    }\n",
       "\n",
       "    .dataframe thead th {\n",
       "        text-align: right;\n",
       "    }\n",
       "</style>\n",
       "<table border=\"1\" class=\"dataframe\">\n",
       "  <thead>\n",
       "    <tr style=\"text-align: right;\">\n",
       "      <th></th>\n",
       "      <th>#</th>\n",
       "      <th>Memory</th>\n",
       "      <th>Equip Slots</th>\n",
       "      <th>HP</th>\n",
       "      <th>SP</th>\n",
       "      <th>Atk</th>\n",
       "      <th>Def</th>\n",
       "      <th>Int</th>\n",
       "      <th>Spd</th>\n",
       "    </tr>\n",
       "  </thead>\n",
       "  <tbody>\n",
       "    <tr>\n",
       "      <th>#</th>\n",
       "      <td>1.000000</td>\n",
       "      <td>0.825180</td>\n",
       "      <td>0.543364</td>\n",
       "      <td>0.545551</td>\n",
       "      <td>0.562892</td>\n",
       "      <td>0.521803</td>\n",
       "      <td>0.250239</td>\n",
       "      <td>0.508848</td>\n",
       "      <td>0.717900</td>\n",
       "    </tr>\n",
       "    <tr>\n",
       "      <th>Memory</th>\n",
       "      <td>0.825180</td>\n",
       "      <td>1.000000</td>\n",
       "      <td>0.505906</td>\n",
       "      <td>0.658870</td>\n",
       "      <td>0.631727</td>\n",
       "      <td>0.631999</td>\n",
       "      <td>0.236781</td>\n",
       "      <td>0.581734</td>\n",
       "      <td>0.797212</td>\n",
       "    </tr>\n",
       "    <tr>\n",
       "      <th>Equip Slots</th>\n",
       "      <td>0.543364</td>\n",
       "      <td>0.505906</td>\n",
       "      <td>1.000000</td>\n",
       "      <td>0.393107</td>\n",
       "      <td>0.397976</td>\n",
       "      <td>0.318914</td>\n",
       "      <td>0.231671</td>\n",
       "      <td>0.361557</td>\n",
       "      <td>0.445772</td>\n",
       "    </tr>\n",
       "    <tr>\n",
       "      <th>HP</th>\n",
       "      <td>0.545551</td>\n",
       "      <td>0.658870</td>\n",
       "      <td>0.393107</td>\n",
       "      <td>1.000000</td>\n",
       "      <td>0.110453</td>\n",
       "      <td>0.615918</td>\n",
       "      <td>0.062828</td>\n",
       "      <td>0.111591</td>\n",
       "      <td>0.356231</td>\n",
       "    </tr>\n",
       "    <tr>\n",
       "      <th>SP</th>\n",
       "      <td>0.562892</td>\n",
       "      <td>0.631727</td>\n",
       "      <td>0.397976</td>\n",
       "      <td>0.110453</td>\n",
       "      <td>1.000000</td>\n",
       "      <td>-0.104073</td>\n",
       "      <td>0.077508</td>\n",
       "      <td>0.884666</td>\n",
       "      <td>0.618066</td>\n",
       "    </tr>\n",
       "    <tr>\n",
       "      <th>Atk</th>\n",
       "      <td>0.521803</td>\n",
       "      <td>0.631999</td>\n",
       "      <td>0.318914</td>\n",
       "      <td>0.615918</td>\n",
       "      <td>-0.104073</td>\n",
       "      <td>1.000000</td>\n",
       "      <td>0.129504</td>\n",
       "      <td>-0.138584</td>\n",
       "      <td>0.524367</td>\n",
       "    </tr>\n",
       "    <tr>\n",
       "      <th>Def</th>\n",
       "      <td>0.250239</td>\n",
       "      <td>0.236781</td>\n",
       "      <td>0.231671</td>\n",
       "      <td>0.062828</td>\n",
       "      <td>0.077508</td>\n",
       "      <td>0.129504</td>\n",
       "      <td>1.000000</td>\n",
       "      <td>-0.038404</td>\n",
       "      <td>0.092386</td>\n",
       "    </tr>\n",
       "    <tr>\n",
       "      <th>Int</th>\n",
       "      <td>0.508848</td>\n",
       "      <td>0.581734</td>\n",
       "      <td>0.361557</td>\n",
       "      <td>0.111591</td>\n",
       "      <td>0.884666</td>\n",
       "      <td>-0.138584</td>\n",
       "      <td>-0.038404</td>\n",
       "      <td>1.000000</td>\n",
       "      <td>0.453733</td>\n",
       "    </tr>\n",
       "    <tr>\n",
       "      <th>Spd</th>\n",
       "      <td>0.717900</td>\n",
       "      <td>0.797212</td>\n",
       "      <td>0.445772</td>\n",
       "      <td>0.356231</td>\n",
       "      <td>0.618066</td>\n",
       "      <td>0.524367</td>\n",
       "      <td>0.092386</td>\n",
       "      <td>0.453733</td>\n",
       "      <td>1.000000</td>\n",
       "    </tr>\n",
       "  </tbody>\n",
       "</table>\n",
       "</div>"
      ],
      "text/plain": [
       "                    #    Memory  Equip Slots        HP        SP       Atk  \\\n",
       "#            1.000000  0.825180     0.543364  0.545551  0.562892  0.521803   \n",
       "Memory       0.825180  1.000000     0.505906  0.658870  0.631727  0.631999   \n",
       "Equip Slots  0.543364  0.505906     1.000000  0.393107  0.397976  0.318914   \n",
       "HP           0.545551  0.658870     0.393107  1.000000  0.110453  0.615918   \n",
       "SP           0.562892  0.631727     0.397976  0.110453  1.000000 -0.104073   \n",
       "Atk          0.521803  0.631999     0.318914  0.615918 -0.104073  1.000000   \n",
       "Def          0.250239  0.236781     0.231671  0.062828  0.077508  0.129504   \n",
       "Int          0.508848  0.581734     0.361557  0.111591  0.884666 -0.138584   \n",
       "Spd          0.717900  0.797212     0.445772  0.356231  0.618066  0.524367   \n",
       "\n",
       "                  Def       Int       Spd  \n",
       "#            0.250239  0.508848  0.717900  \n",
       "Memory       0.236781  0.581734  0.797212  \n",
       "Equip Slots  0.231671  0.361557  0.445772  \n",
       "HP           0.062828  0.111591  0.356231  \n",
       "SP           0.077508  0.884666  0.618066  \n",
       "Atk          0.129504 -0.138584  0.524367  \n",
       "Def          1.000000 -0.038404  0.092386  \n",
       "Int         -0.038404  1.000000  0.453733  \n",
       "Spd          0.092386  0.453733  1.000000  "
      ]
     },
     "execution_count": 7,
     "metadata": {},
     "output_type": "execute_result"
    }
   ],
   "source": [
    "df.corr(numeric_only=True)\n",
    "## Menampilkan korelasi antar Kolom numerik\n",
    "## Jika metode tidak disebutkan, maka menggunakan metode DEFAULT\n",
    "## Metode Default ==> PEARSON"
   ]
  },
  {
   "cell_type": "code",
   "execution_count": 9,
   "id": "922c8a38-adfd-4602-a378-1c26240f33f2",
   "metadata": {
    "tags": []
   },
   "outputs": [
    {
     "data": {
      "text/html": [
       "<div>\n",
       "<style scoped>\n",
       "    .dataframe tbody tr th:only-of-type {\n",
       "        vertical-align: middle;\n",
       "    }\n",
       "\n",
       "    .dataframe tbody tr th {\n",
       "        vertical-align: top;\n",
       "    }\n",
       "\n",
       "    .dataframe thead th {\n",
       "        text-align: right;\n",
       "    }\n",
       "</style>\n",
       "<table border=\"1\" class=\"dataframe\">\n",
       "  <thead>\n",
       "    <tr style=\"text-align: right;\">\n",
       "      <th></th>\n",
       "      <th>HP</th>\n",
       "      <th>Atk</th>\n",
       "      <th>Def</th>\n",
       "      <th>Int</th>\n",
       "    </tr>\n",
       "  </thead>\n",
       "  <tbody>\n",
       "    <tr>\n",
       "      <th>HP</th>\n",
       "      <td>1.000000</td>\n",
       "      <td>0.630767</td>\n",
       "      <td>0.590511</td>\n",
       "      <td>0.127056</td>\n",
       "    </tr>\n",
       "    <tr>\n",
       "      <th>Atk</th>\n",
       "      <td>0.630767</td>\n",
       "      <td>1.000000</td>\n",
       "      <td>0.495439</td>\n",
       "      <td>-0.091545</td>\n",
       "    </tr>\n",
       "    <tr>\n",
       "      <th>Def</th>\n",
       "      <td>0.590511</td>\n",
       "      <td>0.495439</td>\n",
       "      <td>1.000000</td>\n",
       "      <td>0.197144</td>\n",
       "    </tr>\n",
       "    <tr>\n",
       "      <th>Int</th>\n",
       "      <td>0.127056</td>\n",
       "      <td>-0.091545</td>\n",
       "      <td>0.197144</td>\n",
       "      <td>1.000000</td>\n",
       "    </tr>\n",
       "  </tbody>\n",
       "</table>\n",
       "</div>"
      ],
      "text/plain": [
       "           HP       Atk       Def       Int\n",
       "HP   1.000000  0.630767  0.590511  0.127056\n",
       "Atk  0.630767  1.000000  0.495439 -0.091545\n",
       "Def  0.590511  0.495439  1.000000  0.197144\n",
       "Int  0.127056 -0.091545  0.197144  1.000000"
      ]
     },
     "execution_count": 9,
     "metadata": {},
     "output_type": "execute_result"
    }
   ],
   "source": [
    "df[['HP', 'Atk', 'Def', 'Int']].corr('spearman') ## Mewnggunakan Korelasi Spearman"
   ]
  },
  {
   "cell_type": "code",
   "execution_count": 10,
   "id": "45413406-27d9-43ad-972b-2fe8e2263b73",
   "metadata": {
    "tags": []
   },
   "outputs": [],
   "source": [
    "### Normal Distribution"
   ]
  },
  {
   "cell_type": "code",
   "execution_count": null,
   "id": "dc3fe979-3392-4df8-8ea1-6395d23150a6",
   "metadata": {},
   "outputs": [],
   "source": [
    "Ho = Distribusi Normal\n",
    "Ha = Distribusi Tidak Normal"
   ]
  },
  {
   "cell_type": "code",
   "execution_count": null,
   "id": "902ed4a2-90ff-419a-961a-598162240616",
   "metadata": {},
   "outputs": [],
   "source": [
    "- Jika nilai p-value lebih dari 0.05 => Distribusi bisa diasumsikan Normal (Tidak cukup bukti untuk menolak H0)\n",
    "- Jika nilai p-value kurang dari atau sama dengan 0.05 ==> Distribusi diasumsikan Tidak normal (Tolak H0)"
   ]
  },
  {
   "cell_type": "markdown",
   "id": "97048d35-cded-44e8-b5a9-c28a7afc19d7",
   "metadata": {
    "tags": []
   },
   "source": [
    "## Method 1\n",
    "- Kolmogorov Smirnov"
   ]
  },
  {
   "cell_type": "code",
   "execution_count": 12,
   "id": "200ad47e-871b-4e86-b9ba-e602ec7c5f7f",
   "metadata": {
    "tags": []
   },
   "outputs": [],
   "source": [
    "## Cek distribusi HP dan Attack Digimon"
   ]
  },
  {
   "cell_type": "code",
   "execution_count": 13,
   "id": "1ca4db5c-004c-481f-928b-6f41473c570f",
   "metadata": {
    "tags": []
   },
   "outputs": [],
   "source": [
    "from scipy.stats import kstest"
   ]
  },
  {
   "cell_type": "code",
   "execution_count": 15,
   "id": "8a43ea3d-73f0-4dd6-8c5d-f9051a2bcfb7",
   "metadata": {
    "tags": []
   },
   "outputs": [
    {
     "name": "stdout",
     "output_type": "stream",
     "text": [
      "Asumsi : Kita memiliki cukup bukti untuk menolak H0, sehingga asumsi distribusi cenderung Tidak Normal\n"
     ]
    }
   ],
   "source": [
    "st, pval = kstest(df['HP'], 'norm')\n",
    "if pval > 0.05:\n",
    "    print(\"Asumsi : Kita tidak memiliki cukup bukti untuk menolak H0, sehingga asumsi distribusi cenderung Normal\")\n",
    "else:\n",
    "    print(\"Asumsi : Kita memiliki cukup bukti untuk menolak H0, sehingga asumsi distribusi cenderung Tidak Normal\")"
   ]
  },
  {
   "cell_type": "code",
   "execution_count": 17,
   "id": "3b412369-6e30-4f45-8b60-94267d1e549a",
   "metadata": {
    "tags": []
   },
   "outputs": [
    {
     "name": "stdout",
     "output_type": "stream",
     "text": [
      "Nilai pval 0.0 maka Asumsi : Kita memiliki cukup bukti untuk menolak H0, sehingga asumsi distribusi cenderung Tidak Normal\n"
     ]
    }
   ],
   "source": [
    "st, pval = kstest(df['Atk'], 'norm')\n",
    "if pval > 0.05:\n",
    "    print(f\"Nilai pval {pval} maka Asumsi : Kita tidak memiliki cukup bukti untuk menolak H0, sehingga asumsi distribusi cenderung Normal\")\n",
    "else:\n",
    "    print(f\"Nilai pval {pval} maka Asumsi : Kita memiliki cukup bukti untuk menolak H0, sehingga asumsi distribusi cenderung Tidak Normal\")"
   ]
  },
  {
   "cell_type": "code",
   "execution_count": null,
   "id": "c4d2692e-372c-4eb2-8b93-2cc785f754ea",
   "metadata": {},
   "outputs": [],
   "source": [
    "## Method 2\n",
    "D agostino & Pearson test"
   ]
  },
  {
   "cell_type": "code",
   "execution_count": 18,
   "id": "b7c330ea-f540-426f-9935-40fee1da2005",
   "metadata": {
    "tags": []
   },
   "outputs": [],
   "source": [
    "## Cek distribusi SPeed"
   ]
  },
  {
   "cell_type": "code",
   "execution_count": 19,
   "id": "8db53588-73d7-4962-98b9-fcad72e93aa3",
   "metadata": {
    "tags": []
   },
   "outputs": [],
   "source": [
    "from scipy.stats import normaltest"
   ]
  },
  {
   "cell_type": "code",
   "execution_count": 21,
   "id": "f6d4d8be-3da8-4754-9e23-be30766e2cd3",
   "metadata": {
    "tags": []
   },
   "outputs": [
    {
     "name": "stdout",
     "output_type": "stream",
     "text": [
      "Nilai pval 0.0027128261838692473 maka Asumsi : Kita memiliki cukup bukti untuk menolak H0, sehingga asumsi distribusi cenderung Tidak Normal\n"
     ]
    }
   ],
   "source": [
    "st, pval = normaltest(df['Spd'])\n",
    "if pval > 0.05:\n",
    "    print(f\"Nilai pval {pval} maka Asumsi : Kita tidak memiliki cukup bukti untuk menolak H0, sehingga asumsi distribusi cenderung Normal\")\n",
    "else:\n",
    "    print(f\"Nilai pval {pval} maka Asumsi : Kita memiliki cukup bukti untuk menolak H0, sehingga asumsi distribusi cenderung Tidak Normal\")"
   ]
  },
  {
   "cell_type": "code",
   "execution_count": 22,
   "id": "1d85fab1-5af9-4224-b1b4-be8581f62de9",
   "metadata": {
    "tags": []
   },
   "outputs": [
    {
     "data": {
      "text/html": [
       "<div>\n",
       "<style scoped>\n",
       "    .dataframe tbody tr th:only-of-type {\n",
       "        vertical-align: middle;\n",
       "    }\n",
       "\n",
       "    .dataframe tbody tr th {\n",
       "        vertical-align: top;\n",
       "    }\n",
       "\n",
       "    .dataframe thead th {\n",
       "        text-align: right;\n",
       "    }\n",
       "</style>\n",
       "<table border=\"1\" class=\"dataframe\">\n",
       "  <thead>\n",
       "    <tr style=\"text-align: right;\">\n",
       "      <th></th>\n",
       "      <th>receipt_id</th>\n",
       "      <th>receipts_item_id</th>\n",
       "      <th>purchase_time</th>\n",
       "      <th>category</th>\n",
       "      <th>sub_category</th>\n",
       "      <th>format</th>\n",
       "      <th>unit_price</th>\n",
       "      <th>discount</th>\n",
       "      <th>quantity</th>\n",
       "    </tr>\n",
       "  </thead>\n",
       "  <tbody>\n",
       "    <tr>\n",
       "      <th>0</th>\n",
       "      <td>9622257</td>\n",
       "      <td>32369294</td>\n",
       "      <td>2018-07-22 21:19:00</td>\n",
       "      <td>Rice</td>\n",
       "      <td>Rice</td>\n",
       "      <td>supermarket</td>\n",
       "      <td>128000.0</td>\n",
       "      <td>0</td>\n",
       "      <td>1</td>\n",
       "    </tr>\n",
       "    <tr>\n",
       "      <th>1</th>\n",
       "      <td>9446359</td>\n",
       "      <td>31885876</td>\n",
       "      <td>2018-07-15 16:17:00</td>\n",
       "      <td>Rice</td>\n",
       "      <td>Rice</td>\n",
       "      <td>minimarket</td>\n",
       "      <td>102750.0</td>\n",
       "      <td>0</td>\n",
       "      <td>1</td>\n",
       "    </tr>\n",
       "    <tr>\n",
       "      <th>2</th>\n",
       "      <td>9470290</td>\n",
       "      <td>31930241</td>\n",
       "      <td>2018-07-15 12:12:00</td>\n",
       "      <td>Rice</td>\n",
       "      <td>Rice</td>\n",
       "      <td>supermarket</td>\n",
       "      <td>64000.0</td>\n",
       "      <td>0</td>\n",
       "      <td>3</td>\n",
       "    </tr>\n",
       "    <tr>\n",
       "      <th>3</th>\n",
       "      <td>9643416</td>\n",
       "      <td>32418582</td>\n",
       "      <td>2018-07-24 08:27:00</td>\n",
       "      <td>Rice</td>\n",
       "      <td>Rice</td>\n",
       "      <td>minimarket</td>\n",
       "      <td>65000.0</td>\n",
       "      <td>0</td>\n",
       "      <td>1</td>\n",
       "    </tr>\n",
       "    <tr>\n",
       "      <th>4</th>\n",
       "      <td>9692093</td>\n",
       "      <td>32561236</td>\n",
       "      <td>2018-07-26 11:28:00</td>\n",
       "      <td>Rice</td>\n",
       "      <td>Rice</td>\n",
       "      <td>supermarket</td>\n",
       "      <td>124500.0</td>\n",
       "      <td>0</td>\n",
       "      <td>1</td>\n",
       "    </tr>\n",
       "  </tbody>\n",
       "</table>\n",
       "</div>"
      ],
      "text/plain": [
       "   receipt_id  receipts_item_id       purchase_time category sub_category  \\\n",
       "0     9622257          32369294 2018-07-22 21:19:00     Rice         Rice   \n",
       "1     9446359          31885876 2018-07-15 16:17:00     Rice         Rice   \n",
       "2     9470290          31930241 2018-07-15 12:12:00     Rice         Rice   \n",
       "3     9643416          32418582 2018-07-24 08:27:00     Rice         Rice   \n",
       "4     9692093          32561236 2018-07-26 11:28:00     Rice         Rice   \n",
       "\n",
       "        format  unit_price  discount  quantity  \n",
       "0  supermarket    128000.0         0         1  \n",
       "1   minimarket    102750.0         0         1  \n",
       "2  supermarket     64000.0         0         3  \n",
       "3   minimarket     65000.0         0         1  \n",
       "4  supermarket    124500.0         0         1  "
      ]
     },
     "execution_count": 22,
     "metadata": {},
     "output_type": "execute_result"
    }
   ],
   "source": [
    "df_1 = pd.read_csv('data.csv', parse_dates = ['purchase_time'])\n",
    "df_1.head()"
   ]
  },
  {
   "cell_type": "code",
   "execution_count": 23,
   "id": "6c8475b2-0fe0-4d0e-8c17-96cf7819934c",
   "metadata": {
    "tags": []
   },
   "outputs": [],
   "source": [
    "## Parametrics"
   ]
  },
  {
   "cell_type": "code",
   "execution_count": 24,
   "id": "483b2b8c-816d-4a6b-82c9-469707d6c123",
   "metadata": {
    "tags": []
   },
   "outputs": [],
   "source": [
    "## One Sample T-test"
   ]
  },
  {
   "cell_type": "code",
   "execution_count": 25,
   "id": "900a9b78-72cd-4b0d-b2a4-e726e28575e9",
   "metadata": {
    "tags": []
   },
   "outputs": [
    {
     "data": {
      "text/plain": [
       "24830.776333731115"
      ]
     },
     "execution_count": 25,
     "metadata": {},
     "output_type": "execute_result"
    }
   ],
   "source": [
    "df_1['unit_price'].mean()"
   ]
  },
  {
   "cell_type": "code",
   "execution_count": null,
   "id": "1f0c9ba0-f1f2-49a9-a76d-1a6e3e93b857",
   "metadata": {},
   "outputs": [],
   "source": [
    "- Asumsi Unit price terdistribusi Normal\n",
    "Ho : rata-rata unit_price = 500000\n",
    "Ha : rata-rata unit price < 500000"
   ]
  },
  {
   "cell_type": "code",
   "execution_count": 26,
   "id": "833cb2fa-7b2f-49fe-95a0-75145e22adae",
   "metadata": {
    "tags": []
   },
   "outputs": [],
   "source": [
    "from scipy.stats import ttest_1samp"
   ]
  },
  {
   "cell_type": "code",
   "execution_count": 27,
   "id": "c4c0134c-b755-4f00-bae3-0306030ada04",
   "metadata": {
    "tags": []
   },
   "outputs": [
    {
     "name": "stdout",
     "output_type": "stream",
     "text": [
      "Tolak Ho\n"
     ]
    }
   ],
   "source": [
    "tval, pval = ttest_1samp(df_1['unit_price'], 500000)\n",
    "if pval/2 < 0.05: ## Karena kita sudah memiliki asumsi arah dari Ha, maka gunakan One-side atau One Tail, sehingga pval dibagi 2\n",
    "    print(\"Tolak Ho\")\n",
    "else:\n",
    "    print(\"Terima Ho\")"
   ]
  },
  {
   "cell_type": "code",
   "execution_count": 28,
   "id": "b843091a-240b-469a-8ead-90993be1095d",
   "metadata": {
    "tags": []
   },
   "outputs": [],
   "source": [
    "## Two Sample Independent T-Test"
   ]
  },
  {
   "cell_type": "code",
   "execution_count": 29,
   "id": "f6e82d91-ae96-44e6-8891-83e2a792136e",
   "metadata": {
    "tags": []
   },
   "outputs": [],
   "source": [
    "purchase_dt = df_1['purchase_time'].dt"
   ]
  },
  {
   "cell_type": "code",
   "execution_count": 31,
   "id": "9dd038f4-af95-4616-b8c6-ebafa06cc006",
   "metadata": {
    "tags": []
   },
   "outputs": [],
   "source": [
    "df_1['Hari'] = purchase_dt.dayofweek"
   ]
  },
  {
   "cell_type": "code",
   "execution_count": 32,
   "id": "543b2a95-5606-4377-afd4-7f57fce254ad",
   "metadata": {
    "tags": []
   },
   "outputs": [],
   "source": [
    "df_1['WeekEnd'] = df_1['Hari'].apply(lambda x: 'Yes' if x > 4 else 'No')"
   ]
  },
  {
   "cell_type": "code",
   "execution_count": 33,
   "id": "27bda340-f64d-486b-b135-f25281601b0a",
   "metadata": {
    "tags": []
   },
   "outputs": [
    {
     "data": {
      "text/html": [
       "<div>\n",
       "<style scoped>\n",
       "    .dataframe tbody tr th:only-of-type {\n",
       "        vertical-align: middle;\n",
       "    }\n",
       "\n",
       "    .dataframe tbody tr th {\n",
       "        vertical-align: top;\n",
       "    }\n",
       "\n",
       "    .dataframe thead th {\n",
       "        text-align: right;\n",
       "    }\n",
       "</style>\n",
       "<table border=\"1\" class=\"dataframe\">\n",
       "  <thead>\n",
       "    <tr style=\"text-align: right;\">\n",
       "      <th></th>\n",
       "      <th>receipt_id</th>\n",
       "      <th>receipts_item_id</th>\n",
       "      <th>purchase_time</th>\n",
       "      <th>category</th>\n",
       "      <th>sub_category</th>\n",
       "      <th>format</th>\n",
       "      <th>unit_price</th>\n",
       "      <th>discount</th>\n",
       "      <th>quantity</th>\n",
       "      <th>Hari</th>\n",
       "      <th>WeekEnd</th>\n",
       "    </tr>\n",
       "  </thead>\n",
       "  <tbody>\n",
       "    <tr>\n",
       "      <th>0</th>\n",
       "      <td>9622257</td>\n",
       "      <td>32369294</td>\n",
       "      <td>2018-07-22 21:19:00</td>\n",
       "      <td>Rice</td>\n",
       "      <td>Rice</td>\n",
       "      <td>supermarket</td>\n",
       "      <td>128000.0</td>\n",
       "      <td>0</td>\n",
       "      <td>1</td>\n",
       "      <td>6</td>\n",
       "      <td>Yes</td>\n",
       "    </tr>\n",
       "    <tr>\n",
       "      <th>1</th>\n",
       "      <td>9446359</td>\n",
       "      <td>31885876</td>\n",
       "      <td>2018-07-15 16:17:00</td>\n",
       "      <td>Rice</td>\n",
       "      <td>Rice</td>\n",
       "      <td>minimarket</td>\n",
       "      <td>102750.0</td>\n",
       "      <td>0</td>\n",
       "      <td>1</td>\n",
       "      <td>6</td>\n",
       "      <td>Yes</td>\n",
       "    </tr>\n",
       "    <tr>\n",
       "      <th>2</th>\n",
       "      <td>9470290</td>\n",
       "      <td>31930241</td>\n",
       "      <td>2018-07-15 12:12:00</td>\n",
       "      <td>Rice</td>\n",
       "      <td>Rice</td>\n",
       "      <td>supermarket</td>\n",
       "      <td>64000.0</td>\n",
       "      <td>0</td>\n",
       "      <td>3</td>\n",
       "      <td>6</td>\n",
       "      <td>Yes</td>\n",
       "    </tr>\n",
       "    <tr>\n",
       "      <th>3</th>\n",
       "      <td>9643416</td>\n",
       "      <td>32418582</td>\n",
       "      <td>2018-07-24 08:27:00</td>\n",
       "      <td>Rice</td>\n",
       "      <td>Rice</td>\n",
       "      <td>minimarket</td>\n",
       "      <td>65000.0</td>\n",
       "      <td>0</td>\n",
       "      <td>1</td>\n",
       "      <td>1</td>\n",
       "      <td>No</td>\n",
       "    </tr>\n",
       "    <tr>\n",
       "      <th>4</th>\n",
       "      <td>9692093</td>\n",
       "      <td>32561236</td>\n",
       "      <td>2018-07-26 11:28:00</td>\n",
       "      <td>Rice</td>\n",
       "      <td>Rice</td>\n",
       "      <td>supermarket</td>\n",
       "      <td>124500.0</td>\n",
       "      <td>0</td>\n",
       "      <td>1</td>\n",
       "      <td>3</td>\n",
       "      <td>No</td>\n",
       "    </tr>\n",
       "  </tbody>\n",
       "</table>\n",
       "</div>"
      ],
      "text/plain": [
       "   receipt_id  receipts_item_id       purchase_time category sub_category  \\\n",
       "0     9622257          32369294 2018-07-22 21:19:00     Rice         Rice   \n",
       "1     9446359          31885876 2018-07-15 16:17:00     Rice         Rice   \n",
       "2     9470290          31930241 2018-07-15 12:12:00     Rice         Rice   \n",
       "3     9643416          32418582 2018-07-24 08:27:00     Rice         Rice   \n",
       "4     9692093          32561236 2018-07-26 11:28:00     Rice         Rice   \n",
       "\n",
       "        format  unit_price  discount  quantity  Hari WeekEnd  \n",
       "0  supermarket    128000.0         0         1     6     Yes  \n",
       "1   minimarket    102750.0         0         1     6     Yes  \n",
       "2  supermarket     64000.0         0         3     6     Yes  \n",
       "3   minimarket     65000.0         0         1     1      No  \n",
       "4  supermarket    124500.0         0         1     3      No  "
      ]
     },
     "execution_count": 33,
     "metadata": {},
     "output_type": "execute_result"
    }
   ],
   "source": [
    "df_1.head()"
   ]
  },
  {
   "cell_type": "code",
   "execution_count": 35,
   "id": "0abdad6f-b077-4330-a826-0b0ee863d986",
   "metadata": {
    "tags": []
   },
   "outputs": [],
   "source": [
    "df_1['total_payment'] = (df_1['unit_price'] * df_1['quantity']) - df_1['discount']"
   ]
  },
  {
   "cell_type": "code",
   "execution_count": null,
   "id": "4be795ce-fb60-4b47-b37c-975b7cbc9dca",
   "metadata": {},
   "outputs": [],
   "source": [
    "Asumsi :\n",
    "    - Total payment terdistribusi normal\n",
    "    - Non Equal Variance ===> Variance antara WeekEnd dan WeekDay berbeda\n",
    "Hipotesis :\n",
    "    H0 : Rata-rata total payment WeekEnd = rata-rata total payment Weekday\n",
    "    Ha : Rata-rata total payment WeekEnd != rata-rata total payment Weekday"
   ]
  },
  {
   "cell_type": "code",
   "execution_count": 36,
   "id": "9e59829e-cf20-4cd7-9c31-0eed4c72b18b",
   "metadata": {
    "tags": []
   },
   "outputs": [],
   "source": [
    "from scipy.stats import ttest_ind"
   ]
  },
  {
   "cell_type": "code",
   "execution_count": 39,
   "id": "e1454281-e79c-43a8-a3ab-43adc640260f",
   "metadata": {
    "tags": []
   },
   "outputs": [
    {
     "data": {
      "text/plain": [
       "3         65000.0\n",
       "4        124500.0\n",
       "5         63500.0\n",
       "7         62500.0\n",
       "8         62500.0\n",
       "           ...   \n",
       "71995     25000.0\n",
       "71996     12500.0\n",
       "71997     12500.0\n",
       "71998     37500.0\n",
       "71999     37500.0\n",
       "Name: total_payment, Length: 47599, dtype: float64"
      ]
     },
     "execution_count": 39,
     "metadata": {},
     "output_type": "execute_result"
    }
   ],
   "source": [
    "df_1[df_1['WeekEnd'] == 'No']['total_payment']"
   ]
  },
  {
   "cell_type": "code",
   "execution_count": 41,
   "id": "a68d5828-3354-4309-b797-7eb5a0107311",
   "metadata": {
    "tags": []
   },
   "outputs": [
    {
     "name": "stdout",
     "output_type": "stream",
     "text": [
      "Terima H0\n"
     ]
    }
   ],
   "source": [
    "tval, pval = ttest_ind(\n",
    "    df_1[df_1['WeekEnd'] == 'No']['total_payment'],\n",
    "    df_1[df_1['WeekEnd'] == 'Yes']['total_payment'],\n",
    "    equal_var = False\n",
    ")\n",
    "\n",
    "if pval < 0.05:\n",
    "    print('Tolak H0')\n",
    "else:\n",
    "    print(\"Terima H0\")"
   ]
  },
  {
   "cell_type": "code",
   "execution_count": null,
   "id": "6e168409-956e-4528-9ce8-3b7bd29162d1",
   "metadata": {},
   "outputs": [],
   "source": []
  },
  {
   "cell_type": "code",
   "execution_count": 42,
   "id": "5b76d7f3-75a5-44f3-bf58-0a29cd948e5b",
   "metadata": {
    "tags": []
   },
   "outputs": [],
   "source": [
    "## T Test Paired"
   ]
  },
  {
   "cell_type": "code",
   "execution_count": null,
   "id": "4be8d938-c00b-4e6d-9b7e-bc8ac181bdcd",
   "metadata": {},
   "outputs": [],
   "source": [
    "Hipotesis :\n",
    "    H0 : Nilai toefl sebelum & setelah ikut pelatihan Sama ==> Rata-rata nilai TOEFL siswa sebelum pelatihan = Rata-rata nilai TOEFL siswa setelah pelatihan\n",
    "    Ha : rata rata nilai siswa sebelum pelatihan tidak sama dengan setelah pelatihan"
   ]
  },
  {
   "cell_type": "code",
   "execution_count": 43,
   "id": "01750948-d3ca-48c7-9715-42d6d8ff7a67",
   "metadata": {
    "tags": []
   },
   "outputs": [],
   "source": [
    "Before =[400, 420, 430, 300, 290, 250, 310, 315, 200, 210]\n",
    "After = [600, 500, 510, 550, 610, 640, 620, 550, 560, 580]"
   ]
  },
  {
   "cell_type": "code",
   "execution_count": 45,
   "id": "345de456-1c17-4d73-a2b0-1bc3b87d1d98",
   "metadata": {
    "tags": []
   },
   "outputs": [],
   "source": [
    "df_paired = pd.DataFrame(\n",
    "{\n",
    "\"Before\" : Before,\n",
    "\"After\" : After})\n",
    "\n",
    "df_paired['selisih']= df_paired['After'] - df_paired['Before']"
   ]
  },
  {
   "cell_type": "code",
   "execution_count": 46,
   "id": "97c1ad15-f6c2-41e4-84c1-aaabc51e2232",
   "metadata": {
    "tags": []
   },
   "outputs": [
    {
     "data": {
      "text/html": [
       "<div>\n",
       "<style scoped>\n",
       "    .dataframe tbody tr th:only-of-type {\n",
       "        vertical-align: middle;\n",
       "    }\n",
       "\n",
       "    .dataframe tbody tr th {\n",
       "        vertical-align: top;\n",
       "    }\n",
       "\n",
       "    .dataframe thead th {\n",
       "        text-align: right;\n",
       "    }\n",
       "</style>\n",
       "<table border=\"1\" class=\"dataframe\">\n",
       "  <thead>\n",
       "    <tr style=\"text-align: right;\">\n",
       "      <th></th>\n",
       "      <th>Before</th>\n",
       "      <th>After</th>\n",
       "      <th>selisih</th>\n",
       "    </tr>\n",
       "  </thead>\n",
       "  <tbody>\n",
       "    <tr>\n",
       "      <th>0</th>\n",
       "      <td>400</td>\n",
       "      <td>600</td>\n",
       "      <td>200</td>\n",
       "    </tr>\n",
       "    <tr>\n",
       "      <th>1</th>\n",
       "      <td>420</td>\n",
       "      <td>500</td>\n",
       "      <td>80</td>\n",
       "    </tr>\n",
       "    <tr>\n",
       "      <th>2</th>\n",
       "      <td>430</td>\n",
       "      <td>510</td>\n",
       "      <td>80</td>\n",
       "    </tr>\n",
       "    <tr>\n",
       "      <th>3</th>\n",
       "      <td>300</td>\n",
       "      <td>550</td>\n",
       "      <td>250</td>\n",
       "    </tr>\n",
       "    <tr>\n",
       "      <th>4</th>\n",
       "      <td>290</td>\n",
       "      <td>610</td>\n",
       "      <td>320</td>\n",
       "    </tr>\n",
       "    <tr>\n",
       "      <th>5</th>\n",
       "      <td>250</td>\n",
       "      <td>640</td>\n",
       "      <td>390</td>\n",
       "    </tr>\n",
       "    <tr>\n",
       "      <th>6</th>\n",
       "      <td>310</td>\n",
       "      <td>620</td>\n",
       "      <td>310</td>\n",
       "    </tr>\n",
       "    <tr>\n",
       "      <th>7</th>\n",
       "      <td>315</td>\n",
       "      <td>550</td>\n",
       "      <td>235</td>\n",
       "    </tr>\n",
       "    <tr>\n",
       "      <th>8</th>\n",
       "      <td>200</td>\n",
       "      <td>560</td>\n",
       "      <td>360</td>\n",
       "    </tr>\n",
       "    <tr>\n",
       "      <th>9</th>\n",
       "      <td>210</td>\n",
       "      <td>580</td>\n",
       "      <td>370</td>\n",
       "    </tr>\n",
       "  </tbody>\n",
       "</table>\n",
       "</div>"
      ],
      "text/plain": [
       "   Before  After  selisih\n",
       "0     400    600      200\n",
       "1     420    500       80\n",
       "2     430    510       80\n",
       "3     300    550      250\n",
       "4     290    610      320\n",
       "5     250    640      390\n",
       "6     310    620      310\n",
       "7     315    550      235\n",
       "8     200    560      360\n",
       "9     210    580      370"
      ]
     },
     "execution_count": 46,
     "metadata": {},
     "output_type": "execute_result"
    }
   ],
   "source": [
    "df_paired"
   ]
  },
  {
   "cell_type": "code",
   "execution_count": 47,
   "id": "9e9c0d5e-ea1d-4175-9b05-fda96b6120c8",
   "metadata": {
    "tags": []
   },
   "outputs": [
    {
     "name": "stdout",
     "output_type": "stream",
     "text": [
      "Tolak H0\n"
     ]
    }
   ],
   "source": [
    "tval, pval = ttest_1samp(df_paired['selisih'], 0)\n",
    "if pval < 0.05:\n",
    "    print('Tolak H0')\n",
    "else:\n",
    "    print(\"Terima H0\")"
   ]
  },
  {
   "cell_type": "code",
   "execution_count": 49,
   "id": "2222663e-2202-4a85-8c73-65814361a0a8",
   "metadata": {
    "tags": []
   },
   "outputs": [],
   "source": [
    "## One Way Anova ; F Test; Lebih dari 2 populasi"
   ]
  },
  {
   "cell_type": "code",
   "execution_count": 51,
   "id": "8a60398e-d617-46d0-ac48-919fafa383b3",
   "metadata": {
    "tags": []
   },
   "outputs": [
    {
     "data": {
      "text/plain": [
       "array(['supermarket', 'minimarket', 'hypermarket'], dtype=object)"
      ]
     },
     "execution_count": 51,
     "metadata": {},
     "output_type": "execute_result"
    }
   ],
   "source": [
    "df_1['format'].unique()"
   ]
  },
  {
   "cell_type": "code",
   "execution_count": null,
   "id": "e40e7af1-ec90-421c-af25-273009d85761",
   "metadata": {},
   "outputs": [],
   "source": [
    "Hipotesis:\n",
    "    H0 : rata-rata total payment supermarket = rata-rata total payment minimarket = rata-rata total payment hypermarket\n",
    "    Ha : Minimal ada 1 pasang yg rata-rata total payment tidak sama"
   ]
  },
  {
   "cell_type": "code",
   "execution_count": 52,
   "id": "7630d86d-6da4-4fb2-86fc-12a99d809eed",
   "metadata": {
    "tags": []
   },
   "outputs": [],
   "source": [
    "from scipy.stats import f_oneway"
   ]
  },
  {
   "cell_type": "code",
   "execution_count": 53,
   "id": "51045d88-5b0d-4992-847f-baf7d6180949",
   "metadata": {
    "tags": []
   },
   "outputs": [
    {
     "name": "stdout",
     "output_type": "stream",
     "text": [
      "Tolak H0\n"
     ]
    }
   ],
   "source": [
    "fval, pval = f_oneway(\n",
    "df_1[df_1['format'] == 'supermarket']['total_payment'],\n",
    "    df_1[df_1['format'] == 'minimarket']['total_payment'],\n",
    "    df_1[df_1['format'] == 'hypermarket']['total_payment']\n",
    ")\n",
    "if pval < 0.05:\n",
    "    print('Tolak H0')\n",
    "else:\n",
    "    print(\"Terima H0\")"
   ]
  },
  {
   "cell_type": "code",
   "execution_count": null,
   "id": "f5165786-dad5-4ecb-b3d1-02f0fe460ad8",
   "metadata": {},
   "outputs": [],
   "source": []
  },
  {
   "cell_type": "code",
   "execution_count": null,
   "id": "db29162a-187d-4769-b7c7-2567437ebb3d",
   "metadata": {},
   "outputs": [],
   "source": []
  },
  {
   "cell_type": "code",
   "execution_count": null,
   "id": "89aff0a5-0c59-44ac-a573-1fd0dd2c8018",
   "metadata": {},
   "outputs": [],
   "source": []
  },
  {
   "cell_type": "code",
   "execution_count": null,
   "id": "11c72c67-74f3-449a-a5f8-cd9e7bc26d36",
   "metadata": {},
   "outputs": [],
   "source": []
  },
  {
   "cell_type": "code",
   "execution_count": null,
   "id": "660f2d68-4453-4b07-8e5e-7a69c674b471",
   "metadata": {},
   "outputs": [],
   "source": []
  },
  {
   "cell_type": "code",
   "execution_count": null,
   "id": "9935fab5-988a-4616-841a-e2d98f743126",
   "metadata": {},
   "outputs": [],
   "source": []
  },
  {
   "cell_type": "code",
   "execution_count": null,
   "id": "f5157907-75f6-41a8-8d3f-ed4b159239b2",
   "metadata": {},
   "outputs": [],
   "source": []
  },
  {
   "cell_type": "code",
   "execution_count": null,
   "id": "563d2b63-3a3c-40ea-96f6-1499c31825e0",
   "metadata": {},
   "outputs": [],
   "source": []
  }
 ],
 "metadata": {
  "kernelspec": {
   "display_name": "Python 3 (ipykernel)",
   "language": "python",
   "name": "python3"
  },
  "language_info": {
   "codemirror_mode": {
    "name": "ipython",
    "version": 3
   },
   "file_extension": ".py",
   "mimetype": "text/x-python",
   "name": "python",
   "nbconvert_exporter": "python",
   "pygments_lexer": "ipython3",
   "version": "3.11.5"
  }
 },
 "nbformat": 4,
 "nbformat_minor": 5
}
