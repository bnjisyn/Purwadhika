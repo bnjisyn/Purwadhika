{
  "cells": [
    {
      "cell_type": "markdown",
      "metadata": {
        "id": "Q3S6J8dB8G5s"
      },
      "source": [
        "> Benjamin Nikholas\n",
        "\n",
        "> Data Science / JCSDOL-014\n",
        "\n",
        "> Modul 2 - Tugas 17\n",
        "\n",
        "> 3 Juni 2024\n",
        "---\n",
        "---"
      ]
    },
    {
      "cell_type": "code",
      "execution_count": 2,
      "metadata": {
        "id": "eXZWf6QSLFcd"
      },
      "outputs": [],
      "source": [
        "import numpy as np\n",
        "import pandas as pd"
      ]
    },
    {
      "cell_type": "markdown",
      "metadata": {
        "id": "vGuiaNLGKTN0"
      },
      "source": [
        "# 1\n",
        " Buatlah sebuah array 1 dimensi (vektor) yang diisi dengan 36 elemen. Isi dari array\n",
        "tersebut adalah bilangan random yang dibangkitkan dari rentang nilai 1 hingga 100.\n",
        "Simpan array tersebut dalam sebuah variable bernama myArray, kemudian coba\n",
        "tampilkan!\n"
      ]
    },
    {
      "cell_type": "code",
      "execution_count": 3,
      "metadata": {
        "colab": {
          "base_uri": "https://localhost:8080/"
        },
        "id": "Bt7SeVlqKPR4",
        "outputId": "ed527f03-1ace-4985-f61c-e91f67364a83"
      },
      "outputs": [
        {
          "name": "stdout",
          "output_type": "stream",
          "text": [
            "[ 67  10  25  36  49   2 100  94  81  32  10  91  70  45  40  65  41  28\n",
            "  39  77  98  72  74  44  35  87  46  69   1  50  92  41  43  70  90  61]\n"
          ]
        }
      ],
      "source": [
        "myArray = np.random.randint(1, 101, size=36)\n",
        "print(myArray)"
      ]
    },
    {
      "cell_type": "markdown",
      "metadata": {
        "id": "mnOxi4HsLIvl"
      },
      "source": [
        "# 2\n",
        " Dari myArray, bentuklah 3 array dengan bentuk yang berbeda (mengganti dimensi\n",
        "matriksnya) dengan kombinasi ukuran yang berbeda beda!\n",
        "* Matriks berukuran 2x18\n",
        "* Matriks berukuran 9x4\n",
        "* Array 3 Dimensi berukuran 2x6x3"
      ]
    },
    {
      "cell_type": "code",
      "execution_count": 4,
      "metadata": {
        "colab": {
          "base_uri": "https://localhost:8080/"
        },
        "id": "0aOnGOOMLDj8",
        "outputId": "7f21eb2b-11b2-4e8f-cc7f-7145747471ac"
      },
      "outputs": [
        {
          "name": "stdout",
          "output_type": "stream",
          "text": [
            "MyArray Reshape: (2, 18)\n",
            "[[ 67  10  25  36  49   2 100  94  81  32  10  91  70  45  40  65  41  28]\n",
            " [ 39  77  98  72  74  44  35  87  46  69   1  50  92  41  43  70  90  61]] \n",
            "\n",
            "MyArray Reshape: (9, 4)\n",
            "[[ 67  10  25  36]\n",
            " [ 49   2 100  94]\n",
            " [ 81  32  10  91]\n",
            " [ 70  45  40  65]\n",
            " [ 41  28  39  77]\n",
            " [ 98  72  74  44]\n",
            " [ 35  87  46  69]\n",
            " [  1  50  92  41]\n",
            " [ 43  70  90  61]] \n",
            "\n",
            "MyArray Reshape: (2, 6, 3)\n",
            "[[[ 67  10  25]\n",
            "  [ 36  49   2]\n",
            "  [100  94  81]\n",
            "  [ 32  10  91]\n",
            "  [ 70  45  40]\n",
            "  [ 65  41  28]]\n",
            "\n",
            " [[ 39  77  98]\n",
            "  [ 72  74  44]\n",
            "  [ 35  87  46]\n",
            "  [ 69   1  50]\n",
            "  [ 92  41  43]\n",
            "  [ 70  90  61]]] \n",
            "\n"
          ]
        }
      ],
      "source": [
        "shape_list = [(2, 18), (9, 4), (2, 6, 3)]\n",
        "for i in shape_list:\n",
        "  print(f'MyArray Reshape: {i}')\n",
        "  print(myArray.reshape(i), '\\n')"
      ]
    },
    {
      "cell_type": "markdown",
      "metadata": {
        "id": "UlnGONgJL-B_"
      },
      "source": [
        "# 3\n",
        "Berapakah nilai minimun dan maksimum dari myArray? Tampilkan dan coba perlihatkan\n",
        "nilai maksimum dan minimum tersebut ada pada indeks keberapa!"
      ]
    },
    {
      "cell_type": "code",
      "execution_count": 5,
      "metadata": {
        "colab": {
          "base_uri": "https://localhost:8080/"
        },
        "id": "4x9vel_uLRy8",
        "outputId": "b1111876-9b8c-4186-edf3-e9d37346603a"
      },
      "outputs": [
        {
          "name": "stdout",
          "output_type": "stream",
          "text": [
            "Nilai Minimum myArray bernilai 1 dan berada pada indeks ke (array([28], dtype=int64),)\n",
            "Nilai Maksimum myArray bernilai 100 dan berada pada indeks ke (array([6], dtype=int64),)\n"
          ]
        }
      ],
      "source": [
        "print(f'Nilai Minimum myArray bernilai {myArray.min()} dan berada pada indeks ke {np.where(myArray == myArray.min())}')\n",
        "print(f'Nilai Maksimum myArray bernilai {myArray.max()} dan berada pada indeks ke {np.where(myArray == myArray.max())}')"
      ]
    },
    {
      "cell_type": "markdown",
      "metadata": {
        "id": "LguHRxM8M4Ip"
      },
      "source": [
        "# 4\n",
        "Buatlah sebuah array baru dari myArray dengan data yang diambil berasal dari index 3,\n",
        "5, 30, 12, 15, 8, 24, 14, 22. Setelah itu, reshape bentuknya menjadi sebuah matrix\n",
        "ukuran 3x3!"
      ]
    },
    {
      "cell_type": "code",
      "execution_count": 6,
      "metadata": {
        "colab": {
          "base_uri": "https://localhost:8080/"
        },
        "id": "efavPsohMsYK",
        "outputId": "c86021d7-a974-47b7-f21c-796a56e9b6fd"
      },
      "outputs": [
        {
          "data": {
            "text/plain": [
              "array([[36,  2, 92],\n",
              "       [70, 65, 81],\n",
              "       [35, 40, 74]])"
            ]
          },
          "execution_count": 6,
          "metadata": {},
          "output_type": "execute_result"
        }
      ],
      "source": [
        "idx = [3, 5, 30, 12, 15, 8, 24, 14, 22]\n",
        "\n",
        "newArray = myArray[idx]\n",
        "newArray = newArray.reshape(3, 3)\n",
        "newArray"
      ]
    },
    {
      "cell_type": "markdown",
      "metadata": {
        "id": "L-CPopNcM6FR"
      },
      "source": [
        "# 5  \n",
        "Dari matrix yang dibuat pada nomor 4, tampilkan data yang nilainya lebih besar dari 50!"
      ]
    },
    {
      "cell_type": "code",
      "execution_count": 7,
      "metadata": {
        "colab": {
          "base_uri": "https://localhost:8080/"
        },
        "id": "zf66rNRINPv6",
        "outputId": "47bc3a29-55d5-48f2-fd59-b32a11ef310f"
      },
      "outputs": [
        {
          "name": "stdout",
          "output_type": "stream",
          "text": [
            "[92 70 65 81 74]\n"
          ]
        }
      ],
      "source": [
        "print(newArray[newArray > 50])"
      ]
    },
    {
      "cell_type": "markdown",
      "metadata": {
        "id": "gF5yvzs5QS4S"
      },
      "source": [
        "# 6\n",
        "Buat sebuah array menggunkan salah satu method di numpy dengan output seperti di\n",
        "bawah ini!"
      ]
    },
    {
      "cell_type": "code",
      "execution_count": 10,
      "metadata": {
        "colab": {
          "base_uri": "https://localhost:8080/"
        },
        "id": "whK4iEEwQIEZ",
        "outputId": "18d05864-f873-461a-ea1e-904bd9cec40e"
      },
      "outputs": [
        {
          "data": {
            "text/plain": [
              "array([  0,  25,  50,  75, 100])"
            ]
          },
          "execution_count": 10,
          "metadata": {},
          "output_type": "execute_result"
        }
      ],
      "source": [
        "np.linspace(0, 100,\n",
        "            num=5,\n",
        "            dtype = int)"
      ]
    },
    {
      "cell_type": "markdown",
      "metadata": {
        "id": "mFZIM5VNRAas"
      },
      "source": [
        "# 7\n",
        "Buatlah sebuah array 2 dimensi dengan ukuran NxN di mana N nya adalah sebuah\n",
        "inputan. Isi dari array tersebut seluruhnya adalah angka 8!"
      ]
    },
    {
      "cell_type": "code",
      "execution_count": 13,
      "metadata": {
        "colab": {
          "base_uri": "https://localhost:8080/"
        },
        "id": "F8JHyiI2Q3gQ",
        "outputId": "9995567c-9e1f-4521-bfc4-ce6cdc866f05"
      },
      "outputs": [
        {
          "data": {
            "text/plain": [
              "array([[8, 8, 8, 8, 8],\n",
              "       [8, 8, 8, 8, 8],\n",
              "       [8, 8, 8, 8, 8],\n",
              "       [8, 8, 8, 8, 8],\n",
              "       [8, 8, 8, 8, 8]])"
            ]
          },
          "execution_count": 13,
          "metadata": {},
          "output_type": "execute_result"
        }
      ],
      "source": [
        "N = int(input(\"Masukkan ukuran N: \"))\n",
        "\n",
        "array_NxN = np.full((N, N), 8)\n",
        "array_NxN"
      ]
    },
    {
      "cell_type": "markdown",
      "metadata": {
        "id": "rHTKXtb6RLWm"
      },
      "source": [
        "# 8\n",
        " Buatlah 2 buah array 2 dimensi seperti gambar di bawah ini, lalu simpan dalam variabel\n",
        "bernama arrayA dan arrayB!"
      ]
    },
    {
      "cell_type": "code",
      "execution_count": 24,
      "metadata": {
        "colab": {
          "base_uri": "https://localhost:8080/"
        },
        "id": "m1UJN820RGXb",
        "outputId": "6771ee4d-257f-4a35-a9a9-9f108b730e37"
      },
      "outputs": [
        {
          "name": "stdout",
          "output_type": "stream",
          "text": [
            "[[ 1  2  3  4]\n",
            " [ 5  6  7  8]\n",
            " [ 9 10 11 12]]\n",
            "\n",
            " [[100]\n",
            " [200]\n",
            " [300]\n",
            " [400]]\n",
            "\n",
            " [[  1   2   3   4]\n",
            " [  5   6   7   8]\n",
            " [  9  10  11  12]\n",
            " [100 200 300 400]]\n"
          ]
        }
      ],
      "source": [
        "arrayA = np.linspace(1, 12,\n",
        "                     num = 12,\n",
        "                     dtype = int).reshape(3, 4)\n",
        "print(arrayA)\n",
        "\n",
        "arrayB = np.linspace(100, 400,\n",
        "                     num = 4,\n",
        "                     dtype = int).reshape(4,1)\n",
        "\n",
        "print('\\n', arrayB)\n",
        "\n",
        "arrayC = np.vstack((arrayA,\n",
        "                    arrayB.flatten()))\n",
        "\n",
        "print('\\n', arrayC)"
      ]
    },
    {
      "cell_type": "markdown",
      "metadata": {
        "id": "jmLgyy6DULn7"
      },
      "source": [
        "# 9\n",
        "Dari arrayC, lakukan slicing agar menghasilkan array di bawah ini!"
      ]
    },
    {
      "cell_type": "code",
      "execution_count": 20,
      "metadata": {
        "colab": {
          "base_uri": "https://localhost:8080/"
        },
        "id": "nG_Rwe_jUKaK",
        "outputId": "91f282bf-832b-4fca-bea7-1c9e0f15e892"
      },
      "outputs": [
        {
          "data": {
            "text/plain": [
              "array([[ 7,  8],\n",
              "       [11, 12]])"
            ]
          },
          "execution_count": 20,
          "metadata": {},
          "output_type": "execute_result"
        }
      ],
      "source": [
        "arrayC[1:3, 2:4]"
      ]
    },
    {
      "cell_type": "markdown",
      "metadata": {
        "id": "Wo_UpzjFUcjV"
      },
      "source": [
        "# 10\n",
        "Dari arrayC, lakukan indexing untuk mendapatkan angka 200!"
      ]
    },
    {
      "cell_type": "code",
      "execution_count": 72,
      "metadata": {
        "colab": {
          "base_uri": "https://localhost:8080/"
        },
        "id": "i0FAgYoiUQ9y",
        "outputId": "02fd7404-749e-4731-d631-b884b313631c"
      },
      "outputs": [
        {
          "data": {
            "text/plain": [
              "200"
            ]
          },
          "execution_count": 72,
          "metadata": {},
          "output_type": "execute_result"
        }
      ],
      "source": [
        "arrayC[3,1]"
      ]
    }
  ],
  "metadata": {
    "colab": {
      "provenance": []
    },
    "kernelspec": {
      "display_name": "Python 3",
      "name": "python3"
    },
    "language_info": {
      "codemirror_mode": {
        "name": "ipython",
        "version": 3
      },
      "file_extension": ".py",
      "mimetype": "text/x-python",
      "name": "python",
      "nbconvert_exporter": "python",
      "pygments_lexer": "ipython3",
      "version": "3.10.11"
    }
  },
  "nbformat": 4,
  "nbformat_minor": 0
}
