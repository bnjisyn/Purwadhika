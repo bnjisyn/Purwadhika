{
  "cells": [
    {
      "cell_type": "markdown",
      "metadata": {
        "id": "Q3S6J8dB8G5s"
      },
      "source": [
        "> Benjamin Nikholas\n",
        "\n",
        "> Data Science / JCSDOL-014\n",
        "\n",
        "> Modul 2 - Tugas 19\n",
        "\n",
        "> 5 Juni 2024\n",
        "---\n",
        "---"
      ]
    },
    {
      "cell_type": "markdown",
      "metadata": {
        "id": "mmLyV5jGWbzL"
      },
      "source": [
        "## **Latihan Pandas 1**\n",
        "\n",
        "## Jangan di-run! Copy dulu file ini, kemudian jawab di file copy tersebut"
      ]
    },
    {
      "cell_type": "markdown",
      "metadata": {
        "id": "sOX33ljrWd0B"
      },
      "source": [
        "**Membuat DataFrame**\n",
        "\n",
        "Ikuti semua petunjuk yang harus dilakukan di bawah ini."
      ]
    },
    {
      "cell_type": "markdown",
      "metadata": {
        "id": "rSX2H4gzWfX4"
      },
      "source": [
        "**Step 1. Import library yang dibutuhkan.**"
      ]
    },
    {
      "cell_type": "code",
      "execution_count": 1,
      "metadata": {
        "id": "eXZWf6QSLFcd"
      },
      "outputs": [],
      "source": [
        "import numpy as np\n",
        "import pandas as pd"
      ]
    },
    {
      "cell_type": "markdown",
      "metadata": {
        "id": "O1G-8OitWjYw"
      },
      "source": [
        "**Step 2. Buat dictionary untuk membuat DataFrame berjumlah 5 key dan masing-masing key memiliki value berupa list dengan 10 item.**"
      ]
    },
    {
      "cell_type": "code",
      "execution_count": 14,
      "metadata": {
        "colab": {
          "base_uri": "https://localhost:8080/",
          "height": 363
        },
        "id": "XXMuMao8Wj__",
        "outputId": "fc8bb462-a4fa-42fa-83ac-e2440003c590"
      },
      "outputs": [
        {
          "data": {
            "text/html": [
              "<div>\n",
              "<style scoped>\n",
              "    .dataframe tbody tr th:only-of-type {\n",
              "        vertical-align: middle;\n",
              "    }\n",
              "\n",
              "    .dataframe tbody tr th {\n",
              "        vertical-align: top;\n",
              "    }\n",
              "\n",
              "    .dataframe thead th {\n",
              "        text-align: right;\n",
              "    }\n",
              "</style>\n",
              "<table border=\"1\" class=\"dataframe\">\n",
              "  <thead>\n",
              "    <tr style=\"text-align: right;\">\n",
              "      <th></th>\n",
              "      <th>Nama</th>\n",
              "      <th>Umur</th>\n",
              "      <th>Gender</th>\n",
              "      <th>Pekerjaan</th>\n",
              "      <th>Domisili</th>\n",
              "    </tr>\n",
              "  </thead>\n",
              "  <tbody>\n",
              "    <tr>\n",
              "      <th>0</th>\n",
              "      <td>Adele</td>\n",
              "      <td>24</td>\n",
              "      <td>Wanita</td>\n",
              "      <td>Data Analyst</td>\n",
              "      <td>Jakarta</td>\n",
              "    </tr>\n",
              "    <tr>\n",
              "      <th>1</th>\n",
              "      <td>Beyonce</td>\n",
              "      <td>25</td>\n",
              "      <td>Wanita</td>\n",
              "      <td>Data Engineer</td>\n",
              "      <td>Tangerang</td>\n",
              "    </tr>\n",
              "    <tr>\n",
              "      <th>2</th>\n",
              "      <td>Camila</td>\n",
              "      <td>30</td>\n",
              "      <td>Wanita</td>\n",
              "      <td>Data Scientist</td>\n",
              "      <td>Jakarta</td>\n",
              "    </tr>\n",
              "    <tr>\n",
              "      <th>3</th>\n",
              "      <td>Donald</td>\n",
              "      <td>32</td>\n",
              "      <td>Pria</td>\n",
              "      <td>Data Scientist</td>\n",
              "      <td>Bandung</td>\n",
              "    </tr>\n",
              "    <tr>\n",
              "      <th>4</th>\n",
              "      <td>Eminem</td>\n",
              "      <td>28</td>\n",
              "      <td>Pria</td>\n",
              "      <td>Data Analyst</td>\n",
              "      <td>Jakarta</td>\n",
              "    </tr>\n",
              "    <tr>\n",
              "      <th>5</th>\n",
              "      <td>Ferguson</td>\n",
              "      <td>24</td>\n",
              "      <td>Pria</td>\n",
              "      <td>Data Engineer</td>\n",
              "      <td>Surabaya</td>\n",
              "    </tr>\n",
              "    <tr>\n",
              "      <th>6</th>\n",
              "      <td>Gaga</td>\n",
              "      <td>29</td>\n",
              "      <td>Wanita</td>\n",
              "      <td>ML Engineer</td>\n",
              "      <td>Bandung</td>\n",
              "    </tr>\n",
              "    <tr>\n",
              "      <th>7</th>\n",
              "      <td>Hillary</td>\n",
              "      <td>31</td>\n",
              "      <td>Wanita</td>\n",
              "      <td>ML Researcher</td>\n",
              "      <td>Yogyakarta</td>\n",
              "    </tr>\n",
              "    <tr>\n",
              "      <th>8</th>\n",
              "      <td>Indro</td>\n",
              "      <td>30</td>\n",
              "      <td>Pria</td>\n",
              "      <td>BI Analyst</td>\n",
              "      <td>Jakarta</td>\n",
              "    </tr>\n",
              "    <tr>\n",
              "      <th>9</th>\n",
              "      <td>Joko</td>\n",
              "      <td>29</td>\n",
              "      <td>Pria</td>\n",
              "      <td>Data Analyst</td>\n",
              "      <td>Tangerang</td>\n",
              "    </tr>\n",
              "  </tbody>\n",
              "</table>\n",
              "</div>"
            ],
            "text/plain": [
              "       Nama  Umur  Gender       Pekerjaan    Domisili\n",
              "0     Adele    24  Wanita    Data Analyst     Jakarta\n",
              "1   Beyonce    25  Wanita   Data Engineer   Tangerang\n",
              "2    Camila    30  Wanita  Data Scientist     Jakarta\n",
              "3    Donald    32    Pria  Data Scientist     Bandung\n",
              "4    Eminem    28    Pria    Data Analyst     Jakarta\n",
              "5  Ferguson    24    Pria   Data Engineer    Surabaya\n",
              "6      Gaga    29  Wanita     ML Engineer     Bandung\n",
              "7   Hillary    31  Wanita   ML Researcher  Yogyakarta\n",
              "8     Indro    30    Pria      BI Analyst     Jakarta\n",
              "9      Joko    29    Pria    Data Analyst   Tangerang"
            ]
          },
          "execution_count": 14,
          "metadata": {},
          "output_type": "execute_result"
        }
      ],
      "source": [
        "data = {\n",
        "    'Nama': ['Adele', 'Beyonce', 'Camila', 'Donald', 'Eminem', 'Ferguson', 'Gaga', 'Hillary', 'Indro', 'Joko'],\n",
        "    'Umur': [24, 25, 30, 32, 28, 24, 29, 31, 30, 29],\n",
        "    'Gender': ['Wanita', 'Wanita', 'Wanita', 'Pria', 'Pria', 'Pria', 'Wanita', 'Wanita', 'Pria', 'Pria'],\n",
        "    'Pekerjaan': ['Data Analyst', 'Data Engineer', 'Data Scientist', 'Data Scientist', 'Data Analyst',\n",
        "                  'Data Engineer', 'ML Engineer', 'ML Researcher', 'BI Analyst', 'Data Analyst'],\n",
        "    'Domisili': ['Jakarta', 'Tangerang', 'Jakarta', 'Bandung', 'Jakarta', 'Surabaya',\n",
        "                 'Bandung', 'Yogyakarta', 'Jakarta', 'Tangerang']\n",
        "}\n",
        "\n",
        "df = pd.DataFrame(data)\n",
        "df"
      ]
    },
    {
      "cell_type": "markdown",
      "metadata": {
        "id": "zVcn8pOkWrPa"
      },
      "source": [
        "**Step 3. Ubah urutan kolom tersebut menjadi seperti berikut: Nama, Gender, Umur, Domisili, Pekerjaan.**"
      ]
    },
    {
      "cell_type": "code",
      "execution_count": 15,
      "metadata": {
        "colab": {
          "base_uri": "https://localhost:8080/",
          "height": 363
        },
        "id": "t0J9KApVWucm",
        "outputId": "74719904-05fb-42f1-e81a-a497c9757e9f"
      },
      "outputs": [
        {
          "data": {
            "text/html": [
              "<div>\n",
              "<style scoped>\n",
              "    .dataframe tbody tr th:only-of-type {\n",
              "        vertical-align: middle;\n",
              "    }\n",
              "\n",
              "    .dataframe tbody tr th {\n",
              "        vertical-align: top;\n",
              "    }\n",
              "\n",
              "    .dataframe thead th {\n",
              "        text-align: right;\n",
              "    }\n",
              "</style>\n",
              "<table border=\"1\" class=\"dataframe\">\n",
              "  <thead>\n",
              "    <tr style=\"text-align: right;\">\n",
              "      <th></th>\n",
              "      <th>Nama</th>\n",
              "      <th>Gender</th>\n",
              "      <th>Umur</th>\n",
              "      <th>Domisili</th>\n",
              "      <th>Pekerjaan</th>\n",
              "    </tr>\n",
              "  </thead>\n",
              "  <tbody>\n",
              "    <tr>\n",
              "      <th>0</th>\n",
              "      <td>Adele</td>\n",
              "      <td>Wanita</td>\n",
              "      <td>24</td>\n",
              "      <td>Jakarta</td>\n",
              "      <td>Data Analyst</td>\n",
              "    </tr>\n",
              "    <tr>\n",
              "      <th>1</th>\n",
              "      <td>Beyonce</td>\n",
              "      <td>Wanita</td>\n",
              "      <td>25</td>\n",
              "      <td>Tangerang</td>\n",
              "      <td>Data Engineer</td>\n",
              "    </tr>\n",
              "    <tr>\n",
              "      <th>2</th>\n",
              "      <td>Camila</td>\n",
              "      <td>Wanita</td>\n",
              "      <td>30</td>\n",
              "      <td>Jakarta</td>\n",
              "      <td>Data Scientist</td>\n",
              "    </tr>\n",
              "    <tr>\n",
              "      <th>3</th>\n",
              "      <td>Donald</td>\n",
              "      <td>Pria</td>\n",
              "      <td>32</td>\n",
              "      <td>Bandung</td>\n",
              "      <td>Data Scientist</td>\n",
              "    </tr>\n",
              "    <tr>\n",
              "      <th>4</th>\n",
              "      <td>Eminem</td>\n",
              "      <td>Pria</td>\n",
              "      <td>28</td>\n",
              "      <td>Jakarta</td>\n",
              "      <td>Data Analyst</td>\n",
              "    </tr>\n",
              "    <tr>\n",
              "      <th>5</th>\n",
              "      <td>Ferguson</td>\n",
              "      <td>Pria</td>\n",
              "      <td>24</td>\n",
              "      <td>Surabaya</td>\n",
              "      <td>Data Engineer</td>\n",
              "    </tr>\n",
              "    <tr>\n",
              "      <th>6</th>\n",
              "      <td>Gaga</td>\n",
              "      <td>Wanita</td>\n",
              "      <td>29</td>\n",
              "      <td>Bandung</td>\n",
              "      <td>ML Engineer</td>\n",
              "    </tr>\n",
              "    <tr>\n",
              "      <th>7</th>\n",
              "      <td>Hillary</td>\n",
              "      <td>Wanita</td>\n",
              "      <td>31</td>\n",
              "      <td>Yogyakarta</td>\n",
              "      <td>ML Researcher</td>\n",
              "    </tr>\n",
              "    <tr>\n",
              "      <th>8</th>\n",
              "      <td>Indro</td>\n",
              "      <td>Pria</td>\n",
              "      <td>30</td>\n",
              "      <td>Jakarta</td>\n",
              "      <td>BI Analyst</td>\n",
              "    </tr>\n",
              "    <tr>\n",
              "      <th>9</th>\n",
              "      <td>Joko</td>\n",
              "      <td>Pria</td>\n",
              "      <td>29</td>\n",
              "      <td>Tangerang</td>\n",
              "      <td>Data Analyst</td>\n",
              "    </tr>\n",
              "  </tbody>\n",
              "</table>\n",
              "</div>"
            ],
            "text/plain": [
              "       Nama  Gender  Umur    Domisili       Pekerjaan\n",
              "0     Adele  Wanita    24     Jakarta    Data Analyst\n",
              "1   Beyonce  Wanita    25   Tangerang   Data Engineer\n",
              "2    Camila  Wanita    30     Jakarta  Data Scientist\n",
              "3    Donald    Pria    32     Bandung  Data Scientist\n",
              "4    Eminem    Pria    28     Jakarta    Data Analyst\n",
              "5  Ferguson    Pria    24    Surabaya   Data Engineer\n",
              "6      Gaga  Wanita    29     Bandung     ML Engineer\n",
              "7   Hillary  Wanita    31  Yogyakarta   ML Researcher\n",
              "8     Indro    Pria    30     Jakarta      BI Analyst\n",
              "9      Joko    Pria    29   Tangerang    Data Analyst"
            ]
          },
          "execution_count": 15,
          "metadata": {},
          "output_type": "execute_result"
        }
      ],
      "source": [
        "# new_df = pd.DataFrame([df.Nama, df.Gender, df.Umur, df.Domisili, df.Pekerjaan]).T\n",
        "\n",
        "new_df = df.reindex(columns = ['Nama', 'Gender', 'Umur', 'Domisili', 'Pekerjaan'])\n",
        "new_df"
      ]
    },
    {
      "cell_type": "markdown",
      "metadata": {
        "id": "biXh1BpZWu63"
      },
      "source": [
        "**Step 4. Tambahkan 1 kolom baru bernama 'Hobi' dan isikan datanya seperti output berikut.**"
      ]
    },
    {
      "cell_type": "code",
      "execution_count": 16,
      "metadata": {
        "colab": {
          "base_uri": "https://localhost:8080/",
          "height": 363
        },
        "id": "ds4H0jVIWwlp",
        "outputId": "b0f96e3f-07d1-40cd-8339-cbeddca4d41e"
      },
      "outputs": [
        {
          "data": {
            "text/html": [
              "<div>\n",
              "<style scoped>\n",
              "    .dataframe tbody tr th:only-of-type {\n",
              "        vertical-align: middle;\n",
              "    }\n",
              "\n",
              "    .dataframe tbody tr th {\n",
              "        vertical-align: top;\n",
              "    }\n",
              "\n",
              "    .dataframe thead th {\n",
              "        text-align: right;\n",
              "    }\n",
              "</style>\n",
              "<table border=\"1\" class=\"dataframe\">\n",
              "  <thead>\n",
              "    <tr style=\"text-align: right;\">\n",
              "      <th></th>\n",
              "      <th>Nama</th>\n",
              "      <th>Umur</th>\n",
              "      <th>Gender</th>\n",
              "      <th>Pekerjaan</th>\n",
              "      <th>Domisili</th>\n",
              "      <th>Hobi</th>\n",
              "    </tr>\n",
              "  </thead>\n",
              "  <tbody>\n",
              "    <tr>\n",
              "      <th>0</th>\n",
              "      <td>Adele</td>\n",
              "      <td>24</td>\n",
              "      <td>Wanita</td>\n",
              "      <td>Data Analyst</td>\n",
              "      <td>Jakarta</td>\n",
              "      <td>Gaming</td>\n",
              "    </tr>\n",
              "    <tr>\n",
              "      <th>1</th>\n",
              "      <td>Beyonce</td>\n",
              "      <td>25</td>\n",
              "      <td>Wanita</td>\n",
              "      <td>Data Engineer</td>\n",
              "      <td>Tangerang</td>\n",
              "      <td>Masak</td>\n",
              "    </tr>\n",
              "    <tr>\n",
              "      <th>2</th>\n",
              "      <td>Camila</td>\n",
              "      <td>30</td>\n",
              "      <td>Wanita</td>\n",
              "      <td>Data Scientist</td>\n",
              "      <td>Jakarta</td>\n",
              "      <td>Baca</td>\n",
              "    </tr>\n",
              "    <tr>\n",
              "      <th>3</th>\n",
              "      <td>Donald</td>\n",
              "      <td>32</td>\n",
              "      <td>Pria</td>\n",
              "      <td>Data Scientist</td>\n",
              "      <td>Bandung</td>\n",
              "      <td>Gaming</td>\n",
              "    </tr>\n",
              "    <tr>\n",
              "      <th>4</th>\n",
              "      <td>Eminem</td>\n",
              "      <td>28</td>\n",
              "      <td>Pria</td>\n",
              "      <td>Data Analyst</td>\n",
              "      <td>Jakarta</td>\n",
              "      <td>Futsal</td>\n",
              "    </tr>\n",
              "    <tr>\n",
              "      <th>5</th>\n",
              "      <td>Ferguson</td>\n",
              "      <td>24</td>\n",
              "      <td>Pria</td>\n",
              "      <td>Data Engineer</td>\n",
              "      <td>Surabaya</td>\n",
              "      <td>Traveling</td>\n",
              "    </tr>\n",
              "    <tr>\n",
              "      <th>6</th>\n",
              "      <td>Gaga</td>\n",
              "      <td>29</td>\n",
              "      <td>Wanita</td>\n",
              "      <td>ML Engineer</td>\n",
              "      <td>Bandung</td>\n",
              "      <td>Basket</td>\n",
              "    </tr>\n",
              "    <tr>\n",
              "      <th>7</th>\n",
              "      <td>Hillary</td>\n",
              "      <td>31</td>\n",
              "      <td>Wanita</td>\n",
              "      <td>ML Researcher</td>\n",
              "      <td>Yogyakarta</td>\n",
              "      <td>Traveling</td>\n",
              "    </tr>\n",
              "    <tr>\n",
              "      <th>8</th>\n",
              "      <td>Indro</td>\n",
              "      <td>30</td>\n",
              "      <td>Pria</td>\n",
              "      <td>BI Analyst</td>\n",
              "      <td>Jakarta</td>\n",
              "      <td>Gaming</td>\n",
              "    </tr>\n",
              "    <tr>\n",
              "      <th>9</th>\n",
              "      <td>Joko</td>\n",
              "      <td>29</td>\n",
              "      <td>Pria</td>\n",
              "      <td>Data Analyst</td>\n",
              "      <td>Tangerang</td>\n",
              "      <td>Futsal</td>\n",
              "    </tr>\n",
              "  </tbody>\n",
              "</table>\n",
              "</div>"
            ],
            "text/plain": [
              "       Nama  Umur  Gender       Pekerjaan    Domisili       Hobi\n",
              "0     Adele    24  Wanita    Data Analyst     Jakarta     Gaming\n",
              "1   Beyonce    25  Wanita   Data Engineer   Tangerang      Masak\n",
              "2    Camila    30  Wanita  Data Scientist     Jakarta       Baca\n",
              "3    Donald    32    Pria  Data Scientist     Bandung     Gaming\n",
              "4    Eminem    28    Pria    Data Analyst     Jakarta     Futsal\n",
              "5  Ferguson    24    Pria   Data Engineer    Surabaya  Traveling\n",
              "6      Gaga    29  Wanita     ML Engineer     Bandung     Basket\n",
              "7   Hillary    31  Wanita   ML Researcher  Yogyakarta  Traveling\n",
              "8     Indro    30    Pria      BI Analyst     Jakarta     Gaming\n",
              "9      Joko    29    Pria    Data Analyst   Tangerang     Futsal"
            ]
          },
          "execution_count": 16,
          "metadata": {},
          "output_type": "execute_result"
        }
      ],
      "source": [
        "df['Hobi'] = ['Gaming', 'Masak',\n",
        "              'Baca', 'Gaming',\n",
        "              'Futsal', 'Traveling',\n",
        "              'Basket', 'Traveling',\n",
        "              'Gaming', 'Futsal']\n",
        "\n",
        "df"
      ]
    },
    {
      "cell_type": "markdown",
      "metadata": {
        "id": "GtHy7tzQWxSU"
      },
      "source": [
        "**Soal Lanjutan**"
      ]
    },
    {
      "cell_type": "markdown",
      "metadata": {
        "id": "lU6vttxRWy42"
      },
      "source": [
        "**5. Gunakan .iloc untuk mengambil data Donald, Ferguson, Hillary**"
      ]
    },
    {
      "cell_type": "code",
      "execution_count": 17,
      "metadata": {
        "colab": {
          "base_uri": "https://localhost:8080/",
          "height": 143
        },
        "id": "pc1aJYHhWz2z",
        "outputId": "6c858c03-a279-4716-9cf0-cfa5b62fd5e9"
      },
      "outputs": [
        {
          "data": {
            "text/html": [
              "<div>\n",
              "<style scoped>\n",
              "    .dataframe tbody tr th:only-of-type {\n",
              "        vertical-align: middle;\n",
              "    }\n",
              "\n",
              "    .dataframe tbody tr th {\n",
              "        vertical-align: top;\n",
              "    }\n",
              "\n",
              "    .dataframe thead th {\n",
              "        text-align: right;\n",
              "    }\n",
              "</style>\n",
              "<table border=\"1\" class=\"dataframe\">\n",
              "  <thead>\n",
              "    <tr style=\"text-align: right;\">\n",
              "      <th></th>\n",
              "      <th>Nama</th>\n",
              "      <th>Umur</th>\n",
              "      <th>Gender</th>\n",
              "      <th>Pekerjaan</th>\n",
              "      <th>Domisili</th>\n",
              "      <th>Hobi</th>\n",
              "    </tr>\n",
              "  </thead>\n",
              "  <tbody>\n",
              "    <tr>\n",
              "      <th>3</th>\n",
              "      <td>Donald</td>\n",
              "      <td>32</td>\n",
              "      <td>Pria</td>\n",
              "      <td>Data Scientist</td>\n",
              "      <td>Bandung</td>\n",
              "      <td>Gaming</td>\n",
              "    </tr>\n",
              "    <tr>\n",
              "      <th>5</th>\n",
              "      <td>Ferguson</td>\n",
              "      <td>24</td>\n",
              "      <td>Pria</td>\n",
              "      <td>Data Engineer</td>\n",
              "      <td>Surabaya</td>\n",
              "      <td>Traveling</td>\n",
              "    </tr>\n",
              "    <tr>\n",
              "      <th>7</th>\n",
              "      <td>Hillary</td>\n",
              "      <td>31</td>\n",
              "      <td>Wanita</td>\n",
              "      <td>ML Researcher</td>\n",
              "      <td>Yogyakarta</td>\n",
              "      <td>Traveling</td>\n",
              "    </tr>\n",
              "  </tbody>\n",
              "</table>\n",
              "</div>"
            ],
            "text/plain": [
              "       Nama  Umur  Gender       Pekerjaan    Domisili       Hobi\n",
              "3    Donald    32    Pria  Data Scientist     Bandung     Gaming\n",
              "5  Ferguson    24    Pria   Data Engineer    Surabaya  Traveling\n",
              "7   Hillary    31  Wanita   ML Researcher  Yogyakarta  Traveling"
            ]
          },
          "execution_count": 17,
          "metadata": {},
          "output_type": "execute_result"
        }
      ],
      "source": [
        "df.iloc[[3, 5, 7]]"
      ]
    },
    {
      "cell_type": "markdown",
      "metadata": {
        "id": "-mGDyKaIW0N_"
      },
      "source": [
        "**6. Gunakan .loc untuk menampilkan domisili dan pekerjaan dari Camila dan Indro (termasuk kolom nama)**\n"
      ]
    },
    {
      "cell_type": "code",
      "execution_count": 18,
      "metadata": {
        "colab": {
          "base_uri": "https://localhost:8080/",
          "height": 112
        },
        "id": "rbX0fDudW2GT",
        "outputId": "36fc9c63-50a2-4e11-d183-8925cd4ad933"
      },
      "outputs": [
        {
          "data": {
            "text/html": [
              "<div>\n",
              "<style scoped>\n",
              "    .dataframe tbody tr th:only-of-type {\n",
              "        vertical-align: middle;\n",
              "    }\n",
              "\n",
              "    .dataframe tbody tr th {\n",
              "        vertical-align: top;\n",
              "    }\n",
              "\n",
              "    .dataframe thead th {\n",
              "        text-align: right;\n",
              "    }\n",
              "</style>\n",
              "<table border=\"1\" class=\"dataframe\">\n",
              "  <thead>\n",
              "    <tr style=\"text-align: right;\">\n",
              "      <th></th>\n",
              "      <th>Nama</th>\n",
              "      <th>Domisili</th>\n",
              "      <th>Pekerjaan</th>\n",
              "    </tr>\n",
              "  </thead>\n",
              "  <tbody>\n",
              "    <tr>\n",
              "      <th>2</th>\n",
              "      <td>Camila</td>\n",
              "      <td>Jakarta</td>\n",
              "      <td>Data Scientist</td>\n",
              "    </tr>\n",
              "    <tr>\n",
              "      <th>8</th>\n",
              "      <td>Indro</td>\n",
              "      <td>Jakarta</td>\n",
              "      <td>BI Analyst</td>\n",
              "    </tr>\n",
              "  </tbody>\n",
              "</table>\n",
              "</div>"
            ],
            "text/plain": [
              "     Nama Domisili       Pekerjaan\n",
              "2  Camila  Jakarta  Data Scientist\n",
              "8   Indro  Jakarta      BI Analyst"
            ]
          },
          "execution_count": 18,
          "metadata": {},
          "output_type": "execute_result"
        }
      ],
      "source": [
        "df.loc[df.Nama.isin(['Camila', 'Indro']),\n",
        "       ['Nama', 'Domisili', 'Pekerjaan']]"
      ]
    },
    {
      "cell_type": "markdown",
      "metadata": {
        "id": "M_2BH5S4W3MQ"
      },
      "source": [
        "**7. Gunakan .iloc untuk menampilkan semua data dari Hillary dan Joko**"
      ]
    },
    {
      "cell_type": "code",
      "execution_count": 19,
      "metadata": {
        "colab": {
          "base_uri": "https://localhost:8080/",
          "height": 112
        },
        "id": "MucnLALRW2kh",
        "outputId": "84e81b8d-b5f9-4f68-b590-a37a52ae7a69"
      },
      "outputs": [
        {
          "data": {
            "text/html": [
              "<div>\n",
              "<style scoped>\n",
              "    .dataframe tbody tr th:only-of-type {\n",
              "        vertical-align: middle;\n",
              "    }\n",
              "\n",
              "    .dataframe tbody tr th {\n",
              "        vertical-align: top;\n",
              "    }\n",
              "\n",
              "    .dataframe thead th {\n",
              "        text-align: right;\n",
              "    }\n",
              "</style>\n",
              "<table border=\"1\" class=\"dataframe\">\n",
              "  <thead>\n",
              "    <tr style=\"text-align: right;\">\n",
              "      <th></th>\n",
              "      <th>Nama</th>\n",
              "      <th>Umur</th>\n",
              "      <th>Gender</th>\n",
              "      <th>Pekerjaan</th>\n",
              "      <th>Domisili</th>\n",
              "      <th>Hobi</th>\n",
              "    </tr>\n",
              "  </thead>\n",
              "  <tbody>\n",
              "    <tr>\n",
              "      <th>7</th>\n",
              "      <td>Hillary</td>\n",
              "      <td>31</td>\n",
              "      <td>Wanita</td>\n",
              "      <td>ML Researcher</td>\n",
              "      <td>Yogyakarta</td>\n",
              "      <td>Traveling</td>\n",
              "    </tr>\n",
              "    <tr>\n",
              "      <th>9</th>\n",
              "      <td>Joko</td>\n",
              "      <td>29</td>\n",
              "      <td>Pria</td>\n",
              "      <td>Data Analyst</td>\n",
              "      <td>Tangerang</td>\n",
              "      <td>Futsal</td>\n",
              "    </tr>\n",
              "  </tbody>\n",
              "</table>\n",
              "</div>"
            ],
            "text/plain": [
              "      Nama  Umur  Gender      Pekerjaan    Domisili       Hobi\n",
              "7  Hillary    31  Wanita  ML Researcher  Yogyakarta  Traveling\n",
              "9     Joko    29    Pria   Data Analyst   Tangerang     Futsal"
            ]
          },
          "execution_count": 19,
          "metadata": {},
          "output_type": "execute_result"
        }
      ],
      "source": [
        "df.iloc[[7, 9]]"
      ]
    },
    {
      "cell_type": "markdown",
      "metadata": {
        "id": "mmml8UvAW8Pm"
      },
      "source": [
        "**8. Siapa sajakah yang berumur lebih dari 30 tahun?**"
      ]
    },
    {
      "cell_type": "code",
      "execution_count": 20,
      "metadata": {
        "colab": {
          "base_uri": "https://localhost:8080/",
          "height": 112
        },
        "id": "It-6-u4gW9kD",
        "outputId": "aabc0745-4ab8-43a9-f7b7-da4304c148e5"
      },
      "outputs": [
        {
          "data": {
            "text/html": [
              "<div>\n",
              "<style scoped>\n",
              "    .dataframe tbody tr th:only-of-type {\n",
              "        vertical-align: middle;\n",
              "    }\n",
              "\n",
              "    .dataframe tbody tr th {\n",
              "        vertical-align: top;\n",
              "    }\n",
              "\n",
              "    .dataframe thead th {\n",
              "        text-align: right;\n",
              "    }\n",
              "</style>\n",
              "<table border=\"1\" class=\"dataframe\">\n",
              "  <thead>\n",
              "    <tr style=\"text-align: right;\">\n",
              "      <th></th>\n",
              "      <th>Nama</th>\n",
              "      <th>Umur</th>\n",
              "      <th>Gender</th>\n",
              "      <th>Pekerjaan</th>\n",
              "      <th>Domisili</th>\n",
              "      <th>Hobi</th>\n",
              "    </tr>\n",
              "  </thead>\n",
              "  <tbody>\n",
              "    <tr>\n",
              "      <th>3</th>\n",
              "      <td>Donald</td>\n",
              "      <td>32</td>\n",
              "      <td>Pria</td>\n",
              "      <td>Data Scientist</td>\n",
              "      <td>Bandung</td>\n",
              "      <td>Gaming</td>\n",
              "    </tr>\n",
              "    <tr>\n",
              "      <th>7</th>\n",
              "      <td>Hillary</td>\n",
              "      <td>31</td>\n",
              "      <td>Wanita</td>\n",
              "      <td>ML Researcher</td>\n",
              "      <td>Yogyakarta</td>\n",
              "      <td>Traveling</td>\n",
              "    </tr>\n",
              "  </tbody>\n",
              "</table>\n",
              "</div>"
            ],
            "text/plain": [
              "      Nama  Umur  Gender       Pekerjaan    Domisili       Hobi\n",
              "3   Donald    32    Pria  Data Scientist     Bandung     Gaming\n",
              "7  Hillary    31  Wanita   ML Researcher  Yogyakarta  Traveling"
            ]
          },
          "execution_count": 20,
          "metadata": {},
          "output_type": "execute_result"
        }
      ],
      "source": [
        "df[df.Umur > 30]"
      ]
    },
    {
      "cell_type": "markdown",
      "metadata": {
        "id": "XyRsVkQIW-C4"
      },
      "source": [
        "**9. Siapa sajakah yang berumur kurang dari 30 tahun dan hobinya Gaming?**"
      ]
    },
    {
      "cell_type": "code",
      "execution_count": 21,
      "metadata": {
        "colab": {
          "base_uri": "https://localhost:8080/",
          "height": 81
        },
        "id": "r8pyUxRnXAA1",
        "outputId": "d2fb817a-cff0-4518-e0a5-4e811dddc23d"
      },
      "outputs": [
        {
          "data": {
            "text/html": [
              "<div>\n",
              "<style scoped>\n",
              "    .dataframe tbody tr th:only-of-type {\n",
              "        vertical-align: middle;\n",
              "    }\n",
              "\n",
              "    .dataframe tbody tr th {\n",
              "        vertical-align: top;\n",
              "    }\n",
              "\n",
              "    .dataframe thead th {\n",
              "        text-align: right;\n",
              "    }\n",
              "</style>\n",
              "<table border=\"1\" class=\"dataframe\">\n",
              "  <thead>\n",
              "    <tr style=\"text-align: right;\">\n",
              "      <th></th>\n",
              "      <th>Nama</th>\n",
              "      <th>Umur</th>\n",
              "      <th>Gender</th>\n",
              "      <th>Pekerjaan</th>\n",
              "      <th>Domisili</th>\n",
              "      <th>Hobi</th>\n",
              "    </tr>\n",
              "  </thead>\n",
              "  <tbody>\n",
              "    <tr>\n",
              "      <th>0</th>\n",
              "      <td>Adele</td>\n",
              "      <td>24</td>\n",
              "      <td>Wanita</td>\n",
              "      <td>Data Analyst</td>\n",
              "      <td>Jakarta</td>\n",
              "      <td>Gaming</td>\n",
              "    </tr>\n",
              "  </tbody>\n",
              "</table>\n",
              "</div>"
            ],
            "text/plain": [
              "    Nama  Umur  Gender     Pekerjaan Domisili    Hobi\n",
              "0  Adele    24  Wanita  Data Analyst  Jakarta  Gaming"
            ]
          },
          "execution_count": 21,
          "metadata": {},
          "output_type": "execute_result"
        }
      ],
      "source": [
        "df[(df.Umur < 30) & (df.Hobi == 'Gaming')]"
      ]
    },
    {
      "cell_type": "markdown",
      "metadata": {
        "id": "nZszj0mxXAbv"
      },
      "source": [
        "**10. Tampilkan nama orang yang pekerjaannya adalah Data Analyst! Tampilkan kolom nama saja dalam bentuk Series!**"
      ]
    },
    {
      "cell_type": "code",
      "execution_count": 22,
      "metadata": {
        "colab": {
          "base_uri": "https://localhost:8080/"
        },
        "id": "4Ir6kmlTXBwk",
        "outputId": "a42d8993-a6f0-4470-a443-0079be1c8a4b"
      },
      "outputs": [
        {
          "data": {
            "text/plain": [
              "0     Adele\n",
              "4    Eminem\n",
              "9      Joko\n",
              "Name: Nama, dtype: object"
            ]
          },
          "execution_count": 22,
          "metadata": {},
          "output_type": "execute_result"
        }
      ],
      "source": [
        "df.loc[df.Pekerjaan == 'Data Analyst', 'Nama']"
      ]
    },
    {
      "cell_type": "markdown",
      "metadata": {
        "id": "FmuWJ9U-XCGc"
      },
      "source": [
        "**11. Apa saja pekerjaan orang-orang yang berdomisili di Jakarta? Tampilkan nama dan pekerjaannya!**"
      ]
    },
    {
      "cell_type": "code",
      "execution_count": 23,
      "metadata": {
        "colab": {
          "base_uri": "https://localhost:8080/",
          "height": 175
        },
        "id": "dwtV8ZOUmGHT",
        "outputId": "b516fbdf-425a-4aba-e875-e34f19175716"
      },
      "outputs": [
        {
          "data": {
            "text/html": [
              "<div>\n",
              "<style scoped>\n",
              "    .dataframe tbody tr th:only-of-type {\n",
              "        vertical-align: middle;\n",
              "    }\n",
              "\n",
              "    .dataframe tbody tr th {\n",
              "        vertical-align: top;\n",
              "    }\n",
              "\n",
              "    .dataframe thead th {\n",
              "        text-align: right;\n",
              "    }\n",
              "</style>\n",
              "<table border=\"1\" class=\"dataframe\">\n",
              "  <thead>\n",
              "    <tr style=\"text-align: right;\">\n",
              "      <th></th>\n",
              "      <th>Nama</th>\n",
              "      <th>Pekerjaan</th>\n",
              "    </tr>\n",
              "  </thead>\n",
              "  <tbody>\n",
              "    <tr>\n",
              "      <th>0</th>\n",
              "      <td>Adele</td>\n",
              "      <td>Data Analyst</td>\n",
              "    </tr>\n",
              "    <tr>\n",
              "      <th>2</th>\n",
              "      <td>Camila</td>\n",
              "      <td>Data Scientist</td>\n",
              "    </tr>\n",
              "    <tr>\n",
              "      <th>4</th>\n",
              "      <td>Eminem</td>\n",
              "      <td>Data Analyst</td>\n",
              "    </tr>\n",
              "    <tr>\n",
              "      <th>8</th>\n",
              "      <td>Indro</td>\n",
              "      <td>BI Analyst</td>\n",
              "    </tr>\n",
              "  </tbody>\n",
              "</table>\n",
              "</div>"
            ],
            "text/plain": [
              "     Nama       Pekerjaan\n",
              "0   Adele    Data Analyst\n",
              "2  Camila  Data Scientist\n",
              "4  Eminem    Data Analyst\n",
              "8   Indro      BI Analyst"
            ]
          },
          "execution_count": 23,
          "metadata": {},
          "output_type": "execute_result"
        }
      ],
      "source": [
        "df.loc[df.Domisili == 'Jakarta',\n",
        " ['Nama', 'Pekerjaan']]"
      ]
    },
    {
      "cell_type": "markdown",
      "metadata": {
        "id": "bNHWoGQGXDtd"
      },
      "source": [
        "**12. Apa saja hobi para wanita yang ada di dataset? Tampilkan hanya kolom Nama, Hobi, Umur secara berurutan!**"
      ]
    },
    {
      "cell_type": "code",
      "execution_count": 24,
      "metadata": {
        "colab": {
          "base_uri": "https://localhost:8080/",
          "height": 206
        },
        "id": "gCTkzbFBXEtd",
        "outputId": "449ece33-4521-465e-f474-5fd4a3029b83"
      },
      "outputs": [
        {
          "data": {
            "text/html": [
              "<div>\n",
              "<style scoped>\n",
              "    .dataframe tbody tr th:only-of-type {\n",
              "        vertical-align: middle;\n",
              "    }\n",
              "\n",
              "    .dataframe tbody tr th {\n",
              "        vertical-align: top;\n",
              "    }\n",
              "\n",
              "    .dataframe thead th {\n",
              "        text-align: right;\n",
              "    }\n",
              "</style>\n",
              "<table border=\"1\" class=\"dataframe\">\n",
              "  <thead>\n",
              "    <tr style=\"text-align: right;\">\n",
              "      <th></th>\n",
              "      <th>Nama</th>\n",
              "      <th>Hobi</th>\n",
              "      <th>Umur</th>\n",
              "    </tr>\n",
              "  </thead>\n",
              "  <tbody>\n",
              "    <tr>\n",
              "      <th>0</th>\n",
              "      <td>Adele</td>\n",
              "      <td>Gaming</td>\n",
              "      <td>24</td>\n",
              "    </tr>\n",
              "    <tr>\n",
              "      <th>1</th>\n",
              "      <td>Beyonce</td>\n",
              "      <td>Masak</td>\n",
              "      <td>25</td>\n",
              "    </tr>\n",
              "    <tr>\n",
              "      <th>2</th>\n",
              "      <td>Camila</td>\n",
              "      <td>Baca</td>\n",
              "      <td>30</td>\n",
              "    </tr>\n",
              "    <tr>\n",
              "      <th>6</th>\n",
              "      <td>Gaga</td>\n",
              "      <td>Basket</td>\n",
              "      <td>29</td>\n",
              "    </tr>\n",
              "    <tr>\n",
              "      <th>7</th>\n",
              "      <td>Hillary</td>\n",
              "      <td>Traveling</td>\n",
              "      <td>31</td>\n",
              "    </tr>\n",
              "  </tbody>\n",
              "</table>\n",
              "</div>"
            ],
            "text/plain": [
              "      Nama       Hobi  Umur\n",
              "0    Adele     Gaming    24\n",
              "1  Beyonce      Masak    25\n",
              "2   Camila       Baca    30\n",
              "6     Gaga     Basket    29\n",
              "7  Hillary  Traveling    31"
            ]
          },
          "execution_count": 24,
          "metadata": {},
          "output_type": "execute_result"
        }
      ],
      "source": [
        "df.loc[df.Gender == 'Wanita', ['Nama', 'Hobi', 'Umur']]"
      ]
    },
    {
      "cell_type": "markdown",
      "metadata": {
        "id": "FUqUY_sMXGAa"
      },
      "source": [
        "**13. Siapa saja yang berumur lebih tua dari Eminem? Tampilkan kolom nama dan umur!**"
      ]
    },
    {
      "cell_type": "code",
      "execution_count": 27,
      "metadata": {
        "colab": {
          "base_uri": "https://localhost:8080/",
          "height": 237
        },
        "id": "HVDESWbMXGLe",
        "outputId": "5a4800d1-d62c-4373-f6c7-ae49aae4bdaa"
      },
      "outputs": [
        {
          "data": {
            "text/html": [
              "<div>\n",
              "<style scoped>\n",
              "    .dataframe tbody tr th:only-of-type {\n",
              "        vertical-align: middle;\n",
              "    }\n",
              "\n",
              "    .dataframe tbody tr th {\n",
              "        vertical-align: top;\n",
              "    }\n",
              "\n",
              "    .dataframe thead th {\n",
              "        text-align: right;\n",
              "    }\n",
              "</style>\n",
              "<table border=\"1\" class=\"dataframe\">\n",
              "  <thead>\n",
              "    <tr style=\"text-align: right;\">\n",
              "      <th></th>\n",
              "      <th>Nama</th>\n",
              "      <th>Umur</th>\n",
              "    </tr>\n",
              "  </thead>\n",
              "  <tbody>\n",
              "    <tr>\n",
              "      <th>2</th>\n",
              "      <td>Camila</td>\n",
              "      <td>30</td>\n",
              "    </tr>\n",
              "    <tr>\n",
              "      <th>3</th>\n",
              "      <td>Donald</td>\n",
              "      <td>32</td>\n",
              "    </tr>\n",
              "    <tr>\n",
              "      <th>6</th>\n",
              "      <td>Gaga</td>\n",
              "      <td>29</td>\n",
              "    </tr>\n",
              "    <tr>\n",
              "      <th>7</th>\n",
              "      <td>Hillary</td>\n",
              "      <td>31</td>\n",
              "    </tr>\n",
              "    <tr>\n",
              "      <th>8</th>\n",
              "      <td>Indro</td>\n",
              "      <td>30</td>\n",
              "    </tr>\n",
              "    <tr>\n",
              "      <th>9</th>\n",
              "      <td>Joko</td>\n",
              "      <td>29</td>\n",
              "    </tr>\n",
              "  </tbody>\n",
              "</table>\n",
              "</div>"
            ],
            "text/plain": [
              "      Nama  Umur\n",
              "2   Camila    30\n",
              "3   Donald    32\n",
              "6     Gaga    29\n",
              "7  Hillary    31\n",
              "8    Indro    30\n",
              "9     Joko    29"
            ]
          },
          "execution_count": 27,
          "metadata": {},
          "output_type": "execute_result"
        }
      ],
      "source": [
        "eminem_age = df.loc[df.Nama == 'Eminem', 'Umur'].values[0]\n",
        "\n",
        "df.loc[df.Umur > eminem_age, ['Nama', 'Umur']]"
      ]
    },
    {
      "cell_type": "markdown",
      "metadata": {},
      "source": [
        "**14. Berdasarkan data, apakah ada wanita yang hobinya traveling?**"
      ]
    },
    {
      "cell_type": "code",
      "execution_count": 29,
      "metadata": {},
      "outputs": [
        {
          "data": {
            "text/html": [
              "<div>\n",
              "<style scoped>\n",
              "    .dataframe tbody tr th:only-of-type {\n",
              "        vertical-align: middle;\n",
              "    }\n",
              "\n",
              "    .dataframe tbody tr th {\n",
              "        vertical-align: top;\n",
              "    }\n",
              "\n",
              "    .dataframe thead th {\n",
              "        text-align: right;\n",
              "    }\n",
              "</style>\n",
              "<table border=\"1\" class=\"dataframe\">\n",
              "  <thead>\n",
              "    <tr style=\"text-align: right;\">\n",
              "      <th></th>\n",
              "      <th>Nama</th>\n",
              "      <th>Umur</th>\n",
              "      <th>Gender</th>\n",
              "      <th>Pekerjaan</th>\n",
              "      <th>Domisili</th>\n",
              "      <th>Hobi</th>\n",
              "    </tr>\n",
              "  </thead>\n",
              "  <tbody>\n",
              "    <tr>\n",
              "      <th>7</th>\n",
              "      <td>Hillary</td>\n",
              "      <td>31</td>\n",
              "      <td>Wanita</td>\n",
              "      <td>ML Researcher</td>\n",
              "      <td>Yogyakarta</td>\n",
              "      <td>Traveling</td>\n",
              "    </tr>\n",
              "  </tbody>\n",
              "</table>\n",
              "</div>"
            ],
            "text/plain": [
              "      Nama  Umur  Gender      Pekerjaan    Domisili       Hobi\n",
              "7  Hillary    31  Wanita  ML Researcher  Yogyakarta  Traveling"
            ]
          },
          "execution_count": 29,
          "metadata": {},
          "output_type": "execute_result"
        },
        {
          "ename": "",
          "evalue": "",
          "output_type": "error",
          "traceback": [
            "\u001b[1;31mThe Kernel crashed while executing code in the current cell or a previous cell. \n",
            "\u001b[1;31mPlease review the code in the cell(s) to identify a possible cause of the failure. \n",
            "\u001b[1;31mClick <a href='https://aka.ms/vscodeJupyterKernelCrash'>here</a> for more info. \n",
            "\u001b[1;31mView Jupyter <a href='command:jupyter.viewOutput'>log</a> for further details."
          ]
        }
      ],
      "source": [
        "df[(df.Gender == 'Wanita') & (df.Hobi == 'Traveling')]"
      ]
    }
  ],
  "metadata": {
    "colab": {
      "provenance": []
    },
    "kernelspec": {
      "display_name": "Python 3",
      "name": "python3"
    },
    "language_info": {
      "codemirror_mode": {
        "name": "ipython",
        "version": 3
      },
      "file_extension": ".py",
      "mimetype": "text/x-python",
      "name": "python",
      "nbconvert_exporter": "python",
      "pygments_lexer": "ipython3",
      "version": "3.10.11"
    }
  },
  "nbformat": 4,
  "nbformat_minor": 0
}
