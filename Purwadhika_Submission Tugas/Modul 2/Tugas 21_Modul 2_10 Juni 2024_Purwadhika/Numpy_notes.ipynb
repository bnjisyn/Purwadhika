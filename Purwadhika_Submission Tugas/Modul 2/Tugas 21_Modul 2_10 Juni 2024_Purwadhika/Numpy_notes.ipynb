{
 "cells": [
  {
   "cell_type": "markdown",
   "id": "55b40452-c608-413a-8791-b78d0978391c",
   "metadata": {},
   "source": [
    "## Numpy"
   ]
  },
  {
   "cell_type": "code",
   "execution_count": 1,
   "id": "dee785bf-46a7-47f2-90d7-94e1999f1cdd",
   "metadata": {
    "tags": []
   },
   "outputs": [],
   "source": [
    "import numpy as np"
   ]
  },
  {
   "cell_type": "code",
   "execution_count": 23,
   "id": "8c93d5e7-02a9-4819-b4a9-1b754d28bcbf",
   "metadata": {
    "tags": []
   },
   "outputs": [
    {
     "data": {
      "text/plain": [
       "array([0.38609897, 0.56261394, 0.25995996, 0.05500604, 0.82638421,\n",
       "       0.38219533, 0.25334336, 0.66591792, 0.63569994, 0.83349638])"
      ]
     },
     "execution_count": 23,
     "metadata": {},
     "output_type": "execute_result"
    }
   ],
   "source": [
    "## Membuat array dg angka Random\n",
    "np.random.rand(10)"
   ]
  },
  {
   "cell_type": "markdown",
   "id": "d9605cf3-1ebf-42b6-af0e-eadf6564186f",
   "metadata": {},
   "source": [
    "- Membuat angka random dari 0 - 1\n",
    "- .rand(Jumlah) ==> Jumlah angka yg ingin dibuat\n",
    "- Jumlah angka dalam .rand(jumlah) menunjukkan DIMENSI dari Array"
   ]
  },
  {
   "cell_type": "code",
   "execution_count": 24,
   "id": "fb7e5eb1-df2d-4317-abc6-92adb72c1aba",
   "metadata": {
    "tags": []
   },
   "outputs": [
    {
     "data": {
      "text/plain": [
       "array([[0.57231789, 0.77256505, 0.22674672],\n",
       "       [0.09563457, 0.00666493, 0.22582294],\n",
       "       [0.77848472, 0.15219077, 0.3561914 ]])"
      ]
     },
     "execution_count": 24,
     "metadata": {},
     "output_type": "execute_result"
    }
   ],
   "source": [
    "np.random.rand(3, 3)"
   ]
  },
  {
   "cell_type": "code",
   "execution_count": 26,
   "id": "1ea89d68-f122-4086-8195-d8f94494ac2f",
   "metadata": {
    "tags": []
   },
   "outputs": [
    {
     "data": {
      "text/plain": [
       "array([[[0.70293455, 0.3213885 , 0.79968668],\n",
       "        [0.53712216, 0.9640965 , 0.1952409 ]],\n",
       "\n",
       "       [[0.48212344, 0.38965082, 0.13609495],\n",
       "        [0.11193361, 0.98181152, 0.44921592]],\n",
       "\n",
       "       [[0.7141802 , 0.48942779, 0.13550438],\n",
       "        [0.5913379 , 0.71105961, 0.82705015]]])"
      ]
     },
     "execution_count": 26,
     "metadata": {},
     "output_type": "execute_result"
    }
   ],
   "source": [
    "np.random.rand(3, 2, 3)"
   ]
  },
  {
   "cell_type": "code",
   "execution_count": 27,
   "id": "eb1b1983-5210-446c-9dd0-03ad8b34e557",
   "metadata": {
    "tags": []
   },
   "outputs": [
    {
     "data": {
      "text/plain": [
       "array([[0.12833143, 0.52721929],\n",
       "       [0.58787272, 0.20213267],\n",
       "       [0.91882694, 0.17809121]])"
      ]
     },
     "execution_count": 27,
     "metadata": {},
     "output_type": "execute_result"
    }
   ],
   "source": [
    "np.random.rand(3, 2)"
   ]
  },
  {
   "cell_type": "code",
   "execution_count": 28,
   "id": "cd42dbd8-45cb-4487-bad2-c13e05ed03df",
   "metadata": {
    "tags": []
   },
   "outputs": [
    {
     "data": {
      "text/plain": [
       "array([[0.11679827, 0.66130018, 0.89190168, 0.57474607],\n",
       "       [0.49297751, 0.83802206, 0.86857671, 0.99131337],\n",
       "       [0.57471822, 0.68231691, 0.1222464 , 0.16301626]])"
      ]
     },
     "execution_count": 28,
     "metadata": {},
     "output_type": "execute_result"
    }
   ],
   "source": [
    "np.random.rand(3, 4) ## Angka pertama menunjukkan BARIS - index 0, angka kedua menunjukkan KOLOM - index - 1"
   ]
  },
  {
   "cell_type": "code",
   "execution_count": 29,
   "id": "abe41c05-5009-4e9e-af63-e55a7c3bf052",
   "metadata": {
    "tags": []
   },
   "outputs": [
    {
     "data": {
      "text/plain": [
       "array([ 0.78397004,  0.81541523,  1.19930354, -0.79114801,  0.03609558,\n",
       "       -1.51583419,  1.53225024, -1.55097098, -1.39728206,  0.07984884,\n",
       "        1.15672348,  1.58930617, -1.0870109 , -1.00027927, -0.83406891])"
      ]
     },
     "execution_count": 29,
     "metadata": {},
     "output_type": "execute_result"
    }
   ],
   "source": [
    "np.random.randn(15)"
   ]
  },
  {
   "cell_type": "code",
   "execution_count": 30,
   "id": "58eca277-8c85-452b-bdf6-adf698b342b7",
   "metadata": {
    "tags": []
   },
   "outputs": [
    {
     "data": {
      "text/plain": [
       "array([[-0.60566069, -1.25916251, -0.57838313,  1.6493605 ],\n",
       "       [ 0.66548405, -0.58459028,  0.95863942,  0.88682998],\n",
       "       [-2.27355693,  0.66487037, -0.93645675, -0.98111273]])"
      ]
     },
     "execution_count": 30,
     "metadata": {},
     "output_type": "execute_result"
    }
   ],
   "source": [
    "np.random.randn(3, 4) ## random Normal"
   ]
  },
  {
   "cell_type": "markdown",
   "id": "9154c3e2-ce7b-409f-a2d1-5f9498dc9448",
   "metadata": {},
   "source": [
    "- Membuat angka random yg terdistribusi Normal - membentuk Bell shape\n",
    "- Range  angka antara -3 s/d 3\n",
    "- Angka kebanyakan di antara -1 - 0 - 1 (sekitar 68%)"
   ]
  },
  {
   "cell_type": "code",
   "execution_count": null,
   "id": "9d4dbec4-76d2-470f-87a8-f89ecf1cea4f",
   "metadata": {},
   "outputs": [],
   "source": [
    "#pip3 install numpy"
   ]
  },
  {
   "cell_type": "code",
   "execution_count": 31,
   "id": "b64f7b6f-7c74-4ed5-be07-dc53c6c52730",
   "metadata": {
    "tags": []
   },
   "outputs": [
    {
     "data": {
      "text/plain": [
       "35"
      ]
     },
     "execution_count": 31,
     "metadata": {},
     "output_type": "execute_result"
    }
   ],
   "source": [
    "np.random.randint(50)"
   ]
  },
  {
   "cell_type": "markdown",
   "id": "0ec49c8a-d548-4c9b-a51e-2e7881442f68",
   "metadata": {},
   "source": [
    "- Membuat angka Random - Integer\n",
    "- .randint(NilaiPaling Rendah, NilaiPaling Tinggi, Jumlah)\n",
    "- Jika hanya ada 1 angka, berarti itu nilai batas atas (High)\n",
    "- Jika ada 2 angka, berarti itu nilai batas bawah (Low) dan batas atas (High)\n",
    "- Jika Jumlah angka tidak ditentukan, akan menggunakan nilai Default = 1"
   ]
  },
  {
   "cell_type": "code",
   "execution_count": 90,
   "id": "eaa69d2a-f7f6-4eb7-9162-d35e015d6c2e",
   "metadata": {
    "tags": []
   },
   "outputs": [
    {
     "data": {
      "text/plain": [
       "81"
      ]
     },
     "execution_count": 90,
     "metadata": {},
     "output_type": "execute_result"
    }
   ],
   "source": [
    "np.random.randint(80, 90)"
   ]
  },
  {
   "cell_type": "code",
   "execution_count": 92,
   "id": "07ab3aee-058a-4b76-b7ab-f51fd05cbdf2",
   "metadata": {
    "tags": []
   },
   "outputs": [
    {
     "data": {
      "text/plain": [
       "array([11, 11, 15, 14, 15, 13, 17, 17, 15, 14, 13, 11, 14, 15, 16, 17, 12,\n",
       "       10, 13, 11, 15, 19, 15, 17, 12])"
      ]
     },
     "execution_count": 92,
     "metadata": {},
     "output_type": "execute_result"
    }
   ],
   "source": [
    "np.random.randint(10, 20, 25)\n",
    "## Membuat angka random dari 10 - 20, sejumlah 25 angka"
   ]
  },
  {
   "cell_type": "code",
   "execution_count": 93,
   "id": "ba5be430-655e-47b5-a581-fdf378b3893a",
   "metadata": {
    "tags": []
   },
   "outputs": [],
   "source": [
    "## Array Multidimensi - Matrix\n",
    "A = [\n",
    "[1,2,3],\n",
    "[4,5,6],\n",
    "[7,8,9]]"
   ]
  },
  {
   "cell_type": "code",
   "execution_count": 94,
   "id": "111c48ea-2aa0-4077-8e27-7673cfa7c0f3",
   "metadata": {
    "tags": []
   },
   "outputs": [],
   "source": [
    "Mat = np.array(A)"
   ]
  },
  {
   "cell_type": "code",
   "execution_count": 109,
   "id": "d52886ea-e475-49a1-8f5b-1117d053acd8",
   "metadata": {
    "tags": []
   },
   "outputs": [],
   "source": [
    "B = [5, 8, 90, 12, 10.5]"
   ]
  },
  {
   "cell_type": "code",
   "execution_count": 110,
   "id": "6d7207fe-414a-4b59-a23d-851f98f0f59c",
   "metadata": {
    "tags": []
   },
   "outputs": [],
   "source": [
    "Vect = np.array(B)"
   ]
  },
  {
   "cell_type": "code",
   "execution_count": 97,
   "id": "72d78481-a71f-4803-8a35-bb6d90a9a5e7",
   "metadata": {
    "tags": []
   },
   "outputs": [
    {
     "data": {
      "text/plain": [
       "array([[1, 2, 3],\n",
       "       [4, 5, 6],\n",
       "       [7, 8, 9]])"
      ]
     },
     "execution_count": 97,
     "metadata": {},
     "output_type": "execute_result"
    }
   ],
   "source": [
    "Mat"
   ]
  },
  {
   "cell_type": "code",
   "execution_count": 98,
   "id": "852a3fe7-75eb-4273-aa35-bf8d168c73f5",
   "metadata": {
    "tags": []
   },
   "outputs": [
    {
     "data": {
      "text/plain": [
       "array([ 5,  8, 90, 12, 10])"
      ]
     },
     "execution_count": 98,
     "metadata": {},
     "output_type": "execute_result"
    }
   ],
   "source": [
    "Vect"
   ]
  },
  {
   "cell_type": "code",
   "execution_count": 99,
   "id": "049bb0f0-0821-4aaf-84f7-989bbc39dfd1",
   "metadata": {
    "tags": []
   },
   "outputs": [
    {
     "data": {
      "text/plain": [
       "numpy.ndarray"
      ]
     },
     "execution_count": 99,
     "metadata": {},
     "output_type": "execute_result"
    }
   ],
   "source": [
    "type(Mat)"
   ]
  },
  {
   "cell_type": "code",
   "execution_count": 100,
   "id": "104a0ac8-d209-47fd-a7a6-3b2b1e399087",
   "metadata": {
    "tags": []
   },
   "outputs": [
    {
     "data": {
      "text/plain": [
       "numpy.ndarray"
      ]
     },
     "execution_count": 100,
     "metadata": {},
     "output_type": "execute_result"
    }
   ],
   "source": [
    "type(Vect)"
   ]
  },
  {
   "cell_type": "code",
   "execution_count": 101,
   "id": "3067f2cf-64d2-4649-b7a7-219fb47b2d01",
   "metadata": {
    "tags": []
   },
   "outputs": [
    {
     "data": {
      "text/plain": [
       "2"
      ]
     },
     "execution_count": 101,
     "metadata": {},
     "output_type": "execute_result"
    }
   ],
   "source": [
    "Mat.ndim ## Melihat dimensi dari Array ==> 2 dimensi"
   ]
  },
  {
   "cell_type": "code",
   "execution_count": 102,
   "id": "7bd0186e-0b7f-4201-a20e-8f5564eac7e2",
   "metadata": {
    "tags": []
   },
   "outputs": [
    {
     "data": {
      "text/plain": [
       "1"
      ]
     },
     "execution_count": 102,
     "metadata": {},
     "output_type": "execute_result"
    }
   ],
   "source": [
    "Vect.ndim ## 1 dimensi"
   ]
  },
  {
   "cell_type": "code",
   "execution_count": 103,
   "id": "a7b1d375-2231-488e-89b7-b9b08ec224ad",
   "metadata": {
    "tags": []
   },
   "outputs": [
    {
     "data": {
      "text/plain": [
       "9"
      ]
     },
     "execution_count": 103,
     "metadata": {},
     "output_type": "execute_result"
    }
   ],
   "source": [
    "Mat.size ## untuk melihat ukuran/jumlah isi data dari Array = 9 "
   ]
  },
  {
   "cell_type": "code",
   "execution_count": 104,
   "id": "cbf33abe-027a-4bab-838d-cccc212a5d29",
   "metadata": {
    "tags": []
   },
   "outputs": [
    {
     "data": {
      "text/plain": [
       "5"
      ]
     },
     "execution_count": 104,
     "metadata": {},
     "output_type": "execute_result"
    }
   ],
   "source": [
    "Vect.size"
   ]
  },
  {
   "cell_type": "code",
   "execution_count": 105,
   "id": "1713e89c-a7cc-4d22-8032-6e4ddc25f3d4",
   "metadata": {
    "tags": []
   },
   "outputs": [
    {
     "data": {
      "text/plain": [
       "3"
      ]
     },
     "execution_count": 105,
     "metadata": {},
     "output_type": "execute_result"
    }
   ],
   "source": [
    "len(Mat)"
   ]
  },
  {
   "cell_type": "code",
   "execution_count": 106,
   "id": "5db7dff0-48f4-41d7-bb60-eea61a75bf01",
   "metadata": {
    "tags": []
   },
   "outputs": [
    {
     "data": {
      "text/plain": [
       "5"
      ]
     },
     "execution_count": 106,
     "metadata": {},
     "output_type": "execute_result"
    }
   ],
   "source": [
    "len(Vect)\n",
    "## Jika Array 1 dimensi, Nilai dari Len dan Size akan sama"
   ]
  },
  {
   "cell_type": "code",
   "execution_count": 107,
   "id": "530a6b12-ed7e-4aa7-a320-1fface23dc74",
   "metadata": {
    "tags": []
   },
   "outputs": [
    {
     "data": {
      "text/plain": [
       "dtype('int32')"
      ]
     },
     "execution_count": 107,
     "metadata": {},
     "output_type": "execute_result"
    }
   ],
   "source": [
    "Mat.dtype ## Melihat tipe data dalam Array --> hanya ada 1 tipe data"
   ]
  },
  {
   "cell_type": "code",
   "execution_count": 111,
   "id": "8fc63cbb-158e-408d-a6da-25cb095a3121",
   "metadata": {
    "tags": []
   },
   "outputs": [
    {
     "data": {
      "text/plain": [
       "dtype('float64')"
      ]
     },
     "execution_count": 111,
     "metadata": {},
     "output_type": "execute_result"
    }
   ],
   "source": [
    "Vect.dtype"
   ]
  },
  {
   "cell_type": "code",
   "execution_count": 112,
   "id": "fed059ac-9803-481e-a208-6efe7b99623c",
   "metadata": {
    "tags": []
   },
   "outputs": [
    {
     "data": {
      "text/plain": [
       "array([ 5. ,  8. , 90. , 12. , 10.5])"
      ]
     },
     "execution_count": 112,
     "metadata": {},
     "output_type": "execute_result"
    }
   ],
   "source": [
    "Vect"
   ]
  },
  {
   "cell_type": "code",
   "execution_count": 113,
   "id": "959778ce-5c0c-47f1-a097-7e2090630e88",
   "metadata": {
    "tags": []
   },
   "outputs": [
    {
     "data": {
      "text/plain": [
       "array([[1, 2, 3],\n",
       "       [4, 5, 6],\n",
       "       [7, 8, 9]])"
      ]
     },
     "execution_count": 113,
     "metadata": {},
     "output_type": "execute_result"
    }
   ],
   "source": [
    "Mat"
   ]
  },
  {
   "cell_type": "code",
   "execution_count": 114,
   "id": "8eee3358-a01c-40ec-89a9-a296e864fd4c",
   "metadata": {
    "tags": []
   },
   "outputs": [],
   "source": [
    "MatF = Mat.astype('float') ## Mengubah tipe data dari Array"
   ]
  },
  {
   "cell_type": "code",
   "execution_count": 115,
   "id": "e89326e7-aab9-4b34-a9ef-c8ddf1f6a9e2",
   "metadata": {
    "tags": []
   },
   "outputs": [
    {
     "data": {
      "text/plain": [
       "8"
      ]
     },
     "execution_count": 115,
     "metadata": {},
     "output_type": "execute_result"
    }
   ],
   "source": [
    "float(20)\n",
    "int('8')"
   ]
  },
  {
   "cell_type": "code",
   "execution_count": 116,
   "id": "e4f913ee-07f0-4af4-bdbd-b26cee922c1b",
   "metadata": {
    "tags": []
   },
   "outputs": [
    {
     "data": {
      "text/plain": [
       "array([[1., 2., 3.],\n",
       "       [4., 5., 6.],\n",
       "       [7., 8., 9.]])"
      ]
     },
     "execution_count": 116,
     "metadata": {},
     "output_type": "execute_result"
    }
   ],
   "source": [
    "MatF"
   ]
  },
  {
   "cell_type": "code",
   "execution_count": 117,
   "id": "ee0bc3c6-35ca-4ef4-abde-1eb029df53c2",
   "metadata": {
    "tags": []
   },
   "outputs": [
    {
     "data": {
      "text/plain": [
       "dtype('float64')"
      ]
     },
     "execution_count": 117,
     "metadata": {},
     "output_type": "execute_result"
    }
   ],
   "source": [
    "MatF.dtype"
   ]
  },
  {
   "cell_type": "markdown",
   "id": "b82fa21d-e24f-445f-8751-5cb6f6f8a6f0",
   "metadata": {},
   "source": [
    "- Array hanya dapat memiliki 1 tipe data, sehingga fungsi .astype() akan mengubah seluruh tipe data"
   ]
  },
  {
   "cell_type": "markdown",
   "id": "51f88457-df47-4b07-b816-014bb9519acb",
   "metadata": {
    "tags": []
   },
   "source": [
    "================================================================================================\n",
    "\n",
    "Cara mengakses Array\n",
    "- Mengakses Array sama seperti akses List basic bahkan lebih fleksibel "
   ]
  },
  {
   "cell_type": "code",
   "execution_count": 120,
   "id": "538df37f-457b-410c-91a3-bf8bef88adbf",
   "metadata": {
    "tags": []
   },
   "outputs": [],
   "source": [
    "Num = np.arange(1, 16) ** 2"
   ]
  },
  {
   "cell_type": "code",
   "execution_count": 121,
   "id": "84755b1f-8785-40a8-85ff-211a9d856174",
   "metadata": {
    "tags": []
   },
   "outputs": [
    {
     "data": {
      "text/plain": [
       "array([  1,   4,   9,  16,  25,  36,  49,  64,  81, 100, 121, 144, 169,\n",
       "       196, 225])"
      ]
     },
     "execution_count": 121,
     "metadata": {},
     "output_type": "execute_result"
    }
   ],
   "source": [
    "Num"
   ]
  },
  {
   "cell_type": "code",
   "execution_count": 122,
   "id": "a1481808-eac4-4bda-9464-87e01483db5d",
   "metadata": {
    "tags": []
   },
   "outputs": [],
   "source": [
    "## Akses menggunakan Indexing\n"
   ]
  },
  {
   "cell_type": "code",
   "execution_count": 123,
   "id": "997ffb66-24e3-46ba-9a8f-2937b7da168a",
   "metadata": {
    "tags": []
   },
   "outputs": [
    {
     "data": {
      "text/plain": [
       "25"
      ]
     },
     "execution_count": 123,
     "metadata": {},
     "output_type": "execute_result"
    }
   ],
   "source": [
    "Num[4]"
   ]
  },
  {
   "cell_type": "code",
   "execution_count": 124,
   "id": "744c4f7e-050e-425d-b815-05a31f0c3aa8",
   "metadata": {
    "tags": []
   },
   "outputs": [
    {
     "data": {
      "text/plain": [
       "9"
      ]
     },
     "execution_count": 124,
     "metadata": {},
     "output_type": "execute_result"
    }
   ],
   "source": [
    "Num[2]"
   ]
  },
  {
   "cell_type": "code",
   "execution_count": 125,
   "id": "54a031f0-262f-422b-b233-e74e8801fb5c",
   "metadata": {
    "tags": []
   },
   "outputs": [
    {
     "data": {
      "text/plain": [
       "225"
      ]
     },
     "execution_count": 125,
     "metadata": {},
     "output_type": "execute_result"
    }
   ],
   "source": [
    "Num[-1]"
   ]
  },
  {
   "cell_type": "code",
   "execution_count": 126,
   "id": "481fa7d6-30ab-4ddd-97f1-e90e841cafea",
   "metadata": {
    "tags": []
   },
   "outputs": [
    {
     "ename": "IndexError",
     "evalue": "index 18 is out of bounds for axis 0 with size 15",
     "output_type": "error",
     "traceback": [
      "\u001b[1;31m---------------------------------------------------------------------------\u001b[0m",
      "\u001b[1;31mIndexError\u001b[0m                                Traceback (most recent call last)",
      "Cell \u001b[1;32mIn[126], line 1\u001b[0m\n\u001b[1;32m----> 1\u001b[0m Num[\u001b[38;5;241m18\u001b[39m]\n",
      "\u001b[1;31mIndexError\u001b[0m: index 18 is out of bounds for axis 0 with size 15"
     ]
    }
   ],
   "source": [
    "Num[18] ## akan error karena jumlah data 15, index max = 14"
   ]
  },
  {
   "cell_type": "code",
   "execution_count": 127,
   "id": "5e052f37-8e90-485a-8a56-a16ad9ee1bc8",
   "metadata": {
    "tags": []
   },
   "outputs": [
    {
     "data": {
      "text/plain": [
       "array([ 9, 16, 25])"
      ]
     },
     "execution_count": 127,
     "metadata": {},
     "output_type": "execute_result"
    }
   ],
   "source": [
    "## Slicing\n",
    "Num[2:5]"
   ]
  },
  {
   "cell_type": "code",
   "execution_count": 128,
   "id": "cded6db3-f49e-4a82-9a9d-3cb0ea4fedb5",
   "metadata": {
    "tags": []
   },
   "outputs": [
    {
     "data": {
      "text/plain": [
       "array([ 1,  4,  9, 16])"
      ]
     },
     "execution_count": 128,
     "metadata": {},
     "output_type": "execute_result"
    }
   ],
   "source": [
    "Num[:4]"
   ]
  },
  {
   "cell_type": "code",
   "execution_count": 129,
   "id": "8b4c84c2-f5c4-4d21-9b5d-01da6999473a",
   "metadata": {
    "tags": []
   },
   "outputs": [
    {
     "data": {
      "text/plain": [
       "array([ 25,  36,  49,  64,  81, 100, 121, 144, 169, 196, 225])"
      ]
     },
     "execution_count": 129,
     "metadata": {},
     "output_type": "execute_result"
    }
   ],
   "source": [
    "Num[4:]"
   ]
  },
  {
   "cell_type": "code",
   "execution_count": 158,
   "id": "15fb97ed-2973-4820-813c-30cbd9cd3c14",
   "metadata": {
    "tags": []
   },
   "outputs": [],
   "source": [
    "A = [\n",
    "[1,2,3,4,5],\n",
    "[6,7,8,9,10],\n",
    "[11,12,13,14,15],\n",
    "[16,17,18,19,20],\n",
    "[21,22,23,24,25]]"
   ]
  },
  {
   "cell_type": "code",
   "execution_count": 159,
   "id": "e8868639-41ed-4999-b36e-34bdc5189173",
   "metadata": {
    "tags": []
   },
   "outputs": [],
   "source": [
    "MatA = np.array(A)"
   ]
  },
  {
   "cell_type": "code",
   "execution_count": 132,
   "id": "9e1d4744-399e-47f3-ba91-595e8880bfc3",
   "metadata": {
    "tags": []
   },
   "outputs": [
    {
     "data": {
      "text/plain": [
       "[[1, 2, 3, 4, 5], [6, 7, 8, 9, 10], [11, 12, 13, 14, 15]]"
      ]
     },
     "execution_count": 132,
     "metadata": {},
     "output_type": "execute_result"
    }
   ],
   "source": [
    "A"
   ]
  },
  {
   "cell_type": "code",
   "execution_count": 133,
   "id": "7dde1dcf-d44d-4ce3-85a3-d8be8ce28edd",
   "metadata": {
    "tags": []
   },
   "outputs": [
    {
     "data": {
      "text/plain": [
       "array([[ 1,  2,  3,  4,  5],\n",
       "       [ 6,  7,  8,  9, 10],\n",
       "       [11, 12, 13, 14, 15]])"
      ]
     },
     "execution_count": 133,
     "metadata": {},
     "output_type": "execute_result"
    }
   ],
   "source": [
    "MatA"
   ]
  },
  {
   "cell_type": "code",
   "execution_count": 134,
   "id": "7952c074-6bdc-498b-b9cb-02ab2f3b197e",
   "metadata": {
    "tags": []
   },
   "outputs": [
    {
     "data": {
      "text/plain": [
       "3"
      ]
     },
     "execution_count": 134,
     "metadata": {},
     "output_type": "execute_result"
    }
   ],
   "source": [
    "MatA[0][2]  ### Akses index 0 (dimensi 1), dan Index ke 2 (dimensi 2)"
   ]
  },
  {
   "cell_type": "code",
   "execution_count": 136,
   "id": "638079d4-8eb6-4d80-a3b4-b41d5514b055",
   "metadata": {
    "tags": []
   },
   "outputs": [
    {
     "data": {
      "text/plain": [
       "3"
      ]
     },
     "execution_count": 136,
     "metadata": {},
     "output_type": "execute_result"
    }
   ],
   "source": [
    "A[0][2]"
   ]
  },
  {
   "cell_type": "code",
   "execution_count": 137,
   "id": "355d92bd-9c50-4cbe-b6d7-2147da23dcf3",
   "metadata": {
    "tags": []
   },
   "outputs": [
    {
     "data": {
      "text/plain": [
       "8"
      ]
     },
     "execution_count": 137,
     "metadata": {},
     "output_type": "execute_result"
    }
   ],
   "source": [
    "A[1][2]"
   ]
  },
  {
   "cell_type": "code",
   "execution_count": 138,
   "id": "950cab52-28cb-4788-a8d6-3e0a4c225e72",
   "metadata": {
    "tags": []
   },
   "outputs": [
    {
     "data": {
      "text/plain": [
       "8"
      ]
     },
     "execution_count": 138,
     "metadata": {},
     "output_type": "execute_result"
    }
   ],
   "source": [
    "MatA[1][2]"
   ]
  },
  {
   "cell_type": "code",
   "execution_count": 139,
   "id": "20712d63-1a95-4508-9dbb-35c8449208af",
   "metadata": {
    "tags": []
   },
   "outputs": [
    {
     "data": {
      "text/plain": [
       "8"
      ]
     },
     "execution_count": 139,
     "metadata": {},
     "output_type": "execute_result"
    }
   ],
   "source": [
    "MatA[1, 2]"
   ]
  },
  {
   "cell_type": "code",
   "execution_count": 140,
   "id": "50ab57bb-0396-4de2-90f7-44b696a3f9ef",
   "metadata": {
    "tags": []
   },
   "outputs": [
    {
     "ename": "TypeError",
     "evalue": "list indices must be integers or slices, not tuple",
     "output_type": "error",
     "traceback": [
      "\u001b[1;31m---------------------------------------------------------------------------\u001b[0m",
      "\u001b[1;31mTypeError\u001b[0m                                 Traceback (most recent call last)",
      "Cell \u001b[1;32mIn[140], line 1\u001b[0m\n\u001b[1;32m----> 1\u001b[0m A[\u001b[38;5;241m1\u001b[39m, \u001b[38;5;241m2\u001b[39m]\n",
      "\u001b[1;31mTypeError\u001b[0m: list indices must be integers or slices, not tuple"
     ]
    }
   ],
   "source": [
    "A[1, 2] ## akan error, karena Index untuk List basic python harus INteger"
   ]
  },
  {
   "cell_type": "code",
   "execution_count": 141,
   "id": "2ac1f4a7-0d9c-4069-b2e8-16f21153b2ac",
   "metadata": {
    "tags": []
   },
   "outputs": [
    {
     "data": {
      "text/plain": [
       "array([11, 12, 13, 14, 15])"
      ]
     },
     "execution_count": 141,
     "metadata": {},
     "output_type": "execute_result"
    }
   ],
   "source": [
    "MatA[:][2]"
   ]
  },
  {
   "cell_type": "code",
   "execution_count": 142,
   "id": "69818591-63ef-444a-9ca0-708e348be2fe",
   "metadata": {
    "tags": []
   },
   "outputs": [
    {
     "data": {
      "text/plain": [
       "array([11, 12, 13, 14, 15])"
      ]
     },
     "execution_count": 142,
     "metadata": {},
     "output_type": "execute_result"
    }
   ],
   "source": [
    "MatA[2]"
   ]
  },
  {
   "cell_type": "code",
   "execution_count": 143,
   "id": "7b7bb67e-550a-4ecd-9d9f-554fc9f52425",
   "metadata": {
    "tags": []
   },
   "outputs": [
    {
     "data": {
      "text/plain": [
       "array([ 3,  8, 13])"
      ]
     },
     "execution_count": 143,
     "metadata": {},
     "output_type": "execute_result"
    }
   ],
   "source": [
    "MatA[:, 2]"
   ]
  },
  {
   "cell_type": "code",
   "execution_count": 144,
   "id": "df316e4f-22d2-4c86-bc6c-c0a29d6436ba",
   "metadata": {
    "tags": []
   },
   "outputs": [
    {
     "data": {
      "text/plain": [
       "array([[ 1,  2,  3,  4,  5],\n",
       "       [ 6,  7,  8,  9, 10],\n",
       "       [11, 12, 13, 14, 15]])"
      ]
     },
     "execution_count": 144,
     "metadata": {},
     "output_type": "execute_result"
    }
   ],
   "source": [
    "MatA"
   ]
  },
  {
   "cell_type": "code",
   "execution_count": 148,
   "id": "eee62c1a-f9e8-444d-82a0-0438194acd77",
   "metadata": {
    "tags": []
   },
   "outputs": [
    {
     "data": {
      "text/plain": [
       "array([1, 2, 3, 4, 5])"
      ]
     },
     "execution_count": 148,
     "metadata": {},
     "output_type": "execute_result"
    }
   ],
   "source": [
    "MatA[:][0]"
   ]
  },
  {
   "cell_type": "code",
   "execution_count": 149,
   "id": "b434dde4-71fa-4eee-82ea-484daec8aadb",
   "metadata": {
    "tags": []
   },
   "outputs": [
    {
     "data": {
      "text/plain": [
       "array([ 6,  7,  8,  9, 10])"
      ]
     },
     "execution_count": 149,
     "metadata": {},
     "output_type": "execute_result"
    }
   ],
   "source": [
    "MatA[1]"
   ]
  },
  {
   "cell_type": "code",
   "execution_count": 150,
   "id": "f1df7675-805a-4850-a922-8056ec066998",
   "metadata": {
    "tags": []
   },
   "outputs": [
    {
     "data": {
      "text/plain": [
       "array([ 6,  7,  8,  9, 10])"
      ]
     },
     "execution_count": 150,
     "metadata": {},
     "output_type": "execute_result"
    }
   ],
   "source": [
    "MatA[:][1]"
   ]
  },
  {
   "cell_type": "code",
   "execution_count": 151,
   "id": "3d10373d-e649-4111-99a7-7797d9ad0ddd",
   "metadata": {
    "tags": []
   },
   "outputs": [
    {
     "data": {
      "text/plain": [
       "array([[ 1,  2,  3,  4,  5],\n",
       "       [ 6,  7,  8,  9, 10]])"
      ]
     },
     "execution_count": 151,
     "metadata": {},
     "output_type": "execute_result"
    }
   ],
   "source": [
    "MatA[:2]"
   ]
  },
  {
   "cell_type": "code",
   "execution_count": 160,
   "id": "685a72e7-0192-456b-bd5e-ec0ad2033bff",
   "metadata": {
    "tags": []
   },
   "outputs": [
    {
     "data": {
      "text/plain": [
       "array([[ 1,  2,  3,  4,  5],\n",
       "       [ 6,  7,  8,  9, 10],\n",
       "       [11, 12, 13, 14, 15],\n",
       "       [16, 17, 18, 19, 20],\n",
       "       [21, 22, 23, 24, 25]])"
      ]
     },
     "execution_count": 160,
     "metadata": {},
     "output_type": "execute_result"
    }
   ],
   "source": [
    "MatA"
   ]
  },
  {
   "cell_type": "code",
   "execution_count": 161,
   "id": "22d54c92-fafb-430f-98ae-9b784e667ebf",
   "metadata": {
    "tags": []
   },
   "outputs": [
    {
     "data": {
      "text/plain": [
       "array([ 3,  8, 13, 18, 23])"
      ]
     },
     "execution_count": 161,
     "metadata": {},
     "output_type": "execute_result"
    }
   ],
   "source": [
    "MatA[:, 2]"
   ]
  },
  {
   "cell_type": "code",
   "execution_count": null,
   "id": "59f91b96-7664-473f-84d7-1c977fc4e218",
   "metadata": {},
   "outputs": [],
   "source": [
    "## Akses Seluruh Baris (dimensi 1), Kemudian akses Index 2 untuk SETIAP Elemen (Baris)\n",
    "- Jika menggunakan KOMA di dalam kurung siku\n",
    "Nilai Sebelum KOMA berarti BARIS yg akan diakses\n",
    "Nilai setelah KOMA berarti KOLOM yg akan diakses"
   ]
  },
  {
   "cell_type": "code",
   "execution_count": 162,
   "id": "29120c13-e523-468d-a4ee-1c23890a91a6",
   "metadata": {
    "tags": []
   },
   "outputs": [
    {
     "data": {
      "text/plain": [
       "array([ 4,  9, 14, 19, 24])"
      ]
     },
     "execution_count": 162,
     "metadata": {},
     "output_type": "execute_result"
    }
   ],
   "source": [
    "MatA[:, 3]"
   ]
  },
  {
   "cell_type": "code",
   "execution_count": 163,
   "id": "1a25cc1b-ecf9-400d-b4ea-89480608f91a",
   "metadata": {
    "tags": []
   },
   "outputs": [
    {
     "data": {
      "text/plain": [
       "array([ 5, 10, 15, 20, 25])"
      ]
     },
     "execution_count": 163,
     "metadata": {},
     "output_type": "execute_result"
    }
   ],
   "source": [
    "MatA[:, 4]"
   ]
  },
  {
   "cell_type": "code",
   "execution_count": 164,
   "id": "e07e382b-abe3-493b-8bde-f431f2f9baa0",
   "metadata": {
    "tags": []
   },
   "outputs": [
    {
     "data": {
      "text/plain": [
       "array([ 9, 14, 19])"
      ]
     },
     "execution_count": 164,
     "metadata": {},
     "output_type": "execute_result"
    }
   ],
   "source": [
    "MatA[1:4 , 3 ]\n",
    "## Mengakses BARIS Index 1 - 3\n",
    "## Mengakses KOLOM Index 3"
   ]
  },
  {
   "cell_type": "code",
   "execution_count": 165,
   "id": "867c3e58-2e15-4a28-9f2b-5202c4c735f3",
   "metadata": {
    "tags": []
   },
   "outputs": [
    {
     "data": {
      "text/plain": [
       "array([[ 2,  3,  4],\n",
       "       [ 7,  8,  9],\n",
       "       [12, 13, 14]])"
      ]
     },
     "execution_count": 165,
     "metadata": {},
     "output_type": "execute_result"
    }
   ],
   "source": [
    "MatA[:3, 1:4]\n",
    "## Akses BARIS Index awal - 2\n",
    "## Akses KOLOM Index 1 - 3"
   ]
  },
  {
   "cell_type": "code",
   "execution_count": 166,
   "id": "f1433253-38ce-4af0-a1e8-77ce40b89e44",
   "metadata": {
    "tags": []
   },
   "outputs": [
    {
     "data": {
      "text/plain": [
       "array([], shape=(0, 5), dtype=int32)"
      ]
     },
     "execution_count": 166,
     "metadata": {},
     "output_type": "execute_result"
    }
   ],
   "source": [
    "MatA[:2][2:4]"
   ]
  },
  {
   "cell_type": "code",
   "execution_count": 168,
   "id": "e3cd0188-4960-4e4f-a847-1e9ef79806c2",
   "metadata": {
    "tags": []
   },
   "outputs": [
    {
     "data": {
      "text/plain": [
       "array([[3, 4],\n",
       "       [8, 9]])"
      ]
     },
     "execution_count": 168,
     "metadata": {},
     "output_type": "execute_result"
    }
   ],
   "source": [
    "MatA[:2, 2:4]"
   ]
  },
  {
   "cell_type": "code",
   "execution_count": 177,
   "id": "52b98b48-1628-47ec-b699-d0ca5629552c",
   "metadata": {
    "tags": []
   },
   "outputs": [],
   "source": [
    "S = [9, 60, 20, 25, 68, 10, 2, 2, 31, 56, 8, 60, 63, 75, 99]\n",
    "data = np.array(S)"
   ]
  },
  {
   "cell_type": "code",
   "execution_count": 178,
   "id": "edcb9d66-588b-46b2-886f-f5a9cbb6f463",
   "metadata": {
    "tags": []
   },
   "outputs": [
    {
     "data": {
      "text/plain": [
       "array([ 9, 60, 20, 25, 68, 10,  2,  2, 31, 56,  8, 60, 63, 75, 99])"
      ]
     },
     "execution_count": 178,
     "metadata": {},
     "output_type": "execute_result"
    }
   ],
   "source": [
    "data"
   ]
  },
  {
   "cell_type": "code",
   "execution_count": 179,
   "id": "85504fd0-c7f9-4c70-966d-b7080faa21a4",
   "metadata": {
    "tags": []
   },
   "outputs": [
    {
     "data": {
      "text/plain": [
       "15"
      ]
     },
     "execution_count": 179,
     "metadata": {},
     "output_type": "execute_result"
    }
   ],
   "source": [
    "len(data)"
   ]
  },
  {
   "cell_type": "code",
   "execution_count": 180,
   "id": "7893d44d-10cc-4600-907b-f125b82a5600",
   "metadata": {
    "tags": []
   },
   "outputs": [
    {
     "data": {
      "text/plain": [
       "array([ 2,  2,  8,  9, 10, 20, 25, 31, 56, 60, 60, 63, 68, 75, 99])"
      ]
     },
     "execution_count": 180,
     "metadata": {},
     "output_type": "execute_result"
    }
   ],
   "source": [
    "np.sort(data)"
   ]
  },
  {
   "cell_type": "code",
   "execution_count": 176,
   "id": "b7e52466-2436-487f-8032-4901c0204657",
   "metadata": {
    "tags": []
   },
   "outputs": [
    {
     "data": {
      "text/plain": [
       "28.0"
      ]
     },
     "execution_count": 176,
     "metadata": {},
     "output_type": "execute_result"
    }
   ],
   "source": [
    "(25+31)/2"
   ]
  },
  {
   "cell_type": "code",
   "execution_count": 172,
   "id": "1f39a437-3492-45b6-aed7-876774545e32",
   "metadata": {
    "tags": []
   },
   "outputs": [
    {
     "data": {
      "text/plain": [
       "34.92857142857143"
      ]
     },
     "execution_count": 172,
     "metadata": {},
     "output_type": "execute_result"
    }
   ],
   "source": [
    "np.mean(data) ### Untuk menghitung rata-rata"
   ]
  },
  {
   "cell_type": "code",
   "execution_count": 181,
   "id": "a02343f8-2f13-46aa-948c-bd7e22c83c49",
   "metadata": {
    "tags": []
   },
   "outputs": [
    {
     "data": {
      "text/plain": [
       "31.0"
      ]
     },
     "execution_count": 181,
     "metadata": {},
     "output_type": "execute_result"
    }
   ],
   "source": [
    "np.median(data) ### Untuk hitung Median - Nilai tengah ==> Q2  ==> 50%"
   ]
  },
  {
   "cell_type": "code",
   "execution_count": 182,
   "id": "b9e3863f-f930-4774-8681-6ca0eed0a7ef",
   "metadata": {
    "tags": []
   },
   "outputs": [
    {
     "data": {
      "text/plain": [
       "9.5"
      ]
     },
     "execution_count": 182,
     "metadata": {},
     "output_type": "execute_result"
    }
   ],
   "source": [
    "np.percentile(data, 25) ## untuk menghitung percentile 25% ---> Q1"
   ]
  },
  {
   "cell_type": "code",
   "execution_count": 184,
   "id": "ee8a1c16-d3b3-487b-9548-41f16b81ba35",
   "metadata": {
    "tags": []
   },
   "outputs": [
    {
     "data": {
      "text/plain": [
       "61.5"
      ]
     },
     "execution_count": 184,
     "metadata": {},
     "output_type": "execute_result"
    }
   ],
   "source": [
    "np.percentile(data, 75) ## untuk menghitung percentile 75% ---> Q3"
   ]
  },
  {
   "cell_type": "code",
   "execution_count": 185,
   "id": "327a689b-753f-4463-938f-9b95c4d865e1",
   "metadata": {
    "tags": []
   },
   "outputs": [
    {
     "data": {
      "text/plain": [
       "99"
      ]
     },
     "execution_count": 185,
     "metadata": {},
     "output_type": "execute_result"
    }
   ],
   "source": [
    "np.max(data) ## menghitung nilai Maks"
   ]
  },
  {
   "cell_type": "code",
   "execution_count": 186,
   "id": "e726c593-e6bf-4513-b3c3-148a1602c78a",
   "metadata": {
    "tags": []
   },
   "outputs": [
    {
     "data": {
      "text/plain": [
       "2"
      ]
     },
     "execution_count": 186,
     "metadata": {},
     "output_type": "execute_result"
    }
   ],
   "source": [
    "np.min(data) ## Menghitung nilai Min"
   ]
  },
  {
   "cell_type": "code",
   "execution_count": 187,
   "id": "d3ea2915-97bd-4888-8c5e-9820bd1e7dea",
   "metadata": {
    "tags": []
   },
   "outputs": [
    {
     "data": {
      "text/plain": [
       "14"
      ]
     },
     "execution_count": 187,
     "metadata": {},
     "output_type": "execute_result"
    }
   ],
   "source": [
    "np.argmax(data) ## Menampilkan INDEX dari nilai Maksimum"
   ]
  },
  {
   "cell_type": "code",
   "execution_count": 188,
   "id": "26e025ba-fd55-4a83-ac17-5e40c14963d4",
   "metadata": {
    "tags": []
   },
   "outputs": [
    {
     "data": {
      "text/plain": [
       "6"
      ]
     },
     "execution_count": 188,
     "metadata": {},
     "output_type": "execute_result"
    }
   ],
   "source": [
    "np.argmin(data) ## Menampilkan INDEX dari nilai Minimum"
   ]
  },
  {
   "cell_type": "code",
   "execution_count": 190,
   "id": "78aa8451-40c9-46ee-9713-294102f65161",
   "metadata": {
    "tags": []
   },
   "outputs": [
    {
     "data": {
      "text/plain": [
       "array([ 2,  2,  8,  9, 10, 20, 25, 31, 56, 60, 60, 63, 68, 75, 99])"
      ]
     },
     "execution_count": 190,
     "metadata": {},
     "output_type": "execute_result"
    }
   ],
   "source": [
    "np.sort(data) ## Melakukan Pengurutan"
   ]
  },
  {
   "cell_type": "code",
   "execution_count": 191,
   "id": "207cda7a-d17a-4c10-b0fa-c512e3dc47f3",
   "metadata": {
    "tags": []
   },
   "outputs": [
    {
     "data": {
      "text/plain": [
       "array([99, 75, 68, 63, 60, 60, 56, 31, 25, 20, 10,  9,  8,  2,  2])"
      ]
     },
     "execution_count": 191,
     "metadata": {},
     "output_type": "execute_result"
    }
   ],
   "source": [
    "np.sort(data)[::-1]"
   ]
  },
  {
   "cell_type": "code",
   "execution_count": null,
   "id": "1afefb6a-d6c8-4069-a35b-7ee0e27ea5a6",
   "metadata": {},
   "outputs": [],
   "source": []
  }
 ],
 "metadata": {
  "kernelspec": {
   "display_name": "Python 3 (ipykernel)",
   "language": "python",
   "name": "python3"
  },
  "language_info": {
   "codemirror_mode": {
    "name": "ipython",
    "version": 3
   },
   "file_extension": ".py",
   "mimetype": "text/x-python",
   "name": "python",
   "nbconvert_exporter": "python",
   "pygments_lexer": "ipython3",
   "version": "3.11.5"
  }
 },
 "nbformat": 4,
 "nbformat_minor": 5
}
