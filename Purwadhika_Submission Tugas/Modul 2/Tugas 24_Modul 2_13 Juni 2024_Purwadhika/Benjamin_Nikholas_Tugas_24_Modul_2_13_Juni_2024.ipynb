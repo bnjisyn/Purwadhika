{
  "cells": [
    {
      "cell_type": "markdown",
      "metadata": {},
      "source": [
        "> Benjamin Nikholas\n",
        "\n",
        "> Data Science / JCSDOL-014\n",
        "\n",
        "> Modul 2 - Tugas 24\n",
        "\n",
        "> 13 Juni 2024\n",
        "---\n",
        "---"
      ]
    },
    {
      "cell_type": "markdown",
      "metadata": {
        "id": "_QB82VZD3pkn"
      },
      "source": [
        "# Exercise"
      ]
    },
    {
      "cell_type": "code",
      "execution_count": 80,
      "metadata": {
        "id": "zgUY-EDb3pko"
      },
      "outputs": [],
      "source": [
        "import numpy as np\n",
        "import pandas as pd\n",
        "\n",
        "import warnings\n",
        "warnings.filterwarnings('ignore')"
      ]
    },
    {
      "cell_type": "code",
      "execution_count": 81,
      "metadata": {
        "id": "UZOoDUV13pko",
        "outputId": "d0e1d108-f192-422c-a7bd-c1427431e34a"
      },
      "outputs": [
        {
          "data": {
            "text/html": [
              "<div>\n",
              "<style scoped>\n",
              "    .dataframe tbody tr th:only-of-type {\n",
              "        vertical-align: middle;\n",
              "    }\n",
              "\n",
              "    .dataframe tbody tr th {\n",
              "        vertical-align: top;\n",
              "    }\n",
              "\n",
              "    .dataframe thead th {\n",
              "        text-align: right;\n",
              "    }\n",
              "</style>\n",
              "<table border=\"1\" class=\"dataframe\">\n",
              "  <thead>\n",
              "    <tr style=\"text-align: right;\">\n",
              "      <th></th>\n",
              "      <th>Unnamed: 0</th>\n",
              "      <th>model</th>\n",
              "      <th>year</th>\n",
              "      <th>price</th>\n",
              "      <th>transmission</th>\n",
              "      <th>mileage</th>\n",
              "      <th>fuelType</th>\n",
              "      <th>tax</th>\n",
              "      <th>mpg</th>\n",
              "      <th>engineSize</th>\n",
              "      <th>Brand</th>\n",
              "    </tr>\n",
              "  </thead>\n",
              "  <tbody>\n",
              "    <tr>\n",
              "      <th>0</th>\n",
              "      <td>0</td>\n",
              "      <td>A1</td>\n",
              "      <td>2017</td>\n",
              "      <td>12500</td>\n",
              "      <td>Manual</td>\n",
              "      <td>15735</td>\n",
              "      <td>Petrol</td>\n",
              "      <td>150</td>\n",
              "      <td>55.4</td>\n",
              "      <td>1.4</td>\n",
              "      <td>Audi</td>\n",
              "    </tr>\n",
              "    <tr>\n",
              "      <th>1</th>\n",
              "      <td>1</td>\n",
              "      <td>A6</td>\n",
              "      <td>2016</td>\n",
              "      <td>16500</td>\n",
              "      <td>Automatic</td>\n",
              "      <td>36203</td>\n",
              "      <td>Diesel</td>\n",
              "      <td>20</td>\n",
              "      <td>64.2</td>\n",
              "      <td>2.0</td>\n",
              "      <td>Audi</td>\n",
              "    </tr>\n",
              "    <tr>\n",
              "      <th>2</th>\n",
              "      <td>2</td>\n",
              "      <td>A1</td>\n",
              "      <td>2016</td>\n",
              "      <td>11000</td>\n",
              "      <td>Manual</td>\n",
              "      <td>29946</td>\n",
              "      <td>Petrol</td>\n",
              "      <td>30</td>\n",
              "      <td>55.4</td>\n",
              "      <td>1.4</td>\n",
              "      <td>Audi</td>\n",
              "    </tr>\n",
              "    <tr>\n",
              "      <th>3</th>\n",
              "      <td>3</td>\n",
              "      <td>A4</td>\n",
              "      <td>2017</td>\n",
              "      <td>16800</td>\n",
              "      <td>Automatic</td>\n",
              "      <td>25952</td>\n",
              "      <td>Diesel</td>\n",
              "      <td>145</td>\n",
              "      <td>67.3</td>\n",
              "      <td>2.0</td>\n",
              "      <td>Audi</td>\n",
              "    </tr>\n",
              "    <tr>\n",
              "      <th>4</th>\n",
              "      <td>4</td>\n",
              "      <td>A3</td>\n",
              "      <td>2019</td>\n",
              "      <td>17300</td>\n",
              "      <td>Manual</td>\n",
              "      <td>1998</td>\n",
              "      <td>Petrol</td>\n",
              "      <td>145</td>\n",
              "      <td>49.6</td>\n",
              "      <td>1.0</td>\n",
              "      <td>Audi</td>\n",
              "    </tr>\n",
              "    <tr>\n",
              "      <th>...</th>\n",
              "      <td>...</td>\n",
              "      <td>...</td>\n",
              "      <td>...</td>\n",
              "      <td>...</td>\n",
              "      <td>...</td>\n",
              "      <td>...</td>\n",
              "      <td>...</td>\n",
              "      <td>...</td>\n",
              "      <td>...</td>\n",
              "      <td>...</td>\n",
              "      <td>...</td>\n",
              "    </tr>\n",
              "    <tr>\n",
              "      <th>22261</th>\n",
              "      <td>22261</td>\n",
              "      <td>IQ</td>\n",
              "      <td>2011</td>\n",
              "      <td>5500</td>\n",
              "      <td>Automatic</td>\n",
              "      <td>30000</td>\n",
              "      <td>Petrol</td>\n",
              "      <td>20</td>\n",
              "      <td>58.9</td>\n",
              "      <td>1.0</td>\n",
              "      <td>Toyota</td>\n",
              "    </tr>\n",
              "    <tr>\n",
              "      <th>22262</th>\n",
              "      <td>22262</td>\n",
              "      <td>Urban Cruiser</td>\n",
              "      <td>2011</td>\n",
              "      <td>4985</td>\n",
              "      <td>Manual</td>\n",
              "      <td>36154</td>\n",
              "      <td>Petrol</td>\n",
              "      <td>125</td>\n",
              "      <td>50.4</td>\n",
              "      <td>1.3</td>\n",
              "      <td>Toyota</td>\n",
              "    </tr>\n",
              "    <tr>\n",
              "      <th>22263</th>\n",
              "      <td>22263</td>\n",
              "      <td>Urban Cruiser</td>\n",
              "      <td>2012</td>\n",
              "      <td>4995</td>\n",
              "      <td>Manual</td>\n",
              "      <td>46000</td>\n",
              "      <td>Diesel</td>\n",
              "      <td>125</td>\n",
              "      <td>57.6</td>\n",
              "      <td>1.4</td>\n",
              "      <td>Toyota</td>\n",
              "    </tr>\n",
              "    <tr>\n",
              "      <th>22264</th>\n",
              "      <td>22264</td>\n",
              "      <td>Urban Cruiser</td>\n",
              "      <td>2011</td>\n",
              "      <td>3995</td>\n",
              "      <td>Manual</td>\n",
              "      <td>60700</td>\n",
              "      <td>Petrol</td>\n",
              "      <td>125</td>\n",
              "      <td>50.4</td>\n",
              "      <td>1.3</td>\n",
              "      <td>Toyota</td>\n",
              "    </tr>\n",
              "    <tr>\n",
              "      <th>22265</th>\n",
              "      <td>22265</td>\n",
              "      <td>Urban Cruiser</td>\n",
              "      <td>2011</td>\n",
              "      <td>4495</td>\n",
              "      <td>Manual</td>\n",
              "      <td>45128</td>\n",
              "      <td>Petrol</td>\n",
              "      <td>125</td>\n",
              "      <td>50.4</td>\n",
              "      <td>1.3</td>\n",
              "      <td>Toyota</td>\n",
              "    </tr>\n",
              "  </tbody>\n",
              "</table>\n",
              "<p>22266 rows × 11 columns</p>\n",
              "</div>"
            ],
            "text/plain": [
              "       Unnamed: 0          model  year  price transmission  mileage fuelType  \\\n",
              "0               0             A1  2017  12500       Manual    15735   Petrol   \n",
              "1               1             A6  2016  16500    Automatic    36203   Diesel   \n",
              "2               2             A1  2016  11000       Manual    29946   Petrol   \n",
              "3               3             A4  2017  16800    Automatic    25952   Diesel   \n",
              "4               4             A3  2019  17300       Manual     1998   Petrol   \n",
              "...           ...            ...   ...    ...          ...      ...      ...   \n",
              "22261       22261             IQ  2011   5500    Automatic    30000   Petrol   \n",
              "22262       22262  Urban Cruiser  2011   4985       Manual    36154   Petrol   \n",
              "22263       22263  Urban Cruiser  2012   4995       Manual    46000   Diesel   \n",
              "22264       22264  Urban Cruiser  2011   3995       Manual    60700   Petrol   \n",
              "22265       22265  Urban Cruiser  2011   4495       Manual    45128   Petrol   \n",
              "\n",
              "       tax   mpg  engineSize   Brand  \n",
              "0      150  55.4         1.4    Audi  \n",
              "1       20  64.2         2.0    Audi  \n",
              "2       30  55.4         1.4    Audi  \n",
              "3      145  67.3         2.0    Audi  \n",
              "4      145  49.6         1.0    Audi  \n",
              "...    ...   ...         ...     ...  \n",
              "22261   20  58.9         1.0  Toyota  \n",
              "22262  125  50.4         1.3  Toyota  \n",
              "22263  125  57.6         1.4  Toyota  \n",
              "22264  125  50.4         1.3  Toyota  \n",
              "22265  125  50.4         1.3  Toyota  \n",
              "\n",
              "[22266 rows x 11 columns]"
            ]
          },
          "execution_count": 81,
          "metadata": {},
          "output_type": "execute_result"
        }
      ],
      "source": [
        "df = pd.read_csv('all_cars.csv')\n",
        "df"
      ]
    },
    {
      "cell_type": "code",
      "execution_count": 82,
      "metadata": {},
      "outputs": [],
      "source": [
        "# Inisiasi nilai alpha\n",
        "\n",
        "alpha = 0.05"
      ]
    },
    {
      "cell_type": "markdown",
      "metadata": {
        "id": "hGW2lov95NTV"
      },
      "source": [
        "### **No.1**\n",
        "\n",
        "Apakah ada hubungan antara mpg dan price?"
      ]
    },
    {
      "cell_type": "code",
      "execution_count": 83,
      "metadata": {
        "id": "C2YkH9fY5M1f"
      },
      "outputs": [
        {
          "name": "stdout",
          "output_type": "stream",
          "text": [
            "Korelasi antara mpg dan price: -0.46\n"
          ]
        }
      ],
      "source": [
        "mpg_price = df.mpg.corr(df.price)\n",
        "\n",
        "print(f'Korelasi antara mpg dan price: {mpg_price:.2f}')"
      ]
    },
    {
      "cell_type": "markdown",
      "metadata": {},
      "source": [
        "Kolom mpg dan price memiliki hubungan terbalik dengan tingkat korelasi cukup"
      ]
    },
    {
      "cell_type": "markdown",
      "metadata": {
        "id": "TCVqqllj5UHl"
      },
      "source": [
        "### **No.2**\n",
        "\n",
        "Apakah mobil Automatic dari Hyundai dan Toyota memiliki harga yang berbeda? Buktikan dengan\n",
        "Uji Statistik?"
      ]
    },
    {
      "cell_type": "code",
      "execution_count": 86,
      "metadata": {},
      "outputs": [
        {
          "name": "stdout",
          "output_type": "stream",
          "text": [
            "p-value = 0.4545018924274271\n",
            "\n",
            "Bukti statistik tidak cukup\n",
            "Sehingga tidak dapat disimpulkan bahwa harga mobil Automatic Hyundai dan Toyota berbeda.\n"
          ]
        },
        {
          "ename": "",
          "evalue": "",
          "output_type": "error",
          "traceback": [
            "\u001b[1;31mThe Kernel crashed while executing code in the current cell or a previous cell. \n",
            "\u001b[1;31mPlease review the code in the cell(s) to identify a possible cause of the failure. \n",
            "\u001b[1;31mClick <a href='https://aka.ms/vscodeJupyterKernelCrash'>here</a> for more info. \n",
            "\u001b[1;31mView Jupyter <a href='command:jupyter.viewOutput'>log</a> for further details."
          ]
        }
      ],
      "source": [
        "from scipy.stats import ttest_ind\n",
        "\n",
        "hyundai_prices = df[(df.Brand == 'Hyundai') & (df.transmission == 'Automatic')].price\n",
        "toyota_prices = df[(df.Brand == 'Toyota') & (df.transmission == 'Automatic')].price\n",
        "\n",
        "t_statistic, p_value = ttest_ind(hyundai_prices, toyota_prices, equal_var = False)\n",
        "\n",
        "print(f'p-value = {p_value}\\n')\n",
        "\n",
        "if p_value < alpha:\n",
        "    print('Bukti statistik cukup\\nDapat disimpulkan bahwa harga mobil Automatic Hyundai dan Toyota berbeda')\n",
        "else:\n",
        "    print('Bukti statistik tidak cukup\\nSehingga tidak dapat disimpulkan bahwa harga mobil Automatic Hyundai dan Toyota berbeda.')"
      ]
    },
    {
      "cell_type": "markdown",
      "metadata": {
        "id": "BkjngX8Z5Ujo"
      },
      "source": [
        "### **No.3**\n",
        "\n",
        "Apakah rata-rata pajak (tax) semua brand mobil keluaran tahun 2020 sama? Buktikan dengan Uji Statistik!"
      ]
    },
    {
      "cell_type": "code",
      "execution_count": 73,
      "metadata": {
        "id": "GRYTrruK5Mky"
      },
      "outputs": [
        {
          "name": "stdout",
          "output_type": "stream",
          "text": [
            "p-value = 0.0713830007410631\n",
            "\n",
            "Bukti statistik tidak cukup\n",
            "Sehingga tidak dapat disimpulkan bahwa rata-rata pajak berbeda di antara setidaknya satu pasang brand mobil keluaran tahun 2020.\n"
          ]
        }
      ],
      "source": [
        "from scipy.stats import f_oneway\n",
        "\n",
        "df_2020 = df[df.year == 2020]\n",
        "\n",
        "brands = df_2020['Brand'].unique()\n",
        "data_by_brand = [df_2020[df_2020.Brand == brand].tax for brand in brands]\n",
        "\n",
        "f_statistic, p_value = f_oneway(*data_by_brand)\n",
        "\n",
        "print(f'p-value = {p_value}\\n')\n",
        "\n",
        "if p_value < alpha:\n",
        "    print('Bukti statistik cukup\\nDapat disimpulkan bahwa rata-rata pajak berbeda di antara setidaknya satu pasang brand mobil keluaran tahun 2020.')\n",
        "else:\n",
        "    print('Bukti statistik tidak cukup\\nSehingga tidak dapat disimpulkan bahwa rata-rata pajak berbeda di antara setidaknya satu pasang brand mobil keluaran tahun 2020.')"
      ]
    },
    {
      "cell_type": "markdown",
      "metadata": {
        "id": "AM_3i33T-tzF"
      },
      "source": [
        "### **No.4**\n",
        "\n",
        "Apakah rata-rata nilai price dari semua mobil Manual adalah 12500 pondsteling! Buktikan dengan Uji Statistik!"
      ]
    },
    {
      "cell_type": "code",
      "execution_count": 75,
      "metadata": {},
      "outputs": [
        {
          "name": "stdout",
          "output_type": "stream",
          "text": [
            "p-value = 0.20578628955155356\n",
            "\n",
            "Bukti statistik tidak cukup\n",
            "Sehingga tidak dapat disimpulkan bahwa rata-rata harga mobil Manual tidak sama dengan 12500 poundsterling.\n"
          ]
        }
      ],
      "source": [
        "from scipy.stats import ttest_1samp\n",
        "\n",
        "df_manual = df[df.transmission == 'Manual']\n",
        "mean_price_manual = df_manual.price.mean()\n",
        "\n",
        "t_statistic, p_value = ttest_1samp(df_manual.price, 12500)\n",
        "\n",
        "print(f'p-value = {p_value}\\n')\n",
        "\n",
        "if p_value < alpha:\n",
        "    print('Bukti statistik cukup\\nDapat disimpulkan bahwa rata-rata harga mobil Manual tidak sama dengan 12500 poundsterling.')\n",
        "else:\n",
        "    print('Bukti statistik tidak cukup\\nSehingga tidak dapat disimpulkan bahwa rata-rata harga mobil Manual tidak sama dengan 12500 poundsterling.')"
      ]
    },
    {
      "cell_type": "markdown",
      "metadata": {
        "id": "N81Wdw363pkp"
      },
      "source": [
        "## **No.5**\n",
        "\n",
        "- Buat sebuah dataframe berisi mobil Hyundai dan Toyota tahun 2019!\n",
        "- Dari dataframe yang telah dibuat, lakukan uji hipotesis untuk membuktikan apakah brand mobil ada kaitannya dengan jenis transmisi!"
      ]
    },
    {
      "cell_type": "code",
      "execution_count": 74,
      "metadata": {
        "id": "uDzEXF5s3pkq"
      },
      "outputs": [
        {
          "name": "stdout",
          "output_type": "stream",
          "text": [
            "p-value = 0.0713830007410631\n",
            "\n",
            "Bukti statistik tidak cukup\n",
            "Sehingga tidak dapat disimpulkan bahwa adanya keterkaitan antara brand mobil dan jenis transmisi.\n"
          ]
        }
      ],
      "source": [
        "from scipy.stats import chi2_contingency\n",
        "\n",
        "df_ht_2019 = df[df.Brand.isin(['Hyundai', 'Toyota']) & (df.year == 2019)]\n",
        "\n",
        "contingency_table = pd.crosstab(df_ht_2019.Brand, df_ht_2019.transmission)\n",
        "\n",
        "chi2, p_val, dof, expected = chi2_contingency(contingency_table)\n",
        "\n",
        "print(f'p-value = {p_value}\\n')\n",
        "\n",
        "if p_value < alpha:\n",
        "    print('Bukti statistik cukup\\nDapat disimpulkan bahwa adanya keterkaitan antara brand mobil dan jenis transmisi.')\n",
        "else:\n",
        "    print('Bukti statistik tidak cukup\\nSehingga tidak dapat disimpulkan bahwa adanya keterkaitan antara brand mobil dan jenis transmisi.')"
      ]
    },
    {
      "cell_type": "markdown",
      "metadata": {
        "id": "Qp15FVOB3pkq"
      },
      "source": [
        "## **No.6**\n",
        "\n",
        "- Apakah 50% dari seluruh mobil yang dijual menggunakan bahan bakar Petrol? Buktikan dengan uji statistik!"
      ]
    },
    {
      "cell_type": "code",
      "execution_count": 78,
      "metadata": {
        "id": "4mpID1k-3pkr"
      },
      "outputs": [
        {
          "name": "stdout",
          "output_type": "stream",
          "text": [
            "p-value = 0.20578628955155356\n",
            "\n",
            "Bukti statistik tidak cukup\n",
            "Sehingga tidak dapat disimpulkan bahwa proporsi mobil yang menggunakan bahan bakar Petrol tidak sama dengan 0.5.\n"
          ]
        }
      ],
      "source": [
        "from scipy.stats import binom_test\n",
        "\n",
        "n_petrol = df[df.fuelType == 'Petrol'].shape[0]\n",
        "\n",
        "n_total = df.shape[0]\n",
        "\n",
        "p_empirical = n_petrol / n_total\n",
        "\n",
        "p_null = 0.5\n",
        "\n",
        "p_val = binom_test(n_petrol, n_total, p_null)\n",
        "\n",
        "print(f'p-value = {p_value}\\n')\n",
        "\n",
        "if p_value < alpha:\n",
        "    print(f'Bukti statistik cukup\\nDapat disimpulkan bahwa proporsi mobil yang menggunakan bahan bakar Petrol tidak sama dengan {p_null}.')\n",
        "else:\n",
        "    print(f'Bukti statistik tidak cukup\\nSehingga tidak dapat disimpulkan bahwa proporsi mobil yang menggunakan bahan bakar Petrol tidak sama dengan {p_null}.')"
      ]
    },
    {
      "cell_type": "markdown",
      "metadata": {
        "id": "3l7hmcbW3pkr"
      },
      "source": [
        "## **No.7**\n",
        "\n",
        "- Apakah proporsi mobil berbahan bakar Diesel pada mobil bertranmisi Manual dan Automatic berbeda! (Apakah proporsi mobil berbahan bakar Diesel dari seluruh mobil bertranmisi Manual berbeda dari proporsi mobil berbahan bakar Diesel dari seluruh mobil bertranmisi Automatic?)\n",
        "\n",
        "- Buktikan dengan uji statistik!"
      ]
    },
    {
      "cell_type": "code",
      "execution_count": 79,
      "metadata": {},
      "outputs": [
        {
          "name": "stdout",
          "output_type": "stream",
          "text": [
            "p-value = 0.20578628955155356\n",
            "\n",
            "Bukti statistik tidak cukup\n",
            "Sehingga tidak dapat disimpulkan bahwa proporsi mobil berbahan bakar Diesel berbeda antara mobil dengan transmisi Manual dan Automatic.\n"
          ]
        }
      ],
      "source": [
        "from scipy.stats import chi2_contingency\n",
        "\n",
        "contingency_table = pd.crosstab(df['fuelType'], df['transmission'])\n",
        "\n",
        "chi2, p_val, dof, expected = chi2_contingency(contingency_table)\n",
        "\n",
        "print(f'p-value = {p_value}\\n')\n",
        "\n",
        "if p_value < alpha:\n",
        "    print('Bukti statistik cukup\\nDapat disimpulkan bahwa proporsi mobil berbahan bakar Diesel berbeda antara mobil dengan transmisi Manual dan Automatic.')\n",
        "else:\n",
        "    print('Bukti statistik tidak cukup\\nSehingga tidak dapat disimpulkan bahwa proporsi mobil berbahan bakar Diesel berbeda antara mobil dengan transmisi Manual dan Automatic.')"
      ]
    }
  ],
  "metadata": {
    "colab": {
      "provenance": []
    },
    "kernelspec": {
      "display_name": "Python 3.10.5 ('pwdenv')",
      "language": "python",
      "name": "python3"
    },
    "language_info": {
      "codemirror_mode": {
        "name": "ipython",
        "version": 3
      },
      "file_extension": ".py",
      "mimetype": "text/x-python",
      "name": "python",
      "nbconvert_exporter": "python",
      "pygments_lexer": "ipython3",
      "version": "3.10.11"
    },
    "orig_nbformat": 4,
    "vscode": {
      "interpreter": {
        "hash": "26d83cb9ebc769f8a392797c85547e3220df367d4f886ed011b3f771d6a84444"
      }
    }
  },
  "nbformat": 4,
  "nbformat_minor": 0
}
