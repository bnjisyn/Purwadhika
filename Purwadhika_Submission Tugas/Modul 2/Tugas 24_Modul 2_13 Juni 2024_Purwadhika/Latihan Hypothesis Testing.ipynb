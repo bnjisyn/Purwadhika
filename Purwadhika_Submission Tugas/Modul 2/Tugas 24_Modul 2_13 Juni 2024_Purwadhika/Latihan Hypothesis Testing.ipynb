{
  "cells": [
    {
      "cell_type": "markdown",
      "metadata": {},
      "source": [
        "> Benjamin Nikholas\n",
        "\n",
        "> Data Science / JCSDOL-014\n",
        "\n",
        "> Modul 2 - Tugas 24\n",
        "\n",
        "> 13 Juni 2024\n",
        "---\n",
        "---"
      ]
    },
    {
      "cell_type": "markdown",
      "metadata": {
        "id": "_QB82VZD3pkn"
      },
      "source": [
        "# Exercise"
      ]
    },
    {
      "cell_type": "code",
      "execution_count": 1,
      "metadata": {
        "id": "zgUY-EDb3pko"
      },
      "outputs": [],
      "source": [
        "import numpy as np\n",
        "import pandas as pd\n",
        "\n",
        "import warnings\n",
        "warnings.filterwarnings('ignore')"
      ]
    },
    {
      "cell_type": "code",
      "execution_count": 4,
      "metadata": {
        "id": "UZOoDUV13pko",
        "outputId": "d0e1d108-f192-422c-a7bd-c1427431e34a"
      },
      "outputs": [
        {
          "data": {
            "text/html": [
              "<div>\n",
              "<style scoped>\n",
              "    .dataframe tbody tr th:only-of-type {\n",
              "        vertical-align: middle;\n",
              "    }\n",
              "\n",
              "    .dataframe tbody tr th {\n",
              "        vertical-align: top;\n",
              "    }\n",
              "\n",
              "    .dataframe thead th {\n",
              "        text-align: right;\n",
              "    }\n",
              "</style>\n",
              "<table border=\"1\" class=\"dataframe\">\n",
              "  <thead>\n",
              "    <tr style=\"text-align: right;\">\n",
              "      <th></th>\n",
              "      <th>Unnamed: 0</th>\n",
              "      <th>model</th>\n",
              "      <th>year</th>\n",
              "      <th>price</th>\n",
              "      <th>transmission</th>\n",
              "      <th>mileage</th>\n",
              "      <th>fuelType</th>\n",
              "      <th>tax</th>\n",
              "      <th>mpg</th>\n",
              "      <th>engineSize</th>\n",
              "      <th>Brand</th>\n",
              "    </tr>\n",
              "  </thead>\n",
              "  <tbody>\n",
              "    <tr>\n",
              "      <th>0</th>\n",
              "      <td>0</td>\n",
              "      <td>A1</td>\n",
              "      <td>2017</td>\n",
              "      <td>12500</td>\n",
              "      <td>Manual</td>\n",
              "      <td>15735</td>\n",
              "      <td>Petrol</td>\n",
              "      <td>150</td>\n",
              "      <td>55.4</td>\n",
              "      <td>1.4</td>\n",
              "      <td>Audi</td>\n",
              "    </tr>\n",
              "    <tr>\n",
              "      <th>1</th>\n",
              "      <td>1</td>\n",
              "      <td>A6</td>\n",
              "      <td>2016</td>\n",
              "      <td>16500</td>\n",
              "      <td>Automatic</td>\n",
              "      <td>36203</td>\n",
              "      <td>Diesel</td>\n",
              "      <td>20</td>\n",
              "      <td>64.2</td>\n",
              "      <td>2.0</td>\n",
              "      <td>Audi</td>\n",
              "    </tr>\n",
              "    <tr>\n",
              "      <th>2</th>\n",
              "      <td>2</td>\n",
              "      <td>A1</td>\n",
              "      <td>2016</td>\n",
              "      <td>11000</td>\n",
              "      <td>Manual</td>\n",
              "      <td>29946</td>\n",
              "      <td>Petrol</td>\n",
              "      <td>30</td>\n",
              "      <td>55.4</td>\n",
              "      <td>1.4</td>\n",
              "      <td>Audi</td>\n",
              "    </tr>\n",
              "    <tr>\n",
              "      <th>3</th>\n",
              "      <td>3</td>\n",
              "      <td>A4</td>\n",
              "      <td>2017</td>\n",
              "      <td>16800</td>\n",
              "      <td>Automatic</td>\n",
              "      <td>25952</td>\n",
              "      <td>Diesel</td>\n",
              "      <td>145</td>\n",
              "      <td>67.3</td>\n",
              "      <td>2.0</td>\n",
              "      <td>Audi</td>\n",
              "    </tr>\n",
              "    <tr>\n",
              "      <th>4</th>\n",
              "      <td>4</td>\n",
              "      <td>A3</td>\n",
              "      <td>2019</td>\n",
              "      <td>17300</td>\n",
              "      <td>Manual</td>\n",
              "      <td>1998</td>\n",
              "      <td>Petrol</td>\n",
              "      <td>145</td>\n",
              "      <td>49.6</td>\n",
              "      <td>1.0</td>\n",
              "      <td>Audi</td>\n",
              "    </tr>\n",
              "    <tr>\n",
              "      <th>...</th>\n",
              "      <td>...</td>\n",
              "      <td>...</td>\n",
              "      <td>...</td>\n",
              "      <td>...</td>\n",
              "      <td>...</td>\n",
              "      <td>...</td>\n",
              "      <td>...</td>\n",
              "      <td>...</td>\n",
              "      <td>...</td>\n",
              "      <td>...</td>\n",
              "      <td>...</td>\n",
              "    </tr>\n",
              "    <tr>\n",
              "      <th>22261</th>\n",
              "      <td>22261</td>\n",
              "      <td>IQ</td>\n",
              "      <td>2011</td>\n",
              "      <td>5500</td>\n",
              "      <td>Automatic</td>\n",
              "      <td>30000</td>\n",
              "      <td>Petrol</td>\n",
              "      <td>20</td>\n",
              "      <td>58.9</td>\n",
              "      <td>1.0</td>\n",
              "      <td>Toyota</td>\n",
              "    </tr>\n",
              "    <tr>\n",
              "      <th>22262</th>\n",
              "      <td>22262</td>\n",
              "      <td>Urban Cruiser</td>\n",
              "      <td>2011</td>\n",
              "      <td>4985</td>\n",
              "      <td>Manual</td>\n",
              "      <td>36154</td>\n",
              "      <td>Petrol</td>\n",
              "      <td>125</td>\n",
              "      <td>50.4</td>\n",
              "      <td>1.3</td>\n",
              "      <td>Toyota</td>\n",
              "    </tr>\n",
              "    <tr>\n",
              "      <th>22263</th>\n",
              "      <td>22263</td>\n",
              "      <td>Urban Cruiser</td>\n",
              "      <td>2012</td>\n",
              "      <td>4995</td>\n",
              "      <td>Manual</td>\n",
              "      <td>46000</td>\n",
              "      <td>Diesel</td>\n",
              "      <td>125</td>\n",
              "      <td>57.6</td>\n",
              "      <td>1.4</td>\n",
              "      <td>Toyota</td>\n",
              "    </tr>\n",
              "    <tr>\n",
              "      <th>22264</th>\n",
              "      <td>22264</td>\n",
              "      <td>Urban Cruiser</td>\n",
              "      <td>2011</td>\n",
              "      <td>3995</td>\n",
              "      <td>Manual</td>\n",
              "      <td>60700</td>\n",
              "      <td>Petrol</td>\n",
              "      <td>125</td>\n",
              "      <td>50.4</td>\n",
              "      <td>1.3</td>\n",
              "      <td>Toyota</td>\n",
              "    </tr>\n",
              "    <tr>\n",
              "      <th>22265</th>\n",
              "      <td>22265</td>\n",
              "      <td>Urban Cruiser</td>\n",
              "      <td>2011</td>\n",
              "      <td>4495</td>\n",
              "      <td>Manual</td>\n",
              "      <td>45128</td>\n",
              "      <td>Petrol</td>\n",
              "      <td>125</td>\n",
              "      <td>50.4</td>\n",
              "      <td>1.3</td>\n",
              "      <td>Toyota</td>\n",
              "    </tr>\n",
              "  </tbody>\n",
              "</table>\n",
              "<p>22266 rows × 11 columns</p>\n",
              "</div>"
            ],
            "text/plain": [
              "       Unnamed: 0          model  year  price transmission  mileage fuelType  \\\n",
              "0               0             A1  2017  12500       Manual    15735   Petrol   \n",
              "1               1             A6  2016  16500    Automatic    36203   Diesel   \n",
              "2               2             A1  2016  11000       Manual    29946   Petrol   \n",
              "3               3             A4  2017  16800    Automatic    25952   Diesel   \n",
              "4               4             A3  2019  17300       Manual     1998   Petrol   \n",
              "...           ...            ...   ...    ...          ...      ...      ...   \n",
              "22261       22261             IQ  2011   5500    Automatic    30000   Petrol   \n",
              "22262       22262  Urban Cruiser  2011   4985       Manual    36154   Petrol   \n",
              "22263       22263  Urban Cruiser  2012   4995       Manual    46000   Diesel   \n",
              "22264       22264  Urban Cruiser  2011   3995       Manual    60700   Petrol   \n",
              "22265       22265  Urban Cruiser  2011   4495       Manual    45128   Petrol   \n",
              "\n",
              "       tax   mpg  engineSize   Brand  \n",
              "0      150  55.4         1.4    Audi  \n",
              "1       20  64.2         2.0    Audi  \n",
              "2       30  55.4         1.4    Audi  \n",
              "3      145  67.3         2.0    Audi  \n",
              "4      145  49.6         1.0    Audi  \n",
              "...    ...   ...         ...     ...  \n",
              "22261   20  58.9         1.0  Toyota  \n",
              "22262  125  50.4         1.3  Toyota  \n",
              "22263  125  57.6         1.4  Toyota  \n",
              "22264  125  50.4         1.3  Toyota  \n",
              "22265  125  50.4         1.3  Toyota  \n",
              "\n",
              "[22266 rows x 11 columns]"
            ]
          },
          "execution_count": 4,
          "metadata": {},
          "output_type": "execute_result"
        }
      ],
      "source": [
        "df = pd.read_csv('all_cars.csv')\n",
        "df"
      ]
    },
    {
      "cell_type": "code",
      "execution_count": 29,
      "metadata": {},
      "outputs": [
        {
          "name": "stdout",
          "output_type": "stream",
          "text": [
            "p-value = 0.04886892952341559\n",
            "t-stat = 1.9699559462851646\n"
          ]
        }
      ],
      "source": [
        "# T-Test Single Population\n",
        "\n",
        "from scipy.stats import ttest_1samp\n",
        "\n",
        "t_stat, p_val = ttest_1samp(df.price, 10)\n",
        "\n",
        "print(f'p-value = {p_value}')\n",
        "print(f't-stat = {t_statistic}')"
      ]
    },
    {
      "cell_type": "code",
      "execution_count": 28,
      "metadata": {},
      "outputs": [
        {
          "name": "stdout",
          "output_type": "stream",
          "text": [
            "p-value = 0.04886892952341559\n",
            "t-stat = 1.9699559462851646\n"
          ]
        }
      ],
      "source": [
        "# T-Test Independent Double Population\n",
        "# Non Equal Variance Assumption\n",
        "\n",
        "from scipy.stats import ttest_ind\n",
        "\n",
        "t_statistic, p_value = ttest_ind(\n",
        "    df[df.Brand == 'Hyundai'].price,\n",
        "    df[df.Brand == 'Toyota'].price,\n",
        "    equal_var = False\n",
        ")\n",
        "\n",
        "print(f'p-value = {p_value}')\n",
        "print(f't-stat = {t_statistic}')"
      ]
    },
    {
      "cell_type": "code",
      "execution_count": 27,
      "metadata": {},
      "outputs": [
        {
          "name": "stdout",
          "output_type": "stream",
          "text": [
            "p-value = 0.050980485545415656\n",
            "t-stat = 1.9518463590657513\n"
          ]
        }
      ],
      "source": [
        "# T-Test Independent Double Population\n",
        "# Equal Variance Assumption\n",
        "\n",
        "from scipy.stats import ttest_ind\n",
        "\n",
        "t_statistic, p_value = ttest_ind(\n",
        "    df[df.Brand == 'Hyundai'].price,\n",
        "    df[df.Brand == 'Toyota'].price,\n",
        "    equal_var = True\n",
        ")\n",
        "\n",
        "print(f'p-value = {p_value}')\n",
        "print(f't-stat = {t_statistic}')"
      ]
    },
    {
      "cell_type": "code",
      "execution_count": 26,
      "metadata": {},
      "outputs": [
        {
          "name": "stdout",
          "output_type": "stream",
          "text": [
            "p-value = 0.050980485545415656\n",
            "t-stat = 247.18701236647175\n"
          ]
        }
      ],
      "source": [
        "# T-Test Paired\n",
        "\n",
        "from scipy.stats import ttest_1samp\n",
        "\n",
        "t_statistic, p_val = ttest_1samp(df.price, 0)\n",
        "\n",
        "print(f'p-value = {p_value}')\n",
        "print(f't-stat = {t_statistic}')"
      ]
    },
    {
      "cell_type": "code",
      "execution_count": 32,
      "metadata": {},
      "outputs": [
        {
          "name": "stdout",
          "output_type": "stream",
          "text": [
            "p-value = 1.7226818345236603e-199\n",
            "t-stat = 1.9699559462851646\n"
          ]
        },
        {
          "ename": "",
          "evalue": "",
          "output_type": "error",
          "traceback": [
            "\u001b[1;31mThe Kernel crashed while executing code in the current cell or a previous cell. \n",
            "\u001b[1;31mPlease review the code in the cell(s) to identify a possible cause of the failure. \n",
            "\u001b[1;31mClick <a href='https://aka.ms/vscodeJupyterKernelCrash'>here</a> for more info. \n",
            "\u001b[1;31mView Jupyter <a href='command:jupyter.viewOutput'>log</a> for further details."
          ]
        }
      ],
      "source": [
        "# ANOVA F-Test\n",
        "# One-way ANOVA called F one-way because the test follows the F-Distribution\n",
        "\n",
        "from scipy.stats import f_oneway\n",
        "\n",
        "brands = df['Brand'].unique()\n",
        "data_by_brand = [df[df.Brand == brand].tax for brand in brands]\n",
        "\n",
        "f_statistic, p_value = f_oneway(*data_by_brand)\n",
        "\n",
        "print(f'p-value = {p_value}')\n",
        "print(f't-stat = {t_statistic}')"
      ]
    },
    {
      "cell_type": "code",
      "execution_count": null,
      "metadata": {},
      "outputs": [],
      "source": []
    }
  ],
  "metadata": {
    "colab": {
      "provenance": []
    },
    "kernelspec": {
      "display_name": "Python 3.10.5 ('pwdenv')",
      "language": "python",
      "name": "python3"
    },
    "language_info": {
      "codemirror_mode": {
        "name": "ipython",
        "version": 3
      },
      "file_extension": ".py",
      "mimetype": "text/x-python",
      "name": "python",
      "nbconvert_exporter": "python",
      "pygments_lexer": "ipython3",
      "version": "3.10.11"
    },
    "orig_nbformat": 4,
    "vscode": {
      "interpreter": {
        "hash": "26d83cb9ebc769f8a392797c85547e3220df367d4f886ed011b3f771d6a84444"
      }
    }
  },
  "nbformat": 4,
  "nbformat_minor": 0
}
