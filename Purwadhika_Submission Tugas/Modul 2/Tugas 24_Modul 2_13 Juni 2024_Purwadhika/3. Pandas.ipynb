{
 "cells": [
  {
   "cell_type": "code",
   "execution_count": 1,
   "id": "db9a390c-d716-447b-9f82-9051b463b4b5",
   "metadata": {
    "tags": []
   },
   "outputs": [],
   "source": [
    "import numpy as np\n",
    "import pandas as pd"
   ]
  },
  {
   "cell_type": "code",
   "execution_count": 15,
   "id": "d060b4b0-772b-4f3c-a062-5e0f4bdf94fd",
   "metadata": {
    "tags": []
   },
   "outputs": [
    {
     "data": {
      "text/plain": [
       "array([[-0.71440792, -0.1595509 , -0.20501129, -0.04221154, -0.09304939,\n",
       "        -1.16110725],\n",
       "       [ 0.42301337, -0.6497726 , -0.1990407 ,  0.82894999,  1.08923324,\n",
       "        -0.29836626],\n",
       "       [-0.2621381 , -0.71213591, -0.40505849,  0.98626056, -0.83755711,\n",
       "         1.25788828],\n",
       "       [-1.21520797,  0.63004717, -0.72663659,  0.02063038,  0.69086998,\n",
       "        -2.15194564],\n",
       "       [-0.01888307, -1.34121153, -0.44716755, -0.41812251,  0.62048777,\n",
       "         0.12923194]])"
      ]
     },
     "execution_count": 15,
     "metadata": {},
     "output_type": "execute_result"
    }
   ],
   "source": [
    "data = np.random.randn(5, 6)\n",
    "data"
   ]
  },
  {
   "cell_type": "code",
   "execution_count": 16,
   "id": "2526a51c-30bc-4d19-8560-1ff9a801aa12",
   "metadata": {
    "tags": []
   },
   "outputs": [],
   "source": [
    "col = 'Q W E R T Y'.split(' ')"
   ]
  },
  {
   "cell_type": "code",
   "execution_count": 17,
   "id": "86384b9b-d0c1-4b05-b07c-f1e746be5898",
   "metadata": {
    "tags": []
   },
   "outputs": [
    {
     "data": {
      "text/html": [
       "<div>\n",
       "<style scoped>\n",
       "    .dataframe tbody tr th:only-of-type {\n",
       "        vertical-align: middle;\n",
       "    }\n",
       "\n",
       "    .dataframe tbody tr th {\n",
       "        vertical-align: top;\n",
       "    }\n",
       "\n",
       "    .dataframe thead th {\n",
       "        text-align: right;\n",
       "    }\n",
       "</style>\n",
       "<table border=\"1\" class=\"dataframe\">\n",
       "  <thead>\n",
       "    <tr style=\"text-align: right;\">\n",
       "      <th></th>\n",
       "      <th>Q</th>\n",
       "      <th>W</th>\n",
       "      <th>E</th>\n",
       "      <th>R</th>\n",
       "      <th>T</th>\n",
       "      <th>Y</th>\n",
       "    </tr>\n",
       "  </thead>\n",
       "  <tbody>\n",
       "    <tr>\n",
       "      <th>A</th>\n",
       "      <td>-0.714408</td>\n",
       "      <td>-0.159551</td>\n",
       "      <td>-0.205011</td>\n",
       "      <td>-0.042212</td>\n",
       "      <td>-0.093049</td>\n",
       "      <td>-1.161107</td>\n",
       "    </tr>\n",
       "    <tr>\n",
       "      <th>B</th>\n",
       "      <td>0.423013</td>\n",
       "      <td>-0.649773</td>\n",
       "      <td>-0.199041</td>\n",
       "      <td>0.828950</td>\n",
       "      <td>1.089233</td>\n",
       "      <td>-0.298366</td>\n",
       "    </tr>\n",
       "    <tr>\n",
       "      <th>C</th>\n",
       "      <td>-0.262138</td>\n",
       "      <td>-0.712136</td>\n",
       "      <td>-0.405058</td>\n",
       "      <td>0.986261</td>\n",
       "      <td>-0.837557</td>\n",
       "      <td>1.257888</td>\n",
       "    </tr>\n",
       "    <tr>\n",
       "      <th>D</th>\n",
       "      <td>-1.215208</td>\n",
       "      <td>0.630047</td>\n",
       "      <td>-0.726637</td>\n",
       "      <td>0.020630</td>\n",
       "      <td>0.690870</td>\n",
       "      <td>-2.151946</td>\n",
       "    </tr>\n",
       "    <tr>\n",
       "      <th>E</th>\n",
       "      <td>-0.018883</td>\n",
       "      <td>-1.341212</td>\n",
       "      <td>-0.447168</td>\n",
       "      <td>-0.418123</td>\n",
       "      <td>0.620488</td>\n",
       "      <td>0.129232</td>\n",
       "    </tr>\n",
       "  </tbody>\n",
       "</table>\n",
       "</div>"
      ],
      "text/plain": [
       "          Q         W         E         R         T         Y\n",
       "A -0.714408 -0.159551 -0.205011 -0.042212 -0.093049 -1.161107\n",
       "B  0.423013 -0.649773 -0.199041  0.828950  1.089233 -0.298366\n",
       "C -0.262138 -0.712136 -0.405058  0.986261 -0.837557  1.257888\n",
       "D -1.215208  0.630047 -0.726637  0.020630  0.690870 -2.151946\n",
       "E -0.018883 -1.341212 -0.447168 -0.418123  0.620488  0.129232"
      ]
     },
     "execution_count": 17,
     "metadata": {},
     "output_type": "execute_result"
    }
   ],
   "source": [
    "df = pd.DataFrame(data, columns = col, index = 'A B C D E'.split(' '))\n",
    "df"
   ]
  },
  {
   "cell_type": "code",
   "execution_count": 18,
   "id": "cfef9181-cb4a-4958-ae7f-893999e2e530",
   "metadata": {
    "tags": []
   },
   "outputs": [
    {
     "data": {
      "text/html": [
       "<div>\n",
       "<style scoped>\n",
       "    .dataframe tbody tr th:only-of-type {\n",
       "        vertical-align: middle;\n",
       "    }\n",
       "\n",
       "    .dataframe tbody tr th {\n",
       "        vertical-align: top;\n",
       "    }\n",
       "\n",
       "    .dataframe thead th {\n",
       "        text-align: right;\n",
       "    }\n",
       "</style>\n",
       "<table border=\"1\" class=\"dataframe\">\n",
       "  <thead>\n",
       "    <tr style=\"text-align: right;\">\n",
       "      <th></th>\n",
       "      <th>index</th>\n",
       "      <th>Q</th>\n",
       "      <th>W</th>\n",
       "      <th>E</th>\n",
       "      <th>R</th>\n",
       "      <th>T</th>\n",
       "      <th>Y</th>\n",
       "    </tr>\n",
       "  </thead>\n",
       "  <tbody>\n",
       "    <tr>\n",
       "      <th>0</th>\n",
       "      <td>A</td>\n",
       "      <td>-0.714408</td>\n",
       "      <td>-0.159551</td>\n",
       "      <td>-0.205011</td>\n",
       "      <td>-0.042212</td>\n",
       "      <td>-0.093049</td>\n",
       "      <td>-1.161107</td>\n",
       "    </tr>\n",
       "    <tr>\n",
       "      <th>1</th>\n",
       "      <td>B</td>\n",
       "      <td>0.423013</td>\n",
       "      <td>-0.649773</td>\n",
       "      <td>-0.199041</td>\n",
       "      <td>0.828950</td>\n",
       "      <td>1.089233</td>\n",
       "      <td>-0.298366</td>\n",
       "    </tr>\n",
       "    <tr>\n",
       "      <th>2</th>\n",
       "      <td>C</td>\n",
       "      <td>-0.262138</td>\n",
       "      <td>-0.712136</td>\n",
       "      <td>-0.405058</td>\n",
       "      <td>0.986261</td>\n",
       "      <td>-0.837557</td>\n",
       "      <td>1.257888</td>\n",
       "    </tr>\n",
       "    <tr>\n",
       "      <th>3</th>\n",
       "      <td>D</td>\n",
       "      <td>-1.215208</td>\n",
       "      <td>0.630047</td>\n",
       "      <td>-0.726637</td>\n",
       "      <td>0.020630</td>\n",
       "      <td>0.690870</td>\n",
       "      <td>-2.151946</td>\n",
       "    </tr>\n",
       "    <tr>\n",
       "      <th>4</th>\n",
       "      <td>E</td>\n",
       "      <td>-0.018883</td>\n",
       "      <td>-1.341212</td>\n",
       "      <td>-0.447168</td>\n",
       "      <td>-0.418123</td>\n",
       "      <td>0.620488</td>\n",
       "      <td>0.129232</td>\n",
       "    </tr>\n",
       "  </tbody>\n",
       "</table>\n",
       "</div>"
      ],
      "text/plain": [
       "  index         Q         W         E         R         T         Y\n",
       "0     A -0.714408 -0.159551 -0.205011 -0.042212 -0.093049 -1.161107\n",
       "1     B  0.423013 -0.649773 -0.199041  0.828950  1.089233 -0.298366\n",
       "2     C -0.262138 -0.712136 -0.405058  0.986261 -0.837557  1.257888\n",
       "3     D -1.215208  0.630047 -0.726637  0.020630  0.690870 -2.151946\n",
       "4     E -0.018883 -1.341212 -0.447168 -0.418123  0.620488  0.129232"
      ]
     },
     "execution_count": 18,
     "metadata": {},
     "output_type": "execute_result"
    }
   ],
   "source": [
    "df.reset_index() ## Menggunakan index default (urutan angka 0 - sekian)\n",
    "## index awal akan menjadi kolom baru"
   ]
  },
  {
   "cell_type": "code",
   "execution_count": 19,
   "id": "c5c318fc-bee0-484f-9fe1-1919d276facb",
   "metadata": {
    "tags": []
   },
   "outputs": [
    {
     "data": {
      "text/html": [
       "<div>\n",
       "<style scoped>\n",
       "    .dataframe tbody tr th:only-of-type {\n",
       "        vertical-align: middle;\n",
       "    }\n",
       "\n",
       "    .dataframe tbody tr th {\n",
       "        vertical-align: top;\n",
       "    }\n",
       "\n",
       "    .dataframe thead th {\n",
       "        text-align: right;\n",
       "    }\n",
       "</style>\n",
       "<table border=\"1\" class=\"dataframe\">\n",
       "  <thead>\n",
       "    <tr style=\"text-align: right;\">\n",
       "      <th></th>\n",
       "      <th>Q</th>\n",
       "      <th>W</th>\n",
       "      <th>E</th>\n",
       "      <th>R</th>\n",
       "      <th>Y</th>\n",
       "    </tr>\n",
       "    <tr>\n",
       "      <th>T</th>\n",
       "      <th></th>\n",
       "      <th></th>\n",
       "      <th></th>\n",
       "      <th></th>\n",
       "      <th></th>\n",
       "    </tr>\n",
       "  </thead>\n",
       "  <tbody>\n",
       "    <tr>\n",
       "      <th>-0.093049</th>\n",
       "      <td>-0.714408</td>\n",
       "      <td>-0.159551</td>\n",
       "      <td>-0.205011</td>\n",
       "      <td>-0.042212</td>\n",
       "      <td>-1.161107</td>\n",
       "    </tr>\n",
       "    <tr>\n",
       "      <th>1.089233</th>\n",
       "      <td>0.423013</td>\n",
       "      <td>-0.649773</td>\n",
       "      <td>-0.199041</td>\n",
       "      <td>0.828950</td>\n",
       "      <td>-0.298366</td>\n",
       "    </tr>\n",
       "    <tr>\n",
       "      <th>-0.837557</th>\n",
       "      <td>-0.262138</td>\n",
       "      <td>-0.712136</td>\n",
       "      <td>-0.405058</td>\n",
       "      <td>0.986261</td>\n",
       "      <td>1.257888</td>\n",
       "    </tr>\n",
       "    <tr>\n",
       "      <th>0.690870</th>\n",
       "      <td>-1.215208</td>\n",
       "      <td>0.630047</td>\n",
       "      <td>-0.726637</td>\n",
       "      <td>0.020630</td>\n",
       "      <td>-2.151946</td>\n",
       "    </tr>\n",
       "    <tr>\n",
       "      <th>0.620488</th>\n",
       "      <td>-0.018883</td>\n",
       "      <td>-1.341212</td>\n",
       "      <td>-0.447168</td>\n",
       "      <td>-0.418123</td>\n",
       "      <td>0.129232</td>\n",
       "    </tr>\n",
       "  </tbody>\n",
       "</table>\n",
       "</div>"
      ],
      "text/plain": [
       "                  Q         W         E         R         Y\n",
       "T                                                          \n",
       "-0.093049 -0.714408 -0.159551 -0.205011 -0.042212 -1.161107\n",
       " 1.089233  0.423013 -0.649773 -0.199041  0.828950 -0.298366\n",
       "-0.837557 -0.262138 -0.712136 -0.405058  0.986261  1.257888\n",
       " 0.690870 -1.215208  0.630047 -0.726637  0.020630 -2.151946\n",
       " 0.620488 -0.018883 -1.341212 -0.447168 -0.418123  0.129232"
      ]
     },
     "execution_count": 19,
     "metadata": {},
     "output_type": "execute_result"
    }
   ],
   "source": [
    "df.set_index('T')"
   ]
  },
  {
   "cell_type": "code",
   "execution_count": 20,
   "id": "fc5f16de-f5c3-448a-8997-52389d60b800",
   "metadata": {
    "tags": []
   },
   "outputs": [],
   "source": [
    "## Sorting"
   ]
  },
  {
   "cell_type": "code",
   "execution_count": 21,
   "id": "b9f3b34c-78a7-4cf9-bd2f-24355495382e",
   "metadata": {
    "tags": []
   },
   "outputs": [
    {
     "data": {
      "text/html": [
       "<div>\n",
       "<style scoped>\n",
       "    .dataframe tbody tr th:only-of-type {\n",
       "        vertical-align: middle;\n",
       "    }\n",
       "\n",
       "    .dataframe tbody tr th {\n",
       "        vertical-align: top;\n",
       "    }\n",
       "\n",
       "    .dataframe thead th {\n",
       "        text-align: right;\n",
       "    }\n",
       "</style>\n",
       "<table border=\"1\" class=\"dataframe\">\n",
       "  <thead>\n",
       "    <tr style=\"text-align: right;\">\n",
       "      <th></th>\n",
       "      <th>Q</th>\n",
       "      <th>W</th>\n",
       "      <th>E</th>\n",
       "      <th>R</th>\n",
       "      <th>T</th>\n",
       "      <th>Y</th>\n",
       "    </tr>\n",
       "  </thead>\n",
       "  <tbody>\n",
       "    <tr>\n",
       "      <th>A</th>\n",
       "      <td>-0.714408</td>\n",
       "      <td>-0.159551</td>\n",
       "      <td>-0.205011</td>\n",
       "      <td>-0.042212</td>\n",
       "      <td>-0.093049</td>\n",
       "      <td>-1.161107</td>\n",
       "    </tr>\n",
       "    <tr>\n",
       "      <th>B</th>\n",
       "      <td>0.423013</td>\n",
       "      <td>-0.649773</td>\n",
       "      <td>-0.199041</td>\n",
       "      <td>0.828950</td>\n",
       "      <td>1.089233</td>\n",
       "      <td>-0.298366</td>\n",
       "    </tr>\n",
       "    <tr>\n",
       "      <th>C</th>\n",
       "      <td>-0.262138</td>\n",
       "      <td>-0.712136</td>\n",
       "      <td>-0.405058</td>\n",
       "      <td>0.986261</td>\n",
       "      <td>-0.837557</td>\n",
       "      <td>1.257888</td>\n",
       "    </tr>\n",
       "    <tr>\n",
       "      <th>D</th>\n",
       "      <td>-1.215208</td>\n",
       "      <td>0.630047</td>\n",
       "      <td>-0.726637</td>\n",
       "      <td>0.020630</td>\n",
       "      <td>0.690870</td>\n",
       "      <td>-2.151946</td>\n",
       "    </tr>\n",
       "    <tr>\n",
       "      <th>E</th>\n",
       "      <td>-0.018883</td>\n",
       "      <td>-1.341212</td>\n",
       "      <td>-0.447168</td>\n",
       "      <td>-0.418123</td>\n",
       "      <td>0.620488</td>\n",
       "      <td>0.129232</td>\n",
       "    </tr>\n",
       "  </tbody>\n",
       "</table>\n",
       "</div>"
      ],
      "text/plain": [
       "          Q         W         E         R         T         Y\n",
       "A -0.714408 -0.159551 -0.205011 -0.042212 -0.093049 -1.161107\n",
       "B  0.423013 -0.649773 -0.199041  0.828950  1.089233 -0.298366\n",
       "C -0.262138 -0.712136 -0.405058  0.986261 -0.837557  1.257888\n",
       "D -1.215208  0.630047 -0.726637  0.020630  0.690870 -2.151946\n",
       "E -0.018883 -1.341212 -0.447168 -0.418123  0.620488  0.129232"
      ]
     },
     "execution_count": 21,
     "metadata": {},
     "output_type": "execute_result"
    }
   ],
   "source": [
    "df"
   ]
  },
  {
   "cell_type": "code",
   "execution_count": 22,
   "id": "76db0ccb-b484-42de-b8b8-34adbe83359e",
   "metadata": {
    "tags": []
   },
   "outputs": [
    {
     "data": {
      "text/html": [
       "<div>\n",
       "<style scoped>\n",
       "    .dataframe tbody tr th:only-of-type {\n",
       "        vertical-align: middle;\n",
       "    }\n",
       "\n",
       "    .dataframe tbody tr th {\n",
       "        vertical-align: top;\n",
       "    }\n",
       "\n",
       "    .dataframe thead th {\n",
       "        text-align: right;\n",
       "    }\n",
       "</style>\n",
       "<table border=\"1\" class=\"dataframe\">\n",
       "  <thead>\n",
       "    <tr style=\"text-align: right;\">\n",
       "      <th></th>\n",
       "      <th>Q</th>\n",
       "      <th>W</th>\n",
       "      <th>E</th>\n",
       "      <th>R</th>\n",
       "      <th>T</th>\n",
       "      <th>Y</th>\n",
       "    </tr>\n",
       "  </thead>\n",
       "  <tbody>\n",
       "    <tr>\n",
       "      <th>D</th>\n",
       "      <td>-1.215208</td>\n",
       "      <td>0.630047</td>\n",
       "      <td>-0.726637</td>\n",
       "      <td>0.020630</td>\n",
       "      <td>0.690870</td>\n",
       "      <td>-2.151946</td>\n",
       "    </tr>\n",
       "    <tr>\n",
       "      <th>A</th>\n",
       "      <td>-0.714408</td>\n",
       "      <td>-0.159551</td>\n",
       "      <td>-0.205011</td>\n",
       "      <td>-0.042212</td>\n",
       "      <td>-0.093049</td>\n",
       "      <td>-1.161107</td>\n",
       "    </tr>\n",
       "    <tr>\n",
       "      <th>B</th>\n",
       "      <td>0.423013</td>\n",
       "      <td>-0.649773</td>\n",
       "      <td>-0.199041</td>\n",
       "      <td>0.828950</td>\n",
       "      <td>1.089233</td>\n",
       "      <td>-0.298366</td>\n",
       "    </tr>\n",
       "    <tr>\n",
       "      <th>E</th>\n",
       "      <td>-0.018883</td>\n",
       "      <td>-1.341212</td>\n",
       "      <td>-0.447168</td>\n",
       "      <td>-0.418123</td>\n",
       "      <td>0.620488</td>\n",
       "      <td>0.129232</td>\n",
       "    </tr>\n",
       "    <tr>\n",
       "      <th>C</th>\n",
       "      <td>-0.262138</td>\n",
       "      <td>-0.712136</td>\n",
       "      <td>-0.405058</td>\n",
       "      <td>0.986261</td>\n",
       "      <td>-0.837557</td>\n",
       "      <td>1.257888</td>\n",
       "    </tr>\n",
       "  </tbody>\n",
       "</table>\n",
       "</div>"
      ],
      "text/plain": [
       "          Q         W         E         R         T         Y\n",
       "D -1.215208  0.630047 -0.726637  0.020630  0.690870 -2.151946\n",
       "A -0.714408 -0.159551 -0.205011 -0.042212 -0.093049 -1.161107\n",
       "B  0.423013 -0.649773 -0.199041  0.828950  1.089233 -0.298366\n",
       "E -0.018883 -1.341212 -0.447168 -0.418123  0.620488  0.129232\n",
       "C -0.262138 -0.712136 -0.405058  0.986261 -0.837557  1.257888"
      ]
     },
     "execution_count": 22,
     "metadata": {},
     "output_type": "execute_result"
    }
   ],
   "source": [
    "df.sort_values('Y')\n",
    "## df.sort_values(kolom, ascending = )\n",
    "## ascending menentukan metode pengurutan\n",
    "## ascending = True ==> Pengurutan secara ascending => dari kecil ke besar\n",
    "## ascending = False ==> pengurutan secara descending => dari besar ke kecil\n",
    "## jika parameter ascending tidak ditentukan, maka pengurutan menggunakan metode default => dari kecil ke besar (ascending= True) \n",
    "## kolom ==> data akan diurutkan berdasarkan kolom ini"
   ]
  },
  {
   "cell_type": "code",
   "execution_count": 23,
   "id": "f8e13ae8-c369-4595-8e45-55796069cc1d",
   "metadata": {
    "tags": []
   },
   "outputs": [
    {
     "data": {
      "text/html": [
       "<div>\n",
       "<style scoped>\n",
       "    .dataframe tbody tr th:only-of-type {\n",
       "        vertical-align: middle;\n",
       "    }\n",
       "\n",
       "    .dataframe tbody tr th {\n",
       "        vertical-align: top;\n",
       "    }\n",
       "\n",
       "    .dataframe thead th {\n",
       "        text-align: right;\n",
       "    }\n",
       "</style>\n",
       "<table border=\"1\" class=\"dataframe\">\n",
       "  <thead>\n",
       "    <tr style=\"text-align: right;\">\n",
       "      <th></th>\n",
       "      <th>Q</th>\n",
       "      <th>W</th>\n",
       "      <th>E</th>\n",
       "      <th>R</th>\n",
       "      <th>T</th>\n",
       "      <th>Y</th>\n",
       "    </tr>\n",
       "  </thead>\n",
       "  <tbody>\n",
       "    <tr>\n",
       "      <th>C</th>\n",
       "      <td>-0.262138</td>\n",
       "      <td>-0.712136</td>\n",
       "      <td>-0.405058</td>\n",
       "      <td>0.986261</td>\n",
       "      <td>-0.837557</td>\n",
       "      <td>1.257888</td>\n",
       "    </tr>\n",
       "    <tr>\n",
       "      <th>B</th>\n",
       "      <td>0.423013</td>\n",
       "      <td>-0.649773</td>\n",
       "      <td>-0.199041</td>\n",
       "      <td>0.828950</td>\n",
       "      <td>1.089233</td>\n",
       "      <td>-0.298366</td>\n",
       "    </tr>\n",
       "    <tr>\n",
       "      <th>D</th>\n",
       "      <td>-1.215208</td>\n",
       "      <td>0.630047</td>\n",
       "      <td>-0.726637</td>\n",
       "      <td>0.020630</td>\n",
       "      <td>0.690870</td>\n",
       "      <td>-2.151946</td>\n",
       "    </tr>\n",
       "    <tr>\n",
       "      <th>A</th>\n",
       "      <td>-0.714408</td>\n",
       "      <td>-0.159551</td>\n",
       "      <td>-0.205011</td>\n",
       "      <td>-0.042212</td>\n",
       "      <td>-0.093049</td>\n",
       "      <td>-1.161107</td>\n",
       "    </tr>\n",
       "    <tr>\n",
       "      <th>E</th>\n",
       "      <td>-0.018883</td>\n",
       "      <td>-1.341212</td>\n",
       "      <td>-0.447168</td>\n",
       "      <td>-0.418123</td>\n",
       "      <td>0.620488</td>\n",
       "      <td>0.129232</td>\n",
       "    </tr>\n",
       "  </tbody>\n",
       "</table>\n",
       "</div>"
      ],
      "text/plain": [
       "          Q         W         E         R         T         Y\n",
       "C -0.262138 -0.712136 -0.405058  0.986261 -0.837557  1.257888\n",
       "B  0.423013 -0.649773 -0.199041  0.828950  1.089233 -0.298366\n",
       "D -1.215208  0.630047 -0.726637  0.020630  0.690870 -2.151946\n",
       "A -0.714408 -0.159551 -0.205011 -0.042212 -0.093049 -1.161107\n",
       "E -0.018883 -1.341212 -0.447168 -0.418123  0.620488  0.129232"
      ]
     },
     "execution_count": 23,
     "metadata": {},
     "output_type": "execute_result"
    }
   ],
   "source": [
    "df.sort_values('R', ascending=False)"
   ]
  },
  {
   "cell_type": "code",
   "execution_count": 24,
   "id": "a7e24dea-5fe3-4152-8193-e0bfa9169cee",
   "metadata": {
    "tags": []
   },
   "outputs": [
    {
     "data": {
      "text/html": [
       "<div>\n",
       "<style scoped>\n",
       "    .dataframe tbody tr th:only-of-type {\n",
       "        vertical-align: middle;\n",
       "    }\n",
       "\n",
       "    .dataframe tbody tr th {\n",
       "        vertical-align: top;\n",
       "    }\n",
       "\n",
       "    .dataframe thead th {\n",
       "        text-align: right;\n",
       "    }\n",
       "</style>\n",
       "<table border=\"1\" class=\"dataframe\">\n",
       "  <thead>\n",
       "    <tr style=\"text-align: right;\">\n",
       "      <th></th>\n",
       "      <th>Q</th>\n",
       "      <th>W</th>\n",
       "      <th>E</th>\n",
       "      <th>R</th>\n",
       "      <th>T</th>\n",
       "      <th>Y</th>\n",
       "    </tr>\n",
       "  </thead>\n",
       "  <tbody>\n",
       "    <tr>\n",
       "      <th>D</th>\n",
       "      <td>-1.215208</td>\n",
       "      <td>0.630047</td>\n",
       "      <td>-0.726637</td>\n",
       "      <td>0.020630</td>\n",
       "      <td>0.690870</td>\n",
       "      <td>-2.151946</td>\n",
       "    </tr>\n",
       "    <tr>\n",
       "      <th>E</th>\n",
       "      <td>-0.018883</td>\n",
       "      <td>-1.341212</td>\n",
       "      <td>-0.447168</td>\n",
       "      <td>-0.418123</td>\n",
       "      <td>0.620488</td>\n",
       "      <td>0.129232</td>\n",
       "    </tr>\n",
       "    <tr>\n",
       "      <th>C</th>\n",
       "      <td>-0.262138</td>\n",
       "      <td>-0.712136</td>\n",
       "      <td>-0.405058</td>\n",
       "      <td>0.986261</td>\n",
       "      <td>-0.837557</td>\n",
       "      <td>1.257888</td>\n",
       "    </tr>\n",
       "    <tr>\n",
       "      <th>A</th>\n",
       "      <td>-0.714408</td>\n",
       "      <td>-0.159551</td>\n",
       "      <td>-0.205011</td>\n",
       "      <td>-0.042212</td>\n",
       "      <td>-0.093049</td>\n",
       "      <td>-1.161107</td>\n",
       "    </tr>\n",
       "    <tr>\n",
       "      <th>B</th>\n",
       "      <td>0.423013</td>\n",
       "      <td>-0.649773</td>\n",
       "      <td>-0.199041</td>\n",
       "      <td>0.828950</td>\n",
       "      <td>1.089233</td>\n",
       "      <td>-0.298366</td>\n",
       "    </tr>\n",
       "  </tbody>\n",
       "</table>\n",
       "</div>"
      ],
      "text/plain": [
       "          Q         W         E         R         T         Y\n",
       "D -1.215208  0.630047 -0.726637  0.020630  0.690870 -2.151946\n",
       "E -0.018883 -1.341212 -0.447168 -0.418123  0.620488  0.129232\n",
       "C -0.262138 -0.712136 -0.405058  0.986261 -0.837557  1.257888\n",
       "A -0.714408 -0.159551 -0.205011 -0.042212 -0.093049 -1.161107\n",
       "B  0.423013 -0.649773 -0.199041  0.828950  1.089233 -0.298366"
      ]
     },
     "execution_count": 24,
     "metadata": {},
     "output_type": "execute_result"
    }
   ],
   "source": [
    "df.sort_values(['E', 'T']) ## mengurutkan data berdasarkan kolom E dan T, keduanya menggunakan metode ascending"
   ]
  },
  {
   "cell_type": "code",
   "execution_count": 25,
   "id": "861ff841-42d8-4a30-864e-bf7e6bc731ba",
   "metadata": {
    "tags": []
   },
   "outputs": [
    {
     "data": {
      "text/html": [
       "<div>\n",
       "<style scoped>\n",
       "    .dataframe tbody tr th:only-of-type {\n",
       "        vertical-align: middle;\n",
       "    }\n",
       "\n",
       "    .dataframe tbody tr th {\n",
       "        vertical-align: top;\n",
       "    }\n",
       "\n",
       "    .dataframe thead th {\n",
       "        text-align: right;\n",
       "    }\n",
       "</style>\n",
       "<table border=\"1\" class=\"dataframe\">\n",
       "  <thead>\n",
       "    <tr style=\"text-align: right;\">\n",
       "      <th></th>\n",
       "      <th>Q</th>\n",
       "      <th>W</th>\n",
       "      <th>E</th>\n",
       "      <th>R</th>\n",
       "      <th>T</th>\n",
       "      <th>Y</th>\n",
       "    </tr>\n",
       "  </thead>\n",
       "  <tbody>\n",
       "    <tr>\n",
       "      <th>B</th>\n",
       "      <td>0.423013</td>\n",
       "      <td>-0.649773</td>\n",
       "      <td>-0.199041</td>\n",
       "      <td>0.828950</td>\n",
       "      <td>1.089233</td>\n",
       "      <td>-0.298366</td>\n",
       "    </tr>\n",
       "    <tr>\n",
       "      <th>A</th>\n",
       "      <td>-0.714408</td>\n",
       "      <td>-0.159551</td>\n",
       "      <td>-0.205011</td>\n",
       "      <td>-0.042212</td>\n",
       "      <td>-0.093049</td>\n",
       "      <td>-1.161107</td>\n",
       "    </tr>\n",
       "    <tr>\n",
       "      <th>C</th>\n",
       "      <td>-0.262138</td>\n",
       "      <td>-0.712136</td>\n",
       "      <td>-0.405058</td>\n",
       "      <td>0.986261</td>\n",
       "      <td>-0.837557</td>\n",
       "      <td>1.257888</td>\n",
       "    </tr>\n",
       "    <tr>\n",
       "      <th>E</th>\n",
       "      <td>-0.018883</td>\n",
       "      <td>-1.341212</td>\n",
       "      <td>-0.447168</td>\n",
       "      <td>-0.418123</td>\n",
       "      <td>0.620488</td>\n",
       "      <td>0.129232</td>\n",
       "    </tr>\n",
       "    <tr>\n",
       "      <th>D</th>\n",
       "      <td>-1.215208</td>\n",
       "      <td>0.630047</td>\n",
       "      <td>-0.726637</td>\n",
       "      <td>0.020630</td>\n",
       "      <td>0.690870</td>\n",
       "      <td>-2.151946</td>\n",
       "    </tr>\n",
       "  </tbody>\n",
       "</table>\n",
       "</div>"
      ],
      "text/plain": [
       "          Q         W         E         R         T         Y\n",
       "B  0.423013 -0.649773 -0.199041  0.828950  1.089233 -0.298366\n",
       "A -0.714408 -0.159551 -0.205011 -0.042212 -0.093049 -1.161107\n",
       "C -0.262138 -0.712136 -0.405058  0.986261 -0.837557  1.257888\n",
       "E -0.018883 -1.341212 -0.447168 -0.418123  0.620488  0.129232\n",
       "D -1.215208  0.630047 -0.726637  0.020630  0.690870 -2.151946"
      ]
     },
     "execution_count": 25,
     "metadata": {},
     "output_type": "execute_result"
    }
   ],
   "source": [
    "df.sort_values(['E', 'T'], ascending = [False, True])\n",
    "## mengurutkan data berdasarkan kolom E dan T\n",
    "## pertama data akan diurutkan berdasarkan kolom E secara descending \n",
    "## selanjutnya data akan diurutkan berdasarkan kolom T secara ascending"
   ]
  },
  {
   "cell_type": "code",
   "execution_count": 26,
   "id": "343589c4-f25b-4a63-a6b6-420674147c18",
   "metadata": {
    "tags": []
   },
   "outputs": [
    {
     "data": {
      "text/html": [
       "<div>\n",
       "<style scoped>\n",
       "    .dataframe tbody tr th:only-of-type {\n",
       "        vertical-align: middle;\n",
       "    }\n",
       "\n",
       "    .dataframe tbody tr th {\n",
       "        vertical-align: top;\n",
       "    }\n",
       "\n",
       "    .dataframe thead th {\n",
       "        text-align: right;\n",
       "    }\n",
       "</style>\n",
       "<table border=\"1\" class=\"dataframe\">\n",
       "  <thead>\n",
       "    <tr style=\"text-align: right;\">\n",
       "      <th></th>\n",
       "      <th>Q</th>\n",
       "      <th>W</th>\n",
       "      <th>E</th>\n",
       "      <th>R</th>\n",
       "      <th>T</th>\n",
       "      <th>Y</th>\n",
       "    </tr>\n",
       "  </thead>\n",
       "  <tbody>\n",
       "    <tr>\n",
       "      <th>A</th>\n",
       "      <td>-0.714408</td>\n",
       "      <td>-0.159551</td>\n",
       "      <td>-0.205011</td>\n",
       "      <td>-0.042212</td>\n",
       "      <td>-0.093049</td>\n",
       "      <td>-1.161107</td>\n",
       "    </tr>\n",
       "    <tr>\n",
       "      <th>B</th>\n",
       "      <td>0.423013</td>\n",
       "      <td>-0.649773</td>\n",
       "      <td>-0.199041</td>\n",
       "      <td>0.828950</td>\n",
       "      <td>1.089233</td>\n",
       "      <td>-0.298366</td>\n",
       "    </tr>\n",
       "    <tr>\n",
       "      <th>C</th>\n",
       "      <td>-0.262138</td>\n",
       "      <td>-0.712136</td>\n",
       "      <td>-0.405058</td>\n",
       "      <td>0.986261</td>\n",
       "      <td>-0.837557</td>\n",
       "      <td>1.257888</td>\n",
       "    </tr>\n",
       "    <tr>\n",
       "      <th>D</th>\n",
       "      <td>-1.215208</td>\n",
       "      <td>0.630047</td>\n",
       "      <td>-0.726637</td>\n",
       "      <td>0.020630</td>\n",
       "      <td>0.690870</td>\n",
       "      <td>-2.151946</td>\n",
       "    </tr>\n",
       "    <tr>\n",
       "      <th>E</th>\n",
       "      <td>-0.018883</td>\n",
       "      <td>-1.341212</td>\n",
       "      <td>-0.447168</td>\n",
       "      <td>-0.418123</td>\n",
       "      <td>0.620488</td>\n",
       "      <td>0.129232</td>\n",
       "    </tr>\n",
       "  </tbody>\n",
       "</table>\n",
       "</div>"
      ],
      "text/plain": [
       "          Q         W         E         R         T         Y\n",
       "A -0.714408 -0.159551 -0.205011 -0.042212 -0.093049 -1.161107\n",
       "B  0.423013 -0.649773 -0.199041  0.828950  1.089233 -0.298366\n",
       "C -0.262138 -0.712136 -0.405058  0.986261 -0.837557  1.257888\n",
       "D -1.215208  0.630047 -0.726637  0.020630  0.690870 -2.151946\n",
       "E -0.018883 -1.341212 -0.447168 -0.418123  0.620488  0.129232"
      ]
     },
     "execution_count": 26,
     "metadata": {},
     "output_type": "execute_result"
    }
   ],
   "source": [
    "df"
   ]
  },
  {
   "cell_type": "code",
   "execution_count": 27,
   "id": "f4d8ff36-b879-420a-a6de-45e7c676bad1",
   "metadata": {
    "tags": []
   },
   "outputs": [
    {
     "data": {
      "text/html": [
       "<div>\n",
       "<style scoped>\n",
       "    .dataframe tbody tr th:only-of-type {\n",
       "        vertical-align: middle;\n",
       "    }\n",
       "\n",
       "    .dataframe tbody tr th {\n",
       "        vertical-align: top;\n",
       "    }\n",
       "\n",
       "    .dataframe thead th {\n",
       "        text-align: right;\n",
       "    }\n",
       "</style>\n",
       "<table border=\"1\" class=\"dataframe\">\n",
       "  <thead>\n",
       "    <tr style=\"text-align: right;\">\n",
       "      <th></th>\n",
       "      <th>Q</th>\n",
       "      <th>W</th>\n",
       "      <th>E</th>\n",
       "      <th>R</th>\n",
       "      <th>T</th>\n",
       "      <th>Y</th>\n",
       "    </tr>\n",
       "  </thead>\n",
       "  <tbody>\n",
       "    <tr>\n",
       "      <th>E</th>\n",
       "      <td>-0.018883</td>\n",
       "      <td>-1.341212</td>\n",
       "      <td>-0.447168</td>\n",
       "      <td>-0.418123</td>\n",
       "      <td>0.620488</td>\n",
       "      <td>0.129232</td>\n",
       "    </tr>\n",
       "    <tr>\n",
       "      <th>D</th>\n",
       "      <td>-1.215208</td>\n",
       "      <td>0.630047</td>\n",
       "      <td>-0.726637</td>\n",
       "      <td>0.020630</td>\n",
       "      <td>0.690870</td>\n",
       "      <td>-2.151946</td>\n",
       "    </tr>\n",
       "    <tr>\n",
       "      <th>C</th>\n",
       "      <td>-0.262138</td>\n",
       "      <td>-0.712136</td>\n",
       "      <td>-0.405058</td>\n",
       "      <td>0.986261</td>\n",
       "      <td>-0.837557</td>\n",
       "      <td>1.257888</td>\n",
       "    </tr>\n",
       "    <tr>\n",
       "      <th>B</th>\n",
       "      <td>0.423013</td>\n",
       "      <td>-0.649773</td>\n",
       "      <td>-0.199041</td>\n",
       "      <td>0.828950</td>\n",
       "      <td>1.089233</td>\n",
       "      <td>-0.298366</td>\n",
       "    </tr>\n",
       "    <tr>\n",
       "      <th>A</th>\n",
       "      <td>-0.714408</td>\n",
       "      <td>-0.159551</td>\n",
       "      <td>-0.205011</td>\n",
       "      <td>-0.042212</td>\n",
       "      <td>-0.093049</td>\n",
       "      <td>-1.161107</td>\n",
       "    </tr>\n",
       "  </tbody>\n",
       "</table>\n",
       "</div>"
      ],
      "text/plain": [
       "          Q         W         E         R         T         Y\n",
       "E -0.018883 -1.341212 -0.447168 -0.418123  0.620488  0.129232\n",
       "D -1.215208  0.630047 -0.726637  0.020630  0.690870 -2.151946\n",
       "C -0.262138 -0.712136 -0.405058  0.986261 -0.837557  1.257888\n",
       "B  0.423013 -0.649773 -0.199041  0.828950  1.089233 -0.298366\n",
       "A -0.714408 -0.159551 -0.205011 -0.042212 -0.093049 -1.161107"
      ]
     },
     "execution_count": 27,
     "metadata": {},
     "output_type": "execute_result"
    }
   ],
   "source": [
    "df.sort_index(ascending = False) ## mengurutkan berdasarkan Index, secara Descending"
   ]
  },
  {
   "cell_type": "code",
   "execution_count": 35,
   "id": "a0f62b70-a55d-45bd-aa12-4a5326a70a28",
   "metadata": {
    "tags": []
   },
   "outputs": [
    {
     "data": {
      "text/html": [
       "<div>\n",
       "<style scoped>\n",
       "    .dataframe tbody tr th:only-of-type {\n",
       "        vertical-align: middle;\n",
       "    }\n",
       "\n",
       "    .dataframe tbody tr th {\n",
       "        vertical-align: top;\n",
       "    }\n",
       "\n",
       "    .dataframe thead th {\n",
       "        text-align: right;\n",
       "    }\n",
       "</style>\n",
       "<table border=\"1\" class=\"dataframe\">\n",
       "  <thead>\n",
       "    <tr style=\"text-align: right;\">\n",
       "      <th></th>\n",
       "      <th>Q</th>\n",
       "      <th>W</th>\n",
       "      <th>E</th>\n",
       "      <th>R</th>\n",
       "      <th>T</th>\n",
       "      <th>Y</th>\n",
       "    </tr>\n",
       "  </thead>\n",
       "  <tbody>\n",
       "    <tr>\n",
       "      <th>A</th>\n",
       "      <td>False</td>\n",
       "      <td>True</td>\n",
       "      <td>True</td>\n",
       "      <td>True</td>\n",
       "      <td>True</td>\n",
       "      <td>False</td>\n",
       "    </tr>\n",
       "    <tr>\n",
       "      <th>B</th>\n",
       "      <td>True</td>\n",
       "      <td>False</td>\n",
       "      <td>True</td>\n",
       "      <td>True</td>\n",
       "      <td>True</td>\n",
       "      <td>True</td>\n",
       "    </tr>\n",
       "    <tr>\n",
       "      <th>C</th>\n",
       "      <td>True</td>\n",
       "      <td>False</td>\n",
       "      <td>True</td>\n",
       "      <td>True</td>\n",
       "      <td>False</td>\n",
       "      <td>True</td>\n",
       "    </tr>\n",
       "    <tr>\n",
       "      <th>D</th>\n",
       "      <td>False</td>\n",
       "      <td>True</td>\n",
       "      <td>False</td>\n",
       "      <td>True</td>\n",
       "      <td>True</td>\n",
       "      <td>False</td>\n",
       "    </tr>\n",
       "    <tr>\n",
       "      <th>E</th>\n",
       "      <td>True</td>\n",
       "      <td>False</td>\n",
       "      <td>True</td>\n",
       "      <td>True</td>\n",
       "      <td>True</td>\n",
       "      <td>True</td>\n",
       "    </tr>\n",
       "  </tbody>\n",
       "</table>\n",
       "</div>"
      ],
      "text/plain": [
       "       Q      W      E     R      T      Y\n",
       "A  False   True   True  True   True  False\n",
       "B   True  False   True  True   True   True\n",
       "C   True  False   True  True  False   True\n",
       "D  False   True  False  True   True  False\n",
       "E   True  False   True  True   True   True"
      ]
     },
     "execution_count": 35,
     "metadata": {},
     "output_type": "execute_result"
    }
   ],
   "source": [
    "df > -0.5"
   ]
  },
  {
   "cell_type": "code",
   "execution_count": 38,
   "id": "6739aea1-98e4-43f6-91ec-4c6cd49be436",
   "metadata": {
    "tags": []
   },
   "outputs": [],
   "source": [
    "df2 = df[df > -0.5].drop(columns='W')"
   ]
  },
  {
   "cell_type": "code",
   "execution_count": 39,
   "id": "6c3158df-e6bd-4227-bf2e-a7016bc15865",
   "metadata": {
    "tags": []
   },
   "outputs": [
    {
     "data": {
      "text/html": [
       "<div>\n",
       "<style scoped>\n",
       "    .dataframe tbody tr th:only-of-type {\n",
       "        vertical-align: middle;\n",
       "    }\n",
       "\n",
       "    .dataframe tbody tr th {\n",
       "        vertical-align: top;\n",
       "    }\n",
       "\n",
       "    .dataframe thead th {\n",
       "        text-align: right;\n",
       "    }\n",
       "</style>\n",
       "<table border=\"1\" class=\"dataframe\">\n",
       "  <thead>\n",
       "    <tr style=\"text-align: right;\">\n",
       "      <th></th>\n",
       "      <th>Q</th>\n",
       "      <th>E</th>\n",
       "      <th>R</th>\n",
       "      <th>T</th>\n",
       "      <th>Y</th>\n",
       "    </tr>\n",
       "  </thead>\n",
       "  <tbody>\n",
       "    <tr>\n",
       "      <th>A</th>\n",
       "      <td>NaN</td>\n",
       "      <td>-0.205011</td>\n",
       "      <td>-0.042212</td>\n",
       "      <td>-0.093049</td>\n",
       "      <td>NaN</td>\n",
       "    </tr>\n",
       "    <tr>\n",
       "      <th>B</th>\n",
       "      <td>0.423013</td>\n",
       "      <td>-0.199041</td>\n",
       "      <td>0.828950</td>\n",
       "      <td>1.089233</td>\n",
       "      <td>-0.298366</td>\n",
       "    </tr>\n",
       "    <tr>\n",
       "      <th>C</th>\n",
       "      <td>-0.262138</td>\n",
       "      <td>-0.405058</td>\n",
       "      <td>0.986261</td>\n",
       "      <td>NaN</td>\n",
       "      <td>1.257888</td>\n",
       "    </tr>\n",
       "    <tr>\n",
       "      <th>D</th>\n",
       "      <td>NaN</td>\n",
       "      <td>NaN</td>\n",
       "      <td>0.020630</td>\n",
       "      <td>0.690870</td>\n",
       "      <td>NaN</td>\n",
       "    </tr>\n",
       "    <tr>\n",
       "      <th>E</th>\n",
       "      <td>-0.018883</td>\n",
       "      <td>-0.447168</td>\n",
       "      <td>-0.418123</td>\n",
       "      <td>0.620488</td>\n",
       "      <td>0.129232</td>\n",
       "    </tr>\n",
       "  </tbody>\n",
       "</table>\n",
       "</div>"
      ],
      "text/plain": [
       "          Q         E         R         T         Y\n",
       "A       NaN -0.205011 -0.042212 -0.093049       NaN\n",
       "B  0.423013 -0.199041  0.828950  1.089233 -0.298366\n",
       "C -0.262138 -0.405058  0.986261       NaN  1.257888\n",
       "D       NaN       NaN  0.020630  0.690870       NaN\n",
       "E -0.018883 -0.447168 -0.418123  0.620488  0.129232"
      ]
     },
     "execution_count": 39,
     "metadata": {},
     "output_type": "execute_result"
    }
   ],
   "source": [
    "df2"
   ]
  },
  {
   "cell_type": "code",
   "execution_count": 40,
   "id": "51c33d12-4e58-42bc-b5ef-3fb828f53548",
   "metadata": {
    "tags": []
   },
   "outputs": [],
   "source": [
    "## Check Missing value"
   ]
  },
  {
   "cell_type": "code",
   "execution_count": 41,
   "id": "b14b8bd4-8e19-43df-90b0-2dc670c862f2",
   "metadata": {
    "tags": []
   },
   "outputs": [
    {
     "data": {
      "text/html": [
       "<div>\n",
       "<style scoped>\n",
       "    .dataframe tbody tr th:only-of-type {\n",
       "        vertical-align: middle;\n",
       "    }\n",
       "\n",
       "    .dataframe tbody tr th {\n",
       "        vertical-align: top;\n",
       "    }\n",
       "\n",
       "    .dataframe thead th {\n",
       "        text-align: right;\n",
       "    }\n",
       "</style>\n",
       "<table border=\"1\" class=\"dataframe\">\n",
       "  <thead>\n",
       "    <tr style=\"text-align: right;\">\n",
       "      <th></th>\n",
       "      <th>Q</th>\n",
       "      <th>E</th>\n",
       "      <th>R</th>\n",
       "      <th>T</th>\n",
       "      <th>Y</th>\n",
       "    </tr>\n",
       "  </thead>\n",
       "  <tbody>\n",
       "    <tr>\n",
       "      <th>A</th>\n",
       "      <td>True</td>\n",
       "      <td>False</td>\n",
       "      <td>False</td>\n",
       "      <td>False</td>\n",
       "      <td>True</td>\n",
       "    </tr>\n",
       "    <tr>\n",
       "      <th>B</th>\n",
       "      <td>False</td>\n",
       "      <td>False</td>\n",
       "      <td>False</td>\n",
       "      <td>False</td>\n",
       "      <td>False</td>\n",
       "    </tr>\n",
       "    <tr>\n",
       "      <th>C</th>\n",
       "      <td>False</td>\n",
       "      <td>False</td>\n",
       "      <td>False</td>\n",
       "      <td>True</td>\n",
       "      <td>False</td>\n",
       "    </tr>\n",
       "    <tr>\n",
       "      <th>D</th>\n",
       "      <td>True</td>\n",
       "      <td>True</td>\n",
       "      <td>False</td>\n",
       "      <td>False</td>\n",
       "      <td>True</td>\n",
       "    </tr>\n",
       "    <tr>\n",
       "      <th>E</th>\n",
       "      <td>False</td>\n",
       "      <td>False</td>\n",
       "      <td>False</td>\n",
       "      <td>False</td>\n",
       "      <td>False</td>\n",
       "    </tr>\n",
       "  </tbody>\n",
       "</table>\n",
       "</div>"
      ],
      "text/plain": [
       "       Q      E      R      T      Y\n",
       "A   True  False  False  False   True\n",
       "B  False  False  False  False  False\n",
       "C  False  False  False   True  False\n",
       "D   True   True  False  False   True\n",
       "E  False  False  False  False  False"
      ]
     },
     "execution_count": 41,
     "metadata": {},
     "output_type": "execute_result"
    }
   ],
   "source": [
    "df2.isna()"
   ]
  },
  {
   "cell_type": "code",
   "execution_count": 42,
   "id": "e4947674-c2cb-4e7d-9008-14dd4e49bc9d",
   "metadata": {
    "tags": []
   },
   "outputs": [
    {
     "data": {
      "text/plain": [
       "Q    2\n",
       "E    1\n",
       "R    0\n",
       "T    1\n",
       "Y    2\n",
       "dtype: int64"
      ]
     },
     "execution_count": 42,
     "metadata": {},
     "output_type": "execute_result"
    }
   ],
   "source": [
    "df2.isna().sum() ## mengecek Jumlah Missing value tiap kolom"
   ]
  },
  {
   "cell_type": "code",
   "execution_count": 43,
   "id": "9b034de5-db37-4bd2-84f6-3068e3721187",
   "metadata": {
    "tags": []
   },
   "outputs": [
    {
     "data": {
      "text/plain": [
       "Q    2\n",
       "E    1\n",
       "R    0\n",
       "T    1\n",
       "Y    2\n",
       "dtype: int64"
      ]
     },
     "execution_count": 43,
     "metadata": {},
     "output_type": "execute_result"
    }
   ],
   "source": [
    "df2.isnull().sum()"
   ]
  },
  {
   "cell_type": "code",
   "execution_count": 45,
   "id": "fdf0867f-cacb-4ec0-bd6a-997c640e5b5b",
   "metadata": {
    "tags": []
   },
   "outputs": [
    {
     "data": {
      "text/html": [
       "<div>\n",
       "<style scoped>\n",
       "    .dataframe tbody tr th:only-of-type {\n",
       "        vertical-align: middle;\n",
       "    }\n",
       "\n",
       "    .dataframe tbody tr th {\n",
       "        vertical-align: top;\n",
       "    }\n",
       "\n",
       "    .dataframe thead th {\n",
       "        text-align: right;\n",
       "    }\n",
       "</style>\n",
       "<table border=\"1\" class=\"dataframe\">\n",
       "  <thead>\n",
       "    <tr style=\"text-align: right;\">\n",
       "      <th></th>\n",
       "      <th>Q</th>\n",
       "      <th>E</th>\n",
       "      <th>R</th>\n",
       "      <th>T</th>\n",
       "      <th>Y</th>\n",
       "    </tr>\n",
       "  </thead>\n",
       "  <tbody>\n",
       "    <tr>\n",
       "      <th>B</th>\n",
       "      <td>0.423013</td>\n",
       "      <td>-0.199041</td>\n",
       "      <td>0.828950</td>\n",
       "      <td>1.089233</td>\n",
       "      <td>-0.298366</td>\n",
       "    </tr>\n",
       "    <tr>\n",
       "      <th>E</th>\n",
       "      <td>-0.018883</td>\n",
       "      <td>-0.447168</td>\n",
       "      <td>-0.418123</td>\n",
       "      <td>0.620488</td>\n",
       "      <td>0.129232</td>\n",
       "    </tr>\n",
       "  </tbody>\n",
       "</table>\n",
       "</div>"
      ],
      "text/plain": [
       "          Q         E         R         T         Y\n",
       "B  0.423013 -0.199041  0.828950  1.089233 -0.298366\n",
       "E -0.018883 -0.447168 -0.418123  0.620488  0.129232"
      ]
     },
     "execution_count": 45,
     "metadata": {},
     "output_type": "execute_result"
    }
   ],
   "source": [
    "df2.dropna() ## akan menghapus baris yg memiliki NaN - Missing value\n",
    "## menggunakan axis default, axis = 0"
   ]
  },
  {
   "cell_type": "code",
   "execution_count": 46,
   "id": "de27b453-1010-4a60-a79f-b34712a80bd0",
   "metadata": {
    "tags": []
   },
   "outputs": [
    {
     "data": {
      "text/html": [
       "<div>\n",
       "<style scoped>\n",
       "    .dataframe tbody tr th:only-of-type {\n",
       "        vertical-align: middle;\n",
       "    }\n",
       "\n",
       "    .dataframe tbody tr th {\n",
       "        vertical-align: top;\n",
       "    }\n",
       "\n",
       "    .dataframe thead th {\n",
       "        text-align: right;\n",
       "    }\n",
       "</style>\n",
       "<table border=\"1\" class=\"dataframe\">\n",
       "  <thead>\n",
       "    <tr style=\"text-align: right;\">\n",
       "      <th></th>\n",
       "      <th>R</th>\n",
       "    </tr>\n",
       "  </thead>\n",
       "  <tbody>\n",
       "    <tr>\n",
       "      <th>A</th>\n",
       "      <td>-0.042212</td>\n",
       "    </tr>\n",
       "    <tr>\n",
       "      <th>B</th>\n",
       "      <td>0.828950</td>\n",
       "    </tr>\n",
       "    <tr>\n",
       "      <th>C</th>\n",
       "      <td>0.986261</td>\n",
       "    </tr>\n",
       "    <tr>\n",
       "      <th>D</th>\n",
       "      <td>0.020630</td>\n",
       "    </tr>\n",
       "    <tr>\n",
       "      <th>E</th>\n",
       "      <td>-0.418123</td>\n",
       "    </tr>\n",
       "  </tbody>\n",
       "</table>\n",
       "</div>"
      ],
      "text/plain": [
       "          R\n",
       "A -0.042212\n",
       "B  0.828950\n",
       "C  0.986261\n",
       "D  0.020630\n",
       "E -0.418123"
      ]
     },
     "execution_count": 46,
     "metadata": {},
     "output_type": "execute_result"
    }
   ],
   "source": [
    "df2.dropna(axis=1)\n",
    "## akan menghapus KOLOM yg memiliki NaN - Missing value\n",
    "## karena axis = 1"
   ]
  },
  {
   "cell_type": "code",
   "execution_count": 47,
   "id": "4740df37-6af4-4943-b324-dababde4107a",
   "metadata": {
    "tags": []
   },
   "outputs": [
    {
     "data": {
      "text/html": [
       "<div>\n",
       "<style scoped>\n",
       "    .dataframe tbody tr th:only-of-type {\n",
       "        vertical-align: middle;\n",
       "    }\n",
       "\n",
       "    .dataframe tbody tr th {\n",
       "        vertical-align: top;\n",
       "    }\n",
       "\n",
       "    .dataframe thead th {\n",
       "        text-align: right;\n",
       "    }\n",
       "</style>\n",
       "<table border=\"1\" class=\"dataframe\">\n",
       "  <thead>\n",
       "    <tr style=\"text-align: right;\">\n",
       "      <th></th>\n",
       "      <th>Q</th>\n",
       "      <th>E</th>\n",
       "      <th>R</th>\n",
       "      <th>T</th>\n",
       "      <th>Y</th>\n",
       "    </tr>\n",
       "  </thead>\n",
       "  <tbody>\n",
       "    <tr>\n",
       "      <th>A</th>\n",
       "      <td>NaN</td>\n",
       "      <td>-0.205011</td>\n",
       "      <td>-0.042212</td>\n",
       "      <td>-0.093049</td>\n",
       "      <td>NaN</td>\n",
       "    </tr>\n",
       "    <tr>\n",
       "      <th>B</th>\n",
       "      <td>0.423013</td>\n",
       "      <td>-0.199041</td>\n",
       "      <td>0.828950</td>\n",
       "      <td>1.089233</td>\n",
       "      <td>-0.298366</td>\n",
       "    </tr>\n",
       "    <tr>\n",
       "      <th>C</th>\n",
       "      <td>-0.262138</td>\n",
       "      <td>-0.405058</td>\n",
       "      <td>0.986261</td>\n",
       "      <td>NaN</td>\n",
       "      <td>1.257888</td>\n",
       "    </tr>\n",
       "    <tr>\n",
       "      <th>D</th>\n",
       "      <td>NaN</td>\n",
       "      <td>NaN</td>\n",
       "      <td>0.020630</td>\n",
       "      <td>0.690870</td>\n",
       "      <td>NaN</td>\n",
       "    </tr>\n",
       "    <tr>\n",
       "      <th>E</th>\n",
       "      <td>-0.018883</td>\n",
       "      <td>-0.447168</td>\n",
       "      <td>-0.418123</td>\n",
       "      <td>0.620488</td>\n",
       "      <td>0.129232</td>\n",
       "    </tr>\n",
       "  </tbody>\n",
       "</table>\n",
       "</div>"
      ],
      "text/plain": [
       "          Q         E         R         T         Y\n",
       "A       NaN -0.205011 -0.042212 -0.093049       NaN\n",
       "B  0.423013 -0.199041  0.828950  1.089233 -0.298366\n",
       "C -0.262138 -0.405058  0.986261       NaN  1.257888\n",
       "D       NaN       NaN  0.020630  0.690870       NaN\n",
       "E -0.018883 -0.447168 -0.418123  0.620488  0.129232"
      ]
     },
     "execution_count": 47,
     "metadata": {},
     "output_type": "execute_result"
    }
   ],
   "source": [
    "df2"
   ]
  },
  {
   "cell_type": "code",
   "execution_count": 49,
   "id": "ed05bff5-e27c-4565-9df1-548958697b60",
   "metadata": {
    "tags": []
   },
   "outputs": [
    {
     "data": {
      "text/html": [
       "<div>\n",
       "<style scoped>\n",
       "    .dataframe tbody tr th:only-of-type {\n",
       "        vertical-align: middle;\n",
       "    }\n",
       "\n",
       "    .dataframe tbody tr th {\n",
       "        vertical-align: top;\n",
       "    }\n",
       "\n",
       "    .dataframe thead th {\n",
       "        text-align: right;\n",
       "    }\n",
       "</style>\n",
       "<table border=\"1\" class=\"dataframe\">\n",
       "  <thead>\n",
       "    <tr style=\"text-align: right;\">\n",
       "      <th></th>\n",
       "      <th>Q</th>\n",
       "      <th>E</th>\n",
       "      <th>R</th>\n",
       "      <th>T</th>\n",
       "      <th>Y</th>\n",
       "    </tr>\n",
       "  </thead>\n",
       "  <tbody>\n",
       "    <tr>\n",
       "      <th>A</th>\n",
       "      <td>NaN</td>\n",
       "      <td>-0.205011</td>\n",
       "      <td>-0.042212</td>\n",
       "      <td>-0.093049</td>\n",
       "      <td>NaN</td>\n",
       "    </tr>\n",
       "    <tr>\n",
       "      <th>B</th>\n",
       "      <td>0.423013</td>\n",
       "      <td>-0.199041</td>\n",
       "      <td>0.828950</td>\n",
       "      <td>1.089233</td>\n",
       "      <td>-0.298366</td>\n",
       "    </tr>\n",
       "    <tr>\n",
       "      <th>C</th>\n",
       "      <td>-0.262138</td>\n",
       "      <td>-0.405058</td>\n",
       "      <td>0.986261</td>\n",
       "      <td>NaN</td>\n",
       "      <td>1.257888</td>\n",
       "    </tr>\n",
       "    <tr>\n",
       "      <th>E</th>\n",
       "      <td>-0.018883</td>\n",
       "      <td>-0.447168</td>\n",
       "      <td>-0.418123</td>\n",
       "      <td>0.620488</td>\n",
       "      <td>0.129232</td>\n",
       "    </tr>\n",
       "  </tbody>\n",
       "</table>\n",
       "</div>"
      ],
      "text/plain": [
       "          Q         E         R         T         Y\n",
       "A       NaN -0.205011 -0.042212 -0.093049       NaN\n",
       "B  0.423013 -0.199041  0.828950  1.089233 -0.298366\n",
       "C -0.262138 -0.405058  0.986261       NaN  1.257888\n",
       "E -0.018883 -0.447168 -0.418123  0.620488  0.129232"
      ]
     },
     "execution_count": 49,
     "metadata": {},
     "output_type": "execute_result"
    }
   ],
   "source": [
    "df2.dropna(thresh=3) ## Jumlah minimal KOLOM yg tidak NaN dalam 1 baris\n",
    "## Jika mencapai minimal, baris tidak akan dihapus"
   ]
  },
  {
   "cell_type": "code",
   "execution_count": 51,
   "id": "fa92cb1d-e527-44e5-aeed-320d30dfcb01",
   "metadata": {
    "tags": []
   },
   "outputs": [
    {
     "data": {
      "text/html": [
       "<div>\n",
       "<style scoped>\n",
       "    .dataframe tbody tr th:only-of-type {\n",
       "        vertical-align: middle;\n",
       "    }\n",
       "\n",
       "    .dataframe tbody tr th {\n",
       "        vertical-align: top;\n",
       "    }\n",
       "\n",
       "    .dataframe thead th {\n",
       "        text-align: right;\n",
       "    }\n",
       "</style>\n",
       "<table border=\"1\" class=\"dataframe\">\n",
       "  <thead>\n",
       "    <tr style=\"text-align: right;\">\n",
       "      <th></th>\n",
       "      <th>Q</th>\n",
       "      <th>E</th>\n",
       "      <th>R</th>\n",
       "      <th>T</th>\n",
       "      <th>Y</th>\n",
       "    </tr>\n",
       "  </thead>\n",
       "  <tbody>\n",
       "    <tr>\n",
       "      <th>A</th>\n",
       "      <td>NaN</td>\n",
       "      <td>-0.205011</td>\n",
       "      <td>-0.042212</td>\n",
       "      <td>-0.093049</td>\n",
       "      <td>NaN</td>\n",
       "    </tr>\n",
       "    <tr>\n",
       "      <th>B</th>\n",
       "      <td>0.423013</td>\n",
       "      <td>-0.199041</td>\n",
       "      <td>0.828950</td>\n",
       "      <td>1.089233</td>\n",
       "      <td>-0.298366</td>\n",
       "    </tr>\n",
       "    <tr>\n",
       "      <th>C</th>\n",
       "      <td>-0.262138</td>\n",
       "      <td>-0.405058</td>\n",
       "      <td>0.986261</td>\n",
       "      <td>NaN</td>\n",
       "      <td>1.257888</td>\n",
       "    </tr>\n",
       "    <tr>\n",
       "      <th>D</th>\n",
       "      <td>NaN</td>\n",
       "      <td>NaN</td>\n",
       "      <td>0.020630</td>\n",
       "      <td>0.690870</td>\n",
       "      <td>NaN</td>\n",
       "    </tr>\n",
       "    <tr>\n",
       "      <th>E</th>\n",
       "      <td>-0.018883</td>\n",
       "      <td>-0.447168</td>\n",
       "      <td>-0.418123</td>\n",
       "      <td>0.620488</td>\n",
       "      <td>0.129232</td>\n",
       "    </tr>\n",
       "  </tbody>\n",
       "</table>\n",
       "</div>"
      ],
      "text/plain": [
       "          Q         E         R         T         Y\n",
       "A       NaN -0.205011 -0.042212 -0.093049       NaN\n",
       "B  0.423013 -0.199041  0.828950  1.089233 -0.298366\n",
       "C -0.262138 -0.405058  0.986261       NaN  1.257888\n",
       "D       NaN       NaN  0.020630  0.690870       NaN\n",
       "E -0.018883 -0.447168 -0.418123  0.620488  0.129232"
      ]
     },
     "execution_count": 51,
     "metadata": {},
     "output_type": "execute_result"
    }
   ],
   "source": [
    "df2"
   ]
  },
  {
   "cell_type": "code",
   "execution_count": 52,
   "id": "dca7769c-e8e1-40e6-b9b6-09f6a0ea2fbb",
   "metadata": {
    "tags": []
   },
   "outputs": [
    {
     "data": {
      "text/html": [
       "<div>\n",
       "<style scoped>\n",
       "    .dataframe tbody tr th:only-of-type {\n",
       "        vertical-align: middle;\n",
       "    }\n",
       "\n",
       "    .dataframe tbody tr th {\n",
       "        vertical-align: top;\n",
       "    }\n",
       "\n",
       "    .dataframe thead th {\n",
       "        text-align: right;\n",
       "    }\n",
       "</style>\n",
       "<table border=\"1\" class=\"dataframe\">\n",
       "  <thead>\n",
       "    <tr style=\"text-align: right;\">\n",
       "      <th></th>\n",
       "      <th>Q</th>\n",
       "      <th>E</th>\n",
       "      <th>R</th>\n",
       "      <th>T</th>\n",
       "      <th>Y</th>\n",
       "    </tr>\n",
       "  </thead>\n",
       "  <tbody>\n",
       "    <tr>\n",
       "      <th>A</th>\n",
       "      <td>Missing</td>\n",
       "      <td>-0.205011</td>\n",
       "      <td>-0.042212</td>\n",
       "      <td>-0.093049</td>\n",
       "      <td>Missing</td>\n",
       "    </tr>\n",
       "    <tr>\n",
       "      <th>B</th>\n",
       "      <td>0.423013</td>\n",
       "      <td>-0.199041</td>\n",
       "      <td>0.828950</td>\n",
       "      <td>1.089233</td>\n",
       "      <td>-0.298366</td>\n",
       "    </tr>\n",
       "    <tr>\n",
       "      <th>C</th>\n",
       "      <td>-0.262138</td>\n",
       "      <td>-0.405058</td>\n",
       "      <td>0.986261</td>\n",
       "      <td>Missing</td>\n",
       "      <td>1.257888</td>\n",
       "    </tr>\n",
       "    <tr>\n",
       "      <th>D</th>\n",
       "      <td>Missing</td>\n",
       "      <td>Missing</td>\n",
       "      <td>0.020630</td>\n",
       "      <td>0.69087</td>\n",
       "      <td>Missing</td>\n",
       "    </tr>\n",
       "    <tr>\n",
       "      <th>E</th>\n",
       "      <td>-0.018883</td>\n",
       "      <td>-0.447168</td>\n",
       "      <td>-0.418123</td>\n",
       "      <td>0.620488</td>\n",
       "      <td>0.129232</td>\n",
       "    </tr>\n",
       "  </tbody>\n",
       "</table>\n",
       "</div>"
      ],
      "text/plain": [
       "          Q         E         R         T         Y\n",
       "A   Missing -0.205011 -0.042212 -0.093049   Missing\n",
       "B  0.423013 -0.199041  0.828950  1.089233 -0.298366\n",
       "C -0.262138 -0.405058  0.986261   Missing  1.257888\n",
       "D   Missing   Missing  0.020630   0.69087   Missing\n",
       "E -0.018883 -0.447168 -0.418123  0.620488  0.129232"
      ]
     },
     "execution_count": 52,
     "metadata": {},
     "output_type": "execute_result"
    }
   ],
   "source": [
    "df2.fillna('Missing')"
   ]
  },
  {
   "cell_type": "code",
   "execution_count": 53,
   "id": "0e470cc7-63b1-4feb-9e00-6d9378d92f0a",
   "metadata": {
    "tags": []
   },
   "outputs": [
    {
     "data": {
      "text/html": [
       "<div>\n",
       "<style scoped>\n",
       "    .dataframe tbody tr th:only-of-type {\n",
       "        vertical-align: middle;\n",
       "    }\n",
       "\n",
       "    .dataframe tbody tr th {\n",
       "        vertical-align: top;\n",
       "    }\n",
       "\n",
       "    .dataframe thead th {\n",
       "        text-align: right;\n",
       "    }\n",
       "</style>\n",
       "<table border=\"1\" class=\"dataframe\">\n",
       "  <thead>\n",
       "    <tr style=\"text-align: right;\">\n",
       "      <th></th>\n",
       "      <th>Q</th>\n",
       "      <th>E</th>\n",
       "      <th>R</th>\n",
       "      <th>T</th>\n",
       "      <th>Y</th>\n",
       "    </tr>\n",
       "  </thead>\n",
       "  <tbody>\n",
       "    <tr>\n",
       "      <th>A</th>\n",
       "      <td>0.000000</td>\n",
       "      <td>-0.205011</td>\n",
       "      <td>-0.042212</td>\n",
       "      <td>-0.093049</td>\n",
       "      <td>0.000000</td>\n",
       "    </tr>\n",
       "    <tr>\n",
       "      <th>B</th>\n",
       "      <td>0.423013</td>\n",
       "      <td>-0.199041</td>\n",
       "      <td>0.828950</td>\n",
       "      <td>1.089233</td>\n",
       "      <td>-0.298366</td>\n",
       "    </tr>\n",
       "    <tr>\n",
       "      <th>C</th>\n",
       "      <td>-0.262138</td>\n",
       "      <td>-0.405058</td>\n",
       "      <td>0.986261</td>\n",
       "      <td>0.000000</td>\n",
       "      <td>1.257888</td>\n",
       "    </tr>\n",
       "    <tr>\n",
       "      <th>D</th>\n",
       "      <td>0.000000</td>\n",
       "      <td>0.000000</td>\n",
       "      <td>0.020630</td>\n",
       "      <td>0.690870</td>\n",
       "      <td>0.000000</td>\n",
       "    </tr>\n",
       "    <tr>\n",
       "      <th>E</th>\n",
       "      <td>-0.018883</td>\n",
       "      <td>-0.447168</td>\n",
       "      <td>-0.418123</td>\n",
       "      <td>0.620488</td>\n",
       "      <td>0.129232</td>\n",
       "    </tr>\n",
       "  </tbody>\n",
       "</table>\n",
       "</div>"
      ],
      "text/plain": [
       "          Q         E         R         T         Y\n",
       "A  0.000000 -0.205011 -0.042212 -0.093049  0.000000\n",
       "B  0.423013 -0.199041  0.828950  1.089233 -0.298366\n",
       "C -0.262138 -0.405058  0.986261  0.000000  1.257888\n",
       "D  0.000000  0.000000  0.020630  0.690870  0.000000\n",
       "E -0.018883 -0.447168 -0.418123  0.620488  0.129232"
      ]
     },
     "execution_count": 53,
     "metadata": {},
     "output_type": "execute_result"
    }
   ],
   "source": [
    "df2.fillna(0)"
   ]
  },
  {
   "cell_type": "code",
   "execution_count": 56,
   "id": "c2c4bbf9-c661-440a-bda5-ea558fc6bb16",
   "metadata": {
    "tags": []
   },
   "outputs": [
    {
     "data": {
      "text/plain": [
       "0.36291798836562067"
      ]
     },
     "execution_count": 56,
     "metadata": {},
     "output_type": "execute_result"
    }
   ],
   "source": [
    "df2['Y'].mean()"
   ]
  },
  {
   "cell_type": "code",
   "execution_count": 57,
   "id": "c26064d0-1044-4c40-8e18-f2c94d5ae673",
   "metadata": {
    "tags": []
   },
   "outputs": [
    {
     "data": {
      "text/plain": [
       "A         NaN\n",
       "B   -0.298366\n",
       "C    1.257888\n",
       "D         NaN\n",
       "E    0.129232\n",
       "Name: Y, dtype: float64"
      ]
     },
     "execution_count": 57,
     "metadata": {},
     "output_type": "execute_result"
    }
   ],
   "source": [
    "df2['Y']"
   ]
  },
  {
   "cell_type": "code",
   "execution_count": 59,
   "id": "eaec55ab-3711-4409-8c23-cafbc1f20aea",
   "metadata": {
    "tags": []
   },
   "outputs": [
    {
     "data": {
      "text/plain": [
       "A    0.362918\n",
       "B   -0.298366\n",
       "C    1.257888\n",
       "D    0.362918\n",
       "E    0.129232\n",
       "Name: Y, dtype: float64"
      ]
     },
     "execution_count": 59,
     "metadata": {},
     "output_type": "execute_result"
    }
   ],
   "source": [
    "df2['Y'].fillna(df2['Y'].mean()) ## mengisi Kolom Y yg berisi Missing value (NaN) menggunakan nilai rata-rata dari Kolom Y"
   ]
  },
  {
   "cell_type": "code",
   "execution_count": 60,
   "id": "6a09f47e-38e0-41cd-90cf-795a52a515f4",
   "metadata": {
    "tags": []
   },
   "outputs": [
    {
     "data": {
      "text/plain": [
       "Q    0.047331\n",
       "E   -0.314070\n",
       "R    0.275101\n",
       "T    0.576885\n",
       "Y    0.362918\n",
       "dtype: float64"
      ]
     },
     "execution_count": 60,
     "metadata": {},
     "output_type": "execute_result"
    }
   ],
   "source": [
    "df2.mean()"
   ]
  },
  {
   "cell_type": "code",
   "execution_count": 61,
   "id": "51b64b0b-6af3-497d-aa1e-9b88ed8c6eb0",
   "metadata": {
    "tags": []
   },
   "outputs": [
    {
     "data": {
      "text/html": [
       "<div>\n",
       "<style scoped>\n",
       "    .dataframe tbody tr th:only-of-type {\n",
       "        vertical-align: middle;\n",
       "    }\n",
       "\n",
       "    .dataframe tbody tr th {\n",
       "        vertical-align: top;\n",
       "    }\n",
       "\n",
       "    .dataframe thead th {\n",
       "        text-align: right;\n",
       "    }\n",
       "</style>\n",
       "<table border=\"1\" class=\"dataframe\">\n",
       "  <thead>\n",
       "    <tr style=\"text-align: right;\">\n",
       "      <th></th>\n",
       "      <th>Q</th>\n",
       "      <th>E</th>\n",
       "      <th>R</th>\n",
       "      <th>T</th>\n",
       "      <th>Y</th>\n",
       "    </tr>\n",
       "  </thead>\n",
       "  <tbody>\n",
       "    <tr>\n",
       "      <th>A</th>\n",
       "      <td>0.047331</td>\n",
       "      <td>-0.205011</td>\n",
       "      <td>-0.042212</td>\n",
       "      <td>-0.093049</td>\n",
       "      <td>0.362918</td>\n",
       "    </tr>\n",
       "    <tr>\n",
       "      <th>B</th>\n",
       "      <td>0.423013</td>\n",
       "      <td>-0.199041</td>\n",
       "      <td>0.828950</td>\n",
       "      <td>1.089233</td>\n",
       "      <td>-0.298366</td>\n",
       "    </tr>\n",
       "    <tr>\n",
       "      <th>C</th>\n",
       "      <td>-0.262138</td>\n",
       "      <td>-0.405058</td>\n",
       "      <td>0.986261</td>\n",
       "      <td>0.576885</td>\n",
       "      <td>1.257888</td>\n",
       "    </tr>\n",
       "    <tr>\n",
       "      <th>D</th>\n",
       "      <td>0.047331</td>\n",
       "      <td>-0.314070</td>\n",
       "      <td>0.020630</td>\n",
       "      <td>0.690870</td>\n",
       "      <td>0.362918</td>\n",
       "    </tr>\n",
       "    <tr>\n",
       "      <th>E</th>\n",
       "      <td>-0.018883</td>\n",
       "      <td>-0.447168</td>\n",
       "      <td>-0.418123</td>\n",
       "      <td>0.620488</td>\n",
       "      <td>0.129232</td>\n",
       "    </tr>\n",
       "  </tbody>\n",
       "</table>\n",
       "</div>"
      ],
      "text/plain": [
       "          Q         E         R         T         Y\n",
       "A  0.047331 -0.205011 -0.042212 -0.093049  0.362918\n",
       "B  0.423013 -0.199041  0.828950  1.089233 -0.298366\n",
       "C -0.262138 -0.405058  0.986261  0.576885  1.257888\n",
       "D  0.047331 -0.314070  0.020630  0.690870  0.362918\n",
       "E -0.018883 -0.447168 -0.418123  0.620488  0.129232"
      ]
     },
     "execution_count": 61,
     "metadata": {},
     "output_type": "execute_result"
    }
   ],
   "source": [
    "df2.fillna(df2.mean()) ## Akan mengisi Missing Value setiap kolom menggunakan nilai rata-rata dari kolom tersebut"
   ]
  },
  {
   "cell_type": "code",
   "execution_count": 62,
   "id": "dcfdca09-4717-4f54-a7c1-3f0321cb3acf",
   "metadata": {
    "tags": []
   },
   "outputs": [],
   "source": [
    "## Aggregation"
   ]
  },
  {
   "cell_type": "code",
   "execution_count": 63,
   "id": "5b33e148-7d5f-483e-ad2d-9d0b57f035e5",
   "metadata": {
    "tags": []
   },
   "outputs": [],
   "source": [
    "data = {\n",
    "    'company' : ['Amz', 'Amz', 'MS', 'MS', 'Meta', 'Meta'],\n",
    "    'person' : ['Sam', 'Jack', 'Andre', 'Fanta', 'Cindy', 'Ari'],\n",
    "    'sales' : [200, 400, 250, 600, 740, 120],\n",
    "    'salary' : [12000000, 17000000, 13000000, 25000000, 30000000, 10000000]\n",
    "}"
   ]
  },
  {
   "cell_type": "code",
   "execution_count": 64,
   "id": "f4d08d05-578e-4123-b6c9-69d5ca783661",
   "metadata": {
    "tags": []
   },
   "outputs": [],
   "source": [
    "df_sales = pd.DataFrame(data)"
   ]
  },
  {
   "cell_type": "code",
   "execution_count": 65,
   "id": "a44c9379-749e-49ee-aea7-6ff9f65b4e5e",
   "metadata": {
    "tags": []
   },
   "outputs": [
    {
     "data": {
      "text/html": [
       "<div>\n",
       "<style scoped>\n",
       "    .dataframe tbody tr th:only-of-type {\n",
       "        vertical-align: middle;\n",
       "    }\n",
       "\n",
       "    .dataframe tbody tr th {\n",
       "        vertical-align: top;\n",
       "    }\n",
       "\n",
       "    .dataframe thead th {\n",
       "        text-align: right;\n",
       "    }\n",
       "</style>\n",
       "<table border=\"1\" class=\"dataframe\">\n",
       "  <thead>\n",
       "    <tr style=\"text-align: right;\">\n",
       "      <th></th>\n",
       "      <th>company</th>\n",
       "      <th>person</th>\n",
       "      <th>sales</th>\n",
       "      <th>salary</th>\n",
       "    </tr>\n",
       "  </thead>\n",
       "  <tbody>\n",
       "    <tr>\n",
       "      <th>0</th>\n",
       "      <td>Amz</td>\n",
       "      <td>Sam</td>\n",
       "      <td>200</td>\n",
       "      <td>12000000</td>\n",
       "    </tr>\n",
       "    <tr>\n",
       "      <th>1</th>\n",
       "      <td>Amz</td>\n",
       "      <td>Jack</td>\n",
       "      <td>400</td>\n",
       "      <td>17000000</td>\n",
       "    </tr>\n",
       "    <tr>\n",
       "      <th>2</th>\n",
       "      <td>MS</td>\n",
       "      <td>Andre</td>\n",
       "      <td>250</td>\n",
       "      <td>13000000</td>\n",
       "    </tr>\n",
       "    <tr>\n",
       "      <th>3</th>\n",
       "      <td>MS</td>\n",
       "      <td>Fanta</td>\n",
       "      <td>600</td>\n",
       "      <td>25000000</td>\n",
       "    </tr>\n",
       "    <tr>\n",
       "      <th>4</th>\n",
       "      <td>Meta</td>\n",
       "      <td>Cindy</td>\n",
       "      <td>740</td>\n",
       "      <td>30000000</td>\n",
       "    </tr>\n",
       "    <tr>\n",
       "      <th>5</th>\n",
       "      <td>Meta</td>\n",
       "      <td>Ari</td>\n",
       "      <td>120</td>\n",
       "      <td>10000000</td>\n",
       "    </tr>\n",
       "  </tbody>\n",
       "</table>\n",
       "</div>"
      ],
      "text/plain": [
       "  company person  sales    salary\n",
       "0     Amz    Sam    200  12000000\n",
       "1     Amz   Jack    400  17000000\n",
       "2      MS  Andre    250  13000000\n",
       "3      MS  Fanta    600  25000000\n",
       "4    Meta  Cindy    740  30000000\n",
       "5    Meta    Ari    120  10000000"
      ]
     },
     "execution_count": 65,
     "metadata": {},
     "output_type": "execute_result"
    }
   ],
   "source": [
    "df_sales"
   ]
  },
  {
   "cell_type": "code",
   "execution_count": null,
   "id": "e27389b3-0d0d-4bc2-a97c-136dffbbf6e3",
   "metadata": {},
   "outputs": [],
   "source": [
    "- Group by ==> SQL\n",
    "- Crosstab ==> Original pandas\n",
    "- Pivot Table ==> ms excell"
   ]
  },
  {
   "cell_type": "markdown",
   "id": "f2e79478-0798-491c-9334-1ae844ca411c",
   "metadata": {},
   "source": [
    "## Group By\n",
    "- Fungsi Group by memiliki kegunaan yg sama seperti Group by pada SQL\n",
    "- Harus ada kolom yg diterapkan fungsi aggregasi (average, sum, count, dst)\n",
    "- Kolom yg diterapkan fungsi aggregat harus Numerik\n",
    "- Ada 3 Komponen Utama di fungsi Group by :\n",
    "    1. Kolom kategorikal untuk Grouping (dasar pengelompokkan)\n",
    "    2. Kolom numerikal untuk dasar/kolom yg diterapkan fungsi aggregasi\n",
    "    3. Fungsi aggregasinya"
   ]
  },
  {
   "cell_type": "code",
   "execution_count": 66,
   "id": "2bc6a578-2239-4fc3-a8bf-07341da18c32",
   "metadata": {
    "tags": []
   },
   "outputs": [
    {
     "data": {
      "text/plain": [
       "<pandas.core.groupby.generic.DataFrameGroupBy object at 0x000001D3061453D0>"
      ]
     },
     "execution_count": 66,
     "metadata": {},
     "output_type": "execute_result"
    }
   ],
   "source": [
    "df_sales.groupby('company')\n",
    "## di dalam kurung harus menggunakan kolom yg berisi data kategorikal\n",
    "## agar dapat diambil insight nya - dianalisa"
   ]
  },
  {
   "cell_type": "code",
   "execution_count": 68,
   "id": "a637ff1c-681f-48ce-aece-85af8d7b51b9",
   "metadata": {
    "tags": []
   },
   "outputs": [
    {
     "data": {
      "text/html": [
       "<div>\n",
       "<style scoped>\n",
       "    .dataframe tbody tr th:only-of-type {\n",
       "        vertical-align: middle;\n",
       "    }\n",
       "\n",
       "    .dataframe tbody tr th {\n",
       "        vertical-align: top;\n",
       "    }\n",
       "\n",
       "    .dataframe thead th {\n",
       "        text-align: right;\n",
       "    }\n",
       "</style>\n",
       "<table border=\"1\" class=\"dataframe\">\n",
       "  <thead>\n",
       "    <tr style=\"text-align: right;\">\n",
       "      <th></th>\n",
       "      <th>sales</th>\n",
       "      <th>salary</th>\n",
       "    </tr>\n",
       "    <tr>\n",
       "      <th>company</th>\n",
       "      <th></th>\n",
       "      <th></th>\n",
       "    </tr>\n",
       "  </thead>\n",
       "  <tbody>\n",
       "    <tr>\n",
       "      <th>Amz</th>\n",
       "      <td>300.0</td>\n",
       "      <td>14500000.0</td>\n",
       "    </tr>\n",
       "    <tr>\n",
       "      <th>MS</th>\n",
       "      <td>425.0</td>\n",
       "      <td>19000000.0</td>\n",
       "    </tr>\n",
       "    <tr>\n",
       "      <th>Meta</th>\n",
       "      <td>430.0</td>\n",
       "      <td>20000000.0</td>\n",
       "    </tr>\n",
       "  </tbody>\n",
       "</table>\n",
       "</div>"
      ],
      "text/plain": [
       "         sales      salary\n",
       "company                   \n",
       "Amz      300.0  14500000.0\n",
       "MS       425.0  19000000.0\n",
       "Meta     430.0  20000000.0"
      ]
     },
     "execution_count": 68,
     "metadata": {},
     "output_type": "execute_result"
    }
   ],
   "source": [
    "df_sales.groupby('company').mean(numeric_only=True)"
   ]
  },
  {
   "cell_type": "markdown",
   "id": "1e4fb91e-3433-456d-aaa0-19e0d2d38f64",
   "metadata": {},
   "source": [
    "## Keterangan\n",
    "- Kolom company : Kolom kategorikal sebagai dasar penghelompokkan\n",
    "- Kolom sales & salary : Kolom numerikal yg diterapkan fungsi aggregasi\n",
    "- .mean() : fungsi aggregasi"
   ]
  },
  {
   "cell_type": "code",
   "execution_count": 69,
   "id": "d843cc74-ee29-44c2-a53c-33dfb989269b",
   "metadata": {
    "tags": []
   },
   "outputs": [
    {
     "data": {
      "text/html": [
       "<div>\n",
       "<style scoped>\n",
       "    .dataframe tbody tr th:only-of-type {\n",
       "        vertical-align: middle;\n",
       "    }\n",
       "\n",
       "    .dataframe tbody tr th {\n",
       "        vertical-align: top;\n",
       "    }\n",
       "\n",
       "    .dataframe thead th {\n",
       "        text-align: right;\n",
       "    }\n",
       "</style>\n",
       "<table border=\"1\" class=\"dataframe\">\n",
       "  <thead>\n",
       "    <tr style=\"text-align: right;\">\n",
       "      <th></th>\n",
       "      <th>sales</th>\n",
       "    </tr>\n",
       "    <tr>\n",
       "      <th>company</th>\n",
       "      <th></th>\n",
       "    </tr>\n",
       "  </thead>\n",
       "  <tbody>\n",
       "    <tr>\n",
       "      <th>Amz</th>\n",
       "      <td>200</td>\n",
       "    </tr>\n",
       "    <tr>\n",
       "      <th>MS</th>\n",
       "      <td>250</td>\n",
       "    </tr>\n",
       "    <tr>\n",
       "      <th>Meta</th>\n",
       "      <td>120</td>\n",
       "    </tr>\n",
       "  </tbody>\n",
       "</table>\n",
       "</div>"
      ],
      "text/plain": [
       "         sales\n",
       "company       \n",
       "Amz        200\n",
       "MS         250\n",
       "Meta       120"
      ]
     },
     "execution_count": 69,
     "metadata": {},
     "output_type": "execute_result"
    }
   ],
   "source": [
    "df_sales[['company', 'sales']].groupby('company').min()"
   ]
  },
  {
   "cell_type": "code",
   "execution_count": 70,
   "id": "7ec46e08-8ca2-41c0-a0a4-a1d9860c656c",
   "metadata": {
    "tags": []
   },
   "outputs": [
    {
     "data": {
      "text/html": [
       "<div>\n",
       "<style scoped>\n",
       "    .dataframe tbody tr th:only-of-type {\n",
       "        vertical-align: middle;\n",
       "    }\n",
       "\n",
       "    .dataframe tbody tr th {\n",
       "        vertical-align: top;\n",
       "    }\n",
       "\n",
       "    .dataframe thead tr th {\n",
       "        text-align: left;\n",
       "    }\n",
       "\n",
       "    .dataframe thead tr:last-of-type th {\n",
       "        text-align: right;\n",
       "    }\n",
       "</style>\n",
       "<table border=\"1\" class=\"dataframe\">\n",
       "  <thead>\n",
       "    <tr>\n",
       "      <th></th>\n",
       "      <th colspan=\"8\" halign=\"left\">sales</th>\n",
       "    </tr>\n",
       "    <tr>\n",
       "      <th></th>\n",
       "      <th>count</th>\n",
       "      <th>mean</th>\n",
       "      <th>std</th>\n",
       "      <th>min</th>\n",
       "      <th>25%</th>\n",
       "      <th>50%</th>\n",
       "      <th>75%</th>\n",
       "      <th>max</th>\n",
       "    </tr>\n",
       "    <tr>\n",
       "      <th>company</th>\n",
       "      <th></th>\n",
       "      <th></th>\n",
       "      <th></th>\n",
       "      <th></th>\n",
       "      <th></th>\n",
       "      <th></th>\n",
       "      <th></th>\n",
       "      <th></th>\n",
       "    </tr>\n",
       "  </thead>\n",
       "  <tbody>\n",
       "    <tr>\n",
       "      <th>Amz</th>\n",
       "      <td>2.0</td>\n",
       "      <td>300.0</td>\n",
       "      <td>141.421356</td>\n",
       "      <td>200.0</td>\n",
       "      <td>250.0</td>\n",
       "      <td>300.0</td>\n",
       "      <td>350.0</td>\n",
       "      <td>400.0</td>\n",
       "    </tr>\n",
       "    <tr>\n",
       "      <th>MS</th>\n",
       "      <td>2.0</td>\n",
       "      <td>425.0</td>\n",
       "      <td>247.487373</td>\n",
       "      <td>250.0</td>\n",
       "      <td>337.5</td>\n",
       "      <td>425.0</td>\n",
       "      <td>512.5</td>\n",
       "      <td>600.0</td>\n",
       "    </tr>\n",
       "    <tr>\n",
       "      <th>Meta</th>\n",
       "      <td>2.0</td>\n",
       "      <td>430.0</td>\n",
       "      <td>438.406204</td>\n",
       "      <td>120.0</td>\n",
       "      <td>275.0</td>\n",
       "      <td>430.0</td>\n",
       "      <td>585.0</td>\n",
       "      <td>740.0</td>\n",
       "    </tr>\n",
       "  </tbody>\n",
       "</table>\n",
       "</div>"
      ],
      "text/plain": [
       "        sales                                                      \n",
       "        count   mean         std    min    25%    50%    75%    max\n",
       "company                                                            \n",
       "Amz       2.0  300.0  141.421356  200.0  250.0  300.0  350.0  400.0\n",
       "MS        2.0  425.0  247.487373  250.0  337.5  425.0  512.5  600.0\n",
       "Meta      2.0  430.0  438.406204  120.0  275.0  430.0  585.0  740.0"
      ]
     },
     "execution_count": 70,
     "metadata": {},
     "output_type": "execute_result"
    }
   ],
   "source": [
    "df_sales[['company', 'sales']].groupby('company').describe()"
   ]
  },
  {
   "cell_type": "code",
   "execution_count": 71,
   "id": "a20305ff-8776-4a2f-8fd7-8ce89a036fb0",
   "metadata": {
    "tags": []
   },
   "outputs": [
    {
     "data": {
      "text/html": [
       "<div>\n",
       "<style scoped>\n",
       "    .dataframe tbody tr th:only-of-type {\n",
       "        vertical-align: middle;\n",
       "    }\n",
       "\n",
       "    .dataframe tbody tr th {\n",
       "        vertical-align: top;\n",
       "    }\n",
       "\n",
       "    .dataframe thead th {\n",
       "        text-align: right;\n",
       "    }\n",
       "</style>\n",
       "<table border=\"1\" class=\"dataframe\">\n",
       "  <thead>\n",
       "    <tr style=\"text-align: right;\">\n",
       "      <th></th>\n",
       "      <th>company</th>\n",
       "      <th>Amz</th>\n",
       "      <th>MS</th>\n",
       "      <th>Meta</th>\n",
       "    </tr>\n",
       "  </thead>\n",
       "  <tbody>\n",
       "    <tr>\n",
       "      <th rowspan=\"8\" valign=\"top\">sales</th>\n",
       "      <th>count</th>\n",
       "      <td>2.000000</td>\n",
       "      <td>2.000000</td>\n",
       "      <td>2.000000</td>\n",
       "    </tr>\n",
       "    <tr>\n",
       "      <th>mean</th>\n",
       "      <td>300.000000</td>\n",
       "      <td>425.000000</td>\n",
       "      <td>430.000000</td>\n",
       "    </tr>\n",
       "    <tr>\n",
       "      <th>std</th>\n",
       "      <td>141.421356</td>\n",
       "      <td>247.487373</td>\n",
       "      <td>438.406204</td>\n",
       "    </tr>\n",
       "    <tr>\n",
       "      <th>min</th>\n",
       "      <td>200.000000</td>\n",
       "      <td>250.000000</td>\n",
       "      <td>120.000000</td>\n",
       "    </tr>\n",
       "    <tr>\n",
       "      <th>25%</th>\n",
       "      <td>250.000000</td>\n",
       "      <td>337.500000</td>\n",
       "      <td>275.000000</td>\n",
       "    </tr>\n",
       "    <tr>\n",
       "      <th>50%</th>\n",
       "      <td>300.000000</td>\n",
       "      <td>425.000000</td>\n",
       "      <td>430.000000</td>\n",
       "    </tr>\n",
       "    <tr>\n",
       "      <th>75%</th>\n",
       "      <td>350.000000</td>\n",
       "      <td>512.500000</td>\n",
       "      <td>585.000000</td>\n",
       "    </tr>\n",
       "    <tr>\n",
       "      <th>max</th>\n",
       "      <td>400.000000</td>\n",
       "      <td>600.000000</td>\n",
       "      <td>740.000000</td>\n",
       "    </tr>\n",
       "  </tbody>\n",
       "</table>\n",
       "</div>"
      ],
      "text/plain": [
       "company             Amz          MS        Meta\n",
       "sales count    2.000000    2.000000    2.000000\n",
       "      mean   300.000000  425.000000  430.000000\n",
       "      std    141.421356  247.487373  438.406204\n",
       "      min    200.000000  250.000000  120.000000\n",
       "      25%    250.000000  337.500000  275.000000\n",
       "      50%    300.000000  425.000000  430.000000\n",
       "      75%    350.000000  512.500000  585.000000\n",
       "      max    400.000000  600.000000  740.000000"
      ]
     },
     "execution_count": 71,
     "metadata": {},
     "output_type": "execute_result"
    }
   ],
   "source": [
    "df_sales[['company', 'sales']].groupby('company').describe().T"
   ]
  },
  {
   "cell_type": "code",
   "execution_count": 72,
   "id": "67fa4571-4c28-4be7-8003-9448dca7d638",
   "metadata": {
    "tags": []
   },
   "outputs": [
    {
     "data": {
      "text/plain": [
       "sales  count      2.000000\n",
       "       mean     300.000000\n",
       "       std      141.421356\n",
       "       min      200.000000\n",
       "       25%      250.000000\n",
       "       50%      300.000000\n",
       "       75%      350.000000\n",
       "       max      400.000000\n",
       "Name: Amz, dtype: float64"
      ]
     },
     "execution_count": 72,
     "metadata": {},
     "output_type": "execute_result"
    }
   ],
   "source": [
    "df_sales[['company', 'sales']].groupby('company').describe().T['Amz']"
   ]
  },
  {
   "cell_type": "code",
   "execution_count": 73,
   "id": "24d8270e-5406-4af9-acce-845af237f0be",
   "metadata": {
    "tags": []
   },
   "outputs": [
    {
     "data": {
      "text/plain": [
       "count      2.000000\n",
       "mean     300.000000\n",
       "std      141.421356\n",
       "min      200.000000\n",
       "25%      250.000000\n",
       "50%      300.000000\n",
       "75%      350.000000\n",
       "max      400.000000\n",
       "Name: Amz, dtype: float64"
      ]
     },
     "execution_count": 73,
     "metadata": {},
     "output_type": "execute_result"
    }
   ],
   "source": [
    "df_sales[['company', 'sales']].groupby('company').describe().T['Amz']['sales']"
   ]
  },
  {
   "cell_type": "code",
   "execution_count": 74,
   "id": "5be8250c-b108-44e7-a821-fb9ba5fed911",
   "metadata": {
    "tags": []
   },
   "outputs": [
    {
     "data": {
      "text/plain": [
       "141.4213562373095"
      ]
     },
     "execution_count": 74,
     "metadata": {},
     "output_type": "execute_result"
    }
   ],
   "source": [
    "df_sales[['company', 'sales']].groupby('company').describe().T['Amz']['sales']['std']"
   ]
  },
  {
   "cell_type": "code",
   "execution_count": 75,
   "id": "f56fe0d1-ec36-42fb-bbb5-0e79d500b57b",
   "metadata": {
    "tags": []
   },
   "outputs": [
    {
     "data": {
      "text/plain": [
       "350.0"
      ]
     },
     "execution_count": 75,
     "metadata": {},
     "output_type": "execute_result"
    }
   ],
   "source": [
    "df_sales[['company', 'sales']].groupby('company').describe().T['Amz']['sales']['75%']"
   ]
  },
  {
   "cell_type": "code",
   "execution_count": 76,
   "id": "40781516-23ab-4e9a-8bc0-53ffb8ae1caf",
   "metadata": {
    "tags": []
   },
   "outputs": [
    {
     "data": {
      "text/html": [
       "<div>\n",
       "<style scoped>\n",
       "    .dataframe tbody tr th:only-of-type {\n",
       "        vertical-align: middle;\n",
       "    }\n",
       "\n",
       "    .dataframe tbody tr th {\n",
       "        vertical-align: top;\n",
       "    }\n",
       "\n",
       "    .dataframe thead th {\n",
       "        text-align: right;\n",
       "    }\n",
       "</style>\n",
       "<table border=\"1\" class=\"dataframe\">\n",
       "  <thead>\n",
       "    <tr style=\"text-align: right;\">\n",
       "      <th></th>\n",
       "      <th>sales</th>\n",
       "    </tr>\n",
       "    <tr>\n",
       "      <th>person</th>\n",
       "      <th></th>\n",
       "    </tr>\n",
       "  </thead>\n",
       "  <tbody>\n",
       "    <tr>\n",
       "      <th>Andre</th>\n",
       "      <td>250</td>\n",
       "    </tr>\n",
       "    <tr>\n",
       "      <th>Ari</th>\n",
       "      <td>120</td>\n",
       "    </tr>\n",
       "    <tr>\n",
       "      <th>Cindy</th>\n",
       "      <td>740</td>\n",
       "    </tr>\n",
       "    <tr>\n",
       "      <th>Fanta</th>\n",
       "      <td>600</td>\n",
       "    </tr>\n",
       "    <tr>\n",
       "      <th>Jack</th>\n",
       "      <td>400</td>\n",
       "    </tr>\n",
       "    <tr>\n",
       "      <th>Sam</th>\n",
       "      <td>200</td>\n",
       "    </tr>\n",
       "  </tbody>\n",
       "</table>\n",
       "</div>"
      ],
      "text/plain": [
       "        sales\n",
       "person       \n",
       "Andre     250\n",
       "Ari       120\n",
       "Cindy     740\n",
       "Fanta     600\n",
       "Jack      400\n",
       "Sam       200"
      ]
     },
     "execution_count": 76,
     "metadata": {},
     "output_type": "execute_result"
    }
   ],
   "source": [
    "df_sales[['person', 'sales']].groupby('person').sum()"
   ]
  },
  {
   "cell_type": "code",
   "execution_count": 77,
   "id": "b6663947-0ccd-4497-8308-75a826e0f7f1",
   "metadata": {
    "tags": []
   },
   "outputs": [
    {
     "data": {
      "text/html": [
       "<div>\n",
       "<style scoped>\n",
       "    .dataframe tbody tr th:only-of-type {\n",
       "        vertical-align: middle;\n",
       "    }\n",
       "\n",
       "    .dataframe tbody tr th {\n",
       "        vertical-align: top;\n",
       "    }\n",
       "\n",
       "    .dataframe thead th {\n",
       "        text-align: right;\n",
       "    }\n",
       "</style>\n",
       "<table border=\"1\" class=\"dataframe\">\n",
       "  <thead>\n",
       "    <tr style=\"text-align: right;\">\n",
       "      <th></th>\n",
       "      <th></th>\n",
       "      <th>sales</th>\n",
       "    </tr>\n",
       "    <tr>\n",
       "      <th>company</th>\n",
       "      <th>person</th>\n",
       "      <th></th>\n",
       "    </tr>\n",
       "  </thead>\n",
       "  <tbody>\n",
       "    <tr>\n",
       "      <th rowspan=\"2\" valign=\"top\">Amz</th>\n",
       "      <th>Jack</th>\n",
       "      <td>400</td>\n",
       "    </tr>\n",
       "    <tr>\n",
       "      <th>Sam</th>\n",
       "      <td>200</td>\n",
       "    </tr>\n",
       "    <tr>\n",
       "      <th rowspan=\"2\" valign=\"top\">MS</th>\n",
       "      <th>Andre</th>\n",
       "      <td>250</td>\n",
       "    </tr>\n",
       "    <tr>\n",
       "      <th>Fanta</th>\n",
       "      <td>600</td>\n",
       "    </tr>\n",
       "    <tr>\n",
       "      <th rowspan=\"2\" valign=\"top\">Meta</th>\n",
       "      <th>Ari</th>\n",
       "      <td>120</td>\n",
       "    </tr>\n",
       "    <tr>\n",
       "      <th>Cindy</th>\n",
       "      <td>740</td>\n",
       "    </tr>\n",
       "  </tbody>\n",
       "</table>\n",
       "</div>"
      ],
      "text/plain": [
       "                sales\n",
       "company person       \n",
       "Amz     Jack      400\n",
       "        Sam       200\n",
       "MS      Andre     250\n",
       "        Fanta     600\n",
       "Meta    Ari       120\n",
       "        Cindy     740"
      ]
     },
     "execution_count": 77,
     "metadata": {},
     "output_type": "execute_result"
    }
   ],
   "source": [
    "df_sales[['person', 'sales', 'company']].groupby(['company','person']).sum()"
   ]
  },
  {
   "cell_type": "code",
   "execution_count": 78,
   "id": "a0de995a-4a57-4a24-80ab-94e8f38e039a",
   "metadata": {
    "tags": []
   },
   "outputs": [
    {
     "data": {
      "text/plain": [
       "(6, 4)"
      ]
     },
     "execution_count": 78,
     "metadata": {},
     "output_type": "execute_result"
    }
   ],
   "source": [
    "df_sales.shape\n",
    "## untuk melihat struktur dari dataframe ==> jumlah baris dan kolom\n",
    "## baris, kolom"
   ]
  },
  {
   "cell_type": "code",
   "execution_count": 79,
   "id": "55896dfa-207c-42f3-a8ee-d64c76354a69",
   "metadata": {
    "tags": []
   },
   "outputs": [
    {
     "data": {
      "text/plain": [
       "Index(['company', 'person', 'sales', 'salary'], dtype='object')"
      ]
     },
     "execution_count": 79,
     "metadata": {},
     "output_type": "execute_result"
    }
   ],
   "source": [
    "df_sales.columns\n",
    "## untuk melihat list kolom"
   ]
  },
  {
   "cell_type": "code",
   "execution_count": 81,
   "id": "19f1b180-b8f2-48f7-a4e0-227de354c37e",
   "metadata": {
    "tags": []
   },
   "outputs": [
    {
     "data": {
      "text/plain": [
       "company    object\n",
       "person     object\n",
       "sales       int64\n",
       "salary      int64\n",
       "dtype: object"
      ]
     },
     "execution_count": 81,
     "metadata": {},
     "output_type": "execute_result"
    }
   ],
   "source": [
    "df_sales.dtypes\n",
    "## untuk melihat tipe data tiap kolom"
   ]
  },
  {
   "cell_type": "code",
   "execution_count": 82,
   "id": "15018dab-cfc4-4d7f-83b3-c4d75a3ac7de",
   "metadata": {
    "tags": []
   },
   "outputs": [
    {
     "data": {
      "text/plain": [
       "array(['Amz', 'MS', 'Meta'], dtype=object)"
      ]
     },
     "execution_count": 82,
     "metadata": {},
     "output_type": "execute_result"
    }
   ],
   "source": [
    "df_sales['company'].unique()\n",
    "## untuk menampilkan isi data unik dari kolom"
   ]
  },
  {
   "cell_type": "code",
   "execution_count": 83,
   "id": "bf8d22a9-6066-4a3b-9f8f-181e93eccb13",
   "metadata": {
    "tags": []
   },
   "outputs": [
    {
     "data": {
      "text/plain": [
       "3"
      ]
     },
     "execution_count": 83,
     "metadata": {},
     "output_type": "execute_result"
    }
   ],
   "source": [
    "df_sales['company'].nunique()\n",
    "## untuk menampilkan Jumlah isi data unik dari kolom"
   ]
  },
  {
   "cell_type": "code",
   "execution_count": 84,
   "id": "f3752ff5-06a9-46a7-bccf-d23dc8034759",
   "metadata": {
    "tags": []
   },
   "outputs": [
    {
     "data": {
      "text/plain": [
       "3"
      ]
     },
     "execution_count": 84,
     "metadata": {},
     "output_type": "execute_result"
    }
   ],
   "source": [
    "len(df_sales['company'].unique())"
   ]
  },
  {
   "cell_type": "code",
   "execution_count": 85,
   "id": "911e01bd-a1ef-4dfe-b05e-70010e0e6711",
   "metadata": {
    "tags": []
   },
   "outputs": [
    {
     "data": {
      "text/plain": [
       "company\n",
       "Amz     2\n",
       "MS      2\n",
       "Meta    2\n",
       "Name: count, dtype: int64"
      ]
     },
     "execution_count": 85,
     "metadata": {},
     "output_type": "execute_result"
    }
   ],
   "source": [
    "df_sales['company'].value_counts()\n",
    "## menampilkan jumlah baris dari masing-masing data unik dari suatu kolom"
   ]
  },
  {
   "cell_type": "code",
   "execution_count": 87,
   "id": "0cb47545-3215-427b-93e6-c1c7b0466016",
   "metadata": {
    "tags": []
   },
   "outputs": [
    {
     "name": "stdout",
     "output_type": "stream",
     "text": [
      "<class 'pandas.core.frame.DataFrame'>\n",
      "RangeIndex: 6 entries, 0 to 5\n",
      "Data columns (total 4 columns):\n",
      " #   Column   Non-Null Count  Dtype \n",
      "---  ------   --------------  ----- \n",
      " 0   company  6 non-null      object\n",
      " 1   person   6 non-null      object\n",
      " 2   sales    6 non-null      int64 \n",
      " 3   salary   6 non-null      int64 \n",
      "dtypes: int64(2), object(2)\n",
      "memory usage: 324.0+ bytes\n"
     ]
    }
   ],
   "source": [
    "df_sales.info()\n",
    "## menampilkan informasi dari dataframe"
   ]
  },
  {
   "cell_type": "code",
   "execution_count": 88,
   "id": "2eb9ab7b-231a-46e3-8d66-efbe890b8f61",
   "metadata": {
    "tags": []
   },
   "outputs": [],
   "source": [
    "## Menerapkan suatu function ke dataframe"
   ]
  },
  {
   "cell_type": "code",
   "execution_count": 89,
   "id": "13cde94a-35e7-4c3a-b858-50fbd9d72556",
   "metadata": {
    "tags": []
   },
   "outputs": [],
   "source": [
    "def pajak(x):\n",
    "    return x * 0.025"
   ]
  },
  {
   "cell_type": "code",
   "execution_count": 90,
   "id": "14e58299-21b9-43cc-91c9-61baba1482aa",
   "metadata": {
    "tags": []
   },
   "outputs": [
    {
     "data": {
      "text/html": [
       "<div>\n",
       "<style scoped>\n",
       "    .dataframe tbody tr th:only-of-type {\n",
       "        vertical-align: middle;\n",
       "    }\n",
       "\n",
       "    .dataframe tbody tr th {\n",
       "        vertical-align: top;\n",
       "    }\n",
       "\n",
       "    .dataframe thead th {\n",
       "        text-align: right;\n",
       "    }\n",
       "</style>\n",
       "<table border=\"1\" class=\"dataframe\">\n",
       "  <thead>\n",
       "    <tr style=\"text-align: right;\">\n",
       "      <th></th>\n",
       "      <th>company</th>\n",
       "      <th>person</th>\n",
       "      <th>sales</th>\n",
       "      <th>salary</th>\n",
       "    </tr>\n",
       "  </thead>\n",
       "  <tbody>\n",
       "    <tr>\n",
       "      <th>0</th>\n",
       "      <td>Amz</td>\n",
       "      <td>Sam</td>\n",
       "      <td>200</td>\n",
       "      <td>12000000</td>\n",
       "    </tr>\n",
       "    <tr>\n",
       "      <th>1</th>\n",
       "      <td>Amz</td>\n",
       "      <td>Jack</td>\n",
       "      <td>400</td>\n",
       "      <td>17000000</td>\n",
       "    </tr>\n",
       "    <tr>\n",
       "      <th>2</th>\n",
       "      <td>MS</td>\n",
       "      <td>Andre</td>\n",
       "      <td>250</td>\n",
       "      <td>13000000</td>\n",
       "    </tr>\n",
       "    <tr>\n",
       "      <th>3</th>\n",
       "      <td>MS</td>\n",
       "      <td>Fanta</td>\n",
       "      <td>600</td>\n",
       "      <td>25000000</td>\n",
       "    </tr>\n",
       "    <tr>\n",
       "      <th>4</th>\n",
       "      <td>Meta</td>\n",
       "      <td>Cindy</td>\n",
       "      <td>740</td>\n",
       "      <td>30000000</td>\n",
       "    </tr>\n",
       "    <tr>\n",
       "      <th>5</th>\n",
       "      <td>Meta</td>\n",
       "      <td>Ari</td>\n",
       "      <td>120</td>\n",
       "      <td>10000000</td>\n",
       "    </tr>\n",
       "  </tbody>\n",
       "</table>\n",
       "</div>"
      ],
      "text/plain": [
       "  company person  sales    salary\n",
       "0     Amz    Sam    200  12000000\n",
       "1     Amz   Jack    400  17000000\n",
       "2      MS  Andre    250  13000000\n",
       "3      MS  Fanta    600  25000000\n",
       "4    Meta  Cindy    740  30000000\n",
       "5    Meta    Ari    120  10000000"
      ]
     },
     "execution_count": 90,
     "metadata": {},
     "output_type": "execute_result"
    }
   ],
   "source": [
    "df_sales"
   ]
  },
  {
   "cell_type": "code",
   "execution_count": 91,
   "id": "3dd8b278-2a1c-4094-b2f8-dc1b357cad97",
   "metadata": {
    "tags": []
   },
   "outputs": [
    {
     "data": {
      "text/plain": [
       "0    300000.0\n",
       "1    425000.0\n",
       "2    325000.0\n",
       "3    625000.0\n",
       "4    750000.0\n",
       "5    250000.0\n",
       "Name: salary, dtype: float64"
      ]
     },
     "execution_count": 91,
     "metadata": {},
     "output_type": "execute_result"
    }
   ],
   "source": [
    "df_sales['salary'].apply(pajak)"
   ]
  },
  {
   "cell_type": "code",
   "execution_count": 93,
   "id": "8299e8ac-38b4-4c26-8199-5f8bcd89d44b",
   "metadata": {
    "tags": []
   },
   "outputs": [],
   "source": [
    "df_sales['pajak'] = df_sales['salary'].apply(pajak)\n",
    "## akan menambahkan kolom baru dg nama 'pajak' yg berisi hasil dari operasi Function pajak ke setiap baris kolom Salary"
   ]
  },
  {
   "cell_type": "code",
   "execution_count": 94,
   "id": "87d20d41-a22a-4a76-a75c-744151f0bd4b",
   "metadata": {
    "tags": []
   },
   "outputs": [],
   "source": [
    "## Combine Dataframe"
   ]
  },
  {
   "cell_type": "code",
   "execution_count": 95,
   "id": "93cf61dc-3c0c-48b8-a4e9-a36b599f788e",
   "metadata": {
    "tags": []
   },
   "outputs": [],
   "source": [
    "## concat"
   ]
  },
  {
   "cell_type": "code",
   "execution_count": 96,
   "id": "6d4f2b9e-a62e-4013-ab36-4157acd3fd77",
   "metadata": {
    "tags": []
   },
   "outputs": [],
   "source": [
    "dataA = {\n",
    "'A': ['A0', 'A1', 'A2', 'A3'],\n",
    "'B':['B0', 'B1', 'B2', 'B3'],\n",
    "'C':['C0', 'C1', 'C2', 'C3'],\n",
    "'D':['D0', 'D1', 'D2', 'D3']}"
   ]
  },
  {
   "cell_type": "code",
   "execution_count": 97,
   "id": "6f9ba6e8-f576-4367-810f-7bd1ecd000a1",
   "metadata": {
    "tags": []
   },
   "outputs": [],
   "source": [
    "dfA = pd.DataFrame(dataA, index=[0,1,2,3])"
   ]
  },
  {
   "cell_type": "code",
   "execution_count": 98,
   "id": "051dd507-cfe0-42ac-a8f1-9bb9df759a8a",
   "metadata": {
    "tags": []
   },
   "outputs": [
    {
     "data": {
      "text/html": [
       "<div>\n",
       "<style scoped>\n",
       "    .dataframe tbody tr th:only-of-type {\n",
       "        vertical-align: middle;\n",
       "    }\n",
       "\n",
       "    .dataframe tbody tr th {\n",
       "        vertical-align: top;\n",
       "    }\n",
       "\n",
       "    .dataframe thead th {\n",
       "        text-align: right;\n",
       "    }\n",
       "</style>\n",
       "<table border=\"1\" class=\"dataframe\">\n",
       "  <thead>\n",
       "    <tr style=\"text-align: right;\">\n",
       "      <th></th>\n",
       "      <th>A</th>\n",
       "      <th>B</th>\n",
       "      <th>C</th>\n",
       "      <th>D</th>\n",
       "    </tr>\n",
       "  </thead>\n",
       "  <tbody>\n",
       "    <tr>\n",
       "      <th>0</th>\n",
       "      <td>A0</td>\n",
       "      <td>B0</td>\n",
       "      <td>C0</td>\n",
       "      <td>D0</td>\n",
       "    </tr>\n",
       "    <tr>\n",
       "      <th>1</th>\n",
       "      <td>A1</td>\n",
       "      <td>B1</td>\n",
       "      <td>C1</td>\n",
       "      <td>D1</td>\n",
       "    </tr>\n",
       "    <tr>\n",
       "      <th>2</th>\n",
       "      <td>A2</td>\n",
       "      <td>B2</td>\n",
       "      <td>C2</td>\n",
       "      <td>D2</td>\n",
       "    </tr>\n",
       "    <tr>\n",
       "      <th>3</th>\n",
       "      <td>A3</td>\n",
       "      <td>B3</td>\n",
       "      <td>C3</td>\n",
       "      <td>D3</td>\n",
       "    </tr>\n",
       "  </tbody>\n",
       "</table>\n",
       "</div>"
      ],
      "text/plain": [
       "    A   B   C   D\n",
       "0  A0  B0  C0  D0\n",
       "1  A1  B1  C1  D1\n",
       "2  A2  B2  C2  D2\n",
       "3  A3  B3  C3  D3"
      ]
     },
     "execution_count": 98,
     "metadata": {},
     "output_type": "execute_result"
    }
   ],
   "source": [
    "dfA"
   ]
  },
  {
   "cell_type": "code",
   "execution_count": 99,
   "id": "d2671d49-72a6-4178-8b62-d924b4d50e66",
   "metadata": {
    "tags": []
   },
   "outputs": [],
   "source": [
    "dataB = {\n",
    "'A': ['A4', 'A5', 'A6', 'A7'],\n",
    "'B':['B4', 'B5', 'B6', 'B7'],\n",
    "'C':['C4', 'C5', 'C6', 'C7'],\n",
    "'D':['D4', 'D5', 'D6', 'D7']}"
   ]
  },
  {
   "cell_type": "code",
   "execution_count": 100,
   "id": "6936ba8e-2223-4120-ab73-67789238f4cd",
   "metadata": {
    "tags": []
   },
   "outputs": [],
   "source": [
    "dfB = pd.DataFrame(dataB, index=[4,5,6,7])"
   ]
  },
  {
   "cell_type": "code",
   "execution_count": 101,
   "id": "5c76b3b7-98fe-4691-b295-53c3df8d0def",
   "metadata": {
    "tags": []
   },
   "outputs": [
    {
     "data": {
      "text/html": [
       "<div>\n",
       "<style scoped>\n",
       "    .dataframe tbody tr th:only-of-type {\n",
       "        vertical-align: middle;\n",
       "    }\n",
       "\n",
       "    .dataframe tbody tr th {\n",
       "        vertical-align: top;\n",
       "    }\n",
       "\n",
       "    .dataframe thead th {\n",
       "        text-align: right;\n",
       "    }\n",
       "</style>\n",
       "<table border=\"1\" class=\"dataframe\">\n",
       "  <thead>\n",
       "    <tr style=\"text-align: right;\">\n",
       "      <th></th>\n",
       "      <th>A</th>\n",
       "      <th>B</th>\n",
       "      <th>C</th>\n",
       "      <th>D</th>\n",
       "    </tr>\n",
       "  </thead>\n",
       "  <tbody>\n",
       "    <tr>\n",
       "      <th>4</th>\n",
       "      <td>A4</td>\n",
       "      <td>B4</td>\n",
       "      <td>C4</td>\n",
       "      <td>D4</td>\n",
       "    </tr>\n",
       "    <tr>\n",
       "      <th>5</th>\n",
       "      <td>A5</td>\n",
       "      <td>B5</td>\n",
       "      <td>C5</td>\n",
       "      <td>D5</td>\n",
       "    </tr>\n",
       "    <tr>\n",
       "      <th>6</th>\n",
       "      <td>A6</td>\n",
       "      <td>B6</td>\n",
       "      <td>C6</td>\n",
       "      <td>D6</td>\n",
       "    </tr>\n",
       "    <tr>\n",
       "      <th>7</th>\n",
       "      <td>A7</td>\n",
       "      <td>B7</td>\n",
       "      <td>C7</td>\n",
       "      <td>D7</td>\n",
       "    </tr>\n",
       "  </tbody>\n",
       "</table>\n",
       "</div>"
      ],
      "text/plain": [
       "    A   B   C   D\n",
       "4  A4  B4  C4  D4\n",
       "5  A5  B5  C5  D5\n",
       "6  A6  B6  C6  D6\n",
       "7  A7  B7  C7  D7"
      ]
     },
     "execution_count": 101,
     "metadata": {},
     "output_type": "execute_result"
    }
   ],
   "source": [
    "dfB"
   ]
  },
  {
   "cell_type": "code",
   "execution_count": 102,
   "id": "8dbedcdc-da2b-4fba-91cc-ed71fb8d43eb",
   "metadata": {
    "tags": []
   },
   "outputs": [],
   "source": [
    "dataC = {\n",
    "'A': ['A8', 'A9', 'A10', 'A11'],\n",
    "'B':['B8', 'B9', 'B10', 'B11'],\n",
    "'C':['C8', 'C9', 'C10', 'C11'],\n",
    "'D':['D8', 'D9', 'D10', 'D11']}"
   ]
  },
  {
   "cell_type": "code",
   "execution_count": 103,
   "id": "54c2d7fa-3758-4e35-beb4-86abaa23aaea",
   "metadata": {
    "tags": []
   },
   "outputs": [],
   "source": [
    "dfC = pd.DataFrame(dataC, index=[8,9,10,11])"
   ]
  },
  {
   "cell_type": "code",
   "execution_count": 104,
   "id": "3440e204-5115-47d5-befe-8c1f4fa55307",
   "metadata": {
    "tags": []
   },
   "outputs": [
    {
     "data": {
      "text/html": [
       "<div>\n",
       "<style scoped>\n",
       "    .dataframe tbody tr th:only-of-type {\n",
       "        vertical-align: middle;\n",
       "    }\n",
       "\n",
       "    .dataframe tbody tr th {\n",
       "        vertical-align: top;\n",
       "    }\n",
       "\n",
       "    .dataframe thead th {\n",
       "        text-align: right;\n",
       "    }\n",
       "</style>\n",
       "<table border=\"1\" class=\"dataframe\">\n",
       "  <thead>\n",
       "    <tr style=\"text-align: right;\">\n",
       "      <th></th>\n",
       "      <th>A</th>\n",
       "      <th>B</th>\n",
       "      <th>C</th>\n",
       "      <th>D</th>\n",
       "    </tr>\n",
       "  </thead>\n",
       "  <tbody>\n",
       "    <tr>\n",
       "      <th>8</th>\n",
       "      <td>A8</td>\n",
       "      <td>B8</td>\n",
       "      <td>C8</td>\n",
       "      <td>D8</td>\n",
       "    </tr>\n",
       "    <tr>\n",
       "      <th>9</th>\n",
       "      <td>A9</td>\n",
       "      <td>B9</td>\n",
       "      <td>C9</td>\n",
       "      <td>D9</td>\n",
       "    </tr>\n",
       "    <tr>\n",
       "      <th>10</th>\n",
       "      <td>A10</td>\n",
       "      <td>B10</td>\n",
       "      <td>C10</td>\n",
       "      <td>D10</td>\n",
       "    </tr>\n",
       "    <tr>\n",
       "      <th>11</th>\n",
       "      <td>A11</td>\n",
       "      <td>B11</td>\n",
       "      <td>C11</td>\n",
       "      <td>D11</td>\n",
       "    </tr>\n",
       "  </tbody>\n",
       "</table>\n",
       "</div>"
      ],
      "text/plain": [
       "      A    B    C    D\n",
       "8    A8   B8   C8   D8\n",
       "9    A9   B9   C9   D9\n",
       "10  A10  B10  C10  D10\n",
       "11  A11  B11  C11  D11"
      ]
     },
     "execution_count": 104,
     "metadata": {},
     "output_type": "execute_result"
    }
   ],
   "source": [
    "dfC"
   ]
  },
  {
   "cell_type": "code",
   "execution_count": 105,
   "id": "b0ae70f1-1f3c-4e49-bf51-baf4747468f7",
   "metadata": {
    "tags": []
   },
   "outputs": [],
   "source": [
    "## Menggabungkan beberapa dataframe"
   ]
  },
  {
   "cell_type": "code",
   "execution_count": 106,
   "id": "acd2d5f8-f970-4859-b110-44ce50a94084",
   "metadata": {
    "tags": []
   },
   "outputs": [
    {
     "data": {
      "text/html": [
       "<div>\n",
       "<style scoped>\n",
       "    .dataframe tbody tr th:only-of-type {\n",
       "        vertical-align: middle;\n",
       "    }\n",
       "\n",
       "    .dataframe tbody tr th {\n",
       "        vertical-align: top;\n",
       "    }\n",
       "\n",
       "    .dataframe thead th {\n",
       "        text-align: right;\n",
       "    }\n",
       "</style>\n",
       "<table border=\"1\" class=\"dataframe\">\n",
       "  <thead>\n",
       "    <tr style=\"text-align: right;\">\n",
       "      <th></th>\n",
       "      <th>A</th>\n",
       "      <th>B</th>\n",
       "      <th>C</th>\n",
       "      <th>D</th>\n",
       "    </tr>\n",
       "  </thead>\n",
       "  <tbody>\n",
       "    <tr>\n",
       "      <th>0</th>\n",
       "      <td>A0</td>\n",
       "      <td>B0</td>\n",
       "      <td>C0</td>\n",
       "      <td>D0</td>\n",
       "    </tr>\n",
       "    <tr>\n",
       "      <th>1</th>\n",
       "      <td>A1</td>\n",
       "      <td>B1</td>\n",
       "      <td>C1</td>\n",
       "      <td>D1</td>\n",
       "    </tr>\n",
       "    <tr>\n",
       "      <th>2</th>\n",
       "      <td>A2</td>\n",
       "      <td>B2</td>\n",
       "      <td>C2</td>\n",
       "      <td>D2</td>\n",
       "    </tr>\n",
       "    <tr>\n",
       "      <th>3</th>\n",
       "      <td>A3</td>\n",
       "      <td>B3</td>\n",
       "      <td>C3</td>\n",
       "      <td>D3</td>\n",
       "    </tr>\n",
       "    <tr>\n",
       "      <th>4</th>\n",
       "      <td>A4</td>\n",
       "      <td>B4</td>\n",
       "      <td>C4</td>\n",
       "      <td>D4</td>\n",
       "    </tr>\n",
       "    <tr>\n",
       "      <th>5</th>\n",
       "      <td>A5</td>\n",
       "      <td>B5</td>\n",
       "      <td>C5</td>\n",
       "      <td>D5</td>\n",
       "    </tr>\n",
       "    <tr>\n",
       "      <th>6</th>\n",
       "      <td>A6</td>\n",
       "      <td>B6</td>\n",
       "      <td>C6</td>\n",
       "      <td>D6</td>\n",
       "    </tr>\n",
       "    <tr>\n",
       "      <th>7</th>\n",
       "      <td>A7</td>\n",
       "      <td>B7</td>\n",
       "      <td>C7</td>\n",
       "      <td>D7</td>\n",
       "    </tr>\n",
       "    <tr>\n",
       "      <th>8</th>\n",
       "      <td>A8</td>\n",
       "      <td>B8</td>\n",
       "      <td>C8</td>\n",
       "      <td>D8</td>\n",
       "    </tr>\n",
       "    <tr>\n",
       "      <th>9</th>\n",
       "      <td>A9</td>\n",
       "      <td>B9</td>\n",
       "      <td>C9</td>\n",
       "      <td>D9</td>\n",
       "    </tr>\n",
       "    <tr>\n",
       "      <th>10</th>\n",
       "      <td>A10</td>\n",
       "      <td>B10</td>\n",
       "      <td>C10</td>\n",
       "      <td>D10</td>\n",
       "    </tr>\n",
       "    <tr>\n",
       "      <th>11</th>\n",
       "      <td>A11</td>\n",
       "      <td>B11</td>\n",
       "      <td>C11</td>\n",
       "      <td>D11</td>\n",
       "    </tr>\n",
       "  </tbody>\n",
       "</table>\n",
       "</div>"
      ],
      "text/plain": [
       "      A    B    C    D\n",
       "0    A0   B0   C0   D0\n",
       "1    A1   B1   C1   D1\n",
       "2    A2   B2   C2   D2\n",
       "3    A3   B3   C3   D3\n",
       "4    A4   B4   C4   D4\n",
       "5    A5   B5   C5   D5\n",
       "6    A6   B6   C6   D6\n",
       "7    A7   B7   C7   D7\n",
       "8    A8   B8   C8   D8\n",
       "9    A9   B9   C9   D9\n",
       "10  A10  B10  C10  D10\n",
       "11  A11  B11  C11  D11"
      ]
     },
     "execution_count": 106,
     "metadata": {},
     "output_type": "execute_result"
    }
   ],
   "source": [
    "pd.concat([dfA, dfB, dfC])\n",
    "## axis tidak ditentukan sehingga menggunakan axis = 0 (nilai default)\n",
    "## dfB dan dfC akan ditambahkan ke baris dfA\n",
    "## Nama KOLOM harus sama"
   ]
  },
  {
   "cell_type": "code",
   "execution_count": 107,
   "id": "f32a43ac-25fb-4f8f-80e8-5471811c99fd",
   "metadata": {
    "tags": []
   },
   "outputs": [
    {
     "data": {
      "text/html": [
       "<div>\n",
       "<style scoped>\n",
       "    .dataframe tbody tr th:only-of-type {\n",
       "        vertical-align: middle;\n",
       "    }\n",
       "\n",
       "    .dataframe tbody tr th {\n",
       "        vertical-align: top;\n",
       "    }\n",
       "\n",
       "    .dataframe thead th {\n",
       "        text-align: right;\n",
       "    }\n",
       "</style>\n",
       "<table border=\"1\" class=\"dataframe\">\n",
       "  <thead>\n",
       "    <tr style=\"text-align: right;\">\n",
       "      <th></th>\n",
       "      <th>A</th>\n",
       "      <th>B</th>\n",
       "      <th>C</th>\n",
       "      <th>D</th>\n",
       "      <th>A</th>\n",
       "      <th>B</th>\n",
       "      <th>C</th>\n",
       "      <th>D</th>\n",
       "      <th>A</th>\n",
       "      <th>B</th>\n",
       "      <th>C</th>\n",
       "      <th>D</th>\n",
       "    </tr>\n",
       "  </thead>\n",
       "  <tbody>\n",
       "    <tr>\n",
       "      <th>0</th>\n",
       "      <td>A0</td>\n",
       "      <td>B0</td>\n",
       "      <td>C0</td>\n",
       "      <td>D0</td>\n",
       "      <td>NaN</td>\n",
       "      <td>NaN</td>\n",
       "      <td>NaN</td>\n",
       "      <td>NaN</td>\n",
       "      <td>NaN</td>\n",
       "      <td>NaN</td>\n",
       "      <td>NaN</td>\n",
       "      <td>NaN</td>\n",
       "    </tr>\n",
       "    <tr>\n",
       "      <th>1</th>\n",
       "      <td>A1</td>\n",
       "      <td>B1</td>\n",
       "      <td>C1</td>\n",
       "      <td>D1</td>\n",
       "      <td>NaN</td>\n",
       "      <td>NaN</td>\n",
       "      <td>NaN</td>\n",
       "      <td>NaN</td>\n",
       "      <td>NaN</td>\n",
       "      <td>NaN</td>\n",
       "      <td>NaN</td>\n",
       "      <td>NaN</td>\n",
       "    </tr>\n",
       "    <tr>\n",
       "      <th>2</th>\n",
       "      <td>A2</td>\n",
       "      <td>B2</td>\n",
       "      <td>C2</td>\n",
       "      <td>D2</td>\n",
       "      <td>NaN</td>\n",
       "      <td>NaN</td>\n",
       "      <td>NaN</td>\n",
       "      <td>NaN</td>\n",
       "      <td>NaN</td>\n",
       "      <td>NaN</td>\n",
       "      <td>NaN</td>\n",
       "      <td>NaN</td>\n",
       "    </tr>\n",
       "    <tr>\n",
       "      <th>3</th>\n",
       "      <td>A3</td>\n",
       "      <td>B3</td>\n",
       "      <td>C3</td>\n",
       "      <td>D3</td>\n",
       "      <td>NaN</td>\n",
       "      <td>NaN</td>\n",
       "      <td>NaN</td>\n",
       "      <td>NaN</td>\n",
       "      <td>NaN</td>\n",
       "      <td>NaN</td>\n",
       "      <td>NaN</td>\n",
       "      <td>NaN</td>\n",
       "    </tr>\n",
       "    <tr>\n",
       "      <th>4</th>\n",
       "      <td>NaN</td>\n",
       "      <td>NaN</td>\n",
       "      <td>NaN</td>\n",
       "      <td>NaN</td>\n",
       "      <td>A4</td>\n",
       "      <td>B4</td>\n",
       "      <td>C4</td>\n",
       "      <td>D4</td>\n",
       "      <td>NaN</td>\n",
       "      <td>NaN</td>\n",
       "      <td>NaN</td>\n",
       "      <td>NaN</td>\n",
       "    </tr>\n",
       "    <tr>\n",
       "      <th>5</th>\n",
       "      <td>NaN</td>\n",
       "      <td>NaN</td>\n",
       "      <td>NaN</td>\n",
       "      <td>NaN</td>\n",
       "      <td>A5</td>\n",
       "      <td>B5</td>\n",
       "      <td>C5</td>\n",
       "      <td>D5</td>\n",
       "      <td>NaN</td>\n",
       "      <td>NaN</td>\n",
       "      <td>NaN</td>\n",
       "      <td>NaN</td>\n",
       "    </tr>\n",
       "    <tr>\n",
       "      <th>6</th>\n",
       "      <td>NaN</td>\n",
       "      <td>NaN</td>\n",
       "      <td>NaN</td>\n",
       "      <td>NaN</td>\n",
       "      <td>A6</td>\n",
       "      <td>B6</td>\n",
       "      <td>C6</td>\n",
       "      <td>D6</td>\n",
       "      <td>NaN</td>\n",
       "      <td>NaN</td>\n",
       "      <td>NaN</td>\n",
       "      <td>NaN</td>\n",
       "    </tr>\n",
       "    <tr>\n",
       "      <th>7</th>\n",
       "      <td>NaN</td>\n",
       "      <td>NaN</td>\n",
       "      <td>NaN</td>\n",
       "      <td>NaN</td>\n",
       "      <td>A7</td>\n",
       "      <td>B7</td>\n",
       "      <td>C7</td>\n",
       "      <td>D7</td>\n",
       "      <td>NaN</td>\n",
       "      <td>NaN</td>\n",
       "      <td>NaN</td>\n",
       "      <td>NaN</td>\n",
       "    </tr>\n",
       "    <tr>\n",
       "      <th>8</th>\n",
       "      <td>NaN</td>\n",
       "      <td>NaN</td>\n",
       "      <td>NaN</td>\n",
       "      <td>NaN</td>\n",
       "      <td>NaN</td>\n",
       "      <td>NaN</td>\n",
       "      <td>NaN</td>\n",
       "      <td>NaN</td>\n",
       "      <td>A8</td>\n",
       "      <td>B8</td>\n",
       "      <td>C8</td>\n",
       "      <td>D8</td>\n",
       "    </tr>\n",
       "    <tr>\n",
       "      <th>9</th>\n",
       "      <td>NaN</td>\n",
       "      <td>NaN</td>\n",
       "      <td>NaN</td>\n",
       "      <td>NaN</td>\n",
       "      <td>NaN</td>\n",
       "      <td>NaN</td>\n",
       "      <td>NaN</td>\n",
       "      <td>NaN</td>\n",
       "      <td>A9</td>\n",
       "      <td>B9</td>\n",
       "      <td>C9</td>\n",
       "      <td>D9</td>\n",
       "    </tr>\n",
       "    <tr>\n",
       "      <th>10</th>\n",
       "      <td>NaN</td>\n",
       "      <td>NaN</td>\n",
       "      <td>NaN</td>\n",
       "      <td>NaN</td>\n",
       "      <td>NaN</td>\n",
       "      <td>NaN</td>\n",
       "      <td>NaN</td>\n",
       "      <td>NaN</td>\n",
       "      <td>A10</td>\n",
       "      <td>B10</td>\n",
       "      <td>C10</td>\n",
       "      <td>D10</td>\n",
       "    </tr>\n",
       "    <tr>\n",
       "      <th>11</th>\n",
       "      <td>NaN</td>\n",
       "      <td>NaN</td>\n",
       "      <td>NaN</td>\n",
       "      <td>NaN</td>\n",
       "      <td>NaN</td>\n",
       "      <td>NaN</td>\n",
       "      <td>NaN</td>\n",
       "      <td>NaN</td>\n",
       "      <td>A11</td>\n",
       "      <td>B11</td>\n",
       "      <td>C11</td>\n",
       "      <td>D11</td>\n",
       "    </tr>\n",
       "  </tbody>\n",
       "</table>\n",
       "</div>"
      ],
      "text/plain": [
       "      A    B    C    D    A    B    C    D    A    B    C    D\n",
       "0    A0   B0   C0   D0  NaN  NaN  NaN  NaN  NaN  NaN  NaN  NaN\n",
       "1    A1   B1   C1   D1  NaN  NaN  NaN  NaN  NaN  NaN  NaN  NaN\n",
       "2    A2   B2   C2   D2  NaN  NaN  NaN  NaN  NaN  NaN  NaN  NaN\n",
       "3    A3   B3   C3   D3  NaN  NaN  NaN  NaN  NaN  NaN  NaN  NaN\n",
       "4   NaN  NaN  NaN  NaN   A4   B4   C4   D4  NaN  NaN  NaN  NaN\n",
       "5   NaN  NaN  NaN  NaN   A5   B5   C5   D5  NaN  NaN  NaN  NaN\n",
       "6   NaN  NaN  NaN  NaN   A6   B6   C6   D6  NaN  NaN  NaN  NaN\n",
       "7   NaN  NaN  NaN  NaN   A7   B7   C7   D7  NaN  NaN  NaN  NaN\n",
       "8   NaN  NaN  NaN  NaN  NaN  NaN  NaN  NaN   A8   B8   C8   D8\n",
       "9   NaN  NaN  NaN  NaN  NaN  NaN  NaN  NaN   A9   B9   C9   D9\n",
       "10  NaN  NaN  NaN  NaN  NaN  NaN  NaN  NaN  A10  B10  C10  D10\n",
       "11  NaN  NaN  NaN  NaN  NaN  NaN  NaN  NaN  A11  B11  C11  D11"
      ]
     },
     "execution_count": 107,
     "metadata": {},
     "output_type": "execute_result"
    }
   ],
   "source": [
    "pd.concat([dfA, dfB, dfC], axis=1)\n",
    "## akan menambahkan KOLOM\n",
    "## dfB dan dfC akan menambahkan kolom dfA\n",
    "##  Index HARUS SAMA, jika berbeda akan menghasilkan NaN Values"
   ]
  },
  {
   "cell_type": "code",
   "execution_count": 108,
   "id": "ede124fc-a868-42a0-964a-c125ab192966",
   "metadata": {
    "tags": []
   },
   "outputs": [],
   "source": [
    "## merge"
   ]
  },
  {
   "cell_type": "code",
   "execution_count": 109,
   "id": "656f0c82-e530-4e15-87f7-fd219b73fee2",
   "metadata": {
    "tags": []
   },
   "outputs": [],
   "source": [
    "data1 = {\n",
    "    'key' : ['K0', 'K1', 'K2', 'K3'],\n",
    "'A': ['A0', 'A1', 'A2', 'A3'],\n",
    "'B':['B0', 'B1', 'B2', 'B3']\n",
    "}"
   ]
  },
  {
   "cell_type": "code",
   "execution_count": 110,
   "id": "19f64395-5668-43a3-a01a-8a8fcf765c52",
   "metadata": {
    "tags": []
   },
   "outputs": [
    {
     "data": {
      "text/html": [
       "<div>\n",
       "<style scoped>\n",
       "    .dataframe tbody tr th:only-of-type {\n",
       "        vertical-align: middle;\n",
       "    }\n",
       "\n",
       "    .dataframe tbody tr th {\n",
       "        vertical-align: top;\n",
       "    }\n",
       "\n",
       "    .dataframe thead th {\n",
       "        text-align: right;\n",
       "    }\n",
       "</style>\n",
       "<table border=\"1\" class=\"dataframe\">\n",
       "  <thead>\n",
       "    <tr style=\"text-align: right;\">\n",
       "      <th></th>\n",
       "      <th>key</th>\n",
       "      <th>A</th>\n",
       "      <th>B</th>\n",
       "    </tr>\n",
       "  </thead>\n",
       "  <tbody>\n",
       "    <tr>\n",
       "      <th>0</th>\n",
       "      <td>K0</td>\n",
       "      <td>A0</td>\n",
       "      <td>B0</td>\n",
       "    </tr>\n",
       "    <tr>\n",
       "      <th>1</th>\n",
       "      <td>K1</td>\n",
       "      <td>A1</td>\n",
       "      <td>B1</td>\n",
       "    </tr>\n",
       "    <tr>\n",
       "      <th>2</th>\n",
       "      <td>K2</td>\n",
       "      <td>A2</td>\n",
       "      <td>B2</td>\n",
       "    </tr>\n",
       "    <tr>\n",
       "      <th>3</th>\n",
       "      <td>K3</td>\n",
       "      <td>A3</td>\n",
       "      <td>B3</td>\n",
       "    </tr>\n",
       "  </tbody>\n",
       "</table>\n",
       "</div>"
      ],
      "text/plain": [
       "  key   A   B\n",
       "0  K0  A0  B0\n",
       "1  K1  A1  B1\n",
       "2  K2  A2  B2\n",
       "3  K3  A3  B3"
      ]
     },
     "execution_count": 110,
     "metadata": {},
     "output_type": "execute_result"
    }
   ],
   "source": [
    "Left = pd.DataFrame(data1)\n",
    "Left"
   ]
  },
  {
   "cell_type": "code",
   "execution_count": 111,
   "id": "d4648512-52d9-48ea-a658-3ecb02973c1d",
   "metadata": {
    "tags": []
   },
   "outputs": [],
   "source": [
    "data2 = {\n",
    "'key':['K0', 'K1', 'K3', 'K4'],\n",
    "    'C':['C0', 'C1', 'C2', 'C3'],\n",
    "'D':['D0', 'D1', 'D2', 'D3']\n",
    "}"
   ]
  },
  {
   "cell_type": "code",
   "execution_count": 112,
   "id": "09652ff3-f3da-4b56-b33d-ea60ea4f8a55",
   "metadata": {
    "tags": []
   },
   "outputs": [
    {
     "data": {
      "text/html": [
       "<div>\n",
       "<style scoped>\n",
       "    .dataframe tbody tr th:only-of-type {\n",
       "        vertical-align: middle;\n",
       "    }\n",
       "\n",
       "    .dataframe tbody tr th {\n",
       "        vertical-align: top;\n",
       "    }\n",
       "\n",
       "    .dataframe thead th {\n",
       "        text-align: right;\n",
       "    }\n",
       "</style>\n",
       "<table border=\"1\" class=\"dataframe\">\n",
       "  <thead>\n",
       "    <tr style=\"text-align: right;\">\n",
       "      <th></th>\n",
       "      <th>key</th>\n",
       "      <th>C</th>\n",
       "      <th>D</th>\n",
       "    </tr>\n",
       "  </thead>\n",
       "  <tbody>\n",
       "    <tr>\n",
       "      <th>0</th>\n",
       "      <td>K0</td>\n",
       "      <td>C0</td>\n",
       "      <td>D0</td>\n",
       "    </tr>\n",
       "    <tr>\n",
       "      <th>1</th>\n",
       "      <td>K1</td>\n",
       "      <td>C1</td>\n",
       "      <td>D1</td>\n",
       "    </tr>\n",
       "    <tr>\n",
       "      <th>2</th>\n",
       "      <td>K3</td>\n",
       "      <td>C2</td>\n",
       "      <td>D2</td>\n",
       "    </tr>\n",
       "    <tr>\n",
       "      <th>3</th>\n",
       "      <td>K4</td>\n",
       "      <td>C3</td>\n",
       "      <td>D3</td>\n",
       "    </tr>\n",
       "  </tbody>\n",
       "</table>\n",
       "</div>"
      ],
      "text/plain": [
       "  key   C   D\n",
       "0  K0  C0  D0\n",
       "1  K1  C1  D1\n",
       "2  K3  C2  D2\n",
       "3  K4  C3  D3"
      ]
     },
     "execution_count": 112,
     "metadata": {},
     "output_type": "execute_result"
    }
   ],
   "source": [
    "Right = pd.DataFrame(data2)\n",
    "Right"
   ]
  },
  {
   "cell_type": "code",
   "execution_count": 115,
   "id": "6a91a054-d226-4984-a7aa-b957528ceade",
   "metadata": {
    "tags": []
   },
   "outputs": [
    {
     "data": {
      "text/html": [
       "<div>\n",
       "<style scoped>\n",
       "    .dataframe tbody tr th:only-of-type {\n",
       "        vertical-align: middle;\n",
       "    }\n",
       "\n",
       "    .dataframe tbody tr th {\n",
       "        vertical-align: top;\n",
       "    }\n",
       "\n",
       "    .dataframe thead th {\n",
       "        text-align: right;\n",
       "    }\n",
       "</style>\n",
       "<table border=\"1\" class=\"dataframe\">\n",
       "  <thead>\n",
       "    <tr style=\"text-align: right;\">\n",
       "      <th></th>\n",
       "      <th>key</th>\n",
       "      <th>A</th>\n",
       "      <th>B</th>\n",
       "      <th>C</th>\n",
       "      <th>D</th>\n",
       "    </tr>\n",
       "  </thead>\n",
       "  <tbody>\n",
       "    <tr>\n",
       "      <th>0</th>\n",
       "      <td>K0</td>\n",
       "      <td>A0</td>\n",
       "      <td>B0</td>\n",
       "      <td>C0</td>\n",
       "      <td>D0</td>\n",
       "    </tr>\n",
       "    <tr>\n",
       "      <th>1</th>\n",
       "      <td>K1</td>\n",
       "      <td>A1</td>\n",
       "      <td>B1</td>\n",
       "      <td>C1</td>\n",
       "      <td>D1</td>\n",
       "    </tr>\n",
       "    <tr>\n",
       "      <th>2</th>\n",
       "      <td>K3</td>\n",
       "      <td>A3</td>\n",
       "      <td>B3</td>\n",
       "      <td>C2</td>\n",
       "      <td>D2</td>\n",
       "    </tr>\n",
       "  </tbody>\n",
       "</table>\n",
       "</div>"
      ],
      "text/plain": [
       "  key   A   B   C   D\n",
       "0  K0  A0  B0  C0  D0\n",
       "1  K1  A1  B1  C1  D1\n",
       "2  K3  A3  B3  C2  D2"
      ]
     },
     "execution_count": 115,
     "metadata": {},
     "output_type": "execute_result"
    }
   ],
   "source": [
    "pd.merge(Left, Right, on='key') ## metode join ketika tidak ditentukan berarti menggunakan INNER JOIN\n",
    "## hanya menampilkan data yg KEY nya ada di dataframe LEFT dan di dataframe RIGHT"
   ]
  },
  {
   "cell_type": "code",
   "execution_count": 116,
   "id": "f0dd77dd-d79f-44e1-a830-01b1b7aeb610",
   "metadata": {
    "tags": []
   },
   "outputs": [
    {
     "data": {
      "text/html": [
       "<div>\n",
       "<style scoped>\n",
       "    .dataframe tbody tr th:only-of-type {\n",
       "        vertical-align: middle;\n",
       "    }\n",
       "\n",
       "    .dataframe tbody tr th {\n",
       "        vertical-align: top;\n",
       "    }\n",
       "\n",
       "    .dataframe thead th {\n",
       "        text-align: right;\n",
       "    }\n",
       "</style>\n",
       "<table border=\"1\" class=\"dataframe\">\n",
       "  <thead>\n",
       "    <tr style=\"text-align: right;\">\n",
       "      <th></th>\n",
       "      <th>key</th>\n",
       "      <th>A</th>\n",
       "      <th>B</th>\n",
       "      <th>C</th>\n",
       "      <th>D</th>\n",
       "    </tr>\n",
       "  </thead>\n",
       "  <tbody>\n",
       "    <tr>\n",
       "      <th>0</th>\n",
       "      <td>K0</td>\n",
       "      <td>A0</td>\n",
       "      <td>B0</td>\n",
       "      <td>C0</td>\n",
       "      <td>D0</td>\n",
       "    </tr>\n",
       "    <tr>\n",
       "      <th>1</th>\n",
       "      <td>K1</td>\n",
       "      <td>A1</td>\n",
       "      <td>B1</td>\n",
       "      <td>C1</td>\n",
       "      <td>D1</td>\n",
       "    </tr>\n",
       "    <tr>\n",
       "      <th>2</th>\n",
       "      <td>K2</td>\n",
       "      <td>A2</td>\n",
       "      <td>B2</td>\n",
       "      <td>NaN</td>\n",
       "      <td>NaN</td>\n",
       "    </tr>\n",
       "    <tr>\n",
       "      <th>3</th>\n",
       "      <td>K3</td>\n",
       "      <td>A3</td>\n",
       "      <td>B3</td>\n",
       "      <td>C2</td>\n",
       "      <td>D2</td>\n",
       "    </tr>\n",
       "    <tr>\n",
       "      <th>4</th>\n",
       "      <td>K4</td>\n",
       "      <td>NaN</td>\n",
       "      <td>NaN</td>\n",
       "      <td>C3</td>\n",
       "      <td>D3</td>\n",
       "    </tr>\n",
       "  </tbody>\n",
       "</table>\n",
       "</div>"
      ],
      "text/plain": [
       "  key    A    B    C    D\n",
       "0  K0   A0   B0   C0   D0\n",
       "1  K1   A1   B1   C1   D1\n",
       "2  K2   A2   B2  NaN  NaN\n",
       "3  K3   A3   B3   C2   D2\n",
       "4  K4  NaN  NaN   C3   D3"
      ]
     },
     "execution_count": 116,
     "metadata": {},
     "output_type": "execute_result"
    }
   ],
   "source": [
    "pd.merge(Left, Right, on='key', how='outer') \n",
    "## menampilkan seluruh data yg ada di dataframe LEFT dan dataframe RIGHT\n",
    "## jika ada selisih baris akan berisi NaN value"
   ]
  },
  {
   "cell_type": "code",
   "execution_count": 117,
   "id": "138d7e96-6cbf-4822-abe8-4aeb2642f615",
   "metadata": {
    "tags": []
   },
   "outputs": [
    {
     "data": {
      "text/html": [
       "<div>\n",
       "<style scoped>\n",
       "    .dataframe tbody tr th:only-of-type {\n",
       "        vertical-align: middle;\n",
       "    }\n",
       "\n",
       "    .dataframe tbody tr th {\n",
       "        vertical-align: top;\n",
       "    }\n",
       "\n",
       "    .dataframe thead th {\n",
       "        text-align: right;\n",
       "    }\n",
       "</style>\n",
       "<table border=\"1\" class=\"dataframe\">\n",
       "  <thead>\n",
       "    <tr style=\"text-align: right;\">\n",
       "      <th></th>\n",
       "      <th>key</th>\n",
       "      <th>A</th>\n",
       "      <th>B</th>\n",
       "      <th>C</th>\n",
       "      <th>D</th>\n",
       "    </tr>\n",
       "  </thead>\n",
       "  <tbody>\n",
       "    <tr>\n",
       "      <th>0</th>\n",
       "      <td>K0</td>\n",
       "      <td>A0</td>\n",
       "      <td>B0</td>\n",
       "      <td>C0</td>\n",
       "      <td>D0</td>\n",
       "    </tr>\n",
       "    <tr>\n",
       "      <th>1</th>\n",
       "      <td>K1</td>\n",
       "      <td>A1</td>\n",
       "      <td>B1</td>\n",
       "      <td>C1</td>\n",
       "      <td>D1</td>\n",
       "    </tr>\n",
       "    <tr>\n",
       "      <th>2</th>\n",
       "      <td>K2</td>\n",
       "      <td>A2</td>\n",
       "      <td>B2</td>\n",
       "      <td>NaN</td>\n",
       "      <td>NaN</td>\n",
       "    </tr>\n",
       "    <tr>\n",
       "      <th>3</th>\n",
       "      <td>K3</td>\n",
       "      <td>A3</td>\n",
       "      <td>B3</td>\n",
       "      <td>C2</td>\n",
       "      <td>D2</td>\n",
       "    </tr>\n",
       "  </tbody>\n",
       "</table>\n",
       "</div>"
      ],
      "text/plain": [
       "  key   A   B    C    D\n",
       "0  K0  A0  B0   C0   D0\n",
       "1  K1  A1  B1   C1   D1\n",
       "2  K2  A2  B2  NaN  NaN\n",
       "3  K3  A3  B3   C2   D2"
      ]
     },
     "execution_count": 117,
     "metadata": {},
     "output_type": "execute_result"
    }
   ],
   "source": [
    "pd.merge(Left, Right, on='key', how='left') "
   ]
  },
  {
   "cell_type": "code",
   "execution_count": 118,
   "id": "0c5cddc7-f89a-4e30-b016-06a535172869",
   "metadata": {
    "tags": []
   },
   "outputs": [
    {
     "data": {
      "text/html": [
       "<div>\n",
       "<style scoped>\n",
       "    .dataframe tbody tr th:only-of-type {\n",
       "        vertical-align: middle;\n",
       "    }\n",
       "\n",
       "    .dataframe tbody tr th {\n",
       "        vertical-align: top;\n",
       "    }\n",
       "\n",
       "    .dataframe thead th {\n",
       "        text-align: right;\n",
       "    }\n",
       "</style>\n",
       "<table border=\"1\" class=\"dataframe\">\n",
       "  <thead>\n",
       "    <tr style=\"text-align: right;\">\n",
       "      <th></th>\n",
       "      <th>key</th>\n",
       "      <th>A</th>\n",
       "      <th>B</th>\n",
       "      <th>C</th>\n",
       "      <th>D</th>\n",
       "    </tr>\n",
       "  </thead>\n",
       "  <tbody>\n",
       "    <tr>\n",
       "      <th>0</th>\n",
       "      <td>K0</td>\n",
       "      <td>A0</td>\n",
       "      <td>B0</td>\n",
       "      <td>C0</td>\n",
       "      <td>D0</td>\n",
       "    </tr>\n",
       "    <tr>\n",
       "      <th>1</th>\n",
       "      <td>K1</td>\n",
       "      <td>A1</td>\n",
       "      <td>B1</td>\n",
       "      <td>C1</td>\n",
       "      <td>D1</td>\n",
       "    </tr>\n",
       "    <tr>\n",
       "      <th>2</th>\n",
       "      <td>K3</td>\n",
       "      <td>A3</td>\n",
       "      <td>B3</td>\n",
       "      <td>C2</td>\n",
       "      <td>D2</td>\n",
       "    </tr>\n",
       "    <tr>\n",
       "      <th>3</th>\n",
       "      <td>K4</td>\n",
       "      <td>NaN</td>\n",
       "      <td>NaN</td>\n",
       "      <td>C3</td>\n",
       "      <td>D3</td>\n",
       "    </tr>\n",
       "  </tbody>\n",
       "</table>\n",
       "</div>"
      ],
      "text/plain": [
       "  key    A    B   C   D\n",
       "0  K0   A0   B0  C0  D0\n",
       "1  K1   A1   B1  C1  D1\n",
       "2  K3   A3   B3  C2  D2\n",
       "3  K4  NaN  NaN  C3  D3"
      ]
     },
     "execution_count": 118,
     "metadata": {},
     "output_type": "execute_result"
    }
   ],
   "source": [
    "pd.merge(Left, Right, on='key', how='right') "
   ]
  },
  {
   "cell_type": "code",
   "execution_count": null,
   "id": "26ee64f8-db61-4bb6-a2a3-bcdb8fc8a00d",
   "metadata": {},
   "outputs": [],
   "source": [
    "## metode merge menggunakan KOLOM yg nama dan isinya sama"
   ]
  },
  {
   "cell_type": "code",
   "execution_count": 120,
   "id": "91e197f5-5f85-49ff-b4ea-096e5c71562b",
   "metadata": {
    "tags": []
   },
   "outputs": [],
   "source": [
    "left = Left.set_index('key')"
   ]
  },
  {
   "cell_type": "code",
   "execution_count": 121,
   "id": "e88a1778-7b2b-4f8a-8b35-697cbacab8f2",
   "metadata": {
    "tags": []
   },
   "outputs": [],
   "source": [
    "right = Right.set_index('key')"
   ]
  },
  {
   "cell_type": "code",
   "execution_count": 122,
   "id": "0b28849b-d505-45de-8c92-fb4d0b35031e",
   "metadata": {
    "tags": []
   },
   "outputs": [
    {
     "data": {
      "text/html": [
       "<div>\n",
       "<style scoped>\n",
       "    .dataframe tbody tr th:only-of-type {\n",
       "        vertical-align: middle;\n",
       "    }\n",
       "\n",
       "    .dataframe tbody tr th {\n",
       "        vertical-align: top;\n",
       "    }\n",
       "\n",
       "    .dataframe thead th {\n",
       "        text-align: right;\n",
       "    }\n",
       "</style>\n",
       "<table border=\"1\" class=\"dataframe\">\n",
       "  <thead>\n",
       "    <tr style=\"text-align: right;\">\n",
       "      <th></th>\n",
       "      <th>A</th>\n",
       "      <th>B</th>\n",
       "      <th>C</th>\n",
       "      <th>D</th>\n",
       "    </tr>\n",
       "    <tr>\n",
       "      <th>key</th>\n",
       "      <th></th>\n",
       "      <th></th>\n",
       "      <th></th>\n",
       "      <th></th>\n",
       "    </tr>\n",
       "  </thead>\n",
       "  <tbody>\n",
       "    <tr>\n",
       "      <th>K0</th>\n",
       "      <td>A0</td>\n",
       "      <td>B0</td>\n",
       "      <td>C0</td>\n",
       "      <td>D0</td>\n",
       "    </tr>\n",
       "    <tr>\n",
       "      <th>K1</th>\n",
       "      <td>A1</td>\n",
       "      <td>B1</td>\n",
       "      <td>C1</td>\n",
       "      <td>D1</td>\n",
       "    </tr>\n",
       "    <tr>\n",
       "      <th>K2</th>\n",
       "      <td>A2</td>\n",
       "      <td>B2</td>\n",
       "      <td>NaN</td>\n",
       "      <td>NaN</td>\n",
       "    </tr>\n",
       "    <tr>\n",
       "      <th>K3</th>\n",
       "      <td>A3</td>\n",
       "      <td>B3</td>\n",
       "      <td>C2</td>\n",
       "      <td>D2</td>\n",
       "    </tr>\n",
       "  </tbody>\n",
       "</table>\n",
       "</div>"
      ],
      "text/plain": [
       "      A   B    C    D\n",
       "key                  \n",
       "K0   A0  B0   C0   D0\n",
       "K1   A1  B1   C1   D1\n",
       "K2   A2  B2  NaN  NaN\n",
       "K3   A3  B3   C2   D2"
      ]
     },
     "execution_count": 122,
     "metadata": {},
     "output_type": "execute_result"
    }
   ],
   "source": [
    "left.join(right)\n",
    "## Metode JOIN default yg digunakan adalah LEFT JOIN\n",
    "## Key yg digunakan adalah INDEX, sehingga index untuk kedua dataframe harus sama"
   ]
  },
  {
   "cell_type": "code",
   "execution_count": 123,
   "id": "e67ed3bf-b45f-4dec-b773-3f92f456ba15",
   "metadata": {
    "tags": []
   },
   "outputs": [
    {
     "data": {
      "text/html": [
       "<div>\n",
       "<style scoped>\n",
       "    .dataframe tbody tr th:only-of-type {\n",
       "        vertical-align: middle;\n",
       "    }\n",
       "\n",
       "    .dataframe tbody tr th {\n",
       "        vertical-align: top;\n",
       "    }\n",
       "\n",
       "    .dataframe thead th {\n",
       "        text-align: right;\n",
       "    }\n",
       "</style>\n",
       "<table border=\"1\" class=\"dataframe\">\n",
       "  <thead>\n",
       "    <tr style=\"text-align: right;\">\n",
       "      <th></th>\n",
       "      <th>A</th>\n",
       "      <th>B</th>\n",
       "      <th>C</th>\n",
       "      <th>D</th>\n",
       "    </tr>\n",
       "    <tr>\n",
       "      <th>key</th>\n",
       "      <th></th>\n",
       "      <th></th>\n",
       "      <th></th>\n",
       "      <th></th>\n",
       "    </tr>\n",
       "  </thead>\n",
       "  <tbody>\n",
       "    <tr>\n",
       "      <th>K0</th>\n",
       "      <td>A0</td>\n",
       "      <td>B0</td>\n",
       "      <td>C0</td>\n",
       "      <td>D0</td>\n",
       "    </tr>\n",
       "    <tr>\n",
       "      <th>K1</th>\n",
       "      <td>A1</td>\n",
       "      <td>B1</td>\n",
       "      <td>C1</td>\n",
       "      <td>D1</td>\n",
       "    </tr>\n",
       "    <tr>\n",
       "      <th>K2</th>\n",
       "      <td>A2</td>\n",
       "      <td>B2</td>\n",
       "      <td>NaN</td>\n",
       "      <td>NaN</td>\n",
       "    </tr>\n",
       "    <tr>\n",
       "      <th>K3</th>\n",
       "      <td>A3</td>\n",
       "      <td>B3</td>\n",
       "      <td>C2</td>\n",
       "      <td>D2</td>\n",
       "    </tr>\n",
       "    <tr>\n",
       "      <th>K4</th>\n",
       "      <td>NaN</td>\n",
       "      <td>NaN</td>\n",
       "      <td>C3</td>\n",
       "      <td>D3</td>\n",
       "    </tr>\n",
       "  </tbody>\n",
       "</table>\n",
       "</div>"
      ],
      "text/plain": [
       "       A    B    C    D\n",
       "key                    \n",
       "K0    A0   B0   C0   D0\n",
       "K1    A1   B1   C1   D1\n",
       "K2    A2   B2  NaN  NaN\n",
       "K3    A3   B3   C2   D2\n",
       "K4   NaN  NaN   C3   D3"
      ]
     },
     "execution_count": 123,
     "metadata": {},
     "output_type": "execute_result"
    }
   ],
   "source": [
    "left.join(right, how='outer')"
   ]
  },
  {
   "cell_type": "code",
   "execution_count": 124,
   "id": "ba0e1a07-a8ea-4dc8-acff-ff7f76741b00",
   "metadata": {
    "tags": []
   },
   "outputs": [
    {
     "data": {
      "text/html": [
       "<div>\n",
       "<style scoped>\n",
       "    .dataframe tbody tr th:only-of-type {\n",
       "        vertical-align: middle;\n",
       "    }\n",
       "\n",
       "    .dataframe tbody tr th {\n",
       "        vertical-align: top;\n",
       "    }\n",
       "\n",
       "    .dataframe thead th {\n",
       "        text-align: right;\n",
       "    }\n",
       "</style>\n",
       "<table border=\"1\" class=\"dataframe\">\n",
       "  <thead>\n",
       "    <tr style=\"text-align: right;\">\n",
       "      <th></th>\n",
       "      <th>A</th>\n",
       "      <th>B</th>\n",
       "      <th>C</th>\n",
       "      <th>D</th>\n",
       "    </tr>\n",
       "    <tr>\n",
       "      <th>key</th>\n",
       "      <th></th>\n",
       "      <th></th>\n",
       "      <th></th>\n",
       "      <th></th>\n",
       "    </tr>\n",
       "  </thead>\n",
       "  <tbody>\n",
       "    <tr>\n",
       "      <th>K0</th>\n",
       "      <td>A0</td>\n",
       "      <td>B0</td>\n",
       "      <td>C0</td>\n",
       "      <td>D0</td>\n",
       "    </tr>\n",
       "    <tr>\n",
       "      <th>K1</th>\n",
       "      <td>A1</td>\n",
       "      <td>B1</td>\n",
       "      <td>C1</td>\n",
       "      <td>D1</td>\n",
       "    </tr>\n",
       "    <tr>\n",
       "      <th>K3</th>\n",
       "      <td>A3</td>\n",
       "      <td>B3</td>\n",
       "      <td>C2</td>\n",
       "      <td>D2</td>\n",
       "    </tr>\n",
       "  </tbody>\n",
       "</table>\n",
       "</div>"
      ],
      "text/plain": [
       "      A   B   C   D\n",
       "key                \n",
       "K0   A0  B0  C0  D0\n",
       "K1   A1  B1  C1  D1\n",
       "K3   A3  B3  C2  D2"
      ]
     },
     "execution_count": 124,
     "metadata": {},
     "output_type": "execute_result"
    }
   ],
   "source": [
    "left.join(right, how='inner')"
   ]
  },
  {
   "cell_type": "code",
   "execution_count": 125,
   "id": "c18e9c1c-10bf-4ecb-b744-7080647e19ae",
   "metadata": {
    "tags": []
   },
   "outputs": [
    {
     "data": {
      "text/html": [
       "<div>\n",
       "<style scoped>\n",
       "    .dataframe tbody tr th:only-of-type {\n",
       "        vertical-align: middle;\n",
       "    }\n",
       "\n",
       "    .dataframe tbody tr th {\n",
       "        vertical-align: top;\n",
       "    }\n",
       "\n",
       "    .dataframe thead th {\n",
       "        text-align: right;\n",
       "    }\n",
       "</style>\n",
       "<table border=\"1\" class=\"dataframe\">\n",
       "  <thead>\n",
       "    <tr style=\"text-align: right;\">\n",
       "      <th></th>\n",
       "      <th>A</th>\n",
       "      <th>B</th>\n",
       "      <th>C</th>\n",
       "      <th>D</th>\n",
       "    </tr>\n",
       "    <tr>\n",
       "      <th>key</th>\n",
       "      <th></th>\n",
       "      <th></th>\n",
       "      <th></th>\n",
       "      <th></th>\n",
       "    </tr>\n",
       "  </thead>\n",
       "  <tbody>\n",
       "    <tr>\n",
       "      <th>K0</th>\n",
       "      <td>A0</td>\n",
       "      <td>B0</td>\n",
       "      <td>C0</td>\n",
       "      <td>D0</td>\n",
       "    </tr>\n",
       "    <tr>\n",
       "      <th>K1</th>\n",
       "      <td>A1</td>\n",
       "      <td>B1</td>\n",
       "      <td>C1</td>\n",
       "      <td>D1</td>\n",
       "    </tr>\n",
       "    <tr>\n",
       "      <th>K3</th>\n",
       "      <td>A3</td>\n",
       "      <td>B3</td>\n",
       "      <td>C2</td>\n",
       "      <td>D2</td>\n",
       "    </tr>\n",
       "    <tr>\n",
       "      <th>K4</th>\n",
       "      <td>NaN</td>\n",
       "      <td>NaN</td>\n",
       "      <td>C3</td>\n",
       "      <td>D3</td>\n",
       "    </tr>\n",
       "  </tbody>\n",
       "</table>\n",
       "</div>"
      ],
      "text/plain": [
       "       A    B   C   D\n",
       "key                  \n",
       "K0    A0   B0  C0  D0\n",
       "K1    A1   B1  C1  D1\n",
       "K3    A3   B3  C2  D2\n",
       "K4   NaN  NaN  C3  D3"
      ]
     },
     "execution_count": 125,
     "metadata": {},
     "output_type": "execute_result"
    }
   ],
   "source": [
    "left.join(right, how='right')"
   ]
  },
  {
   "cell_type": "code",
   "execution_count": null,
   "id": "0350e08b-b08c-42f1-b4b8-1b5a8a515089",
   "metadata": {},
   "outputs": [],
   "source": []
  },
  {
   "cell_type": "code",
   "execution_count": null,
   "id": "ed5598d9-a432-44ab-b203-c2873616c717",
   "metadata": {},
   "outputs": [],
   "source": []
  }
 ],
 "metadata": {
  "kernelspec": {
   "display_name": "Python 3 (ipykernel)",
   "language": "python",
   "name": "python3"
  },
  "language_info": {
   "codemirror_mode": {
    "name": "ipython",
    "version": 3
   },
   "file_extension": ".py",
   "mimetype": "text/x-python",
   "name": "python",
   "nbconvert_exporter": "python",
   "pygments_lexer": "ipython3",
   "version": "3.11.5"
  }
 },
 "nbformat": 4,
 "nbformat_minor": 5
}
