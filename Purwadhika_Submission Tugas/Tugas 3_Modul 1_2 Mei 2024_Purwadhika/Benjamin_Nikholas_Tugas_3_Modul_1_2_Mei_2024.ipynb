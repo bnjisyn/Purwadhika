{
  "nbformat": 4,
  "nbformat_minor": 0,
  "metadata": {
    "colab": {
      "provenance": [],
      "collapsed_sections": [
        "gNNGGAhQsOK6",
        "2HehdW7FsRKk",
        "Wy0VuXUlsS3V",
        "SAK8vfVgsT8O"
      ]
    },
    "kernelspec": {
      "name": "python3",
      "display_name": "Python 3"
    },
    "language_info": {
      "name": "python"
    }
  },
  "cells": [
    {
      "cell_type": "markdown",
      "source": [
        "> Benjamin Nikholas\n",
        "\n",
        "> Data Science / JCSDOL-014\n",
        "\n",
        "> Modul 1 - Tugas 3\n",
        "\n",
        "> 2 Mei 2024\n",
        "---\n",
        "---"
      ],
      "metadata": {
        "id": "Q3S6J8dB8G5s"
      }
    },
    {
      "cell_type": "markdown",
      "source": [
        "#1"
      ],
      "metadata": {
        "id": "gNNGGAhQsOK6"
      }
    },
    {
      "cell_type": "code",
      "source": [
        "def pattern(rows):\n",
        "    for i in range(1, rows + 1):\n",
        "        print((str(i) + ' ') * i)\n",
        "\n",
        "pattern(5)"
      ],
      "metadata": {
        "colab": {
          "base_uri": "https://localhost:8080/"
        },
        "id": "8-6a41fLn8D0",
        "outputId": "921c3f79-f1d7-4e28-f42b-8e6b4584ebbd"
      },
      "execution_count": null,
      "outputs": [
        {
          "output_type": "stream",
          "name": "stdout",
          "text": [
            "1 \n",
            "2 2 \n",
            "3 3 3 \n",
            "4 4 4 4 \n",
            "5 5 5 5 5 \n"
          ]
        }
      ]
    },
    {
      "cell_type": "markdown",
      "source": [
        "#2"
      ],
      "metadata": {
        "id": "2HehdW7FsRKk"
      }
    },
    {
      "cell_type": "code",
      "source": [
        "def pattern(rows):\n",
        "    for i in range(1, rows + 1):\n",
        "        row_string = ''\n",
        "        for j in range(1, i + 1):\n",
        "            row_string += str(j) + ' '\n",
        "        print(row_string)\n",
        "\n",
        "pattern(5)"
      ],
      "metadata": {
        "colab": {
          "base_uri": "https://localhost:8080/"
        },
        "id": "WNewcuB4ogD3",
        "outputId": "35a526f3-2c29-49dd-eeb4-8f89419636fd"
      },
      "execution_count": null,
      "outputs": [
        {
          "output_type": "stream",
          "name": "stdout",
          "text": [
            "1 \n",
            "1 2 \n",
            "1 2 3 \n",
            "1 2 3 4 \n",
            "1 2 3 4 5 \n"
          ]
        }
      ]
    },
    {
      "cell_type": "code",
      "source": [
        "def pattern(rows):\n",
        "    for i in range(1, rows + 1):\n",
        "        for j in range(1, i + 1):\n",
        "          print(i, j)\n",
        "\n",
        "pattern(5)"
      ],
      "metadata": {
        "colab": {
          "base_uri": "https://localhost:8080/"
        },
        "id": "m3-JMNlet3H7",
        "outputId": "7c183014-4e5a-4de5-ad1c-17e3491ce3e4"
      },
      "execution_count": null,
      "outputs": [
        {
          "output_type": "stream",
          "name": "stdout",
          "text": [
            "1 1\n",
            "2 1\n",
            "2 2\n",
            "3 1\n",
            "3 2\n",
            "3 3\n",
            "4 1\n",
            "4 2\n",
            "4 3\n",
            "4 4\n",
            "5 1\n",
            "5 2\n",
            "5 3\n",
            "5 4\n",
            "5 5\n"
          ]
        }
      ]
    },
    {
      "cell_type": "markdown",
      "source": [
        "#3"
      ],
      "metadata": {
        "id": "5cn5IZgYsSAo"
      }
    },
    {
      "cell_type": "code",
      "source": [
        "def pattern(rows):\n",
        "    for i in range(1, rows + 1):\n",
        "        row_string = ''\n",
        "        for j in range(rows, rows - i, -1):\n",
        "            row_string += str(j) + ' '\n",
        "        print(row_string)\n",
        "\n",
        "pattern(5)"
      ],
      "metadata": {
        "colab": {
          "base_uri": "https://localhost:8080/"
        },
        "id": "8e46ZD95o22V",
        "outputId": "1690ad4f-9c94-4aa5-fcb3-e3d2bb917ffe"
      },
      "execution_count": null,
      "outputs": [
        {
          "output_type": "stream",
          "name": "stdout",
          "text": [
            "5 \n",
            "5 4 \n",
            "5 4 3 \n",
            "5 4 3 2 \n",
            "5 4 3 2 1 \n"
          ]
        }
      ]
    },
    {
      "cell_type": "code",
      "source": [
        "def pattern(rows):\n",
        "    for i in range(1, rows + 1):\n",
        "        for j in range(rows, rows - i, -1):\n",
        "          print(i, j)\n",
        "\n",
        "pattern(5)"
      ],
      "metadata": {
        "colab": {
          "base_uri": "https://localhost:8080/"
        },
        "id": "hhuWTbOVuRdA",
        "outputId": "deb7aecb-5f61-40c8-c5ea-90179adc965b"
      },
      "execution_count": null,
      "outputs": [
        {
          "output_type": "stream",
          "name": "stdout",
          "text": [
            "1 5\n",
            "2 5\n",
            "2 4\n",
            "3 5\n",
            "3 4\n",
            "3 3\n",
            "4 5\n",
            "4 4\n",
            "4 3\n",
            "4 2\n",
            "5 5\n",
            "5 4\n",
            "5 3\n",
            "5 2\n",
            "5 1\n"
          ]
        }
      ]
    },
    {
      "cell_type": "markdown",
      "source": [
        "#4"
      ],
      "metadata": {
        "id": "Wy0VuXUlsS3V"
      }
    },
    {
      "cell_type": "code",
      "source": [
        "def pattern(rows):\n",
        "    for i in range(1, rows + 1):\n",
        "        row_string = ''\n",
        "        for j in range(1, rows - i + 2):\n",
        "            row_string += str(i) + ' '\n",
        "        print(row_string)\n",
        "\n",
        "pattern(5)"
      ],
      "metadata": {
        "colab": {
          "base_uri": "https://localhost:8080/"
        },
        "id": "eLa-D3smmgdq",
        "outputId": "cc170364-d161-4abe-9794-893941df20b6"
      },
      "execution_count": null,
      "outputs": [
        {
          "output_type": "stream",
          "name": "stdout",
          "text": [
            "1 1 1 1 1 \n",
            "2 2 2 2 \n",
            "3 3 3 \n",
            "4 4 \n",
            "5 \n"
          ]
        }
      ]
    },
    {
      "cell_type": "code",
      "source": [
        "def pattern(rows):\n",
        "    for i in range(1, rows + 1):\n",
        "        for j in range(1, rows - i + 2):\n",
        "          print(i, j)\n",
        "\n",
        "pattern(5)"
      ],
      "metadata": {
        "colab": {
          "base_uri": "https://localhost:8080/"
        },
        "id": "R82CelkXuYnp",
        "outputId": "42088ae2-1768-42e9-e46b-0702aa6bc4db"
      },
      "execution_count": null,
      "outputs": [
        {
          "output_type": "stream",
          "name": "stdout",
          "text": [
            "1 1\n",
            "1 2\n",
            "1 3\n",
            "1 4\n",
            "1 5\n",
            "2 1\n",
            "2 2\n",
            "2 3\n",
            "2 4\n",
            "3 1\n",
            "3 2\n",
            "3 3\n",
            "4 1\n",
            "4 2\n",
            "5 1\n"
          ]
        }
      ]
    },
    {
      "cell_type": "markdown",
      "source": [
        "#5"
      ],
      "metadata": {
        "id": "SAK8vfVgsT8O"
      }
    },
    {
      "cell_type": "code",
      "source": [
        "def pattern(rows):\n",
        "    for i in range(rows, 0, -1):\n",
        "        row_string = ''\n",
        "        for j in range(1, i + 1):\n",
        "            row_string += str(j) + ' '\n",
        "        print(row_string.rstrip())\n",
        "\n",
        "pattern(5)"
      ],
      "metadata": {
        "colab": {
          "base_uri": "https://localhost:8080/"
        },
        "id": "u0msK5McmqQY",
        "outputId": "7d1174ab-8718-487a-a247-c78bc4a761ab"
      },
      "execution_count": null,
      "outputs": [
        {
          "output_type": "stream",
          "name": "stdout",
          "text": [
            "1 2 3 4 5\n",
            "1 2 3 4\n",
            "1 2 3\n",
            "1 2\n",
            "1\n"
          ]
        }
      ]
    },
    {
      "cell_type": "code",
      "source": [
        "def pattern(rows):\n",
        "    for i in range(rows, 0, -1):\n",
        "        for j in range(1, i + 1):\n",
        "          print(i, j)\n",
        "\n",
        "pattern(5)"
      ],
      "metadata": {
        "colab": {
          "base_uri": "https://localhost:8080/"
        },
        "id": "8lngobFiulUL",
        "outputId": "dc44bf32-b58c-4c34-e2e4-e9d87419a3ff"
      },
      "execution_count": null,
      "outputs": [
        {
          "output_type": "stream",
          "name": "stdout",
          "text": [
            "5 1\n",
            "5 2\n",
            "5 3\n",
            "5 4\n",
            "5 5\n",
            "4 1\n",
            "4 2\n",
            "4 3\n",
            "4 4\n",
            "3 1\n",
            "3 2\n",
            "3 3\n",
            "2 1\n",
            "2 2\n",
            "1 1\n"
          ]
        }
      ]
    },
    {
      "cell_type": "markdown",
      "source": [
        "#6"
      ],
      "metadata": {
        "id": "QFyottQMsVBH"
      }
    },
    {
      "cell_type": "code",
      "source": [
        "def pattern(rows):\n",
        "    for i in range(rows, 0, -1):\n",
        "        row_string = ''\n",
        "        for j in range(rows, rows - i, -1):\n",
        "            row_string += str(j) + ' '\n",
        "        print(row_string)\n",
        "\n",
        "pattern(5)"
      ],
      "metadata": {
        "colab": {
          "base_uri": "https://localhost:8080/"
        },
        "id": "8ribt41br3Yb",
        "outputId": "37b84d76-92eb-4fcc-e4c1-4613cceb76fc"
      },
      "execution_count": null,
      "outputs": [
        {
          "output_type": "stream",
          "name": "stdout",
          "text": [
            "5 4 3 2 1 \n",
            "5 4 3 2 \n",
            "5 4 3 \n",
            "5 4 \n",
            "5 \n"
          ]
        }
      ]
    },
    {
      "cell_type": "code",
      "source": [
        "def pattern(rows):\n",
        "    for i in range(rows, 0, -1):\n",
        "        for j in range(rows, rows - i, -1):\n",
        "          print(i, j)\n",
        "\n",
        "pattern(5)"
      ],
      "metadata": {
        "colab": {
          "base_uri": "https://localhost:8080/"
        },
        "id": "s5AcIC67uexs",
        "outputId": "5ced3e04-dad7-4895-f1ea-d352e58d86b2"
      },
      "execution_count": null,
      "outputs": [
        {
          "output_type": "stream",
          "name": "stdout",
          "text": [
            "5 5\n",
            "5 4\n",
            "5 3\n",
            "5 2\n",
            "5 1\n",
            "4 5\n",
            "4 4\n",
            "4 3\n",
            "4 2\n",
            "3 5\n",
            "3 4\n",
            "3 3\n",
            "2 5\n",
            "2 4\n",
            "1 5\n"
          ]
        }
      ]
    },
    {
      "cell_type": "code",
      "source": [],
      "metadata": {
        "id": "uX2LiUoguh9J"
      },
      "execution_count": null,
      "outputs": []
    }
  ]
}