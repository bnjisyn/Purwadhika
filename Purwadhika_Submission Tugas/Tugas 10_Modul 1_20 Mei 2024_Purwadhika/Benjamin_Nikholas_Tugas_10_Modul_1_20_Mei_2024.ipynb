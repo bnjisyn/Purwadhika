{
  "nbformat": 4,
  "nbformat_minor": 0,
  "metadata": {
    "colab": {
      "provenance": [],
      "collapsed_sections": [
        "E9BlLAHCvDkR"
      ]
    },
    "kernelspec": {
      "name": "python3",
      "display_name": "Python 3"
    },
    "language_info": {
      "name": "python"
    }
  },
  "cells": [
    {
      "cell_type": "markdown",
      "source": [
        "> Benjamin Nikholas\n",
        "\n",
        "> Data Science / JCSDOL-014\n",
        "\n",
        "> Modul 1 - Tugas 10\n",
        "\n",
        "> 20 Mei 2024\n",
        "---\n",
        "---"
      ],
      "metadata": {
        "id": "Q3S6J8dB8G5s"
      }
    },
    {
      "cell_type": "markdown",
      "source": [
        "# 1 Calculator"
      ],
      "metadata": {
        "id": "VQv4n6T2T0p6"
      }
    },
    {
      "cell_type": "code",
      "source": [
        "def calculator():\n",
        "    def get_input(prompt):\n",
        "        while True:\n",
        "            user_input = input(prompt)\n",
        "            try:\n",
        "                num = float(user_input)\n",
        "                if num.is_integer():\n",
        "                    return int(num)\n",
        "                else:\n",
        "                    return num\n",
        "            except ValueError:\n",
        "                print('Input Not Valid')\n",
        "\n",
        "    num1 = get_input('Masukkan Angka 1: ')\n",
        "    num2 = get_input('Masukkan Angka 2: ')\n",
        "\n",
        "    while True:\n",
        "        opt = input('Masukkan operator [+/-*] : ')\n",
        "        if opt in '+/-*':\n",
        "            break\n",
        "        else:\n",
        "            print('Invalid Operator')\n",
        "\n",
        "    if opt == '+':\n",
        "        print(f'Hasil dari {num1} {opt} {num2} = {num1 + num2}')\n",
        "    elif opt == '-':\n",
        "        print(f'Hasil dari {num1} {opt} {num2} = {num1 - num2}')\n",
        "    elif opt == '*':\n",
        "        print(f'Hasil dari {num1} {opt} {num2} = {num1 * num2}')\n",
        "    elif opt == '/':\n",
        "        if num2 != 0:\n",
        "            print(f'Hasil dari {num1} {opt} {num2} = {num1 / num2}')\n",
        "        else:\n",
        "            print(\"Pembagian dengan nol tidak valid\")\n",
        "    else:\n",
        "        print('Invalid Operator')\n",
        "\n",
        "calculator()"
      ],
      "metadata": {
        "id": "OFHZ5D9bTz7n"
      },
      "execution_count": null,
      "outputs": []
    },
    {
      "cell_type": "markdown",
      "source": [
        "#2 Encode Decode Morse"
      ],
      "metadata": {
        "id": "yHy0E4ZJe4qd"
      }
    },
    {
      "cell_type": "code",
      "source": [
        "morse_dict_encoder = {\n",
        "    'A': '.-', 'B': '-...', 'C': '-.-.', 'D': '-..', 'E': '.', 'F': '..-.',\n",
        "    'G': '--.', 'H': '....', 'I': '..', 'J': '.---', 'K': '-.-', 'L': '.-..',\n",
        "    'M': '--', 'N': '-.', 'O': '---', 'P': '.--.', 'Q': '--.-', 'R': '.-.',\n",
        "    'S': '...', 'T': '-', 'U': '..-', 'V': '...-', 'W': '.--', 'X': '-..-',\n",
        "    'Y': '-.--', 'Z': '--..', '1': '.----', '2': '..---', '3': '...--',\n",
        "    '4': '....-', '5': '.....', '6': '-....', '7': '--...', '8': '---..',\n",
        "    '9': '----.', '0': '-----', ' ': '|'\n",
        "}\n",
        "\n",
        "morse_dict_decoder = {}\n",
        "for key, value in morse_dict_encoder.items():\n",
        "    morse_dict_decoder[value] = key\n",
        "\n",
        "def morse_translator(input_text):\n",
        "    # Check if input is Morse code\n",
        "    if all(char in '.-| ' for char in input_text):\n",
        "        words = input_text.split('|')\n",
        "        try:\n",
        "            decoded_message = ''.join(morse_dict_decoder[code.strip()] for code in words if code.strip())\n",
        "            return f'Kode Morse yg anda masukkan {input_text} jika diubah menjadi kata-kata Menjadi {decoded_message}'\n",
        "        except KeyError:\n",
        "            return 'Input kode Morse tidak valid.'\n",
        "\n",
        "    # Check if input is valid text (only alphanumeric characters and spaces)\n",
        "    elif all(char.isalnum() or char.isspace() for char in input_text):\n",
        "        encoded_message = ' | '.join(morse_dict_encoder[char] for char in input_text.upper())\n",
        "        return f'Kata yg anda masukkan adalah {input_text} Jika diubah menjadi Kode Morse Menjadi {encoded_message}'\n",
        "\n",
        "    else:\n",
        "        return 'Input tidak valid. Hanya menerima alfabet, angka, dan spasi untuk teks biasa.'\n",
        "\n",
        "input_text = input('Masukkan kata: ')\n",
        "print(morse_translator(input_text))"
      ],
      "metadata": {
        "colab": {
          "base_uri": "https://localhost:8080/"
        },
        "id": "A-G7e_YiV4l_",
        "outputId": "0da6462a-bcfa-4eae-971c-e1839a3a14ca"
      },
      "execution_count": 11,
      "outputs": [
        {
          "output_type": "stream",
          "name": "stdout",
          "text": [
            "Masukkan kata: hello\n",
            "Kata yg anda masukkan adalah hello Jika diubah menjadi Kode Morse Menjadi .... | . | .-.. | .-.. | ---\n"
          ]
        }
      ]
    }
  ]
}