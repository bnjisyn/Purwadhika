{
  "nbformat": 4,
  "nbformat_minor": 0,
  "metadata": {
    "colab": {
      "provenance": []
    },
    "kernelspec": {
      "name": "python3",
      "display_name": "Python 3"
    },
    "language_info": {
      "name": "python"
    }
  },
  "cells": [
    {
      "cell_type": "markdown",
      "source": [
        "> Benjamin Nikholas\n",
        "\n",
        "> Data Science / JCSDOL-014\n",
        "\n",
        "> Modul 1 - Tugas 6\n",
        "\n",
        "> 13 Mei 2024\n",
        "---\n",
        "---"
      ],
      "metadata": {
        "id": "Q3S6J8dB8G5s"
      }
    },
    {
      "cell_type": "markdown",
      "source": [
        "Email Verification\n",
        "\n",
        "Input :\n",
        "Masukkan Email :\n",
        "\n",
        "Output :\n",
        "Sesuai dg Kondisi\n",
        "Kondisi Valid Jika :\n",
        "- Memiliki Format Nama User@Nama Hosing eksistensi\n",
        "- Nama user hanya Boleh Huruf, Angka, underscore(_) dan dot(.)\n",
        "- Nama user hanya Boleh di awali dg Huruf atau Angka\n",
        "- Nama Hosting hanya boleh huruf atau kombinasi huruf dan angka\n",
        "- Nama Ekstensi Hanya boleh Huruf dan maksimal 5 Karakter\n",
        "- Simbol Karakter Khusus Tidak bisa diterima\n",
        "- Jumlah @ hanya boleh 1\n",
        "- .co.id , .co.my atau .co.sg ==> ini dianggap sebagai 2 ekstensi, jadi masing-masing harus mengikuti aturan ekstensi\n",
        "\n",
        "Contoh Output :\n",
        "\"Alamat Email yg anda Masukkan Valid\"\n",
        "\n",
        "Jika Tidak Valid, Keluar Notifikasi dengan alasannya:\n",
        "\n",
        "Email Tidak Valid, Alasan\n",
        "Alasan :\n",
        "- Format Email Salah (Misal Tidak ada @, atau tidak ada .ekstensi)\n",
        "- Format Username yg anda masukkan salah\n",
        "- Format Hosting yang anda masukkan salah\n",
        "- Format Ekstensi yg anda masukkan Salah\n",
        "\n",
        "-------------------------------------------------------------------------------\n",
        "\n",
        "Contoh Email :\n",
        "Valid\n",
        "andre@gmail.com\n",
        "joni_99@yahoo.com\n",
        "andy.134@city.com\n",
        "steve_roger.77@avengers01.space\n",
        "\n",
        "Invalid\n",
        "andre345@gmail\n",
        "andre%$^@gmail.com\n",
        "john@yah%%oo.com\n",
        "tony_stark@stark.corpora"
      ],
      "metadata": {
        "id": "mJF0LTLRUO1k"
      }
    },
    {
      "cell_type": "code",
      "source": [
        "def verify_email(email):\n",
        "\n",
        "    parts = email.split('@')\n",
        "\n",
        "    # Periksa apakah email memiliki dua bagian\n",
        "    if len(parts) != 2:\n",
        "        return 'Email Tidak Valid, Alasan: Format Email Salah'\n",
        "\n",
        "    username, domain = parts\n",
        "\n",
        "    # Username Validation\n",
        "    if not (username[0].isalnum() or username[0] in ['_', '.']):\n",
        "        return 'Email Tidak Valid, Alasan: Format Username yang anda masukkan salah'\n",
        "\n",
        "    for c in username:\n",
        "        if not (c.isalnum() or c in ['_', '.']):\n",
        "            return 'Email Tidak Valid, Alasan: Format Username yang anda masukkan salah'\n",
        "\n",
        "    # Hosting Name Validation\n",
        "    domain_parts = domain.split('.')\n",
        "    if len(domain_parts) not in [2, 3]:\n",
        "        return 'Email Tidak Valid, Alasan: Format Hosting yang anda masukkan salah'\n",
        "\n",
        "    # Hosting Name Validation\n",
        "    for c in domain_parts[0]:\n",
        "        if not (c.isalnum() or c in ['_', '.']):\n",
        "            return 'Email Tidak Valid, Alasan: Nama Hosting yang anda masukkan salah'\n",
        "\n",
        "    # Extention Validation\n",
        "    for part in domain_parts[1:]:\n",
        "        if not (2 <= len(part) <= 5 and part.isalpha()):\n",
        "            return 'Email Tidak Valid, Alasan: Format Ekstensi yang anda masukkan Salah'\n",
        "\n",
        "    return 'Alamat Email yang anda Masukkan Valid'\n",
        "\n",
        "email = input('Masukkan Email: ')\n",
        "print(verify_email(email))"
      ],
      "metadata": {
        "colab": {
          "base_uri": "https://localhost:8080/"
        },
        "id": "4GsLIXT5XBMa",
        "outputId": "dbba6c68-e276-40f4-87ae-df9d494275ce"
      },
      "execution_count": null,
      "outputs": [
        {
          "output_type": "stream",
          "name": "stdout",
          "text": [
            "Masukkan Email: Benji)123@gmail.com\n",
            "Email Tidak Valid, Alasan: Format Username yang anda masukkan salah\n"
          ]
        }
      ]
    },
    {
      "cell_type": "code",
      "source": [
        "def verify_email(email):\n",
        "\n",
        "    parts = email.split('@')\n",
        "\n",
        "    if len(parts) != 2:\n",
        "        return 'Email Tidak Valid, Alasan: Format Email Salah'\n",
        "\n",
        "    username, domain = parts\n",
        "\n",
        "    # Username Validation\n",
        "    if not (username[0].isalnum() or username[0] in ['_', '.']):\n",
        "        return 'Email Tidak Valid, Alasan: Format Username yang anda masukkan salah'\n",
        "    elif not all(c.isalnum() or c in ['_', '.'] for c in username):\n",
        "        return 'Email Tidak Valid, Alasan: Format Username yang anda masukkan salah'\n",
        "\n",
        "    # Domain Validation\n",
        "    domain_parts = domain.split('.')\n",
        "    if len(domain_parts) not in [2, 3]:\n",
        "        return 'Email Tidak Valid, Alasan: Format Hosting yang anda masukkan salah'\n",
        "\n",
        "    # Hosting Name Validation\n",
        "    if not all(c.isalnum() or c in ['_', '.'] for c in domain_parts[0]):\n",
        "        return 'Email Tidak Valid, Alasan: Nama Hosting yang anda masukkan salah'\n",
        "\n",
        "    # Extention Validation\n",
        "    for part in domain_parts[1:]:\n",
        "        if not part.isalpha() and (2 <= len(part) <= 5 and part.isalpha()):\n",
        "            return 'Email Tidak Valid, Alasan: Format Ekstensi yang anda masukkan Salah'\n",
        "\n",
        "    return 'Alamat Email yang anda Masukkan Valid'\n",
        "\n",
        "email = input('Masukkan Email: ')\n",
        "print(verify_email(email))"
      ],
      "metadata": {
        "colab": {
          "base_uri": "https://localhost:8080/"
        },
        "id": "ZXb2U-TCZKTQ",
        "outputId": "e670c0ae-e287-4913-e22e-a0ad25f5c648"
      },
      "execution_count": null,
      "outputs": [
        {
          "output_type": "stream",
          "name": "stdout",
          "text": [
            "Masukkan Email: Benji)123@gmail.com\n",
            "Email Tidak Valid, Alasan: Format Username yang anda masukkan salah\n"
          ]
        }
      ]
    }
  ]
}