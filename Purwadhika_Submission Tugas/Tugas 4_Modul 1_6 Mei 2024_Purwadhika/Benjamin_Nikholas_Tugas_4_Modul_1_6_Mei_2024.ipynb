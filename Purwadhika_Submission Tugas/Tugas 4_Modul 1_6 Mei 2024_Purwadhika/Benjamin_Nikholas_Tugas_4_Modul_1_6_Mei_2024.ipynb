{
  "nbformat": 4,
  "nbformat_minor": 0,
  "metadata": {
    "colab": {
      "provenance": []
    },
    "kernelspec": {
      "name": "python3",
      "display_name": "Python 3"
    },
    "language_info": {
      "name": "python"
    }
  },
  "cells": [
    {
      "cell_type": "markdown",
      "source": [
        "> Benjamin Nikholas\n",
        "\n",
        "> Data Science / JCSDOL-014\n",
        "\n",
        "> Modul 1 - Tugas 4\n",
        "\n",
        "> 6 Mei 2024\n",
        "---\n",
        "---"
      ],
      "metadata": {
        "id": "Q3S6J8dB8G5s"
      }
    },
    {
      "cell_type": "markdown",
      "source": [
        "#1\n",
        "\n",
        "Buatlah suatu program untuk menghitung nilai Factorial menggunakan While Loop\n",
        "\n",
        "> Input : Masukkan Angka :\n",
        "\n",
        "> Output : Nilai Faktorial dari … adalah …\n",
        "\n",
        "> Ketentuan\n",
        "* Angka harus di atas 0, keluarkan notifikasi\n",
        "* Input tidak bisa menerima string, keluarkan notifikasi"
      ],
      "metadata": {
        "id": "I979QKKJRTZ2"
      }
    },
    {
      "cell_type": "code",
      "source": [
        "while True:\n",
        "  num = input('Masukkan Angka: ')\n",
        "\n",
        "  if not num.isdigit():\n",
        "      print('Input tidak bisa menerima string.')\n",
        "  else:\n",
        "      angka = int(num)\n",
        "\n",
        "      if angka < 0:\n",
        "          print('Angka harus di atas 0.')\n",
        "      else:\n",
        "          faktorial = 1\n",
        "          i = 1\n",
        "\n",
        "          while i <= angka:\n",
        "              faktorial *= i\n",
        "              i += 1\n",
        "\n",
        "          print(f'Nilai Faktorial dari {angka} adalah {faktorial}')\n",
        "          break"
      ],
      "metadata": {
        "colab": {
          "base_uri": "https://localhost:8080/"
        },
        "id": "NOXufpkOV7jj",
        "outputId": "abca092e-6ede-47b9-fd0c-072c24011880"
      },
      "execution_count": null,
      "outputs": [
        {
          "output_type": "stream",
          "name": "stdout",
          "text": [
            "Masukkan Angka: 0\n",
            "Nilai Faktorial dari 0 adalah 1\n"
          ]
        }
      ]
    },
    {
      "cell_type": "markdown",
      "source": [
        "#2\n",
        "\n",
        "Buat program untuk menghitung total angka dari inputan angka\n",
        "> Input : Masukkan Angka : …\n",
        "\n",
        "> Output : Total angka dari inputan : …"
      ],
      "metadata": {
        "id": "rdN2nfilS90P"
      }
    },
    {
      "cell_type": "code",
      "source": [
        "num = input(\"Masukkan Angka: \")\n",
        "\n",
        "total = 0\n",
        "\n",
        "for i in num:\n",
        "    if i.isdigit():\n",
        "        total += int(i)\n",
        "\n",
        "print(\"Total angka dari inputan:\", total)"
      ],
      "metadata": {
        "colab": {
          "base_uri": "https://localhost:8080/"
        },
        "id": "G9qxeTd9SwEh",
        "outputId": "ba74bf2c-51ed-4797-d535-9cd487059530"
      },
      "execution_count": null,
      "outputs": [
        {
          "output_type": "stream",
          "name": "stdout",
          "text": [
            "Masukkan Angka: 1e3\n",
            "Total angka dari inputan: 4\n"
          ]
        }
      ]
    },
    {
      "cell_type": "markdown",
      "source": [
        "#3\n",
        "> Buat program untuk menghitung Total semua angka antara 1 dan 100 yang habis di bagi 3\n",
        "dan 5"
      ],
      "metadata": {
        "id": "-EPEUvB1S_Ol"
      }
    },
    {
      "cell_type": "code",
      "source": [
        "total = 0\n",
        "\n",
        "for num in range(1, 101):\n",
        "    if num % 3 == 0 and num % 5 == 0:\n",
        "        total += num\n",
        "\n",
        "print(f'Total semua angka antara 1 dan 100 yang habis dibagi oleh 3 dan 5 adalah: {total}')"
      ],
      "metadata": {
        "colab": {
          "base_uri": "https://localhost:8080/"
        },
        "id": "xO2oFAvlS_14",
        "outputId": "2be9bca7-1f37-49ef-891d-9a1a83948136"
      },
      "execution_count": null,
      "outputs": [
        {
          "output_type": "stream",
          "name": "stdout",
          "text": [
            "Total semua angka antara 1 dan 100 yang habis dibagi oleh 3 dan 5 adalah: 315\n"
          ]
        }
      ]
    },
    {
      "cell_type": "markdown",
      "source": [
        "#4\n",
        "\n",
        "Buat program untuk menghitung nilai range Inputan, dengan ketentuan Nilai angka Genap\n",
        "sendiri dan nilai angka ganjil sendiri\n",
        "> Input :\n",
        "* Masukkan Range awal :\n",
        "* Masukkan Range akhir :\n",
        "\n",
        "> Output :\n",
        "* Jumlah Angka genap dari …. Hingga …. Adalah … dan jumlah nilai ganjil adalah …."
      ],
      "metadata": {
        "id": "Ln3I39JeTUq5"
      }
    },
    {
      "cell_type": "code",
      "source": [
        "start_range = int(input('Masukkan Range awal: '))\n",
        "end_range = int(input('Masukkan Range akhir: '))\n",
        "\n",
        "even_count, odd_count = 0, 0\n",
        "even_sum, odd_sum = 0, 0\n",
        "\n",
        "for num in range(start_range, end_range + 1):\n",
        "    if num % 2 == 0:\n",
        "        even_count += 1\n",
        "        even_sum += num\n",
        "    else:\n",
        "        odd_count += 1\n",
        "        odd_sum += num\n",
        "\n",
        "print(f'Jumlah Angka genap dari {start_range} hingga {end_range} adalah {even_count} dan jumlah nilai ganjil adalah {odd_count}')\n",
        "print(f'Jumlah Angka genap dari {start_range} hingga {end_range} adalah {even_sum} dan jumlah nilai ganjil adalah {odd_sum}')"
      ],
      "metadata": {
        "colab": {
          "base_uri": "https://localhost:8080/"
        },
        "id": "ER-f3wHqTTaa",
        "outputId": "2cdcb720-f35f-4b84-a96b-d06694f9a4af"
      },
      "execution_count": null,
      "outputs": [
        {
          "output_type": "stream",
          "name": "stdout",
          "text": [
            "Masukkan Range awal: 5\n",
            "Masukkan Range akhir: 20\n",
            "Jumlah Angka genap dari 5 hingga 20 adalah 8 dan jumlah nilai ganjil adalah 8\n",
            "Jumlah Angka genap dari 5 hingga 20 adalah 104 dan jumlah nilai ganjil adalah 96\n"
          ]
        }
      ]
    }
  ]
}