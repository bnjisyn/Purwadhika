{
  "nbformat": 4,
  "nbformat_minor": 0,
  "metadata": {
    "colab": {
      "provenance": []
    },
    "kernelspec": {
      "name": "python3",
      "display_name": "Python 3"
    },
    "language_info": {
      "name": "python"
    }
  },
  "cells": [
    {
      "cell_type": "markdown",
      "source": [
        "> Benjamin Nikholas\n",
        "\n",
        "> Data Science / JCSDOL-014\n",
        "\n",
        "> Modul 1 - Tugas 5\n",
        "\n",
        "> 7 Mei 2024\n",
        "---\n",
        "---"
      ],
      "metadata": {
        "id": "Q3S6J8dB8G5s"
      }
    },
    {
      "cell_type": "markdown",
      "source": [
        "#1 Auto Translator Hari\n",
        "\n",
        "Silakan buat 1 Dictionary untuk Inisiasi\n",
        "\n",
        "Hari = {\"senin\" : \"monday\",\n",
        "\"selasa\" : \"tuesday\",\n",
        "\"rabu\" : \"wednesday\",\n",
        "dst....\n",
        "}\n",
        "\n",
        "> Input :\n",
        "* Masukkan Nama Hari :\n",
        "\n",
        "> Output :\n",
        "* Jika yg dimasukkan hari dalam bahasa indonesia:\n",
        "\n",
        "> `nama hari – in English is -hari dalam bahasa inggris-`\n",
        "\n",
        "*  Jika yg dimasukkan dari dalam bahasa inggris:\n",
        "\n",
        "> `-hari dalam bahasa inggris- in Bahasa is -hari bahasa indo-`"
      ],
      "metadata": {
        "id": "vtFxGuW6bSNG"
      }
    },
    {
      "cell_type": "code",
      "source": [
        "hari = {\n",
        "    'senin': 'monday',\n",
        "    'selasa': 'tuesday',\n",
        "    'rabu': 'wednesday',\n",
        "    'kamis': 'thursday',\n",
        "    'jumat': 'friday',\n",
        "    'sabtu': 'saturday',\n",
        "    'minggu': 'sunday'\n",
        "}"
      ],
      "metadata": {
        "id": "iYEfPWSVaF_O"
      },
      "execution_count": null,
      "outputs": []
    },
    {
      "cell_type": "code",
      "source": [
        "while True:\n",
        "    day = input('Masukkan Nama Hari: ').lower()\n",
        "\n",
        "    if day in hari:\n",
        "        print(f'{day.capitalize()} in English is {hari[day].capitalize()}')\n",
        "        break\n",
        "    elif day in hari.values():\n",
        "        hari_indo = [key for key, value in hari.items() if value == day][0]\n",
        "        print(f'{day.capitalize()} in Bahasa is {hari_indo.capitalize()}')\n",
        "        break\n",
        "    else:\n",
        "        print('Hari tidak valid.')"
      ],
      "metadata": {
        "colab": {
          "base_uri": "https://localhost:8080/"
        },
        "id": "RX0Ngb-EazyU",
        "outputId": "2b188bd4-1e9d-4135-859d-4343dccd562a"
      },
      "execution_count": null,
      "outputs": [
        {
          "output_type": "stream",
          "name": "stdout",
          "text": [
            "Masukkan Nama Hari: DD\n",
            "Hari tidak valid.\n",
            "Masukkan Nama Hari: kamis\n",
            "Kamis in English is Thursday\n"
          ]
        }
      ]
    },
    {
      "cell_type": "markdown",
      "source": [
        "#2\n",
        "\n",
        "Kita memiliki daftar Hari\n",
        "\n",
        "> Input :\n",
        "* Masukkan nama hari .......YYYY\n",
        "* Masukkan Jumlah......x\n",
        "\n",
        "> Output :\n",
        "* Hari ini hari YYYY, x hari lagi adalah hari ....\n"
      ],
      "metadata": {
        "id": "gKejIn-mbTPU"
      }
    },
    {
      "cell_type": "code",
      "source": [
        "days = ['Senin', 'Selasa', 'Rabu', 'Kamis', 'Jumat', 'Sabtu', 'Minggu']\n",
        "\n",
        "day_input = input('Masukkan nama hari: ')\n",
        "day_nums = int(input('Masukkan Jumlah hari: '))\n",
        "\n",
        "day_input = day_input.capitalize()\n",
        "day_index = days.index(day_input)\n",
        "\n",
        "future_day_index = (day_index + day_nums) % 7\n",
        "\n",
        "print(f'Hari ini hari {day_input}, {day_nums} hari lagi adalah hari {days[future_day_index]}')"
      ],
      "metadata": {
        "colab": {
          "base_uri": "https://localhost:8080/"
        },
        "id": "ZI_dK4bHa-qB",
        "outputId": "78cdaab7-5ded-40a9-e2fd-5e99084d9ac8"
      },
      "execution_count": null,
      "outputs": [
        {
          "output_type": "stream",
          "name": "stdout",
          "text": [
            "Masukkan nama hari: Selasa\n",
            "Masukkan Jumlah hari: 5\n",
            "Hari ini hari Selasa, 5 hari lagi adalah hari Minggu\n"
          ]
        }
      ]
    },
    {
      "cell_type": "markdown",
      "source": [
        "#3\n",
        "> input : Masukkan kalimat :\n",
        "\n",
        "> Output : (Reverse per kata)"
      ],
      "metadata": {
        "id": "Bu8V8NL9e8-5"
      }
    },
    {
      "cell_type": "code",
      "source": [
        "sentence = input('Masukkan kalimat: ')\n",
        "words = sentence.split()\n",
        "reverse_sentence = ''\n",
        "\n",
        "for word in words:\n",
        "    reverse_sentence += f'{word[::-1]}'\n",
        "\n",
        "print(f'Kalimat setelah dibalik per kata: {reverse_sentence}')"
      ],
      "metadata": {
        "colab": {
          "base_uri": "https://localhost:8080/"
        },
        "id": "OOMUKoS3dx_R",
        "outputId": "21cdfcbb-34f3-484d-e0c6-5f9e2f06820e"
      },
      "execution_count": null,
      "outputs": [
        {
          "output_type": "stream",
          "name": "stdout",
          "text": [
            "Masukkan kalimat: Halobunda\n",
            "Kalimat setelah dibalik per kata: adnubolaH\n"
          ]
        }
      ]
    }
  ]
}