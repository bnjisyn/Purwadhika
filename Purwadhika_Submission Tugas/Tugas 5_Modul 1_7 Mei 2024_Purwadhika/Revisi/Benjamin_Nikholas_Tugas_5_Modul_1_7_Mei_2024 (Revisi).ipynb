{
  "nbformat": 4,
  "nbformat_minor": 0,
  "metadata": {
    "colab": {
      "provenance": []
    },
    "kernelspec": {
      "name": "python3",
      "display_name": "Python 3"
    },
    "language_info": {
      "name": "python"
    }
  },
  "cells": [
    {
      "cell_type": "markdown",
      "source": [
        "> Benjamin Nikholas\n",
        "\n",
        "> Data Science / JCSDOL-014\n",
        "\n",
        "> Modul 1 - Tugas 5\n",
        "\n",
        "> 7 Mei 2024\n",
        "---\n",
        "---"
      ],
      "metadata": {
        "id": "Q3S6J8dB8G5s"
      }
    },
    {
      "cell_type": "markdown",
      "source": [
        "#1 Auto Translator Hari\n",
        "\n",
        "Silakan buat 1 Dictionary untuk Inisiasi\n",
        "\n",
        "Hari = {\"senin\" : \"monday\",\n",
        "\"selasa\" : \"tuesday\",\n",
        "\"rabu\" : \"wednesday\",\n",
        "dst....\n",
        "}\n",
        "\n",
        "> Input :\n",
        "* Masukkan Nama Hari :\n",
        "\n",
        "> Output :\n",
        "* Jika yg dimasukkan hari dalam bahasa indonesia:\n",
        "\n",
        "> `nama hari – in English is -hari dalam bahasa inggris-`\n",
        "\n",
        "*  Jika yg dimasukkan dari dalam bahasa inggris:\n",
        "\n",
        "> `-hari dalam bahasa inggris- in Bahasa is -hari bahasa indo-`"
      ],
      "metadata": {
        "id": "vtFxGuW6bSNG"
      }
    },
    {
      "cell_type": "code",
      "source": [
        "hari = {\n",
        "    'senin': 'monday',\n",
        "    'selasa': 'tuesday',\n",
        "    'rabu': 'wednesday',\n",
        "    'kamis': 'thursday',\n",
        "    'jumat': 'friday',\n",
        "    'sabtu': 'saturday',\n",
        "    'minggu': 'sunday'\n",
        "}"
      ],
      "metadata": {
        "id": "iYEfPWSVaF_O"
      },
      "execution_count": null,
      "outputs": []
    },
    {
      "cell_type": "code",
      "source": [
        "while True:\n",
        "    day = input('Masukkan Nama Hari: ').lower()\n",
        "\n",
        "    if day in hari:\n",
        "        print(f'{day.capitalize()} in English is {hari[day].capitalize()}')\n",
        "        break\n",
        "    elif day in hari.values():\n",
        "        hari_indo = [key for key, value in hari.items() if value == day][0]\n",
        "        print(f'{day.capitalize()} in Bahasa is {hari_indo.capitalize()}')\n",
        "        break\n",
        "    else:\n",
        "        print('Hari tidak valid.')"
      ],
      "metadata": {
        "colab": {
          "base_uri": "https://localhost:8080/"
        },
        "id": "RX0Ngb-EazyU",
        "outputId": "2b188bd4-1e9d-4135-859d-4343dccd562a"
      },
      "execution_count": null,
      "outputs": [
        {
          "output_type": "stream",
          "name": "stdout",
          "text": [
            "Masukkan Nama Hari: DD\n",
            "Hari tidak valid.\n",
            "Masukkan Nama Hari: kamis\n",
            "Kamis in English is Thursday\n"
          ]
        }
      ]
    },
    {
      "cell_type": "markdown",
      "source": [
        "#2\n",
        "\n",
        "Kita memiliki daftar Hari\n",
        "\n",
        "> Input :\n",
        "* Masukkan nama hari .......YYYY\n",
        "* Masukkan Jumlah......x\n",
        "\n",
        "> Output :\n",
        "* Hari ini hari YYYY, x hari lagi adalah hari ....\n"
      ],
      "metadata": {
        "id": "gKejIn-mbTPU"
      }
    },
    {
      "cell_type": "code",
      "source": [
        "days = ['Senin', 'Selasa', 'Rabu', 'Kamis', 'Jumat', 'Sabtu', 'Minggu']\n",
        "\n",
        "day_input = input('Masukkan nama hari: ')\n",
        "day_nums = int(input('Masukkan Jumlah hari: '))\n",
        "\n",
        "day_input = day_input.capitalize()\n",
        "day_index = days.index(day_input)\n",
        "\n",
        "future_day_index = (day_index + day_nums) % 7\n",
        "\n",
        "print(f'Hari ini hari {day_input}, {day_nums} hari lagi adalah hari {days[future_day_index]}')"
      ],
      "metadata": {
        "colab": {
          "base_uri": "https://localhost:8080/"
        },
        "id": "ZI_dK4bHa-qB",
        "outputId": "78cdaab7-5ded-40a9-e2fd-5e99084d9ac8"
      },
      "execution_count": null,
      "outputs": [
        {
          "output_type": "stream",
          "name": "stdout",
          "text": [
            "Masukkan nama hari: Selasa\n",
            "Masukkan Jumlah hari: 5\n",
            "Hari ini hari Selasa, 5 hari lagi adalah hari Minggu\n"
          ]
        }
      ]
    },
    {
      "cell_type": "markdown",
      "source": [
        "#3\n",
        "> input : Masukkan kalimat :\n",
        "\n",
        "> Output : (Reverse per kata)"
      ],
      "metadata": {
        "id": "Bu8V8NL9e8-5"
      }
    },
    {
      "cell_type": "code",
      "source": [
        "sentence = input('Masukkan kalimat: ')\n",
        "words = sentence.split()\n",
        "reverse_sentence = ''\n",
        "\n",
        "for word in words:\n",
        "    reverse_sentence += f'{word[::-1]}'\n",
        "\n",
        "print(f'Kalimat setelah dibalik per kata: {reverse_sentence}')"
      ],
      "metadata": {
        "colab": {
          "base_uri": "https://localhost:8080/"
        },
        "id": "OOMUKoS3dx_R",
        "outputId": "3bef7f1c-df22-4f7a-b984-e171da02b532"
      },
      "execution_count": null,
      "outputs": [
        {
          "output_type": "stream",
          "name": "stdout",
          "text": [
            "Masukkan kalimat: Halo\n",
            "Halo\n",
            "Kalimat setelah dibalik per kata: Halo\n"
          ]
        }
      ]
    },
    {
      "cell_type": "markdown",
      "source": [
        "#4\n",
        "\n",
        " Buat Suatu Program yg menghapus duplikat dalam list dengan tetap mempertahankan\n",
        "urutannya.\n",
        "\n",
        "> Contoh :\n",
        "\n",
        "List = [2, 2, 1, 1, 4, 7, 7, 9, 9, 9]\n",
        "> Output :\n",
        "\n",
        "[2, 1, 4, 7, 9]"
      ],
      "metadata": {
        "id": "q074fbPgEbKT"
      }
    },
    {
      "cell_type": "code",
      "source": [
        "def del_duplicates(lst):\n",
        "    unique = []\n",
        "    for i in lst:\n",
        "      if i not in unique:\n",
        "        unique.append(i)\n",
        "\n",
        "    return unique\n",
        "\n",
        "# Contoh penggunaan\n",
        "list_awal = [2, 2, 1, 1, 4, 7, 7, 9, 9, 9]\n",
        "hasil = del_duplicates(list_awal)\n",
        "print(hasil)"
      ],
      "metadata": {
        "colab": {
          "base_uri": "https://localhost:8080/"
        },
        "id": "yRnSvOu2EatD",
        "outputId": "1e0c093b-8c10-46b2-ddf1-8fcced56c434"
      },
      "execution_count": 1,
      "outputs": [
        {
          "output_type": "stream",
          "name": "stdout",
          "text": [
            "[2, 1, 4, 7, 9]\n"
          ]
        }
      ]
    },
    {
      "cell_type": "markdown",
      "source": [
        "#5\n",
        "\n",
        "Buat Program python untuk menghitung frekuensi kemunculan suatu kata dalam Lirik lagu\n",
        "\n",
        "(Kalimat)\n",
        "\n",
        "> Contoh :\n",
        "\n",
        "Lirik lagu : “\n",
        "I'm fired up and tired of the way that things have been\n",
        "The way that things have been “\n",
        "\n",
        "> Output :\n",
        "\n",
        "I’m : 1\n",
        "\n",
        "Fired : 1\n",
        "\n",
        "Up : 1\n",
        "\n",
        "And : 1\n",
        "\n",
        "Tired : 1"
      ],
      "metadata": {
        "id": "ZgMD726AEcOv"
      }
    },
    {
      "cell_type": "code",
      "source": [
        "def hitung_frekuensi_kata(lirik):\n",
        "    # Membagi lirik menjadi kata-kata\n",
        "    kata_kata = lirik.split()\n",
        "\n",
        "    # Inisialisasi kamus untuk menyimpan frekuensi kemunculan kata\n",
        "    frekuensi_kata = {}\n",
        "\n",
        "    # Menghitung frekuensi kemunculan setiap kata\n",
        "    for kata in kata_kata:\n",
        "        # Menghapus tanda baca jika ada\n",
        "        kata = kata.strip(\".,?!\")\n",
        "\n",
        "        # Mengubah kata menjadi huruf kecil agar tidak sensitif terhadap huruf besar/kecil\n",
        "        kata = kata.lower()\n",
        "\n",
        "        # Menambahkan kata ke kamus dan menghitung frekuensinya\n",
        "        if kata in frekuensi_kata:\n",
        "            frekuensi_kata[kata] += 1\n",
        "        else:\n",
        "            frekuensi_kata[kata] = 1\n",
        "\n",
        "    return frekuensi_kata\n",
        "\n",
        "# Contoh penggunaan\n",
        "lirik_lagu = \"\"\"\n",
        "I'm fired up and tired of the way that things have been\n",
        "The way that things have been\n",
        "\"\"\"\n",
        "hasil = hitung_frekuensi_kata(lirik_lagu)\n",
        "for kata, frekuensi in hasil.items():\n",
        "    print(f\"{kata}: {frekuensi}\")"
      ],
      "metadata": {
        "colab": {
          "base_uri": "https://localhost:8080/"
        },
        "id": "ffCZy7qwEdH6",
        "outputId": "8c328ebd-7e8f-4421-a7df-9dc9a474e1d9"
      },
      "execution_count": 4,
      "outputs": [
        {
          "output_type": "stream",
          "name": "stdout",
          "text": [
            "i'm: 1\n",
            "fired: 1\n",
            "up: 1\n",
            "and: 1\n",
            "tired: 1\n",
            "of: 1\n",
            "the: 2\n",
            "way: 2\n",
            "that: 2\n",
            "things: 2\n",
            "have: 2\n",
            "been: 2\n"
          ]
        }
      ]
    },
    {
      "cell_type": "markdown",
      "source": [
        "#6\n",
        "\n",
        "Buat program untuk mengetahui Apakah suatu kata 1 dan kata 2 merupakan anagram\n",
        "> Contoh :\n",
        "* Input Kata 1 : Listen\n",
        "* Input Kata 2 : Silent\n",
        "\n",
        "> Output : (Kata 1) merupakan anagram dari (Kata 2)"
      ],
      "metadata": {
        "id": "zl0snksXEdSG"
      }
    },
    {
      "cell_type": "code",
      "source": [
        "def cek_anagram(w1, w2):\n",
        "    w1 = w1.replace(\" \", \"\").lower()\n",
        "    w2 = w2.replace(\" \", \"\").lower()\n",
        "\n",
        "    if len(w1) != len(w2):\n",
        "        return False\n",
        "\n",
        "    freq_w1 = {}\n",
        "    freq_w2 = {}\n",
        "\n",
        "    for char in w1:\n",
        "        if char in freq_w1:\n",
        "            freq_w1[char] += 1\n",
        "        else:\n",
        "            freq_w1[char] = 1\n",
        "\n",
        "    for char in w2:\n",
        "        if char in freq_w2:\n",
        "            freq_w2[char] += 1\n",
        "        else:\n",
        "            freq_w2[char] = 1\n",
        "\n",
        "    if freq_w1 == freq_w2:\n",
        "        return True\n",
        "    else:\n",
        "        return False\n",
        "\n",
        "# Contoh penggunaan\n",
        "w1 = input(\"Input Kata 1: \")\n",
        "w2 = input(\"Input Kata 2: \")\n",
        "\n",
        "if check_anagram(w1, w2):\n",
        "    print(f\"\\\"{w1}\\\" merupakan anagram dari \\\"{w2}\\\"\")\n",
        "else:\n",
        "    print(f\"\\\"{w1}\\\" bukan merupakan anagram dari \\\"{w2}\\\"\")"
      ],
      "metadata": {
        "colab": {
          "base_uri": "https://localhost:8080/"
        },
        "id": "oBczK-wZEdyJ",
        "outputId": "5d57f85b-3d15-40ff-f361-f18972a16ee1"
      },
      "execution_count": 7,
      "outputs": [
        {
          "output_type": "stream",
          "name": "stdout",
          "text": [
            "Input Kata 1: thankyou\n",
            "Input Kata 2: thankies\n",
            "\"thankyou\" bukan merupakan anagram dari \"thankies\"\n"
          ]
        }
      ]
    }
  ]
}