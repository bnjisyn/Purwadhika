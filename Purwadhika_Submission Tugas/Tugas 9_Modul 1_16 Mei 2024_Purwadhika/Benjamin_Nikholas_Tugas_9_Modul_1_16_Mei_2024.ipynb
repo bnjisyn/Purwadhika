{
  "nbformat": 4,
  "nbformat_minor": 0,
  "metadata": {
    "colab": {
      "provenance": [],
      "collapsed_sections": [
        "E9BlLAHCvDkR"
      ]
    },
    "kernelspec": {
      "name": "python3",
      "display_name": "Python 3"
    },
    "language_info": {
      "name": "python"
    }
  },
  "cells": [
    {
      "cell_type": "markdown",
      "source": [
        "> Benjamin Nikholas\n",
        "\n",
        "> Data Science / JCSDOL-014\n",
        "\n",
        "> Modul 1 - Tugas 9\n",
        "\n",
        "> 16 Mei 2024\n",
        "---\n",
        "---"
      ],
      "metadata": {
        "id": "Q3S6J8dB8G5s"
      }
    },
    {
      "cell_type": "code",
      "source": [
        "def rotate_matrix(matrix, option):\n",
        "    n = len(matrix)\n",
        "\n",
        "    result = []\n",
        "    for _ in range(n):\n",
        "        result.append([0] * n)\n",
        "\n",
        "    if option == 1:\n",
        "        for i in range(n):\n",
        "            for j in range(n):\n",
        "                # print(n-1-j, i, j)\n",
        "                # print(matrix[n-1-j][i], matrix[n-1-j])\n",
        "                result[i][j] = matrix[n-1-j][i]\n",
        "    elif option == 2:\n",
        "        for i in range(n):\n",
        "            for j in range(n):\n",
        "                # print(n-1-i, n-1-j, i, j)\n",
        "                # print(matrix[n-1-i][n-1-j], matrix[n-1-i])\n",
        "                result[i][j] = matrix[n-1-i][n-1-j]\n",
        "    elif option == 3:\n",
        "        for i in range(n):\n",
        "            for j in range(n):\n",
        "                # print(n-1-i, i, j)\n",
        "                # print(matrix[j][n-1-i], matrix[j])\n",
        "                result[i][j] = matrix[j][n-1-i]\n",
        "    else:\n",
        "        return \"Invalid option\"\n",
        "\n",
        "    return result\n",
        "\n",
        "# Testcase\n",
        "Angka = [\n",
        "    [1, 2, 3, 4, 5],\n",
        "    [6, 7, 8, 9, 10],\n",
        "    [11, 12, 13, 14, 15],\n",
        "    [16, 17, 18, 19, 20],\n",
        "    [21, 22, 23, 24, 25]\n",
        "]\n",
        "\n",
        "option = int(input(\"Masukkan angka 1-3: \"))\n",
        "result = rotate_matrix(Angka, option)\n",
        "for row in result:\n",
        "    print(row)"
      ],
      "metadata": {
        "colab": {
          "base_uri": "https://localhost:8080/"
        },
        "id": "6PpBmASTyLjw",
        "outputId": "042d6060-58a6-49df-bf34-8654efb3a955"
      },
      "execution_count": 60,
      "outputs": [
        {
          "output_type": "stream",
          "name": "stdout",
          "text": [
            "Masukkan angka 1-3: 3\n",
            "4 0 0\n",
            "5 [1, 2, 3, 4, 5]\n",
            "4 0 1\n",
            "10 [6, 7, 8, 9, 10]\n",
            "4 0 2\n",
            "15 [11, 12, 13, 14, 15]\n",
            "4 0 3\n",
            "20 [16, 17, 18, 19, 20]\n",
            "4 0 4\n",
            "25 [21, 22, 23, 24, 25]\n",
            "3 1 0\n",
            "4 [1, 2, 3, 4, 5]\n",
            "3 1 1\n",
            "9 [6, 7, 8, 9, 10]\n",
            "3 1 2\n",
            "14 [11, 12, 13, 14, 15]\n",
            "3 1 3\n",
            "19 [16, 17, 18, 19, 20]\n",
            "3 1 4\n",
            "24 [21, 22, 23, 24, 25]\n",
            "2 2 0\n",
            "3 [1, 2, 3, 4, 5]\n",
            "2 2 1\n",
            "8 [6, 7, 8, 9, 10]\n",
            "2 2 2\n",
            "13 [11, 12, 13, 14, 15]\n",
            "2 2 3\n",
            "18 [16, 17, 18, 19, 20]\n",
            "2 2 4\n",
            "23 [21, 22, 23, 24, 25]\n",
            "1 3 0\n",
            "2 [1, 2, 3, 4, 5]\n",
            "1 3 1\n",
            "7 [6, 7, 8, 9, 10]\n",
            "1 3 2\n",
            "12 [11, 12, 13, 14, 15]\n",
            "1 3 3\n",
            "17 [16, 17, 18, 19, 20]\n",
            "1 3 4\n",
            "22 [21, 22, 23, 24, 25]\n",
            "0 4 0\n",
            "1 [1, 2, 3, 4, 5]\n",
            "0 4 1\n",
            "6 [6, 7, 8, 9, 10]\n",
            "0 4 2\n",
            "11 [11, 12, 13, 14, 15]\n",
            "0 4 3\n",
            "16 [16, 17, 18, 19, 20]\n",
            "0 4 4\n",
            "21 [21, 22, 23, 24, 25]\n",
            "[5, 10, 15, 20, 25]\n",
            "[4, 9, 14, 19, 24]\n",
            "[3, 8, 13, 18, 23]\n",
            "[2, 7, 12, 17, 22]\n",
            "[1, 6, 11, 16, 21]\n"
          ]
        }
      ]
    }
  ]
}