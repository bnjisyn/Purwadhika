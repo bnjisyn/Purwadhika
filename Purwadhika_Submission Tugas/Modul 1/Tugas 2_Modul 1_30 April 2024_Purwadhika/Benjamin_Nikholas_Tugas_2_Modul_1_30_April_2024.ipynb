{
  "cells": [
    {
      "cell_type": "markdown",
      "metadata": {
        "id": "Q3S6J8dB8G5s"
      },
      "source": [
        "> Benjamin Nikholas\n",
        "\n",
        "> Data Science / JCSDOL-014\n",
        "\n",
        "> Modul 1 - Tugas 2\n",
        "\n",
        "> 30 April 2024\n",
        "---\n",
        "---"
      ]
    },
    {
      "cell_type": "markdown",
      "metadata": {
        "id": "wHSbMzCcX4Nh"
      },
      "source": [
        "#5\n",
        "\n",
        "> Input :\n",
        "\n",
        "Masukkan Jumlah Hari : ....\n",
        "\n",
        "> Output nya :\n",
        "\n",
        "Nyatakan Jumlah hari tersebut ke dalam (Hasil dalam bentuk 2 digit)\n",
        " .... Tahun .... Bulan ... Minggu .... Hari"
      ]
    },
    {
      "cell_type": "code",
      "execution_count": 1,
      "metadata": {
        "colab": {
          "base_uri": "https://localhost:8080/"
        },
        "id": "P4P2qEb2Y4MD",
        "outputId": "43cb6985-c079-4f1f-9190-4bd354be69bd"
      },
      "outputs": [
        {
          "name": "stdout",
          "output_type": "stream",
          "text": [
            "1 Tahun 11 Bulan 0 Minggu 5 Hari\n"
          ]
        }
      ],
      "source": [
        "input_hari = int(input('Masukkan jumlah hari :'))\n",
        "\n",
        "tahun = input_hari // 365\n",
        "sisa_hari = input_hari % 365\n",
        "bulan = sisa_hari // 30\n",
        "sisa_hari = sisa_hari % 30\n",
        "minggu = sisa_hari // 7\n",
        "hari = sisa_hari % 7\n",
        "\n",
        "print(f'{tahun} Tahun {bulan} Bulan {minggu} Minggu {hari} Hari')"
      ]
    },
    {
      "cell_type": "markdown",
      "metadata": {
        "id": "3lpFlL_9X7d3"
      },
      "source": [
        "#6\n",
        "\n",
        "Hitung BMI (Body Mass Index)\n",
        "\n",
        "Rumus BMI = massa(Kg) / tinggi(meter) pangkat 2\n",
        "\n",
        "> Input :\n",
        "\n",
        " Masukkan Tinggi Badan (dalam cm)\n",
        "\n",
        " Masukkan Berat Badan (dalam Kg)\n",
        "\n",
        "> Output :\n",
        "\n",
        " Tinggi ... (meter), Berat ... (Kg), BMI ....(Nilai BMI) dan anda termasuk .... (Sesuai Ketentuan)\n",
        "\n",
        "> Ketentuan :\n",
        "\n",
        " * BMI < 18.5 ==> Berat Badan Kurang\n",
        " * 18.5 - 24.9 ==> Berat Badan Ideal\n",
        " * 25 - 29.9 ==> Berat badan berlebih\n",
        " * 30 - 39.9 ==> Berat badan sangat berlebih\n",
        " * BMI >= 40 ==> Obesitas\n",
        "\n",
        "> Kondisi:\n",
        " * Berat badan Maksimal 300 Kg\n",
        " * Tinggi Maksimal 250 cm\n",
        "\n",
        " ==> Keluar Notifikasi ==> Nilai yg anda Masukkan DiLuar Jangkauan\n",
        " * Paling Kecil 0\n",
        "\n",
        " ===> Kelaur Notifikasi ==> Tidak Menerima Nilai Negatif\n"
      ]
    },
    {
      "cell_type": "code",
      "execution_count": null,
      "metadata": {
        "colab": {
          "base_uri": "https://localhost:8080/"
        },
        "id": "HGVpRh-JdCP8",
        "outputId": "de94b4f6-6b5c-43df-b5b3-0a3f8f95a32d"
      },
      "outputs": [
        {
          "name": "stdout",
          "output_type": "stream",
          "text": [
            "Masukkan Tinggi Badan (dalam cm): 500\n",
            "Nilai yang ada masukkan diluar jangkauan\n",
            "Masukkan Tinggi Badan (dalam cm): -1\n",
            "Tidak menerima nilai negatif\n",
            "Masukkan Tinggi Badan (dalam cm): 170\n",
            "Masukkan Berat Badan (dalam Kg): 500\n",
            "Nilai yang ada masukkan diluar jangkauan\n",
            "Masukkan Berat Badan (dalam Kg): -1\n",
            "Tidak menerima nilai negatif\n",
            "Masukkan Berat Badan (dalam Kg): 100\n",
            "Tinggi: 1.70 meter, Berat: 100.0 Kg, BMI: 34.60, Anda termasuk Berat Badan Sangat Berlebih\n"
          ]
        }
      ],
      "source": [
        "while True:\n",
        "    tinggi = float(input('Masukkan Tinggi Badan (dalam cm): '))/100\n",
        "\n",
        "    if tinggi > 2.5:\n",
        "      print('Nilai yang ada masukkan diluar jangkauan')\n",
        "    elif tinggi <= 0:\n",
        "      print('Tidak menerima nilai negatif')\n",
        "    else:\n",
        "      break\n",
        "\n",
        "while True:\n",
        "    berat = float(input('Masukkan Berat Badan (dalam Kg): '))\n",
        "\n",
        "    if berat > 300:\n",
        "      print('Nilai yang ada masukkan diluar jangkauan')\n",
        "    elif berat <= 0:\n",
        "      print('Tidak menerima nilai negatif')\n",
        "    else:\n",
        "      break\n",
        "\n",
        "bmi = berat / (tinggi ** 2)\n",
        "kategori = ''\n",
        "if bmi < 18.5:\n",
        "    kategori = 'Berat Badan Kurang'\n",
        "elif 18.5 <= bmi < 25:\n",
        "    kategori = 'Berat Badan Ideal'\n",
        "elif 25 <= bmi < 30:\n",
        "    kategori = 'Berat Badan Berlebih'\n",
        "elif 30 <= bmi < 40:\n",
        "    kategori = 'Berat Badan Sangat Berlebih'\n",
        "else:\n",
        "    kategori = 'Obesitas'\n",
        "\n",
        "print(f'Tinggi: {tinggi} meter, Berat: {berat} Kg, BMI: {bmi:.2f}, Anda termasuk {kategori}')"
      ]
    },
    {
      "cell_type": "markdown",
      "metadata": {
        "id": "MvoJ6DNJX_Uj"
      },
      "source": [
        "#7\n",
        "\n",
        "> Input :\n",
        "\n",
        " Masukkan Nilai :\n",
        "\n",
        "> Output :\n",
        "\n",
        " Nilai Anda ... dan Anda ... (Sesuai Ketentuan)\n",
        "\n",
        "> Kondisi:\n",
        " * Nilai Paling tinggi 100 ==> Keluar Notifikasi : Nilai yg anda Masukkan diLuar Jangkauan\n",
        " * Nilai Paling rendah 0 ==> Kelauar Notifikasi : Tidak menerima Nilai Negatif\n",
        " * Nilai Berupa Float\n",
        "\n",
        "> Ketentuan:\n",
        " * 90 Keatas : Grade A\n",
        " * 85 Keatas : Grade A-\n",
        " * 80 Keatas : Grade B\n",
        " * 75 Keatas : Grade B-\n",
        " * 70 Keatas : Grade C\n",
        " * 65 Keatas : Grade D\n",
        " * Dibawah 65 Tetapi Diatas 40 :Perlu Remedial\n",
        " * Dibawah 40 : Tidak Lulu"
      ]
    },
    {
      "cell_type": "code",
      "execution_count": null,
      "metadata": {
        "colab": {
          "base_uri": "https://localhost:8080/"
        },
        "id": "LDj1YAZpbzFH",
        "outputId": "207aaa8d-f50b-459a-fae5-7423051ab50d"
      },
      "outputs": [
        {
          "name": "stdout",
          "output_type": "stream",
          "text": [
            "Masukkan Nilai: -1\n",
            "Nilai yang Anda masukkan di luar jangkauan.\n"
          ]
        }
      ],
      "source": [
        "nilai = float(input(\"Masukkan Nilai: \"))\n",
        "\n",
        "if nilai < 0 or nilai > 100:\n",
        "    print(\"Nilai yang Anda masukkan di luar jangkauan.\")\n",
        "elif nilai >= 90:\n",
        "    print(f\"Nilai Anda {nilai} dan Anda Grade A\")\n",
        "elif nilai >= 85:\n",
        "    print(f\"Nilai Anda {nilai} dan Anda Grade A-\")\n",
        "elif nilai >= 80:\n",
        "    print(f\"Nilai Anda {nilai} dan Anda Grade B\")\n",
        "elif nilai >= 75:\n",
        "    print(f\"Nilai Anda {nilai} dan Anda Grade B-\")\n",
        "elif nilai >= 70:\n",
        "    print(f\"Nilai Anda {nilai} dan Anda Grade C\")\n",
        "elif nilai >= 65:\n",
        "    print(f\"Nilai Anda {nilai} dan Anda Grade D\")\n",
        "elif nilai > 40:\n",
        "    print(f\"Nilai Anda {nilai} dan Anda Perlu Remedial\")\n",
        "else:\n",
        "    print(f\"Nilai Anda {nilai} dan Anda Tidak Lulus\")"
      ]
    },
    {
      "cell_type": "code",
      "execution_count": null,
      "metadata": {
        "id": "5EGRfdxZb8hJ"
      },
      "outputs": [],
      "source": []
    }
  ],
  "metadata": {
    "colab": {
      "collapsed_sections": [
        "Z3xJ0KYU9InK"
      ],
      "provenance": []
    },
    "kernelspec": {
      "display_name": "Python 3",
      "name": "python3"
    },
    "language_info": {
      "codemirror_mode": {
        "name": "ipython",
        "version": 3
      },
      "file_extension": ".py",
      "mimetype": "text/x-python",
      "name": "python",
      "nbconvert_exporter": "python",
      "pygments_lexer": "ipython3",
      "version": "3.10.11"
    }
  },
  "nbformat": 4,
  "nbformat_minor": 0
}
