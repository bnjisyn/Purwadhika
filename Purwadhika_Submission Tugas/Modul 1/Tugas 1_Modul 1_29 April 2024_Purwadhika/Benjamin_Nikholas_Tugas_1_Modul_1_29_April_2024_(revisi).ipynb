{
  "nbformat": 4,
  "nbformat_minor": 0,
  "metadata": {
    "colab": {
      "provenance": []
    },
    "kernelspec": {
      "name": "python3",
      "display_name": "Python 3"
    },
    "language_info": {
      "name": "python"
    }
  },
  "cells": [
    {
      "cell_type": "markdown",
      "source": [
        "> Benjamin Nikholas\n",
        "\n",
        "> Data Science / JCSDOL-014\n",
        "\n",
        "> Modul 1 - Tugas 1\n",
        "\n",
        "> 30 April 2024\n",
        "---\n",
        "---"
      ],
      "metadata": {
        "id": "Q3S6J8dB8G5s"
      }
    },
    {
      "cell_type": "markdown",
      "source": [
        "#1\n",
        "\n",
        "Andre memelihara ayam dan kambing, jumlah ayam dan kambing andre ada 13 ekor,\n",
        "Jumlah kaki ayam dan kambing andre ada 32,\n",
        "\n",
        "Berapa jumlah masing-masing ayam andre dan kambing andre?\n",
        "\n",
        "> Output :\n",
        "\n",
        "Andre memiliki ayam ... ekor dan kambing ... ekor"
      ],
      "metadata": {
        "id": "BFCRhUyk9E4-"
      }
    },
    {
      "cell_type": "code",
      "source": [
        "total_hewan = 13\n",
        "total_kaki = 32\n",
        "\n",
        "# x = jumlah_ayam\n",
        "# y = jumlah_kambing = total_hewan - jumlah_ayam\n",
        "\n",
        "x = 0\n",
        "while x <= total_hewan:\n",
        "    y = total_hewan - x\n",
        "\n",
        "    # Fungsi\n",
        "    predict = 2*x + 4*y\n",
        "\n",
        "    if predict == total_kaki:\n",
        "        break\n",
        "    x += 1\n",
        "\n",
        "print(f'Andre memiliki ayam {x} dan kambing {y} ekor')"
      ],
      "metadata": {
        "colab": {
          "base_uri": "https://localhost:8080/"
        },
        "id": "IXvq1wfd9JZu",
        "outputId": "4d31d890-f616-43d4-be72-b6a26f24016e"
      },
      "execution_count": null,
      "outputs": [
        {
          "output_type": "stream",
          "name": "stdout",
          "text": [
            "Andre memiliki ayam 10 dan kambing 3 ekor\n"
          ]
        }
      ]
    },
    {
      "cell_type": "markdown",
      "source": [
        "#2\n",
        "\n",
        "Jumlah usia budi dan ayahnya sekarang adalah 50 tahun.\n",
        "empat tahun lalu, usia ayah budi enam kali usia budi.\n",
        "\n",
        "Berapa usia ayah budi dan usia budi saat ini.\n",
        "\n",
        "> Output :\n",
        "\n",
        "Usia ayah saat ini adalah ... tahun dan usia budi saat ini adalah .. tahun"
      ],
      "metadata": {
        "id": "ksy8JSCD9Fsh"
      }
    },
    {
      "cell_type": "code",
      "source": [
        "total_usia = 50\n",
        "\n",
        "# x = usia Budi saat ini\n",
        "# y = usia Ayah saat ini = usia budi - total_usia\n",
        "\n",
        "x = 0\n",
        "while x <= total_usia:\n",
        "    y = total_usia - x\n",
        "\n",
        "    # Fungsi\n",
        "    y_4_thn = y - 4\n",
        "    x_4_thn = x - 4\n",
        "\n",
        "    # Check\n",
        "    if y_4_thn == 6 * x_4_thn:\n",
        "        break\n",
        "    x += 1\n",
        "\n",
        "print(f'Usia ayah saat ini adalah {y} tahun dan usia budi saat ini adalah {x} tahun')"
      ],
      "metadata": {
        "colab": {
          "base_uri": "https://localhost:8080/"
        },
        "id": "l3vyZNlD9J0g",
        "outputId": "3e4d7d03-56c8-4b07-bc37-8764d27edb33"
      },
      "execution_count": null,
      "outputs": [
        {
          "output_type": "stream",
          "name": "stdout",
          "text": [
            "Usia ayah saat ini adalah 40 tahun dan usia budi saat ini adalah 10 tahun\n"
          ]
        }
      ]
    },
    {
      "cell_type": "markdown",
      "source": [
        "#3\n",
        "\n",
        "> Input :\n",
        "\n",
        "Masukkan kalimat : .....\n",
        "\n",
        "Masukkan karakter (Huruf atau angka) : ....\n",
        "\n",
        "> Output :\n",
        "\n",
        "Jumlah karakter ... di dalam kalimat .... adalah ...\n",
        "\n",
        "* Tidak case sensitive"
      ],
      "metadata": {
        "id": "H_Tr_oSU9Hxf"
      }
    },
    {
      "cell_type": "code",
      "source": [
        "sentence = input('Masukkan kalimat: ')\n",
        "\n",
        "char = input('Masukkan karakter (Huruf atau angka): ')\n",
        "\n",
        "num = 0\n",
        "for i in sentence.lower():\n",
        "    if i == char.lower():\n",
        "        num += 1\n",
        "\n",
        "print(f'Jumlah karakter \"{char}\" di dalam kalimat \"{sentence}\" adalah {num}')"
      ],
      "metadata": {
        "colab": {
          "base_uri": "https://localhost:8080/"
        },
        "id": "9pbXyzEe9KPv",
        "outputId": "a4362900-5984-45fb-bba0-d54b5d6b6a36"
      },
      "execution_count": null,
      "outputs": [
        {
          "output_type": "stream",
          "name": "stdout",
          "text": [
            "Masukkan kalimat: Kalimat kalimat kalimAt\n",
            "Masukkan karakter (Huruf atau angka): A\n",
            "Jumlah karakter \"A\" di dalam kalimat \"Kalimat kalimat kalimAt\" adalah 6\n"
          ]
        }
      ]
    },
    {
      "cell_type": "markdown",
      "source": [
        "#4\n",
        "\n",
        "> Input :\n",
        "\n",
        "Masukkan kalimat : .....\n",
        "\n",
        "Masukkan huruf vokal : …\n",
        "\n",
        "> Output :\n",
        "\n",
        "* semua huruf vokal menjadi sesuai input huruf vokal\n",
        "* tidak case sensitive\n",
        "* case disesuaikan dengan kalimat"
      ],
      "metadata": {
        "id": "Z3xJ0KYU9InK"
      }
    },
    {
      "cell_type": "code",
      "source": [
        "words = list('aeiouAEIOU')\n",
        "\n",
        "def replace_words(sentence, word):\n",
        "    result = ''\n",
        "\n",
        "    for char in sentence:\n",
        "        if char in words:\n",
        "            if char.isupper():\n",
        "                result += word.upper()\n",
        "            else:\n",
        "                result += word.lower()\n",
        "        else:\n",
        "            result += char\n",
        "\n",
        "    return result\n",
        "\n",
        "def get_valid_word():\n",
        "    while True:\n",
        "        word = input('Masukkan huruf vokal: ')\n",
        "        if word in words:\n",
        "            return word\n",
        "        else:\n",
        "            print('Huruf yang dimasukkan bukan huruf vokal. Silakan coba lagi.')"
      ],
      "metadata": {
        "id": "CyWyn0gfCXME"
      },
      "execution_count": null,
      "outputs": []
    },
    {
      "cell_type": "code",
      "source": [
        "# User input\n",
        "sentence = input('Masukkan kalimat: ')\n",
        "word = get_valid_word()\n",
        "\n",
        "print(f'Kalimat hasil: {replace_words(sentence, word)}')"
      ],
      "metadata": {
        "colab": {
          "base_uri": "https://localhost:8080/"
        },
        "id": "ZdnOpt4d-WHL",
        "outputId": "0868fbb7-0c87-4aab-8d8b-37f6d1a4c7c6"
      },
      "execution_count": null,
      "outputs": [
        {
          "output_type": "stream",
          "name": "stdout",
          "text": [
            "Masukkan kalimat: Apakah\n",
            "Masukkan huruf vokal: I\n",
            "Kalimat hasil: Ipikih\n"
          ]
        }
      ]
    }
  ]
}