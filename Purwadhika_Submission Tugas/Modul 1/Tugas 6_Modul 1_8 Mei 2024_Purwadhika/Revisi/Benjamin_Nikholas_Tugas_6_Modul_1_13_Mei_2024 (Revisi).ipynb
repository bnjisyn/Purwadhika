{
  "nbformat": 4,
  "nbformat_minor": 0,
  "metadata": {
    "colab": {
      "provenance": []
    },
    "kernelspec": {
      "name": "python3",
      "display_name": "Python 3"
    },
    "language_info": {
      "name": "python"
    }
  },
  "cells": [
    {
      "cell_type": "markdown",
      "source": [
        "> Benjamin Nikholas\n",
        "\n",
        "> Data Science / JCSDOL-014\n",
        "\n",
        "> Modul 1 - Tugas 6\n",
        "\n",
        "> 13 Mei 2024\n",
        "---\n",
        "---"
      ],
      "metadata": {
        "id": "Q3S6J8dB8G5s"
      }
    },
    {
      "cell_type": "markdown",
      "source": [
        "Email Verification\n",
        "\n",
        "Input :\n",
        "Masukkan Email :\n",
        "\n",
        "Output :\n",
        "Sesuai dg Kondisi\n",
        "Kondisi Valid Jika :\n",
        "- Memiliki Format Nama User@Nama Hosing eksistensi\n",
        "- Nama user hanya Boleh Huruf, Angka, underscore(_) dan dot(.)\n",
        "- Nama user hanya Boleh di awali dg Huruf atau Angka\n",
        "- Nama Hosting hanya boleh huruf atau kombinasi huruf dan angka\n",
        "- Nama Ekstensi Hanya boleh Huruf dan maksimal 5 Karakter\n",
        "- Simbol Karakter Khusus Tidak bisa diterima\n",
        "- Jumlah @ hanya boleh 1\n",
        "- .co.id , .co.my atau .co.sg ==> ini dianggap sebagai 2 ekstensi, jadi masing-masing harus mengikuti aturan ekstensi\n",
        "\n",
        "Contoh Output :\n",
        "\"Alamat Email yg anda Masukkan Valid\"\n",
        "\n",
        "Jika Tidak Valid, Keluar Notifikasi dengan alasannya:\n",
        "\n",
        "Email Tidak Valid, Alasan\n",
        "Alasan :\n",
        "- Format Email Salah (Misal Tidak ada @, atau tidak ada .ekstensi)\n",
        "- Format Username yg anda masukkan salah\n",
        "- Format Hosting yang anda masukkan salah\n",
        "- Format Ekstensi yg anda masukkan Salah\n",
        "\n",
        "-------------------------------------------------------------------------------\n",
        "\n",
        "Contoh Email :\n",
        "Valid\n",
        "andre@gmail.com\n",
        "joni_99@yahoo.com\n",
        "andy.134@city.com\n",
        "steve_roger.77@avengers01.space\n",
        "\n",
        "Invalid\n",
        "andre345@gmail\n",
        "andre%$^@gmail.com\n",
        "john@yah%%oo.com\n",
        "tony_stark@stark.corpora"
      ],
      "metadata": {
        "id": "mJF0LTLRUO1k"
      }
    },
    {
      "cell_type": "code",
      "source": [
        "def verify_email(email):\n",
        "\n",
        "    parts = email.split('@')\n",
        "\n",
        "    if len(parts) != 2:\n",
        "        return 'Email Tidak Valid, Alasan: Format Email Salah'\n",
        "\n",
        "    username, domain = parts\n",
        "\n",
        "    if username == '':\n",
        "        return 'Email Tidak Valid, Alasan: Format Username yang anda masukkan salah'\n",
        "\n",
        "    # Username Validation\n",
        "    if not (username[0].isalnum()):\n",
        "        return 'Email Tidak Valid, Alasan: Format Username yang anda masukkan salah'\n",
        "    elif not all(c.isalnum() or c in ['_', '.'] for c in username):\n",
        "        return 'Email Tidak Valid, Alasan: Format Username yang anda masukkan salah'\n",
        "\n",
        "    # Domain Validation\n",
        "    domain_parts = domain.split('.')\n",
        "\n",
        "    if len(domain_parts) not in [2, 3]:\n",
        "        return 'Email Tidak Valid, Alasan: Format Domain yang anda masukkan salah'\n",
        "\n",
        "    # Hosting Name Validation\n",
        "    if domain_parts[0] == '':\n",
        "        return 'Email Tidak Valid, Alasan: Nama Hosting yang anda masukkan salah'\n",
        "    elif not all(c.isalnum() or c in ['_', '.'] for c in domain_parts[0]):\n",
        "        return 'Email Tidak Valid, Alasan: Nama Hosting yang anda masukkan salah'\n",
        "\n",
        "    # Extention Validation\n",
        "    for part in domain_parts[1:]:\n",
        "        if not part or not part.isalpha() or not (2 <= len(part) <= 5):\n",
        "            return 'Email Tidak Valid, Alasan: Format Ekstensi yang anda masukkan Salah'\n",
        "\n",
        "    return 'Alamat Email yang anda Masukkan Valid'\n",
        "\n",
        "input_testcase = ['andre@gmail.',\n",
        "                  '@gmail.com',\n",
        "                  '(bayu)@gmail.com',\n",
        "                  'andre@@gmail',\n",
        "                  'bima@gmail..',\n",
        "                  'bisa@g345.45.com',\n",
        "                  'gandi@gm41l.co.12',\n",
        "                  'benji@gmail.com']\n",
        "\n",
        "for test in input_testcase:\n",
        "  print(verify_email(test))"
      ],
      "metadata": {
        "colab": {
          "base_uri": "https://localhost:8080/"
        },
        "id": "ZXb2U-TCZKTQ",
        "outputId": "255fd364-d6f7-4aa7-ca63-ee447fb1d9fa"
      },
      "execution_count": 9,
      "outputs": [
        {
          "output_type": "stream",
          "name": "stdout",
          "text": [
            "Email Tidak Valid, Alasan: Format Ekstensi yang anda masukkan Salah\n",
            "Email Tidak Valid, Alasan: Format Username yang anda masukkan salah\n",
            "Email Tidak Valid, Alasan: Format Username yang anda masukkan salah\n",
            "Email Tidak Valid, Alasan: Format Email Salah\n",
            "Email Tidak Valid, Alasan: Format Ekstensi yang anda masukkan Salah\n",
            "Email Tidak Valid, Alasan: Format Ekstensi yang anda masukkan Salah\n",
            "Email Tidak Valid, Alasan: Format Ekstensi yang anda masukkan Salah\n",
            "Alamat Email yang anda Masukkan Valid\n"
          ]
        }
      ]
    },
    {
      "cell_type": "code",
      "source": [],
      "metadata": {
        "id": "6d-wznXjM1ze"
      },
      "execution_count": null,
      "outputs": []
    }
  ]
}