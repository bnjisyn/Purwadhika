{
  "nbformat": 4,
  "nbformat_minor": 0,
  "metadata": {
    "colab": {
      "provenance": []
    },
    "kernelspec": {
      "name": "python3",
      "display_name": "Python 3"
    },
    "language_info": {
      "name": "python"
    }
  },
  "cells": [
    {
      "cell_type": "markdown",
      "source": [
        "> Benjamin Nikholas\n",
        "\n",
        "> Data Science / JCSDOL-014\n",
        "\n",
        "> Modul 1 - Tugas 7\n",
        "\n",
        "> 14 Mei 2024\n",
        "\n",
        "> Teams Assignment (Kelompok 7):\n",
        "\n",
        "* Benjamin Nikholas\n",
        "* Tirza Hidayati\n",
        "* Indah Astary Suwandi\n",
        "* Febby Putri Milenia Piter\n",
        "\n",
        "---\n",
        "---"
      ],
      "metadata": {
        "id": "Q3S6J8dB8G5s"
      }
    },
    {
      "cell_type": "markdown",
      "source": [
        "#1\n",
        "\n"
      ],
      "metadata": {
        "id": "tbhxYzsdbNCz"
      }
    },
    {
      "cell_type": "code",
      "source": [
        "def time_convert(seconds):\n",
        "    if not isinstance(seconds, int) or seconds < 0 or seconds > 359999:\n",
        "        return 'Invalid Input!'\n",
        "\n",
        "    hours = seconds // 3600\n",
        "    minutes = (seconds % 3600) // 60\n",
        "    seconds = seconds % 60\n",
        "\n",
        "    return f'{hours:02}:{minutes:02}:{seconds:02}'\n",
        "\n",
        "def start_converter():\n",
        "    while True:\n",
        "        user_input = input('Masukkan detik: ')\n",
        "\n",
        "        try:\n",
        "            seconds = int(user_input)\n",
        "        except ValueError:\n",
        "            print('Invalid Input!')\n",
        "            continue\n",
        "\n",
        "        result = time_convert(seconds)\n",
        "        print(f'Konversi: {result}')\n",
        "        break\n",
        "\n",
        "start_converter()"
      ],
      "metadata": {
        "colab": {
          "base_uri": "https://localhost:8080/"
        },
        "id": "YaMuU1qobN0p",
        "outputId": "405867bd-afd2-4189-ca15-a3392ac9db4e"
      },
      "execution_count": null,
      "outputs": [
        {
          "output_type": "stream",
          "name": "stdout",
          "text": [
            "Masukkan detik: rr\n",
            "Invalid Input!\n",
            "Masukkan detik: 134\n",
            "Konversi: 00:02:14\n"
          ]
        }
      ]
    },
    {
      "cell_type": "markdown",
      "source": [
        "#2 Indah"
      ],
      "metadata": {
        "id": "wA2XcmakedS4"
      }
    },
    {
      "cell_type": "code",
      "source": [
        "def npwp_verification(npwp):\n",
        "    clean_npwp = npwp.replace('.', '').replace('-', '')\n",
        "    if len(clean_npwp) != 15:\n",
        "        return 'Kode seri NPWP tidak valid!\\nKode seri NPWP ini tidak valid dikarenakan lebih dari 15 digit angka.'\n",
        "\n",
        "    if not clean_npwp.isdigit():\n",
        "        return 'Kode seri NPWP tidak valid!\\nKode seri NPWP ini tidak valid dikarenakan terdapat karakter bukan angka di dalamnya.'\n",
        "\n",
        "    if len(npwp) != 20 or npwp[2] != '.' or npwp[6] != '.' or npwp[10] != '.' or npwp[12] != '-' or npwp[16] != '.':\n",
        "        return 'Kode seri NPWP tidak valid!\\nKode seri NPWP ini tidak valid dikarenakan tidak mengikuti format baku: 99.999.999.9-999.999.'\n",
        "\n",
        "    wp_identity = int(clean_npwp[:2])\n",
        "    regist_num = clean_npwp[2:8]\n",
        "    safety = clean_npwp[8]\n",
        "    kpp_code = clean_npwp[9:12]\n",
        "    wp_status = clean_npwp[12:]\n",
        "\n",
        "    if wp_identity < 1 or wp_identity > 9:\n",
        "        return 'Kode seri NPWP tidak valid!\\nKode seri NPWP ini tidak valid dikarenakan 2 digit pertama hanya bisa diisi 01 sampai 09.'\n",
        "\n",
        "    if wp_identity in range(1, 4):\n",
        "        identitas_keterangan = 'Wajib Pajak Badan'\n",
        "    elif wp_identity in [4, 6]:\n",
        "        identitas_keterangan = 'Wajib Pajak Pengusaha'\n",
        "    elif wp_identity == 5:\n",
        "        identitas_keterangan = 'Wajib Pajak Karyawan'\n",
        "    elif wp_identity in range(7, 10):\n",
        "        identitas_keterangan = 'Wajib Pajak Orang Pribadi'\n",
        "    else:\n",
        "        return 'Kode seri NPWP tidak valid!\\nKode seri NPWP ini tidak valid dikarenakan 2 digit pertama hanya bisa diisi 01 sampai 09.'\n",
        "\n",
        "    res = f'''Kode seri NPWP valid!\n",
        " Identitas Wajib Pajak: {wp_identity} {identitas_keterangan}\n",
        " Nomor Registrasi: {regist_num}\n",
        " Alat Pengaman: {safety}\n",
        " Kode KPP: {kpp_code}\n",
        " Status Wajib Pajak: {wp_status}\\n'''\n",
        "\n",
        "    return res\n",
        "\n",
        "# testcase\n",
        "testcase_list = ['99.999.999.9-999.999',\n",
        "                 '091234565623179',\n",
        "                 '09.123.456.A-123.123',\n",
        "                 '09.265.796.5-235.6987',\n",
        "                 '05.885.434.4-215.000']\n",
        "\n",
        "for i in testcase_list:\n",
        "  print(npwp_verification(i))"
      ],
      "metadata": {
        "colab": {
          "base_uri": "https://localhost:8080/"
        },
        "id": "RteyyUCZbUZM",
        "outputId": "dab0d33d-018b-4839-87b1-8902a86956d6"
      },
      "execution_count": null,
      "outputs": [
        {
          "output_type": "stream",
          "name": "stdout",
          "text": [
            "Kode seri NPWP tidak valid!\n",
            "Kode seri NPWP ini tidak valid dikarenakan 2 digit pertama hanya bisa diisi 01 sampai 09.\n",
            "Kode seri NPWP tidak valid!\n",
            "Kode seri NPWP ini tidak valid dikarenakan tidak mengikuti format baku: 99.999.999.9-999.999.\n",
            "Kode seri NPWP tidak valid!\n",
            "Kode seri NPWP ini tidak valid dikarenakan terdapat karakter bukan angka di dalamnya.\n",
            "Kode seri NPWP tidak valid!\n",
            "Kode seri NPWP ini tidak valid dikarenakan lebih dari 15 digit angka.\n",
            "Kode seri NPWP valid!\n",
            " Identitas Wajib Pajak: 5 Wajib Pajak Karyawan\n",
            " Nomor Registrasi: 885434\n",
            " Alat Pengaman: 4\n",
            " Kode KPP: 215\n",
            " Status Wajib Pajak: 000\n",
            "\n"
          ]
        }
      ]
    },
    {
      "cell_type": "markdown",
      "source": [
        "#3"
      ],
      "metadata": {
        "id": "4WbgmwuLfA8d"
      }
    },
    {
      "cell_type": "code",
      "source": [
        "def urai(s):\n",
        "    result = ''\n",
        "    for i in range(1, len(s) + 1):\n",
        "        result += s[:i]\n",
        "    return result\n",
        "\n",
        "def rajut(s):\n",
        "    n = 0\n",
        "    while (n * (n + 1)) // 2 < len(s):\n",
        "        n += 1\n",
        "    if (n * (n + 1)) // 2 != len(s):\n",
        "        return \"Invalid input\"\n",
        "\n",
        "    original_str = s[(n * (n - 1)) // 2:]\n",
        "\n",
        "    return original_str\n",
        "\n",
        "print(urai('Code'))\n",
        "print(urai('Python'))\n",
        "print(urai('Purwadhika'))\n",
        "\n",
        "print(rajut('CCoCodCode'))\n",
        "print(rajut('PPyPytPythPythoPython'))\n",
        "print(rajut('PPuPurPurwPurwaPurwadPurwadhPurwadhiPurwadhikPurwadhika'))"
      ],
      "metadata": {
        "colab": {
          "base_uri": "https://localhost:8080/"
        },
        "id": "LiyzhuU5c56B",
        "outputId": "f1fdb8fa-15be-49a2-f01d-d767e3ef6c7c"
      },
      "execution_count": null,
      "outputs": [
        {
          "output_type": "stream",
          "name": "stdout",
          "text": [
            "CCoCodCode\n",
            "PPyPytPythPythoPython\n",
            "PPuPurPurwPurwaPurwadPurwadhPurwadhiPurwadhikPurwadhika\n",
            "Code\n",
            "Python\n",
            "Purwadhika\n"
          ]
        }
      ]
    }
  ]
}