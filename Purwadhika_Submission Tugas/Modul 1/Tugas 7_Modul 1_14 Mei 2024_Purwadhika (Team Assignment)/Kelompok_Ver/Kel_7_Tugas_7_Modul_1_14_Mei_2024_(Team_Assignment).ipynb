{
  "nbformat": 4,
  "nbformat_minor": 0,
  "metadata": {
    "colab": {
      "provenance": []
    },
    "kernelspec": {
      "name": "python3",
      "display_name": "Python 3"
    },
    "language_info": {
      "name": "python"
    }
  },
  "cells": [
    {
      "cell_type": "markdown",
      "source": [
        "> Benjamin Nikholas\n",
        "\n",
        "> Data Science / JCSDOL-014\n",
        "\n",
        "> Modul 1 - Tugas 7\n",
        "\n",
        "> 14 Mei 2024\n",
        "\n",
        "> Teams Assignment (Kelompok 7):\n",
        "\n",
        "* Benjamin Nikholas\n",
        "* Tirza Hidayati\n",
        "* Indah Astary Suwandi\n",
        "* Febby Putri Milenia Piter\n",
        "\n",
        "---\n",
        "---"
      ],
      "metadata": {
        "id": "Q3S6J8dB8G5s"
      }
    },
    {
      "cell_type": "markdown",
      "source": [
        "#1\n",
        "\n"
      ],
      "metadata": {
        "id": "tbhxYzsdbNCz"
      }
    },
    {
      "cell_type": "code",
      "source": [
        "def timeConverter(detik):\n",
        "    if type(detik) == float:\n",
        "        return False\n",
        "    elif type(detik) == str:\n",
        "        return False\n",
        "    elif detik == '':\n",
        "        return False\n",
        "    elif detik > 359999:\n",
        "        return False\n",
        "    elif detik < 0:\n",
        "        return False\n",
        "\n",
        "    jam = detik // 3600\n",
        "    sisa_detik = detik % 3600\n",
        "    menit = sisa_detik // 60\n",
        "    detikhasil = sisa_detik % 60\n",
        "    return '{:02d}:{:02d}:{:02d}'.format(jam, menit, detikhasil)\n",
        "\n",
        "\n",
        "def fungsi(detik):\n",
        "    if not timeConverter(detik):\n",
        "        print('Invalid input')\n",
        "        return ''\n",
        "    return timeConverter(detik)\n",
        "\n",
        "detik = (input('Masukkan angka : '))\n",
        "\n",
        "try:\n",
        "    detik = int(detik)\n",
        "except:\n",
        "    detik = detik\n",
        "\n",
        "print(fungsi(detik))"
      ],
      "metadata": {
        "colab": {
          "base_uri": "https://localhost:8080/"
        },
        "id": "nmqlDMg9xZBn",
        "outputId": "b63e9bed-cd4b-45a8-f437-d669ad56eec3"
      },
      "execution_count": null,
      "outputs": [
        {
          "output_type": "stream",
          "name": "stdout",
          "text": [
            "Masukkan angka : 14000\n",
            "03:53:20\n"
          ]
        }
      ]
    },
    {
      "cell_type": "markdown",
      "source": [
        "#2"
      ],
      "metadata": {
        "id": "wA2XcmakedS4"
      }
    },
    {
      "cell_type": "code",
      "source": [
        "def identitas(npwp):\n",
        "    if npwp[:2] == \"01\" or npwp[:2] == \"02\" or npwp[:2] == \"03\":\n",
        "        return \"Wajib Pajak Badan\"\n",
        "    elif npwp[:2] == \"04\" or npwp[:2] == \"06\":\n",
        "        return \"Wajib Pajak Pengusaha\"\n",
        "    elif npwp[:2] == \"05\":\n",
        "        return \"Wajib Pajak Karyawan\"\n",
        "    elif npwp[:2] == \"07\" or npwp[:2] == \"08\" or npwp[:2] == \"09\":\n",
        "        return \"Wajib Pajak Orang Pribadi\"\n",
        "    else:\n",
        "        raise ValueError(\"Kode seri NPWP ini tidak valid dikarenakan 2 digit pertama hanya bisa diisi 01 sampai 09\")\n",
        "\n",
        "\n",
        "def verifikasi_npwp(npwp):\n",
        "    # Mengecek panjang kode\n",
        "    if len(npwp) > 20:\n",
        "        return False, \"Kode seri NPWP ini tidak valid dikarenakan lebih dari 15 digit angka.\"\n",
        "\n",
        "    # Mengecek format NPWP yang sesuai\n",
        "    if npwp[2] != '.' or npwp[6] != '.' or npwp[10] != '.' or npwp[12] != '-' or npwp[16] != '.':\n",
        "        return False, \"Kode seri NPWP ini tidak valid dikarenakan tidak mengikuti format baku: 99.999.999.9-999.999.\"\n",
        "\n",
        "    # Menghilangkan titik dan tanda hubung dari NPWP\n",
        "    npwp_cleaned = npwp.replace('.', '').replace('-', '')\n",
        "\n",
        "    # Mengecek karakter angka pada dua digit pertama\n",
        "    for j in npwp_cleaned:\n",
        "        if not j.isdigit():\n",
        "            return False, \"Kode seri NPWP ini tidak valid dikarenakan terdapat karakter bukan angka di dalamnya.\"\n",
        "\n",
        "    # Menguraikan NPWP\n",
        "    identitas_wp = npwp[:2]\n",
        "    id = identitas(npwp)\n",
        "    nomor_registrasi = npwp[3:10]\n",
        "    alat_pengaman = npwp[11]\n",
        "    kode_kpp = npwp[13:16]\n",
        "    status_wp = npwp[17:]\n",
        "\n",
        "    return True, f\"Identitas Wajib Pajak: {identitas_wp} {id}\\nNomor Registrasi: {nomor_registrasi}\\nAlat Pengaman: {alat_pengaman}\\nKode KPP: {kode_kpp}\\nStatus Wajib Pajak: {status_wp}\"\n",
        "\n",
        "npwp = input(\"Masukkan NPWP sesuai format: \")\n",
        "\n",
        "try:\n",
        "    valid, message = verifikasi_npwp(npwp)\n",
        "    if valid:\n",
        "        print(\"Kode seri NPWP valid!\")\n",
        "        print(message)\n",
        "    else:\n",
        "        print(\"Kode seri NPWP tidak valid.\")\n",
        "        print(message)\n",
        "except ValueError as e:\n",
        "    print(e)"
      ],
      "metadata": {
        "colab": {
          "base_uri": "https://localhost:8080/"
        },
        "id": "Abf1FcRddo2b",
        "outputId": "a99be927-5ce9-4f8b-b35d-da484ace49d3"
      },
      "execution_count": null,
      "outputs": [
        {
          "output_type": "stream",
          "name": "stdout",
          "text": [
            "Masukkan NPWP sesuai format: 09.265.796.5-235.6987\n",
            "Kode seri NPWP tidak valid.\n",
            "Kode seri NPWP ini tidak valid dikarenakan lebih dari 15 digit angka.\n"
          ]
        }
      ]
    },
    {
      "cell_type": "code",
      "source": [
        "testcase_list = ['99.999.999.9-999.999',\n",
        "                 '091234565623179',\n",
        "                 '09.123.456.A-123.123',\n",
        "                 '09.265.796.5-235.6987',\n",
        "                 '05.885.434.4-215.000']\n",
        "\n",
        "for i in testcase_list:\n",
        "  try:\n",
        "    valid, message = verifikasi_npwp(i)\n",
        "    if valid:\n",
        "        print(\"Kode seri NPWP valid!\")\n",
        "        print(message)\n",
        "    else:\n",
        "        print(\"Kode seri NPWP tidak valid.\")\n",
        "        print(message)\n",
        "  except ValueError as e:\n",
        "      print(e)"
      ],
      "metadata": {
        "colab": {
          "base_uri": "https://localhost:8080/"
        },
        "id": "oV2Xduthh9Aw",
        "outputId": "853817b6-400f-4420-a58f-9a15ff0254da"
      },
      "execution_count": null,
      "outputs": [
        {
          "output_type": "stream",
          "name": "stdout",
          "text": [
            "Kode seri NPWP ini tidak valid dikarenakan 2 digit pertama hanya bisa diisi 01 sampai 09\n",
            "Kode seri NPWP tidak valid.\n",
            "Kode seri NPWP ini tidak valid dikarenakan tidak mengikuti format baku: 99.999.999.9-999.999.\n",
            "Kode seri NPWP tidak valid.\n",
            "Kode seri NPWP ini tidak valid dikarenakan terdapat karakter bukan angka di dalamnya.\n",
            "Kode seri NPWP tidak valid.\n",
            "Kode seri NPWP ini tidak valid dikarenakan lebih dari 15 digit angka.\n",
            "Kode seri NPWP valid!\n",
            "Identitas Wajib Pajak: 05 Wajib Pajak Karyawan\n",
            "Nomor Registrasi: 885.434\n",
            "Alat Pengaman: 4\n",
            "Kode KPP: 215\n",
            "Status Wajib Pajak: 000\n"
          ]
        }
      ]
    },
    {
      "cell_type": "markdown",
      "source": [
        "#3"
      ],
      "metadata": {
        "id": "4WbgmwuLfA8d"
      }
    },
    {
      "cell_type": "code",
      "source": [
        "def urai(kata):\n",
        "    hasil = \"\"\n",
        "    for i in range(len(kata)):\n",
        "        hasil += kata[:i+1]\n",
        "    return hasil\n",
        "\n",
        "def rajut(kata):\n",
        "    n = 0\n",
        "    while (n * (n + 1)) // 2 < len(kata):\n",
        "        n += 1\n",
        "    if (n * (n + 1)) // 2 != len(kata):\n",
        "        return \"Invalid input\"\n",
        "\n",
        "    original_str = kata[(n * (n - 1)) // 2:]\n",
        "\n",
        "    return original_str\n",
        "\n",
        "print(urai('Code'))\n",
        "print(urai('Python'))\n",
        "print(urai('Purwadhika'))\n",
        "\n",
        "print(rajut('CCoCodCode'))\n",
        "print(rajut('PPyPytPythPythoPython'))\n",
        "print(rajut('PPuPurPurwPurwaPurwadPurwadhPurwadhiPurwadhikPurwadhika'))"
      ],
      "metadata": {
        "colab": {
          "base_uri": "https://localhost:8080/"
        },
        "id": "LiyzhuU5c56B",
        "outputId": "f1fdb8fa-15be-49a2-f01d-d767e3ef6c7c"
      },
      "execution_count": null,
      "outputs": [
        {
          "output_type": "stream",
          "name": "stdout",
          "text": [
            "CCoCodCode\n",
            "PPyPytPythPythoPython\n",
            "PPuPurPurwPurwaPurwadPurwadhPurwadhiPurwadhikPurwadhika\n",
            "Code\n",
            "Python\n",
            "Purwadhika\n"
          ]
        }
      ]
    },
    {
      "cell_type": "code",
      "source": [],
      "metadata": {
        "id": "sAr9KPJ6ysm5"
      },
      "execution_count": null,
      "outputs": []
    }
  ]
}